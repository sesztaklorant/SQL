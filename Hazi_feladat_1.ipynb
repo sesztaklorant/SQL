{
    "metadata": {
        "kernelspec": {
            "name": "SQL",
            "display_name": "SQL",
            "language": "sql"
        },
        "language_info": {
            "name": "sql",
            "version": ""
        }
    },
    "nbformat_minor": 2,
    "nbformat": 4,
    "cells": [
        {
            "cell_type": "markdown",
            "source": [
                "## **DVD\\_magyar adatbázis**"
            ],
            "metadata": {
                "azdata_cell_guid": "3c5e63d1-146a-4843-ab3f-b0c487c4d0d3"
            },
            "attachments": {}
        },
        {
            "cell_type": "markdown",
            "source": [
                "1\\. DVD-k maximális nettóára"
            ],
            "metadata": {
                "azdata_cell_guid": "63306017-30cc-4fcc-8773-11d62fa1c8df"
            },
            "attachments": {}
        },
        {
            "cell_type": "code",
            "source": [
                "SELECT MAX(nettoar) AS 'DVD maximális ára'\r\n",
                "FROM dvd"
            ],
            "metadata": {
                "azdata_cell_guid": "adee20d5-f169-4091-b57e-dabbea69a5c0",
                "language": "sql"
            },
            "outputs": [
                {
                    "output_type": "display_data",
                    "data": {
                        "text/html": "(1 row affected)"
                    },
                    "metadata": {}
                },
                {
                    "output_type": "display_data",
                    "data": {
                        "text/html": "Total execution time: 00:00:00.258"
                    },
                    "metadata": {}
                },
                {
                    "output_type": "execute_result",
                    "execution_count": 21,
                    "data": {
                        "application/vnd.dataresource+json": {
                            "schema": {
                                "fields": [
                                    {
                                        "name": "DVD maximális ára"
                                    }
                                ]
                            },
                            "data": [
                                {
                                    "DVD maximális ára": "6098"
                                }
                            ]
                        },
                        "text/html": "<table><tr><th>DVD maximális ára</th></tr><tr><td>6098</td></tr></table>"
                    },
                    "metadata": {
                        "azdata_chartOptions": {
                            "type": "bar",
                            "dataDirection": "horizontal",
                            "columnsAsLabels": true,
                            "labelFirstColumn": false,
                            "legendPosition": "none",
                            "yAxisMin": 0
                        }
                    }
                }
            ],
            "execution_count": 21
        },
        {
            "cell_type": "markdown",
            "source": [
                "2\\. DVD-k minimális nettóára"
            ],
            "metadata": {
                "azdata_cell_guid": "d39204e1-fc30-468f-93f9-2a44160624d7"
            },
            "attachments": {}
        },
        {
            "cell_type": "code",
            "source": [
                "SELECT MIN(nettoar) AS 'DVD minimális ára'\r\n",
                "FROM dvd"
            ],
            "metadata": {
                "azdata_cell_guid": "8211d9f9-904d-47d3-9bc4-e1eae7792c02",
                "language": "sql"
            },
            "outputs": [
                {
                    "output_type": "display_data",
                    "data": {
                        "text/html": "(1 row affected)"
                    },
                    "metadata": {}
                },
                {
                    "output_type": "display_data",
                    "data": {
                        "text/html": "Total execution time: 00:00:00.028"
                    },
                    "metadata": {}
                },
                {
                    "output_type": "execute_result",
                    "execution_count": 24,
                    "data": {
                        "application/vnd.dataresource+json": {
                            "schema": {
                                "fields": [
                                    {
                                        "name": "DVD minimális ára"
                                    }
                                ]
                            },
                            "data": [
                                {
                                    "DVD minimális ára": "3102"
                                }
                            ]
                        },
                        "text/html": "<table><tr><th>DVD minimális ára</th></tr><tr><td>3102</td></tr></table>"
                    },
                    "metadata": {
                        "azdata_chartOptions": {
                            "type": "bar",
                            "dataDirection": "horizontal",
                            "columnsAsLabels": true,
                            "labelFirstColumn": false,
                            "legendPosition": "none"
                        }
                    }
                }
            ],
            "execution_count": 24
        },
        {
            "cell_type": "markdown",
            "source": [
                "3\\. DVD-k átlagos nettóára"
            ],
            "metadata": {
                "azdata_cell_guid": "629482d0-1650-4c3d-8b0d-f9d5e63394c9"
            },
            "attachments": {}
        },
        {
            "cell_type": "code",
            "source": [
                "SELECT ROUND(AVG(nettoar),0) AS 'DVD-k átlagos ára'\r\n",
                "FROM dvd"
            ],
            "metadata": {
                "azdata_cell_guid": "aaa1a1b9-ae26-4130-a869-9561726475e8",
                "language": "sql"
            },
            "outputs": [
                {
                    "output_type": "display_data",
                    "data": {
                        "text/html": "(1 row affected)"
                    },
                    "metadata": {}
                },
                {
                    "output_type": "display_data",
                    "data": {
                        "text/html": "Total execution time: 00:00:00.938"
                    },
                    "metadata": {}
                },
                {
                    "output_type": "execute_result",
                    "execution_count": 25,
                    "data": {
                        "application/vnd.dataresource+json": {
                            "schema": {
                                "fields": [
                                    {
                                        "name": "DVD-k átlagos ára"
                                    }
                                ]
                            },
                            "data": [
                                {
                                    "DVD-k átlagos ára": "4682"
                                }
                            ]
                        },
                        "text/html": "<table><tr><th>DVD-k átlagos ára</th></tr><tr><td>4682</td></tr></table>"
                    },
                    "metadata": {
                        "azdata_chartOptions": {
                            "type": "bar",
                            "dataDirection": "horizontal",
                            "columnsAsLabels": true,
                            "labelFirstColumn": false,
                            "legendPosition": "none"
                        }
                    }
                }
            ],
            "execution_count": 25
        },
        {
            "cell_type": "markdown",
            "source": [
                "4\\. DVD-k nettóárának szórása"
            ],
            "metadata": {
                "azdata_cell_guid": "e11aacc0-420b-45a8-90f7-f78e755f284a"
            },
            "attachments": {}
        },
        {
            "cell_type": "code",
            "source": [
                "SELECT ROUND(STDEV(nettoar),0) AS 'DVD-k árának szórása'\r\n",
                "FROM dvd"
            ],
            "metadata": {
                "azdata_cell_guid": "aa5701d4-a136-439f-9143-16de158d2eda",
                "language": "sql"
            },
            "outputs": [
                {
                    "output_type": "display_data",
                    "data": {
                        "text/html": "(1 row affected)"
                    },
                    "metadata": {}
                },
                {
                    "output_type": "display_data",
                    "data": {
                        "text/html": "Total execution time: 00:00:00.024"
                    },
                    "metadata": {}
                },
                {
                    "output_type": "execute_result",
                    "execution_count": 3,
                    "data": {
                        "application/vnd.dataresource+json": {
                            "schema": {
                                "fields": [
                                    {
                                        "name": "DVD-k árának szórása"
                                    }
                                ]
                            },
                            "data": [
                                {
                                    "DVD-k árának szórása": "872"
                                }
                            ]
                        },
                        "text/html": "<table><tr><th>DVD-k árának szórása</th></tr><tr><td>872</td></tr></table>"
                    },
                    "metadata": {
                        "azdata_chartOptions": {
                            "type": "bar",
                            "dataDirection": "horizontal",
                            "columnsAsLabels": true,
                            "labelFirstColumn": false,
                            "legendPosition": "none"
                        }
                    }
                }
            ],
            "execution_count": 3
        },
        {
            "cell_type": "markdown",
            "source": [
                "5\\. Nyelv nélküli filmek száma (NULL értékek)"
            ],
            "metadata": {
                "azdata_cell_guid": "1184c112-0955-4374-8468-6111571f0f49"
            },
            "attachments": {}
        },
        {
            "cell_type": "code",
            "source": [
                "SELECT COUNT(*) AS 'Nyelv nélküli filmek száma (NULL)'\r\n",
                "FROM dvd\r\n",
                "WHERE lang IS NULL\r\n",
                "GROUP BY lang"
            ],
            "metadata": {
                "language": "sql",
                "azdata_cell_guid": "b623e18b-197c-43fc-90f3-ff17f07cda63"
            },
            "outputs": [
                {
                    "output_type": "display_data",
                    "data": {
                        "text/html": "(1 row affected)"
                    },
                    "metadata": {}
                },
                {
                    "output_type": "display_data",
                    "data": {
                        "text/html": "Total execution time: 00:00:00.018"
                    },
                    "metadata": {}
                },
                {
                    "output_type": "execute_result",
                    "execution_count": 31,
                    "data": {
                        "application/vnd.dataresource+json": {
                            "schema": {
                                "fields": [
                                    {
                                        "name": "Nyelv nélküli filmek száma (NULL)"
                                    }
                                ]
                            },
                            "data": [
                                {
                                    "Nyelv nélküli filmek száma (NULL)": "3"
                                }
                            ]
                        },
                        "text/html": "<table><tr><th>Nyelv nélküli filmek száma (NULL)</th></tr><tr><td>3</td></tr></table>"
                    },
                    "metadata": {
                        "azdata_chartOptions": {
                            "type": "bar",
                            "dataDirection": "horizontal",
                            "columnsAsLabels": true,
                            "labelFirstColumn": false,
                            "legendPosition": "none"
                        }
                    }
                }
            ],
            "execution_count": 31
        },
        {
            "cell_type": "markdown",
            "source": [
                "6\\. Szinkronizált filmek aránya darabszámban"
            ],
            "metadata": {
                "language": "sql",
                "azdata_cell_guid": "87d76361-a109-43f8-8044-e09fa58dc138"
            },
            "attachments": {}
        },
        {
            "cell_type": "code",
            "source": [
                "SELECT SUM(IIF(lang IS NULL, 1, 0)) AS 'Szinkron nélküli filmek (NULL)',\r\n",
                "        SUM(IIF(lang IS NOT NULL, 1, 0)) AS 'Szinkronnal rendelkező filmek'\r\n",
                "FROM dvd"
            ],
            "metadata": {
                "language": "sql",
                "azdata_cell_guid": "5c7035ae-e4e8-4cde-ba39-924db0442628"
            },
            "outputs": [
                {
                    "output_type": "display_data",
                    "data": {
                        "text/html": "(1 row affected)"
                    },
                    "metadata": {}
                },
                {
                    "output_type": "display_data",
                    "data": {
                        "text/html": "Total execution time: 00:00:00.018"
                    },
                    "metadata": {}
                },
                {
                    "output_type": "execute_result",
                    "metadata": {
                        "azdata_chartOptions": {
                            "type": "doughnut",
                            "dataDirection": "horizontal",
                            "columnsAsLabels": true,
                            "labelFirstColumn": false,
                            "legendPosition": "top"
                        }
                    },
                    "execution_count": 6,
                    "data": {
                        "application/vnd.dataresource+json": {
                            "schema": {
                                "fields": [
                                    {
                                        "name": "Szinkron nélküli filmek (NULL)"
                                    },
                                    {
                                        "name": "Szinkronnal rendelkező filmek"
                                    }
                                ]
                            },
                            "data": [
                                {
                                    "Szinkron nélküli filmek (NULL)": "3",
                                    "Szinkronnal rendelkező filmek": "315"
                                }
                            ]
                        },
                        "text/html": [
                            "<table>",
                            "<tr><th>Szinkron nélküli filmek (NULL)</th><th>Szinkronnal rendelkező filmek</th></tr>",
                            "<tr><td>3</td><td>315</td></tr>",
                            "</table>"
                        ]
                    }
                }
            ],
            "execution_count": 6
        },
        {
            "cell_type": "markdown",
            "source": [
                "7\\. Szinkronizált filmek aránya százalékban"
            ],
            "metadata": {
                "azdata_cell_guid": "69b26cb4-e0aa-4118-b483-c8b617980d68"
            },
            "attachments": {}
        },
        {
            "cell_type": "code",
            "source": [
                "SELECT CAST(SUM(IIF(lang IS NOT NULL, 1, 0)) AS decimal) / COUNT(*) * 100.0 AS 'Nem NULL érték százalékos aránya',\r\n",
                "CAST(SUM(IIF(lang IS NULL, 1, 0)) AS decimal) / COUNT(*) * 100.0 AS 'NULL érték százalékos aránya'\r\n",
                "FROM dvd"
            ],
            "metadata": {
                "azdata_cell_guid": "a5d755df-aecb-4f06-afc9-8442728ef2c5",
                "language": "sql"
            },
            "outputs": [
                {
                    "output_type": "display_data",
                    "data": {
                        "text/html": "(1 row affected)"
                    },
                    "metadata": {}
                },
                {
                    "output_type": "display_data",
                    "data": {
                        "text/html": "Total execution time: 00:00:00.023"
                    },
                    "metadata": {}
                },
                {
                    "output_type": "execute_result",
                    "metadata": {
                        "azdata_chartOptions": {
                            "type": "pie",
                            "dataDirection": "horizontal",
                            "columnsAsLabels": true,
                            "labelFirstColumn": false,
                            "legendPosition": "top"
                        }
                    },
                    "execution_count": 18,
                    "data": {
                        "application/vnd.dataresource+json": {
                            "schema": {
                                "fields": [
                                    {
                                        "name": "Nem NULL érték százalékos aránya"
                                    },
                                    {
                                        "name": "NULL érték százalékos aránya"
                                    }
                                ]
                            },
                            "data": [
                                {
                                    "Nem NULL érték százalékos aránya": "99.056603773000",
                                    "NULL érték százalékos aránya": "0.943396226000"
                                }
                            ]
                        },
                        "text/html": [
                            "<table>",
                            "<tr><th>Nem NULL érték százalékos aránya</th><th>NULL érték százalékos aránya</th></tr>",
                            "<tr><td>99.056603773000</td><td>0.943396226000</td></tr>",
                            "</table>"
                        ]
                    }
                }
            ],
            "execution_count": 18
        },
        {
            "cell_type": "markdown",
            "source": [
                "8\\. Nyelvvek számának eloszlása"
            ],
            "metadata": {
                "azdata_cell_guid": "23c7a823-2527-484b-9b22-4bf262becf0e"
            },
            "attachments": {}
        },
        {
            "cell_type": "code",
            "source": [
                "SELECT ny.lang, COUNT(*) AS 'Nyelvek kiugró értékei'\r\n",
                "FROM dvd d JOIN nyelvek ny ON d.lang = ny.id\r\n",
                "GROUP BY ny.lang"
            ],
            "metadata": {
                "azdata_cell_guid": "4cee4c99-4ba0-4005-bade-08ed82674897",
                "language": "sql"
            },
            "outputs": [
                {
                    "output_type": "display_data",
                    "data": {
                        "text/html": "(8 rows affected)"
                    },
                    "metadata": {}
                },
                {
                    "output_type": "display_data",
                    "data": {
                        "text/html": "Total execution time: 00:00:00.088"
                    },
                    "metadata": {}
                },
                {
                    "output_type": "execute_result",
                    "metadata": {
                        "azdata_chartOptions": {
                            "type": "bar",
                            "dataDirection": "horizontal",
                            "columnsAsLabels": true,
                            "labelFirstColumn": true,
                            "legendPosition": "top"
                        }
                    },
                    "execution_count": 8,
                    "data": {
                        "application/vnd.dataresource+json": {
                            "schema": {
                                "fields": [
                                    {
                                        "name": "lang"
                                    },
                                    {
                                        "name": "Nyelvek kiugró értékei"
                                    }
                                ]
                            },
                            "data": [
                                {
                                    "lang": "angol",
                                    "Nyelvek kiugró értékei": "90"
                                },
                                {
                                    "lang": "angol/német",
                                    "Nyelvek kiugró értékei": "5"
                                },
                                {
                                    "lang": "francia",
                                    "Nyelvek kiugró értékei": "5"
                                },
                                {
                                    "lang": "magyar",
                                    "Nyelvek kiugró értékei": "196"
                                },
                                {
                                    "lang": "magyar/angol",
                                    "Nyelvek kiugró értékei": "1"
                                },
                                {
                                    "lang": "német",
                                    "Nyelvek kiugró értékei": "11"
                                },
                                {
                                    "lang": "olasz",
                                    "Nyelvek kiugró értékei": "5"
                                },
                                {
                                    "lang": "orosz",
                                    "Nyelvek kiugró értékei": "2"
                                }
                            ]
                        },
                        "text/html": [
                            "<table>",
                            "<tr><th>lang</th><th>Nyelvek kiugró értékei</th></tr>",
                            "<tr><td>angol</td><td>90</td></tr>",
                            "<tr><td>angol/német</td><td>5</td></tr>",
                            "<tr><td>francia</td><td>5</td></tr>",
                            "<tr><td>magyar</td><td>196</td></tr>",
                            "<tr><td>magyar/angol</td><td>1</td></tr>",
                            "<tr><td>német</td><td>11</td></tr>",
                            "<tr><td>olasz</td><td>5</td></tr>",
                            "<tr><td>orosz</td><td>2</td></tr>",
                            "</table>"
                        ]
                    }
                }
            ],
            "execution_count": 8
        }
    ]
}