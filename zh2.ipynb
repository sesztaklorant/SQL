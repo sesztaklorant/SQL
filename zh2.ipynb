{
    "metadata": {
        "kernelspec": {
            "name": "SQL",
            "display_name": "SQL",
            "language": "sql"
        },
        "language_info": {
            "name": "sql",
            "version": ""
        }
    },
    "nbformat_minor": 2,
    "nbformat": 4,
    "cells": [
        {
            "cell_type": "markdown",
            "source": [
                "ZH2 - Seszták Lóránt"
            ],
            "metadata": {
                "azdata_cell_guid": "a93b1ba4-934f-4a1b-8c1f-df001a10b44f"
            },
            "attachments": {}
        },
        {
            "cell_type": "code",
            "source": [
                "SELECT SZALLAS_NEV, ROUND(AVG(CSILLAGOK_SZAMA) OVER(PARTITION BY TIPUS),2) AS 'Szálláshely átlagos csillagszáma típus szerint',\r\n",
                "        ROUND(AVG(CSILLAGOK_SZAMA) OVER(PARTITION BY HELY),2) AS 'Szálláshely átlagos csillagszáma hely szerint'\r\n",
                "FROM Szallashely\r\n",
                "WHERE SZALLAS_NEV NOT LIKE '%-%'"
            ],
            "metadata": {
                "azdata_cell_guid": "0ebe049f-ab24-47c0-9ddf-84a9c3d63f23",
                "language": "sql"
            },
            "outputs": [
                {
                    "output_type": "display_data",
                    "data": {
                        "text/html": "(20 rows affected)"
                    },
                    "metadata": {}
                },
                {
                    "output_type": "display_data",
                    "data": {
                        "text/html": "Total execution time: 00:00:00.012"
                    },
                    "metadata": {}
                },
                {
                    "output_type": "execute_result",
                    "metadata": {},
                    "execution_count": 3,
                    "data": {
                        "application/vnd.dataresource+json": {
                            "schema": {
                                "fields": [
                                    {
                                        "name": "SZALLAS_NEV"
                                    },
                                    {
                                        "name": "Szálláshely átlagos csillagszáma típus szerint"
                                    },
                                    {
                                        "name": "Szálláshely átlagos csillagszáma hely szerint"
                                    }
                                ]
                            },
                            "data": [
                                {
                                    "SZALLAS_NEV": "Szieszta Apartmanház",
                                    "Szálláshely átlagos csillagszáma típus szerint": "0",
                                    "Szálláshely átlagos csillagszáma hely szerint": "2"
                                },
                                {
                                    "SZALLAS_NEV": "Hotel Három Hattyú",
                                    "Szálláshely átlagos csillagszáma típus szerint": "3",
                                    "Szálláshely átlagos csillagszáma hely szerint": "2"
                                },
                                {
                                    "SZALLAS_NEV": "Kentaur Hotel",
                                    "Szálláshely átlagos csillagszáma típus szerint": "3",
                                    "Szálláshely átlagos csillagszáma hely szerint": "2"
                                },
                                {
                                    "SZALLAS_NEV": "Tímárház Panzió",
                                    "Szálláshely átlagos csillagszáma típus szerint": "3",
                                    "Szálláshely átlagos csillagszáma hely szerint": "2"
                                },
                                {
                                    "SZALLAS_NEV": "Jáde panzió",
                                    "Szálláshely átlagos csillagszáma típus szerint": "3",
                                    "Szálláshely átlagos csillagszáma hely szerint": "2"
                                },
                                {
                                    "SZALLAS_NEV": "Családi Ház",
                                    "Szálláshely átlagos csillagszáma típus szerint": "0",
                                    "Szálláshely átlagos csillagszáma hely szerint": "2"
                                },
                                {
                                    "SZALLAS_NEV": "Partiszél Vendégház",
                                    "Szálláshely átlagos csillagszáma típus szerint": "0",
                                    "Szálláshely átlagos csillagszáma hely szerint": "0"
                                },
                                {
                                    "SZALLAS_NEV": "Fortuna Panzió",
                                    "Szálláshely átlagos csillagszáma típus szerint": "3",
                                    "Szálláshely átlagos csillagszáma hely szerint": "3"
                                },
                                {
                                    "SZALLAS_NEV": "Fortuna panzió",
                                    "Szálláshely átlagos csillagszáma típus szerint": "3",
                                    "Szálláshely átlagos csillagszáma hely szerint": "2"
                                },
                                {
                                    "SZALLAS_NEV": "Lagúna Hotel",
                                    "Szálláshely átlagos csillagszáma típus szerint": "3",
                                    "Szálláshely átlagos csillagszáma hely szerint": "2"
                                },
                                {
                                    "SZALLAS_NEV": "Kollégium",
                                    "Szálláshely átlagos csillagszáma típus szerint": "0",
                                    "Szálláshely átlagos csillagszáma hely szerint": "2"
                                },
                                {
                                    "SZALLAS_NEV": "Gold Hotel",
                                    "Szálláshely átlagos csillagszáma típus szerint": "3",
                                    "Szálláshely átlagos csillagszáma hely szerint": "2"
                                },
                                {
                                    "SZALLAS_NEV": "Nyárfás Vendégház",
                                    "Szálláshely átlagos csillagszáma típus szerint": "0",
                                    "Szálláshely átlagos csillagszáma hely szerint": "1"
                                },
                                {
                                    "SZALLAS_NEV": "Riviéra Panzió",
                                    "Szálláshely átlagos csillagszáma típus szerint": "3",
                                    "Szálláshely átlagos csillagszáma hely szerint": "1"
                                },
                                {
                                    "SZALLAS_NEV": "Müller Vendégház",
                                    "Szálláshely átlagos csillagszáma típus szerint": "0",
                                    "Szálláshely átlagos csillagszáma hely szerint": "0"
                                },
                                {
                                    "SZALLAS_NEV": "Nyárfás Vendégház",
                                    "Szálláshely átlagos csillagszáma típus szerint": "0",
                                    "Szálláshely átlagos csillagszáma hely szerint": "0"
                                },
                                {
                                    "SZALLAS_NEV": "Fortuna Apartman",
                                    "Szálláshely átlagos csillagszáma típus szerint": "0",
                                    "Szálláshely átlagos csillagszáma hely szerint": "0"
                                },
                                {
                                    "SZALLAS_NEV": "Fortuna Apartman",
                                    "Szálláshely átlagos csillagszáma típus szerint": "0",
                                    "Szálláshely átlagos csillagszáma hely szerint": "0"
                                },
                                {
                                    "SZALLAS_NEV": "Bagoly Hotel",
                                    "Szálláshely átlagos csillagszáma típus szerint": "3",
                                    "Szálláshely átlagos csillagszáma hely szerint": "3"
                                },
                                {
                                    "SZALLAS_NEV": "Szarvas Hotel",
                                    "Szálláshely átlagos csillagszáma típus szerint": "3",
                                    "Szálláshely átlagos csillagszáma hely szerint": "4"
                                }
                            ]
                        },
                        "text/html": [
                            "<table>",
                            "<tr><th>SZALLAS_NEV</th><th>Szálláshely átlagos csillagszáma típus szerint</th><th>Szálláshely átlagos csillagszáma hely szerint</th></tr>",
                            "<tr><td>Szieszta Apartmanház</td><td>0</td><td>2</td></tr>",
                            "<tr><td>Hotel Három Hattyú</td><td>3</td><td>2</td></tr>",
                            "<tr><td>Kentaur Hotel</td><td>3</td><td>2</td></tr>",
                            "<tr><td>Tímárház Panzió</td><td>3</td><td>2</td></tr>",
                            "<tr><td>Jáde panzió</td><td>3</td><td>2</td></tr>",
                            "<tr><td>Családi Ház</td><td>0</td><td>2</td></tr>",
                            "<tr><td>Partiszél Vendégház</td><td>0</td><td>0</td></tr>",
                            "<tr><td>Fortuna Panzió</td><td>3</td><td>3</td></tr>",
                            "<tr><td>Fortuna panzió</td><td>3</td><td>2</td></tr>",
                            "<tr><td>Lagúna Hotel</td><td>3</td><td>2</td></tr>",
                            "<tr><td>Kollégium</td><td>0</td><td>2</td></tr>",
                            "<tr><td>Gold Hotel</td><td>3</td><td>2</td></tr>",
                            "<tr><td>Nyárfás Vendégház</td><td>0</td><td>1</td></tr>",
                            "<tr><td>Riviéra Panzió</td><td>3</td><td>1</td></tr>",
                            "<tr><td>Müller Vendégház</td><td>0</td><td>0</td></tr>",
                            "<tr><td>Nyárfás Vendégház</td><td>0</td><td>0</td></tr>",
                            "<tr><td>Fortuna Apartman</td><td>0</td><td>0</td></tr>",
                            "<tr><td>Fortuna Apartman</td><td>0</td><td>0</td></tr>",
                            "<tr><td>Bagoly Hotel</td><td>3</td><td>3</td></tr>",
                            "<tr><td>Szarvas Hotel</td><td>3</td><td>4</td></tr>",
                            "</table>"
                        ]
                    }
                }
            ],
            "execution_count": 3
        }
    ]
}