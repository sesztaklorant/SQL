{
    "metadata": {
        "kernelspec": {
            "name": "SQL",
            "display_name": "SQL",
            "language": "sql"
        },
        "language_info": {
            "name": "sql",
            "version": ""
        }
    },
    "nbformat_minor": 2,
    "nbformat": 4,
    "cells": [
        {
            "cell_type": "markdown",
            "source": [
                "ZH2 - Seszták Lóránt"
            ],
            "metadata": {
                "azdata_cell_guid": "a93b1ba4-934f-4a1b-8c1f-df001a10b44f"
            },
            "attachments": {}
        }
    ]
}