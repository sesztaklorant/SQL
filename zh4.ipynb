{
    "metadata": {
        "kernelspec": {
            "name": "SQL",
            "display_name": "SQL",
            "language": "sql"
        },
        "language_info": {
            "name": "sql",
            "version": ""
        }
    },
    "nbformat_minor": 2,
    "nbformat": 4,
    "cells": [
        {
            "cell_type": "markdown",
            "source": [
                "ZH4"
            ],
            "metadata": {
                "azdata_cell_guid": "3a0922c7-4101-4718-89dd-ee280228142f"
            },
            "attachments": {}
        },
        {
            "cell_type": "code",
            "source": [
                ""
            ],
            "metadata": {
                "azdata_cell_guid": "e6b03656-cd79-4e18-b3c5-4ee5dc94763a",
                "language": "sql"
            },
            "outputs": [],
            "execution_count": null
        }
    ]
}