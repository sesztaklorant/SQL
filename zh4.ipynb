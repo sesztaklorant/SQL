{
    "metadata": {
        "kernelspec": {
            "name": "SQL",
            "display_name": "SQL",
            "language": "sql"
        },
        "language_info": {
            "name": "sql",
            "version": ""
        }
    },
    "nbformat_minor": 2,
    "nbformat": 4,
    "cells": [
        {
            "cell_type": "markdown",
            "source": [
                "ZH4"
            ],
            "metadata": {
                "azdata_cell_guid": "3a0922c7-4101-4718-89dd-ee280228142f"
            },
            "attachments": {}
        },
        {
            "cell_type": "code",
            "source": [
                "SELECT sz.SZOBA_ID,\r\n",
                "        COUNT(f.FOGLALAS_PK) AS foglalasok_szama\r\n",
                "FROM Szoba sz LEFT JOIN Foglalas f ON sz.SZOBA_ID = f.SZOBA_FK\r\n",
                "GROUP BY sz.SZOBA_ID\r\n",
                "ORDER BY sz.SZOBA_ID"
            ],
            "metadata": {
                "azdata_cell_guid": "e6b03656-cd79-4e18-b3c5-4ee5dc94763a",
                "language": "sql"
            },
            "outputs": [
                {
                    "output_type": "display_data",
                    "data": {
                        "text/html": "(294 rows affected)"
                    },
                    "metadata": {}
                },
                {
                    "output_type": "display_data",
                    "data": {
                        "text/html": "Total execution time: 00:00:00.047"
                    },
                    "metadata": {}
                },
                {
                    "output_type": "execute_result",
                    "metadata": {},
                    "execution_count": 1,
                    "data": {
                        "application/vnd.dataresource+json": {
                            "schema": {
                                "fields": [
                                    {
                                        "name": "SZOBA_ID"
                                    },
                                    {
                                        "name": "foglalasok_szama"
                                    }
                                ]
                            },
                            "data": [
                                {
                                    "SZOBA_ID": "1",
                                    "foglalasok_szama": "8"
                                },
                                {
                                    "SZOBA_ID": "2",
                                    "foglalasok_szama": "4"
                                },
                                {
                                    "SZOBA_ID": "3",
                                    "foglalasok_szama": "8"
                                },
                                {
                                    "SZOBA_ID": "4",
                                    "foglalasok_szama": "6"
                                },
                                {
                                    "SZOBA_ID": "5",
                                    "foglalasok_szama": "4"
                                },
                                {
                                    "SZOBA_ID": "6",
                                    "foglalasok_szama": "6"
                                },
                                {
                                    "SZOBA_ID": "7",
                                    "foglalasok_szama": "6"
                                },
                                {
                                    "SZOBA_ID": "8",
                                    "foglalasok_szama": "5"
                                },
                                {
                                    "SZOBA_ID": "9",
                                    "foglalasok_szama": "6"
                                },
                                {
                                    "SZOBA_ID": "10",
                                    "foglalasok_szama": "4"
                                },
                                {
                                    "SZOBA_ID": "11",
                                    "foglalasok_szama": "4"
                                },
                                {
                                    "SZOBA_ID": "12",
                                    "foglalasok_szama": "9"
                                },
                                {
                                    "SZOBA_ID": "13",
                                    "foglalasok_szama": "4"
                                },
                                {
                                    "SZOBA_ID": "14",
                                    "foglalasok_szama": "3"
                                },
                                {
                                    "SZOBA_ID": "15",
                                    "foglalasok_szama": "6"
                                },
                                {
                                    "SZOBA_ID": "16",
                                    "foglalasok_szama": "5"
                                },
                                {
                                    "SZOBA_ID": "17",
                                    "foglalasok_szama": "6"
                                },
                                {
                                    "SZOBA_ID": "18",
                                    "foglalasok_szama": "6"
                                },
                                {
                                    "SZOBA_ID": "19",
                                    "foglalasok_szama": "6"
                                },
                                {
                                    "SZOBA_ID": "20",
                                    "foglalasok_szama": "5"
                                },
                                {
                                    "SZOBA_ID": "21",
                                    "foglalasok_szama": "4"
                                },
                                {
                                    "SZOBA_ID": "22",
                                    "foglalasok_szama": "6"
                                },
                                {
                                    "SZOBA_ID": "23",
                                    "foglalasok_szama": "3"
                                },
                                {
                                    "SZOBA_ID": "24",
                                    "foglalasok_szama": "3"
                                },
                                {
                                    "SZOBA_ID": "25",
                                    "foglalasok_szama": "2"
                                },
                                {
                                    "SZOBA_ID": "26",
                                    "foglalasok_szama": "2"
                                },
                                {
                                    "SZOBA_ID": "27",
                                    "foglalasok_szama": "7"
                                },
                                {
                                    "SZOBA_ID": "28",
                                    "foglalasok_szama": "6"
                                },
                                {
                                    "SZOBA_ID": "29",
                                    "foglalasok_szama": "6"
                                },
                                {
                                    "SZOBA_ID": "30",
                                    "foglalasok_szama": "3"
                                },
                                {
                                    "SZOBA_ID": "31",
                                    "foglalasok_szama": "3"
                                },
                                {
                                    "SZOBA_ID": "32",
                                    "foglalasok_szama": "1"
                                },
                                {
                                    "SZOBA_ID": "33",
                                    "foglalasok_szama": "6"
                                },
                                {
                                    "SZOBA_ID": "34",
                                    "foglalasok_szama": "4"
                                },
                                {
                                    "SZOBA_ID": "35",
                                    "foglalasok_szama": "9"
                                },
                                {
                                    "SZOBA_ID": "36",
                                    "foglalasok_szama": "6"
                                },
                                {
                                    "SZOBA_ID": "37",
                                    "foglalasok_szama": "3"
                                },
                                {
                                    "SZOBA_ID": "38",
                                    "foglalasok_szama": "8"
                                },
                                {
                                    "SZOBA_ID": "39",
                                    "foglalasok_szama": "7"
                                },
                                {
                                    "SZOBA_ID": "40",
                                    "foglalasok_szama": "4"
                                },
                                {
                                    "SZOBA_ID": "41",
                                    "foglalasok_szama": "2"
                                },
                                {
                                    "SZOBA_ID": "42",
                                    "foglalasok_szama": "6"
                                },
                                {
                                    "SZOBA_ID": "43",
                                    "foglalasok_szama": "8"
                                },
                                {
                                    "SZOBA_ID": "44",
                                    "foglalasok_szama": "6"
                                },
                                {
                                    "SZOBA_ID": "45",
                                    "foglalasok_szama": "5"
                                },
                                {
                                    "SZOBA_ID": "46",
                                    "foglalasok_szama": "4"
                                },
                                {
                                    "SZOBA_ID": "47",
                                    "foglalasok_szama": "2"
                                },
                                {
                                    "SZOBA_ID": "48",
                                    "foglalasok_szama": "9"
                                },
                                {
                                    "SZOBA_ID": "49",
                                    "foglalasok_szama": "7"
                                },
                                {
                                    "SZOBA_ID": "50",
                                    "foglalasok_szama": "4"
                                },
                                {
                                    "SZOBA_ID": "51",
                                    "foglalasok_szama": "5"
                                },
                                {
                                    "SZOBA_ID": "52",
                                    "foglalasok_szama": "5"
                                },
                                {
                                    "SZOBA_ID": "53",
                                    "foglalasok_szama": "2"
                                },
                                {
                                    "SZOBA_ID": "54",
                                    "foglalasok_szama": "6"
                                },
                                {
                                    "SZOBA_ID": "55",
                                    "foglalasok_szama": "8"
                                },
                                {
                                    "SZOBA_ID": "56",
                                    "foglalasok_szama": "2"
                                },
                                {
                                    "SZOBA_ID": "57",
                                    "foglalasok_szama": "4"
                                },
                                {
                                    "SZOBA_ID": "58",
                                    "foglalasok_szama": "13"
                                },
                                {
                                    "SZOBA_ID": "59",
                                    "foglalasok_szama": "7"
                                },
                                {
                                    "SZOBA_ID": "60",
                                    "foglalasok_szama": "1"
                                },
                                {
                                    "SZOBA_ID": "61",
                                    "foglalasok_szama": "5"
                                },
                                {
                                    "SZOBA_ID": "62",
                                    "foglalasok_szama": "5"
                                },
                                {
                                    "SZOBA_ID": "63",
                                    "foglalasok_szama": "4"
                                },
                                {
                                    "SZOBA_ID": "64",
                                    "foglalasok_szama": "6"
                                },
                                {
                                    "SZOBA_ID": "65",
                                    "foglalasok_szama": "1"
                                },
                                {
                                    "SZOBA_ID": "66",
                                    "foglalasok_szama": "4"
                                },
                                {
                                    "SZOBA_ID": "67",
                                    "foglalasok_szama": "6"
                                },
                                {
                                    "SZOBA_ID": "68",
                                    "foglalasok_szama": "3"
                                },
                                {
                                    "SZOBA_ID": "69",
                                    "foglalasok_szama": "4"
                                },
                                {
                                    "SZOBA_ID": "70",
                                    "foglalasok_szama": "11"
                                },
                                {
                                    "SZOBA_ID": "71",
                                    "foglalasok_szama": "3"
                                },
                                {
                                    "SZOBA_ID": "72",
                                    "foglalasok_szama": "4"
                                },
                                {
                                    "SZOBA_ID": "73",
                                    "foglalasok_szama": "4"
                                },
                                {
                                    "SZOBA_ID": "74",
                                    "foglalasok_szama": "9"
                                },
                                {
                                    "SZOBA_ID": "75",
                                    "foglalasok_szama": "3"
                                },
                                {
                                    "SZOBA_ID": "76",
                                    "foglalasok_szama": "3"
                                },
                                {
                                    "SZOBA_ID": "77",
                                    "foglalasok_szama": "6"
                                },
                                {
                                    "SZOBA_ID": "78",
                                    "foglalasok_szama": "6"
                                },
                                {
                                    "SZOBA_ID": "79",
                                    "foglalasok_szama": "5"
                                },
                                {
                                    "SZOBA_ID": "80",
                                    "foglalasok_szama": "7"
                                },
                                {
                                    "SZOBA_ID": "81",
                                    "foglalasok_szama": "5"
                                },
                                {
                                    "SZOBA_ID": "82",
                                    "foglalasok_szama": "6"
                                },
                                {
                                    "SZOBA_ID": "83",
                                    "foglalasok_szama": "8"
                                },
                                {
                                    "SZOBA_ID": "84",
                                    "foglalasok_szama": "4"
                                },
                                {
                                    "SZOBA_ID": "85",
                                    "foglalasok_szama": "4"
                                },
                                {
                                    "SZOBA_ID": "86",
                                    "foglalasok_szama": "5"
                                },
                                {
                                    "SZOBA_ID": "87",
                                    "foglalasok_szama": "5"
                                },
                                {
                                    "SZOBA_ID": "88",
                                    "foglalasok_szama": "8"
                                },
                                {
                                    "SZOBA_ID": "89",
                                    "foglalasok_szama": "8"
                                },
                                {
                                    "SZOBA_ID": "90",
                                    "foglalasok_szama": "4"
                                },
                                {
                                    "SZOBA_ID": "91",
                                    "foglalasok_szama": "4"
                                },
                                {
                                    "SZOBA_ID": "92",
                                    "foglalasok_szama": "6"
                                },
                                {
                                    "SZOBA_ID": "93",
                                    "foglalasok_szama": "5"
                                },
                                {
                                    "SZOBA_ID": "94",
                                    "foglalasok_szama": "10"
                                },
                                {
                                    "SZOBA_ID": "95",
                                    "foglalasok_szama": "4"
                                },
                                {
                                    "SZOBA_ID": "96",
                                    "foglalasok_szama": "7"
                                },
                                {
                                    "SZOBA_ID": "97",
                                    "foglalasok_szama": "7"
                                },
                                {
                                    "SZOBA_ID": "98",
                                    "foglalasok_szama": "4"
                                },
                                {
                                    "SZOBA_ID": "99",
                                    "foglalasok_szama": "5"
                                },
                                {
                                    "SZOBA_ID": "100",
                                    "foglalasok_szama": "4"
                                },
                                {
                                    "SZOBA_ID": "101",
                                    "foglalasok_szama": "3"
                                },
                                {
                                    "SZOBA_ID": "102",
                                    "foglalasok_szama": "2"
                                },
                                {
                                    "SZOBA_ID": "103",
                                    "foglalasok_szama": "4"
                                },
                                {
                                    "SZOBA_ID": "104",
                                    "foglalasok_szama": "4"
                                },
                                {
                                    "SZOBA_ID": "105",
                                    "foglalasok_szama": "2"
                                },
                                {
                                    "SZOBA_ID": "106",
                                    "foglalasok_szama": "6"
                                },
                                {
                                    "SZOBA_ID": "107",
                                    "foglalasok_szama": "5"
                                },
                                {
                                    "SZOBA_ID": "108",
                                    "foglalasok_szama": "2"
                                },
                                {
                                    "SZOBA_ID": "109",
                                    "foglalasok_szama": "7"
                                },
                                {
                                    "SZOBA_ID": "110",
                                    "foglalasok_szama": "8"
                                },
                                {
                                    "SZOBA_ID": "111",
                                    "foglalasok_szama": "5"
                                },
                                {
                                    "SZOBA_ID": "112",
                                    "foglalasok_szama": "5"
                                },
                                {
                                    "SZOBA_ID": "113",
                                    "foglalasok_szama": "5"
                                },
                                {
                                    "SZOBA_ID": "114",
                                    "foglalasok_szama": "4"
                                },
                                {
                                    "SZOBA_ID": "115",
                                    "foglalasok_szama": "7"
                                },
                                {
                                    "SZOBA_ID": "116",
                                    "foglalasok_szama": "2"
                                },
                                {
                                    "SZOBA_ID": "117",
                                    "foglalasok_szama": "8"
                                },
                                {
                                    "SZOBA_ID": "118",
                                    "foglalasok_szama": "7"
                                },
                                {
                                    "SZOBA_ID": "119",
                                    "foglalasok_szama": "5"
                                },
                                {
                                    "SZOBA_ID": "120",
                                    "foglalasok_szama": "6"
                                },
                                {
                                    "SZOBA_ID": "121",
                                    "foglalasok_szama": "8"
                                },
                                {
                                    "SZOBA_ID": "122",
                                    "foglalasok_szama": "9"
                                },
                                {
                                    "SZOBA_ID": "123",
                                    "foglalasok_szama": "5"
                                },
                                {
                                    "SZOBA_ID": "124",
                                    "foglalasok_szama": "6"
                                },
                                {
                                    "SZOBA_ID": "125",
                                    "foglalasok_szama": "1"
                                },
                                {
                                    "SZOBA_ID": "126",
                                    "foglalasok_szama": "6"
                                },
                                {
                                    "SZOBA_ID": "127",
                                    "foglalasok_szama": "7"
                                },
                                {
                                    "SZOBA_ID": "128",
                                    "foglalasok_szama": "5"
                                },
                                {
                                    "SZOBA_ID": "129",
                                    "foglalasok_szama": "4"
                                },
                                {
                                    "SZOBA_ID": "130",
                                    "foglalasok_szama": "6"
                                },
                                {
                                    "SZOBA_ID": "131",
                                    "foglalasok_szama": "5"
                                },
                                {
                                    "SZOBA_ID": "132",
                                    "foglalasok_szama": "6"
                                },
                                {
                                    "SZOBA_ID": "133",
                                    "foglalasok_szama": "6"
                                },
                                {
                                    "SZOBA_ID": "134",
                                    "foglalasok_szama": "6"
                                },
                                {
                                    "SZOBA_ID": "135",
                                    "foglalasok_szama": "3"
                                },
                                {
                                    "SZOBA_ID": "136",
                                    "foglalasok_szama": "3"
                                },
                                {
                                    "SZOBA_ID": "137",
                                    "foglalasok_szama": "6"
                                },
                                {
                                    "SZOBA_ID": "138",
                                    "foglalasok_szama": "7"
                                },
                                {
                                    "SZOBA_ID": "139",
                                    "foglalasok_szama": "7"
                                },
                                {
                                    "SZOBA_ID": "140",
                                    "foglalasok_szama": "8"
                                },
                                {
                                    "SZOBA_ID": "141",
                                    "foglalasok_szama": "6"
                                },
                                {
                                    "SZOBA_ID": "142",
                                    "foglalasok_szama": "2"
                                },
                                {
                                    "SZOBA_ID": "143",
                                    "foglalasok_szama": "7"
                                },
                                {
                                    "SZOBA_ID": "144",
                                    "foglalasok_szama": "5"
                                },
                                {
                                    "SZOBA_ID": "145",
                                    "foglalasok_szama": "6"
                                },
                                {
                                    "SZOBA_ID": "146",
                                    "foglalasok_szama": "6"
                                },
                                {
                                    "SZOBA_ID": "147",
                                    "foglalasok_szama": "1"
                                },
                                {
                                    "SZOBA_ID": "148",
                                    "foglalasok_szama": "6"
                                },
                                {
                                    "SZOBA_ID": "149",
                                    "foglalasok_szama": "7"
                                },
                                {
                                    "SZOBA_ID": "150",
                                    "foglalasok_szama": "6"
                                },
                                {
                                    "SZOBA_ID": "151",
                                    "foglalasok_szama": "3"
                                },
                                {
                                    "SZOBA_ID": "152",
                                    "foglalasok_szama": "4"
                                },
                                {
                                    "SZOBA_ID": "153",
                                    "foglalasok_szama": "5"
                                },
                                {
                                    "SZOBA_ID": "154",
                                    "foglalasok_szama": "5"
                                },
                                {
                                    "SZOBA_ID": "155",
                                    "foglalasok_szama": "5"
                                },
                                {
                                    "SZOBA_ID": "156",
                                    "foglalasok_szama": "7"
                                },
                                {
                                    "SZOBA_ID": "157",
                                    "foglalasok_szama": "5"
                                },
                                {
                                    "SZOBA_ID": "158",
                                    "foglalasok_szama": "3"
                                },
                                {
                                    "SZOBA_ID": "159",
                                    "foglalasok_szama": "0"
                                },
                                {
                                    "SZOBA_ID": "160",
                                    "foglalasok_szama": "5"
                                },
                                {
                                    "SZOBA_ID": "161",
                                    "foglalasok_szama": "6"
                                },
                                {
                                    "SZOBA_ID": "162",
                                    "foglalasok_szama": "3"
                                },
                                {
                                    "SZOBA_ID": "163",
                                    "foglalasok_szama": "7"
                                },
                                {
                                    "SZOBA_ID": "164",
                                    "foglalasok_szama": "5"
                                },
                                {
                                    "SZOBA_ID": "165",
                                    "foglalasok_szama": "7"
                                },
                                {
                                    "SZOBA_ID": "166",
                                    "foglalasok_szama": "3"
                                },
                                {
                                    "SZOBA_ID": "167",
                                    "foglalasok_szama": "2"
                                },
                                {
                                    "SZOBA_ID": "168",
                                    "foglalasok_szama": "5"
                                },
                                {
                                    "SZOBA_ID": "169",
                                    "foglalasok_szama": "6"
                                },
                                {
                                    "SZOBA_ID": "170",
                                    "foglalasok_szama": "5"
                                },
                                {
                                    "SZOBA_ID": "171",
                                    "foglalasok_szama": "5"
                                },
                                {
                                    "SZOBA_ID": "172",
                                    "foglalasok_szama": "9"
                                },
                                {
                                    "SZOBA_ID": "173",
                                    "foglalasok_szama": "4"
                                },
                                {
                                    "SZOBA_ID": "174",
                                    "foglalasok_szama": "4"
                                },
                                {
                                    "SZOBA_ID": "175",
                                    "foglalasok_szama": "5"
                                },
                                {
                                    "SZOBA_ID": "176",
                                    "foglalasok_szama": "6"
                                },
                                {
                                    "SZOBA_ID": "177",
                                    "foglalasok_szama": "4"
                                },
                                {
                                    "SZOBA_ID": "178",
                                    "foglalasok_szama": "4"
                                },
                                {
                                    "SZOBA_ID": "179",
                                    "foglalasok_szama": "3"
                                },
                                {
                                    "SZOBA_ID": "180",
                                    "foglalasok_szama": "3"
                                },
                                {
                                    "SZOBA_ID": "181",
                                    "foglalasok_szama": "6"
                                },
                                {
                                    "SZOBA_ID": "182",
                                    "foglalasok_szama": "12"
                                },
                                {
                                    "SZOBA_ID": "183",
                                    "foglalasok_szama": "4"
                                },
                                {
                                    "SZOBA_ID": "184",
                                    "foglalasok_szama": "4"
                                },
                                {
                                    "SZOBA_ID": "185",
                                    "foglalasok_szama": "12"
                                },
                                {
                                    "SZOBA_ID": "186",
                                    "foglalasok_szama": "4"
                                },
                                {
                                    "SZOBA_ID": "187",
                                    "foglalasok_szama": "7"
                                },
                                {
                                    "SZOBA_ID": "188",
                                    "foglalasok_szama": "6"
                                },
                                {
                                    "SZOBA_ID": "189",
                                    "foglalasok_szama": "5"
                                },
                                {
                                    "SZOBA_ID": "190",
                                    "foglalasok_szama": "5"
                                },
                                {
                                    "SZOBA_ID": "191",
                                    "foglalasok_szama": "5"
                                },
                                {
                                    "SZOBA_ID": "192",
                                    "foglalasok_szama": "2"
                                },
                                {
                                    "SZOBA_ID": "193",
                                    "foglalasok_szama": "7"
                                },
                                {
                                    "SZOBA_ID": "194",
                                    "foglalasok_szama": "1"
                                },
                                {
                                    "SZOBA_ID": "195",
                                    "foglalasok_szama": "6"
                                },
                                {
                                    "SZOBA_ID": "196",
                                    "foglalasok_szama": "4"
                                },
                                {
                                    "SZOBA_ID": "197",
                                    "foglalasok_szama": "6"
                                },
                                {
                                    "SZOBA_ID": "198",
                                    "foglalasok_szama": "8"
                                },
                                {
                                    "SZOBA_ID": "199",
                                    "foglalasok_szama": "0"
                                },
                                {
                                    "SZOBA_ID": "200",
                                    "foglalasok_szama": "0"
                                },
                                {
                                    "SZOBA_ID": "201",
                                    "foglalasok_szama": "0"
                                },
                                {
                                    "SZOBA_ID": "202",
                                    "foglalasok_szama": "0"
                                },
                                {
                                    "SZOBA_ID": "203",
                                    "foglalasok_szama": "0"
                                },
                                {
                                    "SZOBA_ID": "204",
                                    "foglalasok_szama": "0"
                                },
                                {
                                    "SZOBA_ID": "205",
                                    "foglalasok_szama": "0"
                                },
                                {
                                    "SZOBA_ID": "206",
                                    "foglalasok_szama": "0"
                                },
                                {
                                    "SZOBA_ID": "207",
                                    "foglalasok_szama": "0"
                                },
                                {
                                    "SZOBA_ID": "208",
                                    "foglalasok_szama": "0"
                                },
                                {
                                    "SZOBA_ID": "209",
                                    "foglalasok_szama": "0"
                                },
                                {
                                    "SZOBA_ID": "210",
                                    "foglalasok_szama": "0"
                                },
                                {
                                    "SZOBA_ID": "211",
                                    "foglalasok_szama": "0"
                                },
                                {
                                    "SZOBA_ID": "212",
                                    "foglalasok_szama": "0"
                                },
                                {
                                    "SZOBA_ID": "213",
                                    "foglalasok_szama": "0"
                                },
                                {
                                    "SZOBA_ID": "214",
                                    "foglalasok_szama": "0"
                                },
                                {
                                    "SZOBA_ID": "215",
                                    "foglalasok_szama": "0"
                                },
                                {
                                    "SZOBA_ID": "216",
                                    "foglalasok_szama": "0"
                                },
                                {
                                    "SZOBA_ID": "217",
                                    "foglalasok_szama": "0"
                                },
                                {
                                    "SZOBA_ID": "218",
                                    "foglalasok_szama": "0"
                                },
                                {
                                    "SZOBA_ID": "219",
                                    "foglalasok_szama": "0"
                                },
                                {
                                    "SZOBA_ID": "220",
                                    "foglalasok_szama": "0"
                                },
                                {
                                    "SZOBA_ID": "221",
                                    "foglalasok_szama": "0"
                                },
                                {
                                    "SZOBA_ID": "222",
                                    "foglalasok_szama": "0"
                                },
                                {
                                    "SZOBA_ID": "223",
                                    "foglalasok_szama": "0"
                                },
                                {
                                    "SZOBA_ID": "224",
                                    "foglalasok_szama": "0"
                                },
                                {
                                    "SZOBA_ID": "225",
                                    "foglalasok_szama": "0"
                                },
                                {
                                    "SZOBA_ID": "226",
                                    "foglalasok_szama": "0"
                                },
                                {
                                    "SZOBA_ID": "227",
                                    "foglalasok_szama": "0"
                                },
                                {
                                    "SZOBA_ID": "228",
                                    "foglalasok_szama": "0"
                                },
                                {
                                    "SZOBA_ID": "229",
                                    "foglalasok_szama": "0"
                                },
                                {
                                    "SZOBA_ID": "230",
                                    "foglalasok_szama": "0"
                                },
                                {
                                    "SZOBA_ID": "231",
                                    "foglalasok_szama": "0"
                                },
                                {
                                    "SZOBA_ID": "232",
                                    "foglalasok_szama": "0"
                                },
                                {
                                    "SZOBA_ID": "233",
                                    "foglalasok_szama": "0"
                                },
                                {
                                    "SZOBA_ID": "234",
                                    "foglalasok_szama": "0"
                                },
                                {
                                    "SZOBA_ID": "235",
                                    "foglalasok_szama": "0"
                                },
                                {
                                    "SZOBA_ID": "236",
                                    "foglalasok_szama": "0"
                                },
                                {
                                    "SZOBA_ID": "237",
                                    "foglalasok_szama": "0"
                                },
                                {
                                    "SZOBA_ID": "238",
                                    "foglalasok_szama": "0"
                                },
                                {
                                    "SZOBA_ID": "239",
                                    "foglalasok_szama": "0"
                                },
                                {
                                    "SZOBA_ID": "240",
                                    "foglalasok_szama": "0"
                                },
                                {
                                    "SZOBA_ID": "241",
                                    "foglalasok_szama": "0"
                                },
                                {
                                    "SZOBA_ID": "242",
                                    "foglalasok_szama": "0"
                                },
                                {
                                    "SZOBA_ID": "243",
                                    "foglalasok_szama": "0"
                                },
                                {
                                    "SZOBA_ID": "244",
                                    "foglalasok_szama": "0"
                                },
                                {
                                    "SZOBA_ID": "245",
                                    "foglalasok_szama": "0"
                                },
                                {
                                    "SZOBA_ID": "246",
                                    "foglalasok_szama": "0"
                                },
                                {
                                    "SZOBA_ID": "247",
                                    "foglalasok_szama": "0"
                                },
                                {
                                    "SZOBA_ID": "248",
                                    "foglalasok_szama": "0"
                                },
                                {
                                    "SZOBA_ID": "249",
                                    "foglalasok_szama": "0"
                                },
                                {
                                    "SZOBA_ID": "250",
                                    "foglalasok_szama": "0"
                                },
                                {
                                    "SZOBA_ID": "251",
                                    "foglalasok_szama": "0"
                                },
                                {
                                    "SZOBA_ID": "252",
                                    "foglalasok_szama": "0"
                                },
                                {
                                    "SZOBA_ID": "253",
                                    "foglalasok_szama": "0"
                                },
                                {
                                    "SZOBA_ID": "254",
                                    "foglalasok_szama": "0"
                                },
                                {
                                    "SZOBA_ID": "255",
                                    "foglalasok_szama": "0"
                                },
                                {
                                    "SZOBA_ID": "256",
                                    "foglalasok_szama": "0"
                                },
                                {
                                    "SZOBA_ID": "257",
                                    "foglalasok_szama": "0"
                                },
                                {
                                    "SZOBA_ID": "258",
                                    "foglalasok_szama": "0"
                                },
                                {
                                    "SZOBA_ID": "259",
                                    "foglalasok_szama": "0"
                                },
                                {
                                    "SZOBA_ID": "260",
                                    "foglalasok_szama": "0"
                                },
                                {
                                    "SZOBA_ID": "261",
                                    "foglalasok_szama": "0"
                                },
                                {
                                    "SZOBA_ID": "262",
                                    "foglalasok_szama": "0"
                                },
                                {
                                    "SZOBA_ID": "263",
                                    "foglalasok_szama": "0"
                                },
                                {
                                    "SZOBA_ID": "264",
                                    "foglalasok_szama": "0"
                                },
                                {
                                    "SZOBA_ID": "265",
                                    "foglalasok_szama": "0"
                                },
                                {
                                    "SZOBA_ID": "266",
                                    "foglalasok_szama": "0"
                                },
                                {
                                    "SZOBA_ID": "267",
                                    "foglalasok_szama": "0"
                                },
                                {
                                    "SZOBA_ID": "268",
                                    "foglalasok_szama": "0"
                                },
                                {
                                    "SZOBA_ID": "269",
                                    "foglalasok_szama": "0"
                                },
                                {
                                    "SZOBA_ID": "270",
                                    "foglalasok_szama": "0"
                                },
                                {
                                    "SZOBA_ID": "271",
                                    "foglalasok_szama": "0"
                                },
                                {
                                    "SZOBA_ID": "272",
                                    "foglalasok_szama": "0"
                                },
                                {
                                    "SZOBA_ID": "273",
                                    "foglalasok_szama": "0"
                                },
                                {
                                    "SZOBA_ID": "274",
                                    "foglalasok_szama": "0"
                                },
                                {
                                    "SZOBA_ID": "275",
                                    "foglalasok_szama": "0"
                                },
                                {
                                    "SZOBA_ID": "276",
                                    "foglalasok_szama": "0"
                                },
                                {
                                    "SZOBA_ID": "277",
                                    "foglalasok_szama": "0"
                                },
                                {
                                    "SZOBA_ID": "278",
                                    "foglalasok_szama": "0"
                                },
                                {
                                    "SZOBA_ID": "279",
                                    "foglalasok_szama": "0"
                                },
                                {
                                    "SZOBA_ID": "280",
                                    "foglalasok_szama": "0"
                                },
                                {
                                    "SZOBA_ID": "281",
                                    "foglalasok_szama": "0"
                                },
                                {
                                    "SZOBA_ID": "282",
                                    "foglalasok_szama": "0"
                                },
                                {
                                    "SZOBA_ID": "283",
                                    "foglalasok_szama": "0"
                                },
                                {
                                    "SZOBA_ID": "284",
                                    "foglalasok_szama": "0"
                                },
                                {
                                    "SZOBA_ID": "285",
                                    "foglalasok_szama": "0"
                                },
                                {
                                    "SZOBA_ID": "286",
                                    "foglalasok_szama": "0"
                                },
                                {
                                    "SZOBA_ID": "287",
                                    "foglalasok_szama": "0"
                                },
                                {
                                    "SZOBA_ID": "288",
                                    "foglalasok_szama": "0"
                                },
                                {
                                    "SZOBA_ID": "289",
                                    "foglalasok_szama": "0"
                                },
                                {
                                    "SZOBA_ID": "290",
                                    "foglalasok_szama": "0"
                                },
                                {
                                    "SZOBA_ID": "291",
                                    "foglalasok_szama": "0"
                                },
                                {
                                    "SZOBA_ID": "292",
                                    "foglalasok_szama": "0"
                                },
                                {
                                    "SZOBA_ID": "293",
                                    "foglalasok_szama": "0"
                                },
                                {
                                    "SZOBA_ID": "294",
                                    "foglalasok_szama": "0"
                                }
                            ]
                        },
                        "text/html": [
                            "<table>",
                            "<tr><th>SZOBA_ID</th><th>foglalasok_szama</th></tr>",
                            "<tr><td>1</td><td>8</td></tr>",
                            "<tr><td>2</td><td>4</td></tr>",
                            "<tr><td>3</td><td>8</td></tr>",
                            "<tr><td>4</td><td>6</td></tr>",
                            "<tr><td>5</td><td>4</td></tr>",
                            "<tr><td>6</td><td>6</td></tr>",
                            "<tr><td>7</td><td>6</td></tr>",
                            "<tr><td>8</td><td>5</td></tr>",
                            "<tr><td>9</td><td>6</td></tr>",
                            "<tr><td>10</td><td>4</td></tr>",
                            "<tr><td>11</td><td>4</td></tr>",
                            "<tr><td>12</td><td>9</td></tr>",
                            "<tr><td>13</td><td>4</td></tr>",
                            "<tr><td>14</td><td>3</td></tr>",
                            "<tr><td>15</td><td>6</td></tr>",
                            "<tr><td>16</td><td>5</td></tr>",
                            "<tr><td>17</td><td>6</td></tr>",
                            "<tr><td>18</td><td>6</td></tr>",
                            "<tr><td>19</td><td>6</td></tr>",
                            "<tr><td>20</td><td>5</td></tr>",
                            "<tr><td>21</td><td>4</td></tr>",
                            "<tr><td>22</td><td>6</td></tr>",
                            "<tr><td>23</td><td>3</td></tr>",
                            "<tr><td>24</td><td>3</td></tr>",
                            "<tr><td>25</td><td>2</td></tr>",
                            "<tr><td>26</td><td>2</td></tr>",
                            "<tr><td>27</td><td>7</td></tr>",
                            "<tr><td>28</td><td>6</td></tr>",
                            "<tr><td>29</td><td>6</td></tr>",
                            "<tr><td>30</td><td>3</td></tr>",
                            "<tr><td>31</td><td>3</td></tr>",
                            "<tr><td>32</td><td>1</td></tr>",
                            "<tr><td>33</td><td>6</td></tr>",
                            "<tr><td>34</td><td>4</td></tr>",
                            "<tr><td>35</td><td>9</td></tr>",
                            "<tr><td>36</td><td>6</td></tr>",
                            "<tr><td>37</td><td>3</td></tr>",
                            "<tr><td>38</td><td>8</td></tr>",
                            "<tr><td>39</td><td>7</td></tr>",
                            "<tr><td>40</td><td>4</td></tr>",
                            "<tr><td>41</td><td>2</td></tr>",
                            "<tr><td>42</td><td>6</td></tr>",
                            "<tr><td>43</td><td>8</td></tr>",
                            "<tr><td>44</td><td>6</td></tr>",
                            "<tr><td>45</td><td>5</td></tr>",
                            "<tr><td>46</td><td>4</td></tr>",
                            "<tr><td>47</td><td>2</td></tr>",
                            "<tr><td>48</td><td>9</td></tr>",
                            "<tr><td>49</td><td>7</td></tr>",
                            "<tr><td>50</td><td>4</td></tr>",
                            "<tr><td>51</td><td>5</td></tr>",
                            "<tr><td>52</td><td>5</td></tr>",
                            "<tr><td>53</td><td>2</td></tr>",
                            "<tr><td>54</td><td>6</td></tr>",
                            "<tr><td>55</td><td>8</td></tr>",
                            "<tr><td>56</td><td>2</td></tr>",
                            "<tr><td>57</td><td>4</td></tr>",
                            "<tr><td>58</td><td>13</td></tr>",
                            "<tr><td>59</td><td>7</td></tr>",
                            "<tr><td>60</td><td>1</td></tr>",
                            "<tr><td>61</td><td>5</td></tr>",
                            "<tr><td>62</td><td>5</td></tr>",
                            "<tr><td>63</td><td>4</td></tr>",
                            "<tr><td>64</td><td>6</td></tr>",
                            "<tr><td>65</td><td>1</td></tr>",
                            "<tr><td>66</td><td>4</td></tr>",
                            "<tr><td>67</td><td>6</td></tr>",
                            "<tr><td>68</td><td>3</td></tr>",
                            "<tr><td>69</td><td>4</td></tr>",
                            "<tr><td>70</td><td>11</td></tr>",
                            "<tr><td>71</td><td>3</td></tr>",
                            "<tr><td>72</td><td>4</td></tr>",
                            "<tr><td>73</td><td>4</td></tr>",
                            "<tr><td>74</td><td>9</td></tr>",
                            "<tr><td>75</td><td>3</td></tr>",
                            "<tr><td>76</td><td>3</td></tr>",
                            "<tr><td>77</td><td>6</td></tr>",
                            "<tr><td>78</td><td>6</td></tr>",
                            "<tr><td>79</td><td>5</td></tr>",
                            "<tr><td>80</td><td>7</td></tr>",
                            "<tr><td>81</td><td>5</td></tr>",
                            "<tr><td>82</td><td>6</td></tr>",
                            "<tr><td>83</td><td>8</td></tr>",
                            "<tr><td>84</td><td>4</td></tr>",
                            "<tr><td>85</td><td>4</td></tr>",
                            "<tr><td>86</td><td>5</td></tr>",
                            "<tr><td>87</td><td>5</td></tr>",
                            "<tr><td>88</td><td>8</td></tr>",
                            "<tr><td>89</td><td>8</td></tr>",
                            "<tr><td>90</td><td>4</td></tr>",
                            "<tr><td>91</td><td>4</td></tr>",
                            "<tr><td>92</td><td>6</td></tr>",
                            "<tr><td>93</td><td>5</td></tr>",
                            "<tr><td>94</td><td>10</td></tr>",
                            "<tr><td>95</td><td>4</td></tr>",
                            "<tr><td>96</td><td>7</td></tr>",
                            "<tr><td>97</td><td>7</td></tr>",
                            "<tr><td>98</td><td>4</td></tr>",
                            "<tr><td>99</td><td>5</td></tr>",
                            "<tr><td>100</td><td>4</td></tr>",
                            "<tr><td>101</td><td>3</td></tr>",
                            "<tr><td>102</td><td>2</td></tr>",
                            "<tr><td>103</td><td>4</td></tr>",
                            "<tr><td>104</td><td>4</td></tr>",
                            "<tr><td>105</td><td>2</td></tr>",
                            "<tr><td>106</td><td>6</td></tr>",
                            "<tr><td>107</td><td>5</td></tr>",
                            "<tr><td>108</td><td>2</td></tr>",
                            "<tr><td>109</td><td>7</td></tr>",
                            "<tr><td>110</td><td>8</td></tr>",
                            "<tr><td>111</td><td>5</td></tr>",
                            "<tr><td>112</td><td>5</td></tr>",
                            "<tr><td>113</td><td>5</td></tr>",
                            "<tr><td>114</td><td>4</td></tr>",
                            "<tr><td>115</td><td>7</td></tr>",
                            "<tr><td>116</td><td>2</td></tr>",
                            "<tr><td>117</td><td>8</td></tr>",
                            "<tr><td>118</td><td>7</td></tr>",
                            "<tr><td>119</td><td>5</td></tr>",
                            "<tr><td>120</td><td>6</td></tr>",
                            "<tr><td>121</td><td>8</td></tr>",
                            "<tr><td>122</td><td>9</td></tr>",
                            "<tr><td>123</td><td>5</td></tr>",
                            "<tr><td>124</td><td>6</td></tr>",
                            "<tr><td>125</td><td>1</td></tr>",
                            "<tr><td>126</td><td>6</td></tr>",
                            "<tr><td>127</td><td>7</td></tr>",
                            "<tr><td>128</td><td>5</td></tr>",
                            "<tr><td>129</td><td>4</td></tr>",
                            "<tr><td>130</td><td>6</td></tr>",
                            "<tr><td>131</td><td>5</td></tr>",
                            "<tr><td>132</td><td>6</td></tr>",
                            "<tr><td>133</td><td>6</td></tr>",
                            "<tr><td>134</td><td>6</td></tr>",
                            "<tr><td>135</td><td>3</td></tr>",
                            "<tr><td>136</td><td>3</td></tr>",
                            "<tr><td>137</td><td>6</td></tr>",
                            "<tr><td>138</td><td>7</td></tr>",
                            "<tr><td>139</td><td>7</td></tr>",
                            "<tr><td>140</td><td>8</td></tr>",
                            "<tr><td>141</td><td>6</td></tr>",
                            "<tr><td>142</td><td>2</td></tr>",
                            "<tr><td>143</td><td>7</td></tr>",
                            "<tr><td>144</td><td>5</td></tr>",
                            "<tr><td>145</td><td>6</td></tr>",
                            "<tr><td>146</td><td>6</td></tr>",
                            "<tr><td>147</td><td>1</td></tr>",
                            "<tr><td>148</td><td>6</td></tr>",
                            "<tr><td>149</td><td>7</td></tr>",
                            "<tr><td>150</td><td>6</td></tr>",
                            "<tr><td>151</td><td>3</td></tr>",
                            "<tr><td>152</td><td>4</td></tr>",
                            "<tr><td>153</td><td>5</td></tr>",
                            "<tr><td>154</td><td>5</td></tr>",
                            "<tr><td>155</td><td>5</td></tr>",
                            "<tr><td>156</td><td>7</td></tr>",
                            "<tr><td>157</td><td>5</td></tr>",
                            "<tr><td>158</td><td>3</td></tr>",
                            "<tr><td>159</td><td>0</td></tr>",
                            "<tr><td>160</td><td>5</td></tr>",
                            "<tr><td>161</td><td>6</td></tr>",
                            "<tr><td>162</td><td>3</td></tr>",
                            "<tr><td>163</td><td>7</td></tr>",
                            "<tr><td>164</td><td>5</td></tr>",
                            "<tr><td>165</td><td>7</td></tr>",
                            "<tr><td>166</td><td>3</td></tr>",
                            "<tr><td>167</td><td>2</td></tr>",
                            "<tr><td>168</td><td>5</td></tr>",
                            "<tr><td>169</td><td>6</td></tr>",
                            "<tr><td>170</td><td>5</td></tr>",
                            "<tr><td>171</td><td>5</td></tr>",
                            "<tr><td>172</td><td>9</td></tr>",
                            "<tr><td>173</td><td>4</td></tr>",
                            "<tr><td>174</td><td>4</td></tr>",
                            "<tr><td>175</td><td>5</td></tr>",
                            "<tr><td>176</td><td>6</td></tr>",
                            "<tr><td>177</td><td>4</td></tr>",
                            "<tr><td>178</td><td>4</td></tr>",
                            "<tr><td>179</td><td>3</td></tr>",
                            "<tr><td>180</td><td>3</td></tr>",
                            "<tr><td>181</td><td>6</td></tr>",
                            "<tr><td>182</td><td>12</td></tr>",
                            "<tr><td>183</td><td>4</td></tr>",
                            "<tr><td>184</td><td>4</td></tr>",
                            "<tr><td>185</td><td>12</td></tr>",
                            "<tr><td>186</td><td>4</td></tr>",
                            "<tr><td>187</td><td>7</td></tr>",
                            "<tr><td>188</td><td>6</td></tr>",
                            "<tr><td>189</td><td>5</td></tr>",
                            "<tr><td>190</td><td>5</td></tr>",
                            "<tr><td>191</td><td>5</td></tr>",
                            "<tr><td>192</td><td>2</td></tr>",
                            "<tr><td>193</td><td>7</td></tr>",
                            "<tr><td>194</td><td>1</td></tr>",
                            "<tr><td>195</td><td>6</td></tr>",
                            "<tr><td>196</td><td>4</td></tr>",
                            "<tr><td>197</td><td>6</td></tr>",
                            "<tr><td>198</td><td>8</td></tr>",
                            "<tr><td>199</td><td>0</td></tr>",
                            "<tr><td>200</td><td>0</td></tr>",
                            "<tr><td>201</td><td>0</td></tr>",
                            "<tr><td>202</td><td>0</td></tr>",
                            "<tr><td>203</td><td>0</td></tr>",
                            "<tr><td>204</td><td>0</td></tr>",
                            "<tr><td>205</td><td>0</td></tr>",
                            "<tr><td>206</td><td>0</td></tr>",
                            "<tr><td>207</td><td>0</td></tr>",
                            "<tr><td>208</td><td>0</td></tr>",
                            "<tr><td>209</td><td>0</td></tr>",
                            "<tr><td>210</td><td>0</td></tr>",
                            "<tr><td>211</td><td>0</td></tr>",
                            "<tr><td>212</td><td>0</td></tr>",
                            "<tr><td>213</td><td>0</td></tr>",
                            "<tr><td>214</td><td>0</td></tr>",
                            "<tr><td>215</td><td>0</td></tr>",
                            "<tr><td>216</td><td>0</td></tr>",
                            "<tr><td>217</td><td>0</td></tr>",
                            "<tr><td>218</td><td>0</td></tr>",
                            "<tr><td>219</td><td>0</td></tr>",
                            "<tr><td>220</td><td>0</td></tr>",
                            "<tr><td>221</td><td>0</td></tr>",
                            "<tr><td>222</td><td>0</td></tr>",
                            "<tr><td>223</td><td>0</td></tr>",
                            "<tr><td>224</td><td>0</td></tr>",
                            "<tr><td>225</td><td>0</td></tr>",
                            "<tr><td>226</td><td>0</td></tr>",
                            "<tr><td>227</td><td>0</td></tr>",
                            "<tr><td>228</td><td>0</td></tr>",
                            "<tr><td>229</td><td>0</td></tr>",
                            "<tr><td>230</td><td>0</td></tr>",
                            "<tr><td>231</td><td>0</td></tr>",
                            "<tr><td>232</td><td>0</td></tr>",
                            "<tr><td>233</td><td>0</td></tr>",
                            "<tr><td>234</td><td>0</td></tr>",
                            "<tr><td>235</td><td>0</td></tr>",
                            "<tr><td>236</td><td>0</td></tr>",
                            "<tr><td>237</td><td>0</td></tr>",
                            "<tr><td>238</td><td>0</td></tr>",
                            "<tr><td>239</td><td>0</td></tr>",
                            "<tr><td>240</td><td>0</td></tr>",
                            "<tr><td>241</td><td>0</td></tr>",
                            "<tr><td>242</td><td>0</td></tr>",
                            "<tr><td>243</td><td>0</td></tr>",
                            "<tr><td>244</td><td>0</td></tr>",
                            "<tr><td>245</td><td>0</td></tr>",
                            "<tr><td>246</td><td>0</td></tr>",
                            "<tr><td>247</td><td>0</td></tr>",
                            "<tr><td>248</td><td>0</td></tr>",
                            "<tr><td>249</td><td>0</td></tr>",
                            "<tr><td>250</td><td>0</td></tr>",
                            "<tr><td>251</td><td>0</td></tr>",
                            "<tr><td>252</td><td>0</td></tr>",
                            "<tr><td>253</td><td>0</td></tr>",
                            "<tr><td>254</td><td>0</td></tr>",
                            "<tr><td>255</td><td>0</td></tr>",
                            "<tr><td>256</td><td>0</td></tr>",
                            "<tr><td>257</td><td>0</td></tr>",
                            "<tr><td>258</td><td>0</td></tr>",
                            "<tr><td>259</td><td>0</td></tr>",
                            "<tr><td>260</td><td>0</td></tr>",
                            "<tr><td>261</td><td>0</td></tr>",
                            "<tr><td>262</td><td>0</td></tr>",
                            "<tr><td>263</td><td>0</td></tr>",
                            "<tr><td>264</td><td>0</td></tr>",
                            "<tr><td>265</td><td>0</td></tr>",
                            "<tr><td>266</td><td>0</td></tr>",
                            "<tr><td>267</td><td>0</td></tr>",
                            "<tr><td>268</td><td>0</td></tr>",
                            "<tr><td>269</td><td>0</td></tr>",
                            "<tr><td>270</td><td>0</td></tr>",
                            "<tr><td>271</td><td>0</td></tr>",
                            "<tr><td>272</td><td>0</td></tr>",
                            "<tr><td>273</td><td>0</td></tr>",
                            "<tr><td>274</td><td>0</td></tr>",
                            "<tr><td>275</td><td>0</td></tr>",
                            "<tr><td>276</td><td>0</td></tr>",
                            "<tr><td>277</td><td>0</td></tr>",
                            "<tr><td>278</td><td>0</td></tr>",
                            "<tr><td>279</td><td>0</td></tr>",
                            "<tr><td>280</td><td>0</td></tr>",
                            "<tr><td>281</td><td>0</td></tr>",
                            "<tr><td>282</td><td>0</td></tr>",
                            "<tr><td>283</td><td>0</td></tr>",
                            "<tr><td>284</td><td>0</td></tr>",
                            "<tr><td>285</td><td>0</td></tr>",
                            "<tr><td>286</td><td>0</td></tr>",
                            "<tr><td>287</td><td>0</td></tr>",
                            "<tr><td>288</td><td>0</td></tr>",
                            "<tr><td>289</td><td>0</td></tr>",
                            "<tr><td>290</td><td>0</td></tr>",
                            "<tr><td>291</td><td>0</td></tr>",
                            "<tr><td>292</td><td>0</td></tr>",
                            "<tr><td>293</td><td>0</td></tr>",
                            "<tr><td>294</td><td>0</td></tr>",
                            "</table>"
                        ]
                    }
                }
            ],
            "execution_count": 1
        },
        {
            "cell_type": "code",
            "source": [
                "SELECT *\r\n",
                "FROM VENDEG v JOIN Foglalas f ON v.USERNEV = f.UGYFEL_FK\r\n",
                "        JOIN Szoba sz ON f.SZOBA_FK = sz.SZOBA_ID\r\n",
                "WHERE sz.KLIMAS = 'i' AND sz.FEROHELY = \r\n",
                "(\r\n",
                "    SELECT MAX(FEROHELY)\r\n",
                "    FROM Szoba\r\n",
                "    WHERE KLIMAS = 'i'\r\n",
                ")\r\n",
                "     "
            ],
            "metadata": {
                "azdata_cell_guid": "7cf34bb7-544e-4676-8cf8-7dbcf7db4a88",
                "language": "sql",
                "tags": []
            },
            "outputs": [
                {
                    "output_type": "display_data",
                    "data": {
                        "text/html": "(3 rows affected)"
                    },
                    "metadata": {}
                },
                {
                    "output_type": "display_data",
                    "data": {
                        "text/html": "Total execution time: 00:00:00.019"
                    },
                    "metadata": {}
                },
                {
                    "output_type": "execute_result",
                    "metadata": {},
                    "execution_count": 28,
                    "data": {
                        "application/vnd.dataresource+json": {
                            "schema": {
                                "fields": [
                                    {
                                        "name": "USERNEV"
                                    },
                                    {
                                        "name": "NEV"
                                    },
                                    {
                                        "name": "EMAIL"
                                    },
                                    {
                                        "name": "SZAML_CIM"
                                    },
                                    {
                                        "name": "SZUL_DAT"
                                    },
                                    {
                                        "name": "FOGLALAS_PK"
                                    },
                                    {
                                        "name": "UGYFEL_FK"
                                    },
                                    {
                                        "name": "SZOBA_FK"
                                    },
                                    {
                                        "name": "METTOL"
                                    },
                                    {
                                        "name": "MEDDIG"
                                    },
                                    {
                                        "name": "FELNOTT_SZAM"
                                    },
                                    {
                                        "name": "GYERMEK_SZAM"
                                    },
                                    {
                                        "name": "SZOBA_ID"
                                    },
                                    {
                                        "name": "SZOBA_SZAMA"
                                    },
                                    {
                                        "name": "FEROHELY"
                                    },
                                    {
                                        "name": "POTAGY"
                                    },
                                    {
                                        "name": "KLIMAS"
                                    },
                                    {
                                        "name": "SZALLAS_FK"
                                    }
                                ]
                            },
                            "data": [
                                {
                                    "USERNEV": "JOZSEFG",
                                    "NEV": "Gyuris József",
                                    "EMAIL": "józsef.gyuris@mail.hu",
                                    "SZAML_CIM": "2660 Balassagyarmat Petőfi utca 1/2.",
                                    "SZUL_DAT": "1975-05-26",
                                    "FOGLALAS_PK": "852",
                                    "UGYFEL_FK": "JOZSEFG",
                                    "SZOBA_FK": "24",
                                    "METTOL": "2016-05-23",
                                    "MEDDIG": "2016-05-25",
                                    "FELNOTT_SZAM": "1",
                                    "GYERMEK_SZAM": "0",
                                    "SZOBA_ID": "24",
                                    "SZOBA_SZAMA": "8",
                                    "FEROHELY": "4",
                                    "POTAGY": "1",
                                    "KLIMAS": "i",
                                    "SZALLAS_FK": "3"
                                },
                                {
                                    "USERNEV": "PETERB",
                                    "NEV": "Berendi Péter",
                                    "EMAIL": "péter.berendi@mail.hu",
                                    "SZAML_CIM": "3980 Sátoraljaújhely Vasút utca 4/10.",
                                    "SZUL_DAT": "1969-01-01",
                                    "FOGLALAS_PK": "1167",
                                    "UGYFEL_FK": "PETERB",
                                    "SZOBA_FK": "24",
                                    "METTOL": "2016-10-19",
                                    "MEDDIG": "2016-10-20",
                                    "FELNOTT_SZAM": "3",
                                    "GYERMEK_SZAM": "1",
                                    "SZOBA_ID": "24",
                                    "SZOBA_SZAMA": "8",
                                    "FEROHELY": "4",
                                    "POTAGY": "1",
                                    "KLIMAS": "i",
                                    "SZALLAS_FK": "3"
                                },
                                {
                                    "USERNEV": "tunde",
                                    "NEV": "Turcsik Tünde",
                                    "EMAIL": "tunde@gmail.com",
                                    "SZAML_CIM": "7130 Tolna Fő út 122.",
                                    "SZUL_DAT": "1974-02-12",
                                    "FOGLALAS_PK": "1415",
                                    "UGYFEL_FK": "tunde",
                                    "SZOBA_FK": "24",
                                    "METTOL": "2017-01-03",
                                    "MEDDIG": "2017-01-06",
                                    "FELNOTT_SZAM": "4",
                                    "GYERMEK_SZAM": "1",
                                    "SZOBA_ID": "24",
                                    "SZOBA_SZAMA": "8",
                                    "FEROHELY": "4",
                                    "POTAGY": "1",
                                    "KLIMAS": "i",
                                    "SZALLAS_FK": "3"
                                }
                            ]
                        },
                        "text/html": [
                            "<table>",
                            "<tr><th>USERNEV</th><th>NEV</th><th>EMAIL</th><th>SZAML_CIM</th><th>SZUL_DAT</th><th>FOGLALAS_PK</th><th>UGYFEL_FK</th><th>SZOBA_FK</th><th>METTOL</th><th>MEDDIG</th><th>FELNOTT_SZAM</th><th>GYERMEK_SZAM</th><th>SZOBA_ID</th><th>SZOBA_SZAMA</th><th>FEROHELY</th><th>POTAGY</th><th>KLIMAS</th><th>SZALLAS_FK</th></tr>",
                            "<tr><td>JOZSEFG</td><td>Gyuris József</td><td>józsef.gyuris@mail.hu</td><td>2660 Balassagyarmat Petőfi utca 1/2.</td><td>1975-05-26</td><td>852</td><td>JOZSEFG</td><td>24</td><td>2016-05-23</td><td>2016-05-25</td><td>1</td><td>0</td><td>24</td><td>8</td><td>4</td><td>1</td><td>i</td><td>3</td></tr>",
                            "<tr><td>PETERB</td><td>Berendi Péter</td><td>péter.berendi@mail.hu</td><td>3980 Sátoraljaújhely Vasút utca 4/10.</td><td>1969-01-01</td><td>1167</td><td>PETERB</td><td>24</td><td>2016-10-19</td><td>2016-10-20</td><td>3</td><td>1</td><td>24</td><td>8</td><td>4</td><td>1</td><td>i</td><td>3</td></tr>",
                            "<tr><td>tunde</td><td>Turcsik Tünde</td><td>tunde@gmail.com</td><td>7130 Tolna Fő út 122.</td><td>1974-02-12</td><td>1415</td><td>tunde</td><td>24</td><td>2017-01-03</td><td>2017-01-06</td><td>4</td><td>1</td><td>24</td><td>8</td><td>4</td><td>1</td><td>i</td><td>3</td></tr>",
                            "</table>"
                        ]
                    }
                }
            ],
            "execution_count": 28
        },
        {
            "cell_type": "code",
            "source": [
                "SELECT sz.*,\r\n",
                "    AVG(f.FELNOTT_SZAM + f.GYERMEK_SZAM) OVER(PARTITION BY sz.szoba_id ORDER BY METTOL ROWS BETWEEN 5 PRECEDING AND CURRENT ROW ) AS 'Legutolsó 5 foglalás'\r\n",
                "FROM Szoba sz JOIN Foglalas f ON sz.SZOBA_ID = f.SZOBA_FK"
            ],
            "metadata": {
                "azdata_cell_guid": "6fd61c25-65b6-4ca6-ae7a-cb35d850ec71",
                "language": "sql"
            },
            "outputs": [
                {
                    "output_type": "display_data",
                    "data": {
                        "text/html": "(1027 rows affected)"
                    },
                    "metadata": {}
                },
                {
                    "output_type": "display_data",
                    "data": {
                        "text/html": "Total execution time: 00:00:00.024"
                    },
                    "metadata": {}
                },
                {
                    "output_type": "execute_result",
                    "metadata": {},
                    "execution_count": 27,
                    "data": {
                        "application/vnd.dataresource+json": {
                            "schema": {
                                "fields": [
                                    {
                                        "name": "SZOBA_ID"
                                    },
                                    {
                                        "name": "SZOBA_SZAMA"
                                    },
                                    {
                                        "name": "FEROHELY"
                                    },
                                    {
                                        "name": "POTAGY"
                                    },
                                    {
                                        "name": "KLIMAS"
                                    },
                                    {
                                        "name": "SZALLAS_FK"
                                    },
                                    {
                                        "name": "Legutolsó 5 foglalás"
                                    }
                                ]
                            },
                            "data": [
                                {
                                    "SZOBA_ID": "1",
                                    "SZOBA_SZAMA": "1",
                                    "FEROHELY": "3",
                                    "POTAGY": "0",
                                    "KLIMAS": "n",
                                    "SZALLAS_FK": "1",
                                    "Legutolsó 5 foglalás": "1"
                                },
                                {
                                    "SZOBA_ID": "1",
                                    "SZOBA_SZAMA": "1",
                                    "FEROHELY": "3",
                                    "POTAGY": "0",
                                    "KLIMAS": "n",
                                    "SZALLAS_FK": "1",
                                    "Legutolsó 5 foglalás": "1"
                                },
                                {
                                    "SZOBA_ID": "1",
                                    "SZOBA_SZAMA": "1",
                                    "FEROHELY": "3",
                                    "POTAGY": "0",
                                    "KLIMAS": "n",
                                    "SZALLAS_FK": "1",
                                    "Legutolsó 5 foglalás": "1"
                                },
                                {
                                    "SZOBA_ID": "1",
                                    "SZOBA_SZAMA": "1",
                                    "FEROHELY": "3",
                                    "POTAGY": "0",
                                    "KLIMAS": "n",
                                    "SZALLAS_FK": "1",
                                    "Legutolsó 5 foglalás": "1"
                                },
                                {
                                    "SZOBA_ID": "1",
                                    "SZOBA_SZAMA": "1",
                                    "FEROHELY": "3",
                                    "POTAGY": "0",
                                    "KLIMAS": "n",
                                    "SZALLAS_FK": "1",
                                    "Legutolsó 5 foglalás": "1"
                                },
                                {
                                    "SZOBA_ID": "1",
                                    "SZOBA_SZAMA": "1",
                                    "FEROHELY": "3",
                                    "POTAGY": "0",
                                    "KLIMAS": "n",
                                    "SZALLAS_FK": "1",
                                    "Legutolsó 5 foglalás": "1"
                                },
                                {
                                    "SZOBA_ID": "1",
                                    "SZOBA_SZAMA": "1",
                                    "FEROHELY": "3",
                                    "POTAGY": "0",
                                    "KLIMAS": "n",
                                    "SZALLAS_FK": "1",
                                    "Legutolsó 5 foglalás": "2"
                                },
                                {
                                    "SZOBA_ID": "1",
                                    "SZOBA_SZAMA": "1",
                                    "FEROHELY": "3",
                                    "POTAGY": "0",
                                    "KLIMAS": "n",
                                    "SZALLAS_FK": "1",
                                    "Legutolsó 5 foglalás": "2"
                                },
                                {
                                    "SZOBA_ID": "2",
                                    "SZOBA_SZAMA": "2",
                                    "FEROHELY": "3",
                                    "POTAGY": "1",
                                    "KLIMAS": "i",
                                    "SZALLAS_FK": "1",
                                    "Legutolsó 5 foglalás": "4"
                                },
                                {
                                    "SZOBA_ID": "2",
                                    "SZOBA_SZAMA": "2",
                                    "FEROHELY": "3",
                                    "POTAGY": "1",
                                    "KLIMAS": "i",
                                    "SZALLAS_FK": "1",
                                    "Legutolsó 5 foglalás": "3"
                                },
                                {
                                    "SZOBA_ID": "2",
                                    "SZOBA_SZAMA": "2",
                                    "FEROHELY": "3",
                                    "POTAGY": "1",
                                    "KLIMAS": "i",
                                    "SZALLAS_FK": "1",
                                    "Legutolsó 5 foglalás": "3"
                                },
                                {
                                    "SZOBA_ID": "2",
                                    "SZOBA_SZAMA": "2",
                                    "FEROHELY": "3",
                                    "POTAGY": "1",
                                    "KLIMAS": "i",
                                    "SZALLAS_FK": "1",
                                    "Legutolsó 5 foglalás": "3"
                                },
                                {
                                    "SZOBA_ID": "3",
                                    "SZOBA_SZAMA": "3",
                                    "FEROHELY": "3",
                                    "POTAGY": "1",
                                    "KLIMAS": "i",
                                    "SZALLAS_FK": "1",
                                    "Legutolsó 5 foglalás": "3"
                                },
                                {
                                    "SZOBA_ID": "3",
                                    "SZOBA_SZAMA": "3",
                                    "FEROHELY": "3",
                                    "POTAGY": "1",
                                    "KLIMAS": "i",
                                    "SZALLAS_FK": "1",
                                    "Legutolsó 5 foglalás": "3"
                                },
                                {
                                    "SZOBA_ID": "3",
                                    "SZOBA_SZAMA": "3",
                                    "FEROHELY": "3",
                                    "POTAGY": "1",
                                    "KLIMAS": "i",
                                    "SZALLAS_FK": "1",
                                    "Legutolsó 5 foglalás": "3"
                                },
                                {
                                    "SZOBA_ID": "3",
                                    "SZOBA_SZAMA": "3",
                                    "FEROHELY": "3",
                                    "POTAGY": "1",
                                    "KLIMAS": "i",
                                    "SZALLAS_FK": "1",
                                    "Legutolsó 5 foglalás": "3"
                                },
                                {
                                    "SZOBA_ID": "3",
                                    "SZOBA_SZAMA": "3",
                                    "FEROHELY": "3",
                                    "POTAGY": "1",
                                    "KLIMAS": "i",
                                    "SZALLAS_FK": "1",
                                    "Legutolsó 5 foglalás": "3"
                                },
                                {
                                    "SZOBA_ID": "3",
                                    "SZOBA_SZAMA": "3",
                                    "FEROHELY": "3",
                                    "POTAGY": "1",
                                    "KLIMAS": "i",
                                    "SZALLAS_FK": "1",
                                    "Legutolsó 5 foglalás": "3"
                                },
                                {
                                    "SZOBA_ID": "3",
                                    "SZOBA_SZAMA": "3",
                                    "FEROHELY": "3",
                                    "POTAGY": "1",
                                    "KLIMAS": "i",
                                    "SZALLAS_FK": "1",
                                    "Legutolsó 5 foglalás": "3"
                                },
                                {
                                    "SZOBA_ID": "3",
                                    "SZOBA_SZAMA": "3",
                                    "FEROHELY": "3",
                                    "POTAGY": "1",
                                    "KLIMAS": "i",
                                    "SZALLAS_FK": "1",
                                    "Legutolsó 5 foglalás": "3"
                                },
                                {
                                    "SZOBA_ID": "4",
                                    "SZOBA_SZAMA": "4",
                                    "FEROHELY": "2",
                                    "POTAGY": "1",
                                    "KLIMAS": "i",
                                    "SZALLAS_FK": "1",
                                    "Legutolsó 5 foglalás": "1"
                                },
                                {
                                    "SZOBA_ID": "4",
                                    "SZOBA_SZAMA": "4",
                                    "FEROHELY": "2",
                                    "POTAGY": "1",
                                    "KLIMAS": "i",
                                    "SZALLAS_FK": "1",
                                    "Legutolsó 5 foglalás": "1"
                                },
                                {
                                    "SZOBA_ID": "4",
                                    "SZOBA_SZAMA": "4",
                                    "FEROHELY": "2",
                                    "POTAGY": "1",
                                    "KLIMAS": "i",
                                    "SZALLAS_FK": "1",
                                    "Legutolsó 5 foglalás": "1"
                                },
                                {
                                    "SZOBA_ID": "4",
                                    "SZOBA_SZAMA": "4",
                                    "FEROHELY": "2",
                                    "POTAGY": "1",
                                    "KLIMAS": "i",
                                    "SZALLAS_FK": "1",
                                    "Legutolsó 5 foglalás": "1"
                                },
                                {
                                    "SZOBA_ID": "4",
                                    "SZOBA_SZAMA": "4",
                                    "FEROHELY": "2",
                                    "POTAGY": "1",
                                    "KLIMAS": "i",
                                    "SZALLAS_FK": "1",
                                    "Legutolsó 5 foglalás": "1"
                                },
                                {
                                    "SZOBA_ID": "4",
                                    "SZOBA_SZAMA": "4",
                                    "FEROHELY": "2",
                                    "POTAGY": "1",
                                    "KLIMAS": "i",
                                    "SZALLAS_FK": "1",
                                    "Legutolsó 5 foglalás": "1"
                                },
                                {
                                    "SZOBA_ID": "5",
                                    "SZOBA_SZAMA": "5",
                                    "FEROHELY": "2",
                                    "POTAGY": "0",
                                    "KLIMAS": "i",
                                    "SZALLAS_FK": "1",
                                    "Legutolsó 5 foglalás": "2"
                                },
                                {
                                    "SZOBA_ID": "5",
                                    "SZOBA_SZAMA": "5",
                                    "FEROHELY": "2",
                                    "POTAGY": "0",
                                    "KLIMAS": "i",
                                    "SZALLAS_FK": "1",
                                    "Legutolsó 5 foglalás": "1"
                                },
                                {
                                    "SZOBA_ID": "5",
                                    "SZOBA_SZAMA": "5",
                                    "FEROHELY": "2",
                                    "POTAGY": "0",
                                    "KLIMAS": "i",
                                    "SZALLAS_FK": "1",
                                    "Legutolsó 5 foglalás": "1"
                                },
                                {
                                    "SZOBA_ID": "5",
                                    "SZOBA_SZAMA": "5",
                                    "FEROHELY": "2",
                                    "POTAGY": "0",
                                    "KLIMAS": "i",
                                    "SZALLAS_FK": "1",
                                    "Legutolsó 5 foglalás": "1"
                                },
                                {
                                    "SZOBA_ID": "6",
                                    "SZOBA_SZAMA": "6",
                                    "FEROHELY": "3",
                                    "POTAGY": "0",
                                    "KLIMAS": "i",
                                    "SZALLAS_FK": "1",
                                    "Legutolsó 5 foglalás": "2"
                                },
                                {
                                    "SZOBA_ID": "6",
                                    "SZOBA_SZAMA": "6",
                                    "FEROHELY": "3",
                                    "POTAGY": "0",
                                    "KLIMAS": "i",
                                    "SZALLAS_FK": "1",
                                    "Legutolsó 5 foglalás": "2"
                                },
                                {
                                    "SZOBA_ID": "6",
                                    "SZOBA_SZAMA": "6",
                                    "FEROHELY": "3",
                                    "POTAGY": "0",
                                    "KLIMAS": "i",
                                    "SZALLAS_FK": "1",
                                    "Legutolsó 5 foglalás": "1"
                                },
                                {
                                    "SZOBA_ID": "6",
                                    "SZOBA_SZAMA": "6",
                                    "FEROHELY": "3",
                                    "POTAGY": "0",
                                    "KLIMAS": "i",
                                    "SZALLAS_FK": "1",
                                    "Legutolsó 5 foglalás": "2"
                                },
                                {
                                    "SZOBA_ID": "6",
                                    "SZOBA_SZAMA": "6",
                                    "FEROHELY": "3",
                                    "POTAGY": "0",
                                    "KLIMAS": "i",
                                    "SZALLAS_FK": "1",
                                    "Legutolsó 5 foglalás": "2"
                                },
                                {
                                    "SZOBA_ID": "6",
                                    "SZOBA_SZAMA": "6",
                                    "FEROHELY": "3",
                                    "POTAGY": "0",
                                    "KLIMAS": "i",
                                    "SZALLAS_FK": "1",
                                    "Legutolsó 5 foglalás": "2"
                                },
                                {
                                    "SZOBA_ID": "7",
                                    "SZOBA_SZAMA": "7",
                                    "FEROHELY": "2",
                                    "POTAGY": "0",
                                    "KLIMAS": "i",
                                    "SZALLAS_FK": "1",
                                    "Legutolsó 5 foglalás": "1"
                                },
                                {
                                    "SZOBA_ID": "7",
                                    "SZOBA_SZAMA": "7",
                                    "FEROHELY": "2",
                                    "POTAGY": "0",
                                    "KLIMAS": "i",
                                    "SZALLAS_FK": "1",
                                    "Legutolsó 5 foglalás": "1"
                                },
                                {
                                    "SZOBA_ID": "7",
                                    "SZOBA_SZAMA": "7",
                                    "FEROHELY": "2",
                                    "POTAGY": "0",
                                    "KLIMAS": "i",
                                    "SZALLAS_FK": "1",
                                    "Legutolsó 5 foglalás": "1"
                                },
                                {
                                    "SZOBA_ID": "7",
                                    "SZOBA_SZAMA": "7",
                                    "FEROHELY": "2",
                                    "POTAGY": "0",
                                    "KLIMAS": "i",
                                    "SZALLAS_FK": "1",
                                    "Legutolsó 5 foglalás": "1"
                                },
                                {
                                    "SZOBA_ID": "7",
                                    "SZOBA_SZAMA": "7",
                                    "FEROHELY": "2",
                                    "POTAGY": "0",
                                    "KLIMAS": "i",
                                    "SZALLAS_FK": "1",
                                    "Legutolsó 5 foglalás": "1"
                                },
                                {
                                    "SZOBA_ID": "7",
                                    "SZOBA_SZAMA": "7",
                                    "FEROHELY": "2",
                                    "POTAGY": "0",
                                    "KLIMAS": "i",
                                    "SZALLAS_FK": "1",
                                    "Legutolsó 5 foglalás": "1"
                                },
                                {
                                    "SZOBA_ID": "8",
                                    "SZOBA_SZAMA": "8",
                                    "FEROHELY": "3",
                                    "POTAGY": "0",
                                    "KLIMAS": "n",
                                    "SZALLAS_FK": "1",
                                    "Legutolsó 5 foglalás": "2"
                                },
                                {
                                    "SZOBA_ID": "8",
                                    "SZOBA_SZAMA": "8",
                                    "FEROHELY": "3",
                                    "POTAGY": "0",
                                    "KLIMAS": "n",
                                    "SZALLAS_FK": "1",
                                    "Legutolsó 5 foglalás": "2"
                                },
                                {
                                    "SZOBA_ID": "8",
                                    "SZOBA_SZAMA": "8",
                                    "FEROHELY": "3",
                                    "POTAGY": "0",
                                    "KLIMAS": "n",
                                    "SZALLAS_FK": "1",
                                    "Legutolsó 5 foglalás": "2"
                                },
                                {
                                    "SZOBA_ID": "8",
                                    "SZOBA_SZAMA": "8",
                                    "FEROHELY": "3",
                                    "POTAGY": "0",
                                    "KLIMAS": "n",
                                    "SZALLAS_FK": "1",
                                    "Legutolsó 5 foglalás": "2"
                                },
                                {
                                    "SZOBA_ID": "8",
                                    "SZOBA_SZAMA": "8",
                                    "FEROHELY": "3",
                                    "POTAGY": "0",
                                    "KLIMAS": "n",
                                    "SZALLAS_FK": "1",
                                    "Legutolsó 5 foglalás": "2"
                                },
                                {
                                    "SZOBA_ID": "9",
                                    "SZOBA_SZAMA": "9",
                                    "FEROHELY": "3",
                                    "POTAGY": "1",
                                    "KLIMAS": "i",
                                    "SZALLAS_FK": "1",
                                    "Legutolsó 5 foglalás": "2"
                                },
                                {
                                    "SZOBA_ID": "9",
                                    "SZOBA_SZAMA": "9",
                                    "FEROHELY": "3",
                                    "POTAGY": "1",
                                    "KLIMAS": "i",
                                    "SZALLAS_FK": "1",
                                    "Legutolsó 5 foglalás": "2"
                                },
                                {
                                    "SZOBA_ID": "9",
                                    "SZOBA_SZAMA": "9",
                                    "FEROHELY": "3",
                                    "POTAGY": "1",
                                    "KLIMAS": "i",
                                    "SZALLAS_FK": "1",
                                    "Legutolsó 5 foglalás": "3"
                                },
                                {
                                    "SZOBA_ID": "9",
                                    "SZOBA_SZAMA": "9",
                                    "FEROHELY": "3",
                                    "POTAGY": "1",
                                    "KLIMAS": "i",
                                    "SZALLAS_FK": "1",
                                    "Legutolsó 5 foglalás": "3"
                                },
                                {
                                    "SZOBA_ID": "9",
                                    "SZOBA_SZAMA": "9",
                                    "FEROHELY": "3",
                                    "POTAGY": "1",
                                    "KLIMAS": "i",
                                    "SZALLAS_FK": "1",
                                    "Legutolsó 5 foglalás": "3"
                                },
                                {
                                    "SZOBA_ID": "9",
                                    "SZOBA_SZAMA": "9",
                                    "FEROHELY": "3",
                                    "POTAGY": "1",
                                    "KLIMAS": "i",
                                    "SZALLAS_FK": "1",
                                    "Legutolsó 5 foglalás": "3"
                                },
                                {
                                    "SZOBA_ID": "10",
                                    "SZOBA_SZAMA": "10",
                                    "FEROHELY": "3",
                                    "POTAGY": "0",
                                    "KLIMAS": "i",
                                    "SZALLAS_FK": "1",
                                    "Legutolsó 5 foglalás": "2"
                                },
                                {
                                    "SZOBA_ID": "10",
                                    "SZOBA_SZAMA": "10",
                                    "FEROHELY": "3",
                                    "POTAGY": "0",
                                    "KLIMAS": "i",
                                    "SZALLAS_FK": "1",
                                    "Legutolsó 5 foglalás": "1"
                                },
                                {
                                    "SZOBA_ID": "10",
                                    "SZOBA_SZAMA": "10",
                                    "FEROHELY": "3",
                                    "POTAGY": "0",
                                    "KLIMAS": "i",
                                    "SZALLAS_FK": "1",
                                    "Legutolsó 5 foglalás": "2"
                                },
                                {
                                    "SZOBA_ID": "10",
                                    "SZOBA_SZAMA": "10",
                                    "FEROHELY": "3",
                                    "POTAGY": "0",
                                    "KLIMAS": "i",
                                    "SZALLAS_FK": "1",
                                    "Legutolsó 5 foglalás": "2"
                                },
                                {
                                    "SZOBA_ID": "11",
                                    "SZOBA_SZAMA": "11",
                                    "FEROHELY": "2",
                                    "POTAGY": "1",
                                    "KLIMAS": "i",
                                    "SZALLAS_FK": "1",
                                    "Legutolsó 5 foglalás": "3"
                                },
                                {
                                    "SZOBA_ID": "11",
                                    "SZOBA_SZAMA": "11",
                                    "FEROHELY": "2",
                                    "POTAGY": "1",
                                    "KLIMAS": "i",
                                    "SZALLAS_FK": "1",
                                    "Legutolsó 5 foglalás": "3"
                                },
                                {
                                    "SZOBA_ID": "11",
                                    "SZOBA_SZAMA": "11",
                                    "FEROHELY": "2",
                                    "POTAGY": "1",
                                    "KLIMAS": "i",
                                    "SZALLAS_FK": "1",
                                    "Legutolsó 5 foglalás": "2"
                                },
                                {
                                    "SZOBA_ID": "11",
                                    "SZOBA_SZAMA": "11",
                                    "FEROHELY": "2",
                                    "POTAGY": "1",
                                    "KLIMAS": "i",
                                    "SZALLAS_FK": "1",
                                    "Legutolsó 5 foglalás": "2"
                                },
                                {
                                    "SZOBA_ID": "12",
                                    "SZOBA_SZAMA": "12",
                                    "FEROHELY": "2",
                                    "POTAGY": "1",
                                    "KLIMAS": "i",
                                    "SZALLAS_FK": "1",
                                    "Legutolsó 5 foglalás": "3"
                                },
                                {
                                    "SZOBA_ID": "12",
                                    "SZOBA_SZAMA": "12",
                                    "FEROHELY": "2",
                                    "POTAGY": "1",
                                    "KLIMAS": "i",
                                    "SZALLAS_FK": "1",
                                    "Legutolsó 5 foglalás": "2"
                                },
                                {
                                    "SZOBA_ID": "12",
                                    "SZOBA_SZAMA": "12",
                                    "FEROHELY": "2",
                                    "POTAGY": "1",
                                    "KLIMAS": "i",
                                    "SZALLAS_FK": "1",
                                    "Legutolsó 5 foglalás": "2"
                                },
                                {
                                    "SZOBA_ID": "12",
                                    "SZOBA_SZAMA": "12",
                                    "FEROHELY": "2",
                                    "POTAGY": "1",
                                    "KLIMAS": "i",
                                    "SZALLAS_FK": "1",
                                    "Legutolsó 5 foglalás": "2"
                                },
                                {
                                    "SZOBA_ID": "12",
                                    "SZOBA_SZAMA": "12",
                                    "FEROHELY": "2",
                                    "POTAGY": "1",
                                    "KLIMAS": "i",
                                    "SZALLAS_FK": "1",
                                    "Legutolsó 5 foglalás": "2"
                                },
                                {
                                    "SZOBA_ID": "12",
                                    "SZOBA_SZAMA": "12",
                                    "FEROHELY": "2",
                                    "POTAGY": "1",
                                    "KLIMAS": "i",
                                    "SZALLAS_FK": "1",
                                    "Legutolsó 5 foglalás": "2"
                                },
                                {
                                    "SZOBA_ID": "12",
                                    "SZOBA_SZAMA": "12",
                                    "FEROHELY": "2",
                                    "POTAGY": "1",
                                    "KLIMAS": "i",
                                    "SZALLAS_FK": "1",
                                    "Legutolsó 5 foglalás": "2"
                                },
                                {
                                    "SZOBA_ID": "12",
                                    "SZOBA_SZAMA": "12",
                                    "FEROHELY": "2",
                                    "POTAGY": "1",
                                    "KLIMAS": "i",
                                    "SZALLAS_FK": "1",
                                    "Legutolsó 5 foglalás": "2"
                                },
                                {
                                    "SZOBA_ID": "12",
                                    "SZOBA_SZAMA": "12",
                                    "FEROHELY": "2",
                                    "POTAGY": "1",
                                    "KLIMAS": "i",
                                    "SZALLAS_FK": "1",
                                    "Legutolsó 5 foglalás": "2"
                                },
                                {
                                    "SZOBA_ID": "13",
                                    "SZOBA_SZAMA": "1",
                                    "FEROHELY": "3",
                                    "POTAGY": "0",
                                    "KLIMAS": "i",
                                    "SZALLAS_FK": "2",
                                    "Legutolsó 5 foglalás": "3"
                                },
                                {
                                    "SZOBA_ID": "13",
                                    "SZOBA_SZAMA": "1",
                                    "FEROHELY": "3",
                                    "POTAGY": "0",
                                    "KLIMAS": "i",
                                    "SZALLAS_FK": "2",
                                    "Legutolsó 5 foglalás": "3"
                                },
                                {
                                    "SZOBA_ID": "13",
                                    "SZOBA_SZAMA": "1",
                                    "FEROHELY": "3",
                                    "POTAGY": "0",
                                    "KLIMAS": "i",
                                    "SZALLAS_FK": "2",
                                    "Legutolsó 5 foglalás": "3"
                                },
                                {
                                    "SZOBA_ID": "13",
                                    "SZOBA_SZAMA": "1",
                                    "FEROHELY": "3",
                                    "POTAGY": "0",
                                    "KLIMAS": "i",
                                    "SZALLAS_FK": "2",
                                    "Legutolsó 5 foglalás": "2"
                                },
                                {
                                    "SZOBA_ID": "14",
                                    "SZOBA_SZAMA": "2",
                                    "FEROHELY": "3",
                                    "POTAGY": "2",
                                    "KLIMAS": "i",
                                    "SZALLAS_FK": "2",
                                    "Legutolsó 5 foglalás": "4"
                                },
                                {
                                    "SZOBA_ID": "14",
                                    "SZOBA_SZAMA": "2",
                                    "FEROHELY": "3",
                                    "POTAGY": "2",
                                    "KLIMAS": "i",
                                    "SZALLAS_FK": "2",
                                    "Legutolsó 5 foglalás": "3"
                                },
                                {
                                    "SZOBA_ID": "14",
                                    "SZOBA_SZAMA": "2",
                                    "FEROHELY": "3",
                                    "POTAGY": "2",
                                    "KLIMAS": "i",
                                    "SZALLAS_FK": "2",
                                    "Legutolsó 5 foglalás": "3"
                                },
                                {
                                    "SZOBA_ID": "15",
                                    "SZOBA_SZAMA": "3",
                                    "FEROHELY": "2",
                                    "POTAGY": "1",
                                    "KLIMAS": "i",
                                    "SZALLAS_FK": "2",
                                    "Legutolsó 5 foglalás": "3"
                                },
                                {
                                    "SZOBA_ID": "15",
                                    "SZOBA_SZAMA": "3",
                                    "FEROHELY": "2",
                                    "POTAGY": "1",
                                    "KLIMAS": "i",
                                    "SZALLAS_FK": "2",
                                    "Legutolsó 5 foglalás": "2"
                                },
                                {
                                    "SZOBA_ID": "15",
                                    "SZOBA_SZAMA": "3",
                                    "FEROHELY": "2",
                                    "POTAGY": "1",
                                    "KLIMAS": "i",
                                    "SZALLAS_FK": "2",
                                    "Legutolsó 5 foglalás": "2"
                                },
                                {
                                    "SZOBA_ID": "15",
                                    "SZOBA_SZAMA": "3",
                                    "FEROHELY": "2",
                                    "POTAGY": "1",
                                    "KLIMAS": "i",
                                    "SZALLAS_FK": "2",
                                    "Legutolsó 5 foglalás": "2"
                                },
                                {
                                    "SZOBA_ID": "15",
                                    "SZOBA_SZAMA": "3",
                                    "FEROHELY": "2",
                                    "POTAGY": "1",
                                    "KLIMAS": "i",
                                    "SZALLAS_FK": "2",
                                    "Legutolsó 5 foglalás": "2"
                                },
                                {
                                    "SZOBA_ID": "15",
                                    "SZOBA_SZAMA": "3",
                                    "FEROHELY": "2",
                                    "POTAGY": "1",
                                    "KLIMAS": "i",
                                    "SZALLAS_FK": "2",
                                    "Legutolsó 5 foglalás": "2"
                                },
                                {
                                    "SZOBA_ID": "16",
                                    "SZOBA_SZAMA": "4",
                                    "FEROHELY": "3",
                                    "POTAGY": "1",
                                    "KLIMAS": "i",
                                    "SZALLAS_FK": "2",
                                    "Legutolsó 5 foglalás": "4"
                                },
                                {
                                    "SZOBA_ID": "16",
                                    "SZOBA_SZAMA": "4",
                                    "FEROHELY": "3",
                                    "POTAGY": "1",
                                    "KLIMAS": "i",
                                    "SZALLAS_FK": "2",
                                    "Legutolsó 5 foglalás": "3"
                                },
                                {
                                    "SZOBA_ID": "16",
                                    "SZOBA_SZAMA": "4",
                                    "FEROHELY": "3",
                                    "POTAGY": "1",
                                    "KLIMAS": "i",
                                    "SZALLAS_FK": "2",
                                    "Legutolsó 5 foglalás": "3"
                                },
                                {
                                    "SZOBA_ID": "16",
                                    "SZOBA_SZAMA": "4",
                                    "FEROHELY": "3",
                                    "POTAGY": "1",
                                    "KLIMAS": "i",
                                    "SZALLAS_FK": "2",
                                    "Legutolsó 5 foglalás": "3"
                                },
                                {
                                    "SZOBA_ID": "16",
                                    "SZOBA_SZAMA": "4",
                                    "FEROHELY": "3",
                                    "POTAGY": "1",
                                    "KLIMAS": "i",
                                    "SZALLAS_FK": "2",
                                    "Legutolsó 5 foglalás": "3"
                                },
                                {
                                    "SZOBA_ID": "17",
                                    "SZOBA_SZAMA": "1",
                                    "FEROHELY": "3",
                                    "POTAGY": "1",
                                    "KLIMAS": "i",
                                    "SZALLAS_FK": "3",
                                    "Legutolsó 5 foglalás": "4"
                                },
                                {
                                    "SZOBA_ID": "17",
                                    "SZOBA_SZAMA": "1",
                                    "FEROHELY": "3",
                                    "POTAGY": "1",
                                    "KLIMAS": "i",
                                    "SZALLAS_FK": "3",
                                    "Legutolsó 5 foglalás": "3"
                                },
                                {
                                    "SZOBA_ID": "17",
                                    "SZOBA_SZAMA": "1",
                                    "FEROHELY": "3",
                                    "POTAGY": "1",
                                    "KLIMAS": "i",
                                    "SZALLAS_FK": "3",
                                    "Legutolsó 5 foglalás": "3"
                                },
                                {
                                    "SZOBA_ID": "17",
                                    "SZOBA_SZAMA": "1",
                                    "FEROHELY": "3",
                                    "POTAGY": "1",
                                    "KLIMAS": "i",
                                    "SZALLAS_FK": "3",
                                    "Legutolsó 5 foglalás": "2"
                                },
                                {
                                    "SZOBA_ID": "17",
                                    "SZOBA_SZAMA": "1",
                                    "FEROHELY": "3",
                                    "POTAGY": "1",
                                    "KLIMAS": "i",
                                    "SZALLAS_FK": "3",
                                    "Legutolsó 5 foglalás": "2"
                                },
                                {
                                    "SZOBA_ID": "17",
                                    "SZOBA_SZAMA": "1",
                                    "FEROHELY": "3",
                                    "POTAGY": "1",
                                    "KLIMAS": "i",
                                    "SZALLAS_FK": "3",
                                    "Legutolsó 5 foglalás": "2"
                                },
                                {
                                    "SZOBA_ID": "18",
                                    "SZOBA_SZAMA": "2",
                                    "FEROHELY": "3",
                                    "POTAGY": "2",
                                    "KLIMAS": "n",
                                    "SZALLAS_FK": "3",
                                    "Legutolsó 5 foglalás": "2"
                                },
                                {
                                    "SZOBA_ID": "18",
                                    "SZOBA_SZAMA": "2",
                                    "FEROHELY": "3",
                                    "POTAGY": "2",
                                    "KLIMAS": "n",
                                    "SZALLAS_FK": "3",
                                    "Legutolsó 5 foglalás": "2"
                                },
                                {
                                    "SZOBA_ID": "18",
                                    "SZOBA_SZAMA": "2",
                                    "FEROHELY": "3",
                                    "POTAGY": "2",
                                    "KLIMAS": "n",
                                    "SZALLAS_FK": "3",
                                    "Legutolsó 5 foglalás": "2"
                                },
                                {
                                    "SZOBA_ID": "18",
                                    "SZOBA_SZAMA": "2",
                                    "FEROHELY": "3",
                                    "POTAGY": "2",
                                    "KLIMAS": "n",
                                    "SZALLAS_FK": "3",
                                    "Legutolsó 5 foglalás": "3"
                                },
                                {
                                    "SZOBA_ID": "18",
                                    "SZOBA_SZAMA": "2",
                                    "FEROHELY": "3",
                                    "POTAGY": "2",
                                    "KLIMAS": "n",
                                    "SZALLAS_FK": "3",
                                    "Legutolsó 5 foglalás": "2"
                                },
                                {
                                    "SZOBA_ID": "18",
                                    "SZOBA_SZAMA": "2",
                                    "FEROHELY": "3",
                                    "POTAGY": "2",
                                    "KLIMAS": "n",
                                    "SZALLAS_FK": "3",
                                    "Legutolsó 5 foglalás": "3"
                                },
                                {
                                    "SZOBA_ID": "19",
                                    "SZOBA_SZAMA": "3",
                                    "FEROHELY": "2",
                                    "POTAGY": "1",
                                    "KLIMAS": "i",
                                    "SZALLAS_FK": "3",
                                    "Legutolsó 5 foglalás": "1"
                                },
                                {
                                    "SZOBA_ID": "19",
                                    "SZOBA_SZAMA": "3",
                                    "FEROHELY": "2",
                                    "POTAGY": "1",
                                    "KLIMAS": "i",
                                    "SZALLAS_FK": "3",
                                    "Legutolsó 5 foglalás": "2"
                                },
                                {
                                    "SZOBA_ID": "19",
                                    "SZOBA_SZAMA": "3",
                                    "FEROHELY": "2",
                                    "POTAGY": "1",
                                    "KLIMAS": "i",
                                    "SZALLAS_FK": "3",
                                    "Legutolsó 5 foglalás": "2"
                                },
                                {
                                    "SZOBA_ID": "19",
                                    "SZOBA_SZAMA": "3",
                                    "FEROHELY": "2",
                                    "POTAGY": "1",
                                    "KLIMAS": "i",
                                    "SZALLAS_FK": "3",
                                    "Legutolsó 5 foglalás": "2"
                                },
                                {
                                    "SZOBA_ID": "19",
                                    "SZOBA_SZAMA": "3",
                                    "FEROHELY": "2",
                                    "POTAGY": "1",
                                    "KLIMAS": "i",
                                    "SZALLAS_FK": "3",
                                    "Legutolsó 5 foglalás": "2"
                                },
                                {
                                    "SZOBA_ID": "19",
                                    "SZOBA_SZAMA": "3",
                                    "FEROHELY": "2",
                                    "POTAGY": "1",
                                    "KLIMAS": "i",
                                    "SZALLAS_FK": "3",
                                    "Legutolsó 5 foglalás": "2"
                                },
                                {
                                    "SZOBA_ID": "20",
                                    "SZOBA_SZAMA": "4",
                                    "FEROHELY": "3",
                                    "POTAGY": "0",
                                    "KLIMAS": "i",
                                    "SZALLAS_FK": "3",
                                    "Legutolsó 5 foglalás": "1"
                                },
                                {
                                    "SZOBA_ID": "20",
                                    "SZOBA_SZAMA": "4",
                                    "FEROHELY": "3",
                                    "POTAGY": "0",
                                    "KLIMAS": "i",
                                    "SZALLAS_FK": "3",
                                    "Legutolsó 5 foglalás": "2"
                                },
                                {
                                    "SZOBA_ID": "20",
                                    "SZOBA_SZAMA": "4",
                                    "FEROHELY": "3",
                                    "POTAGY": "0",
                                    "KLIMAS": "i",
                                    "SZALLAS_FK": "3",
                                    "Legutolsó 5 foglalás": "2"
                                },
                                {
                                    "SZOBA_ID": "20",
                                    "SZOBA_SZAMA": "4",
                                    "FEROHELY": "3",
                                    "POTAGY": "0",
                                    "KLIMAS": "i",
                                    "SZALLAS_FK": "3",
                                    "Legutolsó 5 foglalás": "2"
                                },
                                {
                                    "SZOBA_ID": "20",
                                    "SZOBA_SZAMA": "4",
                                    "FEROHELY": "3",
                                    "POTAGY": "0",
                                    "KLIMAS": "i",
                                    "SZALLAS_FK": "3",
                                    "Legutolsó 5 foglalás": "2"
                                },
                                {
                                    "SZOBA_ID": "21",
                                    "SZOBA_SZAMA": "5",
                                    "FEROHELY": "2",
                                    "POTAGY": "1",
                                    "KLIMAS": "i",
                                    "SZALLAS_FK": "3",
                                    "Legutolsó 5 foglalás": "2"
                                },
                                {
                                    "SZOBA_ID": "21",
                                    "SZOBA_SZAMA": "5",
                                    "FEROHELY": "2",
                                    "POTAGY": "1",
                                    "KLIMAS": "i",
                                    "SZALLAS_FK": "3",
                                    "Legutolsó 5 foglalás": "2"
                                },
                                {
                                    "SZOBA_ID": "21",
                                    "SZOBA_SZAMA": "5",
                                    "FEROHELY": "2",
                                    "POTAGY": "1",
                                    "KLIMAS": "i",
                                    "SZALLAS_FK": "3",
                                    "Legutolsó 5 foglalás": "2"
                                },
                                {
                                    "SZOBA_ID": "21",
                                    "SZOBA_SZAMA": "5",
                                    "FEROHELY": "2",
                                    "POTAGY": "1",
                                    "KLIMAS": "i",
                                    "SZALLAS_FK": "3",
                                    "Legutolsó 5 foglalás": "2"
                                },
                                {
                                    "SZOBA_ID": "22",
                                    "SZOBA_SZAMA": "6",
                                    "FEROHELY": "3",
                                    "POTAGY": "2",
                                    "KLIMAS": "n",
                                    "SZALLAS_FK": "3",
                                    "Legutolsó 5 foglalás": "2"
                                },
                                {
                                    "SZOBA_ID": "22",
                                    "SZOBA_SZAMA": "6",
                                    "FEROHELY": "3",
                                    "POTAGY": "2",
                                    "KLIMAS": "n",
                                    "SZALLAS_FK": "3",
                                    "Legutolsó 5 foglalás": "1"
                                },
                                {
                                    "SZOBA_ID": "22",
                                    "SZOBA_SZAMA": "6",
                                    "FEROHELY": "3",
                                    "POTAGY": "2",
                                    "KLIMAS": "n",
                                    "SZALLAS_FK": "3",
                                    "Legutolsó 5 foglalás": "2"
                                },
                                {
                                    "SZOBA_ID": "22",
                                    "SZOBA_SZAMA": "6",
                                    "FEROHELY": "3",
                                    "POTAGY": "2",
                                    "KLIMAS": "n",
                                    "SZALLAS_FK": "3",
                                    "Legutolsó 5 foglalás": "3"
                                },
                                {
                                    "SZOBA_ID": "22",
                                    "SZOBA_SZAMA": "6",
                                    "FEROHELY": "3",
                                    "POTAGY": "2",
                                    "KLIMAS": "n",
                                    "SZALLAS_FK": "3",
                                    "Legutolsó 5 foglalás": "3"
                                },
                                {
                                    "SZOBA_ID": "22",
                                    "SZOBA_SZAMA": "6",
                                    "FEROHELY": "3",
                                    "POTAGY": "2",
                                    "KLIMAS": "n",
                                    "SZALLAS_FK": "3",
                                    "Legutolsó 5 foglalás": "3"
                                },
                                {
                                    "SZOBA_ID": "23",
                                    "SZOBA_SZAMA": "7",
                                    "FEROHELY": "2",
                                    "POTAGY": "0",
                                    "KLIMAS": "n",
                                    "SZALLAS_FK": "3",
                                    "Legutolsó 5 foglalás": "2"
                                },
                                {
                                    "SZOBA_ID": "23",
                                    "SZOBA_SZAMA": "7",
                                    "FEROHELY": "2",
                                    "POTAGY": "0",
                                    "KLIMAS": "n",
                                    "SZALLAS_FK": "3",
                                    "Legutolsó 5 foglalás": "1"
                                },
                                {
                                    "SZOBA_ID": "23",
                                    "SZOBA_SZAMA": "7",
                                    "FEROHELY": "2",
                                    "POTAGY": "0",
                                    "KLIMAS": "n",
                                    "SZALLAS_FK": "3",
                                    "Legutolsó 5 foglalás": "1"
                                },
                                {
                                    "SZOBA_ID": "24",
                                    "SZOBA_SZAMA": "8",
                                    "FEROHELY": "4",
                                    "POTAGY": "1",
                                    "KLIMAS": "i",
                                    "SZALLAS_FK": "3",
                                    "Legutolsó 5 foglalás": "1"
                                },
                                {
                                    "SZOBA_ID": "24",
                                    "SZOBA_SZAMA": "8",
                                    "FEROHELY": "4",
                                    "POTAGY": "1",
                                    "KLIMAS": "i",
                                    "SZALLAS_FK": "3",
                                    "Legutolsó 5 foglalás": "2"
                                },
                                {
                                    "SZOBA_ID": "24",
                                    "SZOBA_SZAMA": "8",
                                    "FEROHELY": "4",
                                    "POTAGY": "1",
                                    "KLIMAS": "i",
                                    "SZALLAS_FK": "3",
                                    "Legutolsó 5 foglalás": "3"
                                },
                                {
                                    "SZOBA_ID": "25",
                                    "SZOBA_SZAMA": "1",
                                    "FEROHELY": "3",
                                    "POTAGY": "1",
                                    "KLIMAS": "n",
                                    "SZALLAS_FK": "4",
                                    "Legutolsó 5 foglalás": "3"
                                },
                                {
                                    "SZOBA_ID": "25",
                                    "SZOBA_SZAMA": "1",
                                    "FEROHELY": "3",
                                    "POTAGY": "1",
                                    "KLIMAS": "n",
                                    "SZALLAS_FK": "4",
                                    "Legutolsó 5 foglalás": "3"
                                },
                                {
                                    "SZOBA_ID": "26",
                                    "SZOBA_SZAMA": "2",
                                    "FEROHELY": "2",
                                    "POTAGY": "1",
                                    "KLIMAS": "i",
                                    "SZALLAS_FK": "4",
                                    "Legutolsó 5 foglalás": "3"
                                },
                                {
                                    "SZOBA_ID": "26",
                                    "SZOBA_SZAMA": "2",
                                    "FEROHELY": "2",
                                    "POTAGY": "1",
                                    "KLIMAS": "i",
                                    "SZALLAS_FK": "4",
                                    "Legutolsó 5 foglalás": "2"
                                },
                                {
                                    "SZOBA_ID": "27",
                                    "SZOBA_SZAMA": "3",
                                    "FEROHELY": "3",
                                    "POTAGY": "1",
                                    "KLIMAS": "n",
                                    "SZALLAS_FK": "4",
                                    "Legutolsó 5 foglalás": "4"
                                },
                                {
                                    "SZOBA_ID": "27",
                                    "SZOBA_SZAMA": "3",
                                    "FEROHELY": "3",
                                    "POTAGY": "1",
                                    "KLIMAS": "n",
                                    "SZALLAS_FK": "4",
                                    "Legutolsó 5 foglalás": "3"
                                },
                                {
                                    "SZOBA_ID": "27",
                                    "SZOBA_SZAMA": "3",
                                    "FEROHELY": "3",
                                    "POTAGY": "1",
                                    "KLIMAS": "n",
                                    "SZALLAS_FK": "4",
                                    "Legutolsó 5 foglalás": "3"
                                },
                                {
                                    "SZOBA_ID": "27",
                                    "SZOBA_SZAMA": "3",
                                    "FEROHELY": "3",
                                    "POTAGY": "1",
                                    "KLIMAS": "n",
                                    "SZALLAS_FK": "4",
                                    "Legutolsó 5 foglalás": "3"
                                },
                                {
                                    "SZOBA_ID": "27",
                                    "SZOBA_SZAMA": "3",
                                    "FEROHELY": "3",
                                    "POTAGY": "1",
                                    "KLIMAS": "n",
                                    "SZALLAS_FK": "4",
                                    "Legutolsó 5 foglalás": "3"
                                },
                                {
                                    "SZOBA_ID": "27",
                                    "SZOBA_SZAMA": "3",
                                    "FEROHELY": "3",
                                    "POTAGY": "1",
                                    "KLIMAS": "n",
                                    "SZALLAS_FK": "4",
                                    "Legutolsó 5 foglalás": "3"
                                },
                                {
                                    "SZOBA_ID": "27",
                                    "SZOBA_SZAMA": "3",
                                    "FEROHELY": "3",
                                    "POTAGY": "1",
                                    "KLIMAS": "n",
                                    "SZALLAS_FK": "4",
                                    "Legutolsó 5 foglalás": "3"
                                },
                                {
                                    "SZOBA_ID": "28",
                                    "SZOBA_SZAMA": "4",
                                    "FEROHELY": "2",
                                    "POTAGY": "1",
                                    "KLIMAS": "i",
                                    "SZALLAS_FK": "4",
                                    "Legutolsó 5 foglalás": "1"
                                },
                                {
                                    "SZOBA_ID": "28",
                                    "SZOBA_SZAMA": "4",
                                    "FEROHELY": "2",
                                    "POTAGY": "1",
                                    "KLIMAS": "i",
                                    "SZALLAS_FK": "4",
                                    "Legutolsó 5 foglalás": "1"
                                },
                                {
                                    "SZOBA_ID": "28",
                                    "SZOBA_SZAMA": "4",
                                    "FEROHELY": "2",
                                    "POTAGY": "1",
                                    "KLIMAS": "i",
                                    "SZALLAS_FK": "4",
                                    "Legutolsó 5 foglalás": "1"
                                },
                                {
                                    "SZOBA_ID": "28",
                                    "SZOBA_SZAMA": "4",
                                    "FEROHELY": "2",
                                    "POTAGY": "1",
                                    "KLIMAS": "i",
                                    "SZALLAS_FK": "4",
                                    "Legutolsó 5 foglalás": "1"
                                },
                                {
                                    "SZOBA_ID": "28",
                                    "SZOBA_SZAMA": "4",
                                    "FEROHELY": "2",
                                    "POTAGY": "1",
                                    "KLIMAS": "i",
                                    "SZALLAS_FK": "4",
                                    "Legutolsó 5 foglalás": "2"
                                },
                                {
                                    "SZOBA_ID": "28",
                                    "SZOBA_SZAMA": "4",
                                    "FEROHELY": "2",
                                    "POTAGY": "1",
                                    "KLIMAS": "i",
                                    "SZALLAS_FK": "4",
                                    "Legutolsó 5 foglalás": "2"
                                },
                                {
                                    "SZOBA_ID": "29",
                                    "SZOBA_SZAMA": "5",
                                    "FEROHELY": "2",
                                    "POTAGY": "0",
                                    "KLIMAS": "n",
                                    "SZALLAS_FK": "4",
                                    "Legutolsó 5 foglalás": "2"
                                },
                                {
                                    "SZOBA_ID": "29",
                                    "SZOBA_SZAMA": "5",
                                    "FEROHELY": "2",
                                    "POTAGY": "0",
                                    "KLIMAS": "n",
                                    "SZALLAS_FK": "4",
                                    "Legutolsó 5 foglalás": "2"
                                },
                                {
                                    "SZOBA_ID": "29",
                                    "SZOBA_SZAMA": "5",
                                    "FEROHELY": "2",
                                    "POTAGY": "0",
                                    "KLIMAS": "n",
                                    "SZALLAS_FK": "4",
                                    "Legutolsó 5 foglalás": "2"
                                },
                                {
                                    "SZOBA_ID": "29",
                                    "SZOBA_SZAMA": "5",
                                    "FEROHELY": "2",
                                    "POTAGY": "0",
                                    "KLIMAS": "n",
                                    "SZALLAS_FK": "4",
                                    "Legutolsó 5 foglalás": "2"
                                },
                                {
                                    "SZOBA_ID": "29",
                                    "SZOBA_SZAMA": "5",
                                    "FEROHELY": "2",
                                    "POTAGY": "0",
                                    "KLIMAS": "n",
                                    "SZALLAS_FK": "4",
                                    "Legutolsó 5 foglalás": "2"
                                },
                                {
                                    "SZOBA_ID": "29",
                                    "SZOBA_SZAMA": "5",
                                    "FEROHELY": "2",
                                    "POTAGY": "0",
                                    "KLIMAS": "n",
                                    "SZALLAS_FK": "4",
                                    "Legutolsó 5 foglalás": "1"
                                },
                                {
                                    "SZOBA_ID": "30",
                                    "SZOBA_SZAMA": "6",
                                    "FEROHELY": "3",
                                    "POTAGY": "1",
                                    "KLIMAS": "i",
                                    "SZALLAS_FK": "4",
                                    "Legutolsó 5 foglalás": "2"
                                },
                                {
                                    "SZOBA_ID": "30",
                                    "SZOBA_SZAMA": "6",
                                    "FEROHELY": "3",
                                    "POTAGY": "1",
                                    "KLIMAS": "i",
                                    "SZALLAS_FK": "4",
                                    "Legutolsó 5 foglalás": "2"
                                },
                                {
                                    "SZOBA_ID": "30",
                                    "SZOBA_SZAMA": "6",
                                    "FEROHELY": "3",
                                    "POTAGY": "1",
                                    "KLIMAS": "i",
                                    "SZALLAS_FK": "4",
                                    "Legutolsó 5 foglalás": "2"
                                },
                                {
                                    "SZOBA_ID": "31",
                                    "SZOBA_SZAMA": "7",
                                    "FEROHELY": "3",
                                    "POTAGY": "1",
                                    "KLIMAS": "i",
                                    "SZALLAS_FK": "4",
                                    "Legutolsó 5 foglalás": "4"
                                },
                                {
                                    "SZOBA_ID": "31",
                                    "SZOBA_SZAMA": "7",
                                    "FEROHELY": "3",
                                    "POTAGY": "1",
                                    "KLIMAS": "i",
                                    "SZALLAS_FK": "4",
                                    "Legutolsó 5 foglalás": "4"
                                },
                                {
                                    "SZOBA_ID": "31",
                                    "SZOBA_SZAMA": "7",
                                    "FEROHELY": "3",
                                    "POTAGY": "1",
                                    "KLIMAS": "i",
                                    "SZALLAS_FK": "4",
                                    "Legutolsó 5 foglalás": "4"
                                },
                                {
                                    "SZOBA_ID": "32",
                                    "SZOBA_SZAMA": "8",
                                    "FEROHELY": "2",
                                    "POTAGY": "0",
                                    "KLIMAS": "i",
                                    "SZALLAS_FK": "4",
                                    "Legutolsó 5 foglalás": "2"
                                },
                                {
                                    "SZOBA_ID": "33",
                                    "SZOBA_SZAMA": "9",
                                    "FEROHELY": "2",
                                    "POTAGY": "2",
                                    "KLIMAS": "i",
                                    "SZALLAS_FK": "4",
                                    "Legutolsó 5 foglalás": "4"
                                },
                                {
                                    "SZOBA_ID": "33",
                                    "SZOBA_SZAMA": "9",
                                    "FEROHELY": "2",
                                    "POTAGY": "2",
                                    "KLIMAS": "i",
                                    "SZALLAS_FK": "4",
                                    "Legutolsó 5 foglalás": "3"
                                },
                                {
                                    "SZOBA_ID": "33",
                                    "SZOBA_SZAMA": "9",
                                    "FEROHELY": "2",
                                    "POTAGY": "2",
                                    "KLIMAS": "i",
                                    "SZALLAS_FK": "4",
                                    "Legutolsó 5 foglalás": "3"
                                },
                                {
                                    "SZOBA_ID": "33",
                                    "SZOBA_SZAMA": "9",
                                    "FEROHELY": "2",
                                    "POTAGY": "2",
                                    "KLIMAS": "i",
                                    "SZALLAS_FK": "4",
                                    "Legutolsó 5 foglalás": "3"
                                },
                                {
                                    "SZOBA_ID": "33",
                                    "SZOBA_SZAMA": "9",
                                    "FEROHELY": "2",
                                    "POTAGY": "2",
                                    "KLIMAS": "i",
                                    "SZALLAS_FK": "4",
                                    "Legutolsó 5 foglalás": "2"
                                },
                                {
                                    "SZOBA_ID": "33",
                                    "SZOBA_SZAMA": "9",
                                    "FEROHELY": "2",
                                    "POTAGY": "2",
                                    "KLIMAS": "i",
                                    "SZALLAS_FK": "4",
                                    "Legutolsó 5 foglalás": "2"
                                },
                                {
                                    "SZOBA_ID": "34",
                                    "SZOBA_SZAMA": "10",
                                    "FEROHELY": "3",
                                    "POTAGY": "1",
                                    "KLIMAS": "i",
                                    "SZALLAS_FK": "4",
                                    "Legutolsó 5 foglalás": "2"
                                },
                                {
                                    "SZOBA_ID": "34",
                                    "SZOBA_SZAMA": "10",
                                    "FEROHELY": "3",
                                    "POTAGY": "1",
                                    "KLIMAS": "i",
                                    "SZALLAS_FK": "4",
                                    "Legutolsó 5 foglalás": "1"
                                },
                                {
                                    "SZOBA_ID": "34",
                                    "SZOBA_SZAMA": "10",
                                    "FEROHELY": "3",
                                    "POTAGY": "1",
                                    "KLIMAS": "i",
                                    "SZALLAS_FK": "4",
                                    "Legutolsó 5 foglalás": "1"
                                },
                                {
                                    "SZOBA_ID": "34",
                                    "SZOBA_SZAMA": "10",
                                    "FEROHELY": "3",
                                    "POTAGY": "1",
                                    "KLIMAS": "i",
                                    "SZALLAS_FK": "4",
                                    "Legutolsó 5 foglalás": "2"
                                },
                                {
                                    "SZOBA_ID": "35",
                                    "SZOBA_SZAMA": "11",
                                    "FEROHELY": "3",
                                    "POTAGY": "0",
                                    "KLIMAS": "i",
                                    "SZALLAS_FK": "4",
                                    "Legutolsó 5 foglalás": "3"
                                },
                                {
                                    "SZOBA_ID": "35",
                                    "SZOBA_SZAMA": "11",
                                    "FEROHELY": "3",
                                    "POTAGY": "0",
                                    "KLIMAS": "i",
                                    "SZALLAS_FK": "4",
                                    "Legutolsó 5 foglalás": "2"
                                },
                                {
                                    "SZOBA_ID": "35",
                                    "SZOBA_SZAMA": "11",
                                    "FEROHELY": "3",
                                    "POTAGY": "0",
                                    "KLIMAS": "i",
                                    "SZALLAS_FK": "4",
                                    "Legutolsó 5 foglalás": "2"
                                },
                                {
                                    "SZOBA_ID": "35",
                                    "SZOBA_SZAMA": "11",
                                    "FEROHELY": "3",
                                    "POTAGY": "0",
                                    "KLIMAS": "i",
                                    "SZALLAS_FK": "4",
                                    "Legutolsó 5 foglalás": "2"
                                },
                                {
                                    "SZOBA_ID": "35",
                                    "SZOBA_SZAMA": "11",
                                    "FEROHELY": "3",
                                    "POTAGY": "0",
                                    "KLIMAS": "i",
                                    "SZALLAS_FK": "4",
                                    "Legutolsó 5 foglalás": "2"
                                },
                                {
                                    "SZOBA_ID": "35",
                                    "SZOBA_SZAMA": "11",
                                    "FEROHELY": "3",
                                    "POTAGY": "0",
                                    "KLIMAS": "i",
                                    "SZALLAS_FK": "4",
                                    "Legutolsó 5 foglalás": "2"
                                },
                                {
                                    "SZOBA_ID": "35",
                                    "SZOBA_SZAMA": "11",
                                    "FEROHELY": "3",
                                    "POTAGY": "0",
                                    "KLIMAS": "i",
                                    "SZALLAS_FK": "4",
                                    "Legutolsó 5 foglalás": "2"
                                },
                                {
                                    "SZOBA_ID": "35",
                                    "SZOBA_SZAMA": "11",
                                    "FEROHELY": "3",
                                    "POTAGY": "0",
                                    "KLIMAS": "i",
                                    "SZALLAS_FK": "4",
                                    "Legutolsó 5 foglalás": "2"
                                },
                                {
                                    "SZOBA_ID": "35",
                                    "SZOBA_SZAMA": "11",
                                    "FEROHELY": "3",
                                    "POTAGY": "0",
                                    "KLIMAS": "i",
                                    "SZALLAS_FK": "4",
                                    "Legutolsó 5 foglalás": "2"
                                },
                                {
                                    "SZOBA_ID": "36",
                                    "SZOBA_SZAMA": "12",
                                    "FEROHELY": "3",
                                    "POTAGY": "2",
                                    "KLIMAS": "i",
                                    "SZALLAS_FK": "4",
                                    "Legutolsó 5 foglalás": "5"
                                },
                                {
                                    "SZOBA_ID": "36",
                                    "SZOBA_SZAMA": "12",
                                    "FEROHELY": "3",
                                    "POTAGY": "2",
                                    "KLIMAS": "i",
                                    "SZALLAS_FK": "4",
                                    "Legutolsó 5 foglalás": "4"
                                },
                                {
                                    "SZOBA_ID": "36",
                                    "SZOBA_SZAMA": "12",
                                    "FEROHELY": "3",
                                    "POTAGY": "2",
                                    "KLIMAS": "i",
                                    "SZALLAS_FK": "4",
                                    "Legutolsó 5 foglalás": "4"
                                },
                                {
                                    "SZOBA_ID": "36",
                                    "SZOBA_SZAMA": "12",
                                    "FEROHELY": "3",
                                    "POTAGY": "2",
                                    "KLIMAS": "i",
                                    "SZALLAS_FK": "4",
                                    "Legutolsó 5 foglalás": "4"
                                },
                                {
                                    "SZOBA_ID": "36",
                                    "SZOBA_SZAMA": "12",
                                    "FEROHELY": "3",
                                    "POTAGY": "2",
                                    "KLIMAS": "i",
                                    "SZALLAS_FK": "4",
                                    "Legutolsó 5 foglalás": "4"
                                },
                                {
                                    "SZOBA_ID": "36",
                                    "SZOBA_SZAMA": "12",
                                    "FEROHELY": "3",
                                    "POTAGY": "2",
                                    "KLIMAS": "i",
                                    "SZALLAS_FK": "4",
                                    "Legutolsó 5 foglalás": "4"
                                },
                                {
                                    "SZOBA_ID": "37",
                                    "SZOBA_SZAMA": "13",
                                    "FEROHELY": "2",
                                    "POTAGY": "1",
                                    "KLIMAS": "i",
                                    "SZALLAS_FK": "4",
                                    "Legutolsó 5 foglalás": "2"
                                },
                                {
                                    "SZOBA_ID": "37",
                                    "SZOBA_SZAMA": "13",
                                    "FEROHELY": "2",
                                    "POTAGY": "1",
                                    "KLIMAS": "i",
                                    "SZALLAS_FK": "4",
                                    "Legutolsó 5 foglalás": "1"
                                },
                                {
                                    "SZOBA_ID": "37",
                                    "SZOBA_SZAMA": "13",
                                    "FEROHELY": "2",
                                    "POTAGY": "1",
                                    "KLIMAS": "i",
                                    "SZALLAS_FK": "4",
                                    "Legutolsó 5 foglalás": "1"
                                },
                                {
                                    "SZOBA_ID": "38",
                                    "SZOBA_SZAMA": "14",
                                    "FEROHELY": "2",
                                    "POTAGY": "1",
                                    "KLIMAS": "i",
                                    "SZALLAS_FK": "4",
                                    "Legutolsó 5 foglalás": "3"
                                },
                                {
                                    "SZOBA_ID": "38",
                                    "SZOBA_SZAMA": "14",
                                    "FEROHELY": "2",
                                    "POTAGY": "1",
                                    "KLIMAS": "i",
                                    "SZALLAS_FK": "4",
                                    "Legutolsó 5 foglalás": "3"
                                },
                                {
                                    "SZOBA_ID": "38",
                                    "SZOBA_SZAMA": "14",
                                    "FEROHELY": "2",
                                    "POTAGY": "1",
                                    "KLIMAS": "i",
                                    "SZALLAS_FK": "4",
                                    "Legutolsó 5 foglalás": "3"
                                },
                                {
                                    "SZOBA_ID": "38",
                                    "SZOBA_SZAMA": "14",
                                    "FEROHELY": "2",
                                    "POTAGY": "1",
                                    "KLIMAS": "i",
                                    "SZALLAS_FK": "4",
                                    "Legutolsó 5 foglalás": "3"
                                },
                                {
                                    "SZOBA_ID": "38",
                                    "SZOBA_SZAMA": "14",
                                    "FEROHELY": "2",
                                    "POTAGY": "1",
                                    "KLIMAS": "i",
                                    "SZALLAS_FK": "4",
                                    "Legutolsó 5 foglalás": "2"
                                },
                                {
                                    "SZOBA_ID": "38",
                                    "SZOBA_SZAMA": "14",
                                    "FEROHELY": "2",
                                    "POTAGY": "1",
                                    "KLIMAS": "i",
                                    "SZALLAS_FK": "4",
                                    "Legutolsó 5 foglalás": "2"
                                },
                                {
                                    "SZOBA_ID": "38",
                                    "SZOBA_SZAMA": "14",
                                    "FEROHELY": "2",
                                    "POTAGY": "1",
                                    "KLIMAS": "i",
                                    "SZALLAS_FK": "4",
                                    "Legutolsó 5 foglalás": "2"
                                },
                                {
                                    "SZOBA_ID": "38",
                                    "SZOBA_SZAMA": "14",
                                    "FEROHELY": "2",
                                    "POTAGY": "1",
                                    "KLIMAS": "i",
                                    "SZALLAS_FK": "4",
                                    "Legutolsó 5 foglalás": "2"
                                },
                                {
                                    "SZOBA_ID": "39",
                                    "SZOBA_SZAMA": "15",
                                    "FEROHELY": "2",
                                    "POTAGY": "0",
                                    "KLIMAS": "i",
                                    "SZALLAS_FK": "4",
                                    "Legutolsó 5 foglalás": "1"
                                },
                                {
                                    "SZOBA_ID": "39",
                                    "SZOBA_SZAMA": "15",
                                    "FEROHELY": "2",
                                    "POTAGY": "0",
                                    "KLIMAS": "i",
                                    "SZALLAS_FK": "4",
                                    "Legutolsó 5 foglalás": "1"
                                },
                                {
                                    "SZOBA_ID": "39",
                                    "SZOBA_SZAMA": "15",
                                    "FEROHELY": "2",
                                    "POTAGY": "0",
                                    "KLIMAS": "i",
                                    "SZALLAS_FK": "4",
                                    "Legutolsó 5 foglalás": "1"
                                },
                                {
                                    "SZOBA_ID": "39",
                                    "SZOBA_SZAMA": "15",
                                    "FEROHELY": "2",
                                    "POTAGY": "0",
                                    "KLIMAS": "i",
                                    "SZALLAS_FK": "4",
                                    "Legutolsó 5 foglalás": "1"
                                },
                                {
                                    "SZOBA_ID": "39",
                                    "SZOBA_SZAMA": "15",
                                    "FEROHELY": "2",
                                    "POTAGY": "0",
                                    "KLIMAS": "i",
                                    "SZALLAS_FK": "4",
                                    "Legutolsó 5 foglalás": "1"
                                },
                                {
                                    "SZOBA_ID": "39",
                                    "SZOBA_SZAMA": "15",
                                    "FEROHELY": "2",
                                    "POTAGY": "0",
                                    "KLIMAS": "i",
                                    "SZALLAS_FK": "4",
                                    "Legutolsó 5 foglalás": "1"
                                },
                                {
                                    "SZOBA_ID": "39",
                                    "SZOBA_SZAMA": "15",
                                    "FEROHELY": "2",
                                    "POTAGY": "0",
                                    "KLIMAS": "i",
                                    "SZALLAS_FK": "4",
                                    "Legutolsó 5 foglalás": "2"
                                },
                                {
                                    "SZOBA_ID": "40",
                                    "SZOBA_SZAMA": "1",
                                    "FEROHELY": "3",
                                    "POTAGY": "0",
                                    "KLIMAS": "i",
                                    "SZALLAS_FK": "5",
                                    "Legutolsó 5 foglalás": "3"
                                },
                                {
                                    "SZOBA_ID": "40",
                                    "SZOBA_SZAMA": "1",
                                    "FEROHELY": "3",
                                    "POTAGY": "0",
                                    "KLIMAS": "i",
                                    "SZALLAS_FK": "5",
                                    "Legutolsó 5 foglalás": "3"
                                },
                                {
                                    "SZOBA_ID": "40",
                                    "SZOBA_SZAMA": "1",
                                    "FEROHELY": "3",
                                    "POTAGY": "0",
                                    "KLIMAS": "i",
                                    "SZALLAS_FK": "5",
                                    "Legutolsó 5 foglalás": "2"
                                },
                                {
                                    "SZOBA_ID": "40",
                                    "SZOBA_SZAMA": "1",
                                    "FEROHELY": "3",
                                    "POTAGY": "0",
                                    "KLIMAS": "i",
                                    "SZALLAS_FK": "5",
                                    "Legutolsó 5 foglalás": "2"
                                },
                                {
                                    "SZOBA_ID": "41",
                                    "SZOBA_SZAMA": "2",
                                    "FEROHELY": "3",
                                    "POTAGY": "0",
                                    "KLIMAS": "n",
                                    "SZALLAS_FK": "5",
                                    "Legutolsó 5 foglalás": "3"
                                },
                                {
                                    "SZOBA_ID": "41",
                                    "SZOBA_SZAMA": "2",
                                    "FEROHELY": "3",
                                    "POTAGY": "0",
                                    "KLIMAS": "n",
                                    "SZALLAS_FK": "5",
                                    "Legutolsó 5 foglalás": "3"
                                },
                                {
                                    "SZOBA_ID": "42",
                                    "SZOBA_SZAMA": "3",
                                    "FEROHELY": "2",
                                    "POTAGY": "1",
                                    "KLIMAS": "i",
                                    "SZALLAS_FK": "5",
                                    "Legutolsó 5 foglalás": "2"
                                },
                                {
                                    "SZOBA_ID": "42",
                                    "SZOBA_SZAMA": "3",
                                    "FEROHELY": "2",
                                    "POTAGY": "1",
                                    "KLIMAS": "i",
                                    "SZALLAS_FK": "5",
                                    "Legutolsó 5 foglalás": "2"
                                },
                                {
                                    "SZOBA_ID": "42",
                                    "SZOBA_SZAMA": "3",
                                    "FEROHELY": "2",
                                    "POTAGY": "1",
                                    "KLIMAS": "i",
                                    "SZALLAS_FK": "5",
                                    "Legutolsó 5 foglalás": "2"
                                },
                                {
                                    "SZOBA_ID": "42",
                                    "SZOBA_SZAMA": "3",
                                    "FEROHELY": "2",
                                    "POTAGY": "1",
                                    "KLIMAS": "i",
                                    "SZALLAS_FK": "5",
                                    "Legutolsó 5 foglalás": "2"
                                },
                                {
                                    "SZOBA_ID": "42",
                                    "SZOBA_SZAMA": "3",
                                    "FEROHELY": "2",
                                    "POTAGY": "1",
                                    "KLIMAS": "i",
                                    "SZALLAS_FK": "5",
                                    "Legutolsó 5 foglalás": "2"
                                },
                                {
                                    "SZOBA_ID": "42",
                                    "SZOBA_SZAMA": "3",
                                    "FEROHELY": "2",
                                    "POTAGY": "1",
                                    "KLIMAS": "i",
                                    "SZALLAS_FK": "5",
                                    "Legutolsó 5 foglalás": "2"
                                },
                                {
                                    "SZOBA_ID": "43",
                                    "SZOBA_SZAMA": "4",
                                    "FEROHELY": "3",
                                    "POTAGY": "0",
                                    "KLIMAS": "i",
                                    "SZALLAS_FK": "5",
                                    "Legutolsó 5 foglalás": "3"
                                },
                                {
                                    "SZOBA_ID": "43",
                                    "SZOBA_SZAMA": "4",
                                    "FEROHELY": "3",
                                    "POTAGY": "0",
                                    "KLIMAS": "i",
                                    "SZALLAS_FK": "5",
                                    "Legutolsó 5 foglalás": "2"
                                },
                                {
                                    "SZOBA_ID": "43",
                                    "SZOBA_SZAMA": "4",
                                    "FEROHELY": "3",
                                    "POTAGY": "0",
                                    "KLIMAS": "i",
                                    "SZALLAS_FK": "5",
                                    "Legutolsó 5 foglalás": "2"
                                },
                                {
                                    "SZOBA_ID": "43",
                                    "SZOBA_SZAMA": "4",
                                    "FEROHELY": "3",
                                    "POTAGY": "0",
                                    "KLIMAS": "i",
                                    "SZALLAS_FK": "5",
                                    "Legutolsó 5 foglalás": "2"
                                },
                                {
                                    "SZOBA_ID": "43",
                                    "SZOBA_SZAMA": "4",
                                    "FEROHELY": "3",
                                    "POTAGY": "0",
                                    "KLIMAS": "i",
                                    "SZALLAS_FK": "5",
                                    "Legutolsó 5 foglalás": "2"
                                },
                                {
                                    "SZOBA_ID": "43",
                                    "SZOBA_SZAMA": "4",
                                    "FEROHELY": "3",
                                    "POTAGY": "0",
                                    "KLIMAS": "i",
                                    "SZALLAS_FK": "5",
                                    "Legutolsó 5 foglalás": "2"
                                },
                                {
                                    "SZOBA_ID": "43",
                                    "SZOBA_SZAMA": "4",
                                    "FEROHELY": "3",
                                    "POTAGY": "0",
                                    "KLIMAS": "i",
                                    "SZALLAS_FK": "5",
                                    "Legutolsó 5 foglalás": "2"
                                },
                                {
                                    "SZOBA_ID": "43",
                                    "SZOBA_SZAMA": "4",
                                    "FEROHELY": "3",
                                    "POTAGY": "0",
                                    "KLIMAS": "i",
                                    "SZALLAS_FK": "5",
                                    "Legutolsó 5 foglalás": "2"
                                },
                                {
                                    "SZOBA_ID": "44",
                                    "SZOBA_SZAMA": "5",
                                    "FEROHELY": "3",
                                    "POTAGY": "0",
                                    "KLIMAS": "i",
                                    "SZALLAS_FK": "5",
                                    "Legutolsó 5 foglalás": "3"
                                },
                                {
                                    "SZOBA_ID": "44",
                                    "SZOBA_SZAMA": "5",
                                    "FEROHELY": "3",
                                    "POTAGY": "0",
                                    "KLIMAS": "i",
                                    "SZALLAS_FK": "5",
                                    "Legutolsó 5 foglalás": "3"
                                },
                                {
                                    "SZOBA_ID": "44",
                                    "SZOBA_SZAMA": "5",
                                    "FEROHELY": "3",
                                    "POTAGY": "0",
                                    "KLIMAS": "i",
                                    "SZALLAS_FK": "5",
                                    "Legutolsó 5 foglalás": "3"
                                },
                                {
                                    "SZOBA_ID": "44",
                                    "SZOBA_SZAMA": "5",
                                    "FEROHELY": "3",
                                    "POTAGY": "0",
                                    "KLIMAS": "i",
                                    "SZALLAS_FK": "5",
                                    "Legutolsó 5 foglalás": "3"
                                },
                                {
                                    "SZOBA_ID": "44",
                                    "SZOBA_SZAMA": "5",
                                    "FEROHELY": "3",
                                    "POTAGY": "0",
                                    "KLIMAS": "i",
                                    "SZALLAS_FK": "5",
                                    "Legutolsó 5 foglalás": "3"
                                },
                                {
                                    "SZOBA_ID": "44",
                                    "SZOBA_SZAMA": "5",
                                    "FEROHELY": "3",
                                    "POTAGY": "0",
                                    "KLIMAS": "i",
                                    "SZALLAS_FK": "5",
                                    "Legutolsó 5 foglalás": "3"
                                },
                                {
                                    "SZOBA_ID": "45",
                                    "SZOBA_SZAMA": "6",
                                    "FEROHELY": "2",
                                    "POTAGY": "0",
                                    "KLIMAS": "n",
                                    "SZALLAS_FK": "5",
                                    "Legutolsó 5 foglalás": "2"
                                },
                                {
                                    "SZOBA_ID": "45",
                                    "SZOBA_SZAMA": "6",
                                    "FEROHELY": "2",
                                    "POTAGY": "0",
                                    "KLIMAS": "n",
                                    "SZALLAS_FK": "5",
                                    "Legutolsó 5 foglalás": "2"
                                },
                                {
                                    "SZOBA_ID": "45",
                                    "SZOBA_SZAMA": "6",
                                    "FEROHELY": "2",
                                    "POTAGY": "0",
                                    "KLIMAS": "n",
                                    "SZALLAS_FK": "5",
                                    "Legutolsó 5 foglalás": "1"
                                },
                                {
                                    "SZOBA_ID": "45",
                                    "SZOBA_SZAMA": "6",
                                    "FEROHELY": "2",
                                    "POTAGY": "0",
                                    "KLIMAS": "n",
                                    "SZALLAS_FK": "5",
                                    "Legutolsó 5 foglalás": "1"
                                },
                                {
                                    "SZOBA_ID": "45",
                                    "SZOBA_SZAMA": "6",
                                    "FEROHELY": "2",
                                    "POTAGY": "0",
                                    "KLIMAS": "n",
                                    "SZALLAS_FK": "5",
                                    "Legutolsó 5 foglalás": "1"
                                },
                                {
                                    "SZOBA_ID": "46",
                                    "SZOBA_SZAMA": "7",
                                    "FEROHELY": "3",
                                    "POTAGY": "0",
                                    "KLIMAS": "i",
                                    "SZALLAS_FK": "5",
                                    "Legutolsó 5 foglalás": "2"
                                },
                                {
                                    "SZOBA_ID": "46",
                                    "SZOBA_SZAMA": "7",
                                    "FEROHELY": "3",
                                    "POTAGY": "0",
                                    "KLIMAS": "i",
                                    "SZALLAS_FK": "5",
                                    "Legutolsó 5 foglalás": "1"
                                },
                                {
                                    "SZOBA_ID": "46",
                                    "SZOBA_SZAMA": "7",
                                    "FEROHELY": "3",
                                    "POTAGY": "0",
                                    "KLIMAS": "i",
                                    "SZALLAS_FK": "5",
                                    "Legutolsó 5 foglalás": "1"
                                },
                                {
                                    "SZOBA_ID": "46",
                                    "SZOBA_SZAMA": "7",
                                    "FEROHELY": "3",
                                    "POTAGY": "0",
                                    "KLIMAS": "i",
                                    "SZALLAS_FK": "5",
                                    "Legutolsó 5 foglalás": "2"
                                },
                                {
                                    "SZOBA_ID": "47",
                                    "SZOBA_SZAMA": "8",
                                    "FEROHELY": "2",
                                    "POTAGY": "0",
                                    "KLIMAS": "i",
                                    "SZALLAS_FK": "5",
                                    "Legutolsó 5 foglalás": "1"
                                },
                                {
                                    "SZOBA_ID": "47",
                                    "SZOBA_SZAMA": "8",
                                    "FEROHELY": "2",
                                    "POTAGY": "0",
                                    "KLIMAS": "i",
                                    "SZALLAS_FK": "5",
                                    "Legutolsó 5 foglalás": "1"
                                },
                                {
                                    "SZOBA_ID": "48",
                                    "SZOBA_SZAMA": "9",
                                    "FEROHELY": "3",
                                    "POTAGY": "0",
                                    "KLIMAS": "i",
                                    "SZALLAS_FK": "5",
                                    "Legutolsó 5 foglalás": "3"
                                },
                                {
                                    "SZOBA_ID": "48",
                                    "SZOBA_SZAMA": "9",
                                    "FEROHELY": "3",
                                    "POTAGY": "0",
                                    "KLIMAS": "i",
                                    "SZALLAS_FK": "5",
                                    "Legutolsó 5 foglalás": "3"
                                },
                                {
                                    "SZOBA_ID": "48",
                                    "SZOBA_SZAMA": "9",
                                    "FEROHELY": "3",
                                    "POTAGY": "0",
                                    "KLIMAS": "i",
                                    "SZALLAS_FK": "5",
                                    "Legutolsó 5 foglalás": "3"
                                },
                                {
                                    "SZOBA_ID": "48",
                                    "SZOBA_SZAMA": "9",
                                    "FEROHELY": "3",
                                    "POTAGY": "0",
                                    "KLIMAS": "i",
                                    "SZALLAS_FK": "5",
                                    "Legutolsó 5 foglalás": "3"
                                },
                                {
                                    "SZOBA_ID": "48",
                                    "SZOBA_SZAMA": "9",
                                    "FEROHELY": "3",
                                    "POTAGY": "0",
                                    "KLIMAS": "i",
                                    "SZALLAS_FK": "5",
                                    "Legutolsó 5 foglalás": "3"
                                },
                                {
                                    "SZOBA_ID": "48",
                                    "SZOBA_SZAMA": "9",
                                    "FEROHELY": "3",
                                    "POTAGY": "0",
                                    "KLIMAS": "i",
                                    "SZALLAS_FK": "5",
                                    "Legutolsó 5 foglalás": "3"
                                },
                                {
                                    "SZOBA_ID": "48",
                                    "SZOBA_SZAMA": "9",
                                    "FEROHELY": "3",
                                    "POTAGY": "0",
                                    "KLIMAS": "i",
                                    "SZALLAS_FK": "5",
                                    "Legutolsó 5 foglalás": "3"
                                },
                                {
                                    "SZOBA_ID": "48",
                                    "SZOBA_SZAMA": "9",
                                    "FEROHELY": "3",
                                    "POTAGY": "0",
                                    "KLIMAS": "i",
                                    "SZALLAS_FK": "5",
                                    "Legutolsó 5 foglalás": "3"
                                },
                                {
                                    "SZOBA_ID": "48",
                                    "SZOBA_SZAMA": "9",
                                    "FEROHELY": "3",
                                    "POTAGY": "0",
                                    "KLIMAS": "i",
                                    "SZALLAS_FK": "5",
                                    "Legutolsó 5 foglalás": "2"
                                },
                                {
                                    "SZOBA_ID": "49",
                                    "SZOBA_SZAMA": "10",
                                    "FEROHELY": "3",
                                    "POTAGY": "0",
                                    "KLIMAS": "i",
                                    "SZALLAS_FK": "5",
                                    "Legutolsó 5 foglalás": "3"
                                },
                                {
                                    "SZOBA_ID": "49",
                                    "SZOBA_SZAMA": "10",
                                    "FEROHELY": "3",
                                    "POTAGY": "0",
                                    "KLIMAS": "i",
                                    "SZALLAS_FK": "5",
                                    "Legutolsó 5 foglalás": "3"
                                },
                                {
                                    "SZOBA_ID": "49",
                                    "SZOBA_SZAMA": "10",
                                    "FEROHELY": "3",
                                    "POTAGY": "0",
                                    "KLIMAS": "i",
                                    "SZALLAS_FK": "5",
                                    "Legutolsó 5 foglalás": "2"
                                },
                                {
                                    "SZOBA_ID": "49",
                                    "SZOBA_SZAMA": "10",
                                    "FEROHELY": "3",
                                    "POTAGY": "0",
                                    "KLIMAS": "i",
                                    "SZALLAS_FK": "5",
                                    "Legutolsó 5 foglalás": "2"
                                },
                                {
                                    "SZOBA_ID": "49",
                                    "SZOBA_SZAMA": "10",
                                    "FEROHELY": "3",
                                    "POTAGY": "0",
                                    "KLIMAS": "i",
                                    "SZALLAS_FK": "5",
                                    "Legutolsó 5 foglalás": "2"
                                },
                                {
                                    "SZOBA_ID": "49",
                                    "SZOBA_SZAMA": "10",
                                    "FEROHELY": "3",
                                    "POTAGY": "0",
                                    "KLIMAS": "i",
                                    "SZALLAS_FK": "5",
                                    "Legutolsó 5 foglalás": "2"
                                },
                                {
                                    "SZOBA_ID": "49",
                                    "SZOBA_SZAMA": "10",
                                    "FEROHELY": "3",
                                    "POTAGY": "0",
                                    "KLIMAS": "i",
                                    "SZALLAS_FK": "5",
                                    "Legutolsó 5 foglalás": "2"
                                },
                                {
                                    "SZOBA_ID": "50",
                                    "SZOBA_SZAMA": "1",
                                    "FEROHELY": "2",
                                    "POTAGY": "0",
                                    "KLIMAS": "n",
                                    "SZALLAS_FK": "6",
                                    "Legutolsó 5 foglalás": "1"
                                },
                                {
                                    "SZOBA_ID": "50",
                                    "SZOBA_SZAMA": "1",
                                    "FEROHELY": "2",
                                    "POTAGY": "0",
                                    "KLIMAS": "n",
                                    "SZALLAS_FK": "6",
                                    "Legutolsó 5 foglalás": "1"
                                },
                                {
                                    "SZOBA_ID": "50",
                                    "SZOBA_SZAMA": "1",
                                    "FEROHELY": "2",
                                    "POTAGY": "0",
                                    "KLIMAS": "n",
                                    "SZALLAS_FK": "6",
                                    "Legutolsó 5 foglalás": "1"
                                },
                                {
                                    "SZOBA_ID": "50",
                                    "SZOBA_SZAMA": "1",
                                    "FEROHELY": "2",
                                    "POTAGY": "0",
                                    "KLIMAS": "n",
                                    "SZALLAS_FK": "6",
                                    "Legutolsó 5 foglalás": "1"
                                },
                                {
                                    "SZOBA_ID": "51",
                                    "SZOBA_SZAMA": "2",
                                    "FEROHELY": "3",
                                    "POTAGY": "1",
                                    "KLIMAS": "i",
                                    "SZALLAS_FK": "6",
                                    "Legutolsó 5 foglalás": "2"
                                },
                                {
                                    "SZOBA_ID": "51",
                                    "SZOBA_SZAMA": "2",
                                    "FEROHELY": "3",
                                    "POTAGY": "1",
                                    "KLIMAS": "i",
                                    "SZALLAS_FK": "6",
                                    "Legutolsó 5 foglalás": "2"
                                },
                                {
                                    "SZOBA_ID": "51",
                                    "SZOBA_SZAMA": "2",
                                    "FEROHELY": "3",
                                    "POTAGY": "1",
                                    "KLIMAS": "i",
                                    "SZALLAS_FK": "6",
                                    "Legutolsó 5 foglalás": "2"
                                },
                                {
                                    "SZOBA_ID": "51",
                                    "SZOBA_SZAMA": "2",
                                    "FEROHELY": "3",
                                    "POTAGY": "1",
                                    "KLIMAS": "i",
                                    "SZALLAS_FK": "6",
                                    "Legutolsó 5 foglalás": "2"
                                },
                                {
                                    "SZOBA_ID": "51",
                                    "SZOBA_SZAMA": "2",
                                    "FEROHELY": "3",
                                    "POTAGY": "1",
                                    "KLIMAS": "i",
                                    "SZALLAS_FK": "6",
                                    "Legutolsó 5 foglalás": "2"
                                },
                                {
                                    "SZOBA_ID": "52",
                                    "SZOBA_SZAMA": "3",
                                    "FEROHELY": "2",
                                    "POTAGY": "1",
                                    "KLIMAS": "i",
                                    "SZALLAS_FK": "6",
                                    "Legutolsó 5 foglalás": "2"
                                },
                                {
                                    "SZOBA_ID": "52",
                                    "SZOBA_SZAMA": "3",
                                    "FEROHELY": "2",
                                    "POTAGY": "1",
                                    "KLIMAS": "i",
                                    "SZALLAS_FK": "6",
                                    "Legutolsó 5 foglalás": "1"
                                },
                                {
                                    "SZOBA_ID": "52",
                                    "SZOBA_SZAMA": "3",
                                    "FEROHELY": "2",
                                    "POTAGY": "1",
                                    "KLIMAS": "i",
                                    "SZALLAS_FK": "6",
                                    "Legutolsó 5 foglalás": "1"
                                },
                                {
                                    "SZOBA_ID": "52",
                                    "SZOBA_SZAMA": "3",
                                    "FEROHELY": "2",
                                    "POTAGY": "1",
                                    "KLIMAS": "i",
                                    "SZALLAS_FK": "6",
                                    "Legutolsó 5 foglalás": "1"
                                },
                                {
                                    "SZOBA_ID": "52",
                                    "SZOBA_SZAMA": "3",
                                    "FEROHELY": "2",
                                    "POTAGY": "1",
                                    "KLIMAS": "i",
                                    "SZALLAS_FK": "6",
                                    "Legutolsó 5 foglalás": "1"
                                },
                                {
                                    "SZOBA_ID": "53",
                                    "SZOBA_SZAMA": "4",
                                    "FEROHELY": "2",
                                    "POTAGY": "1",
                                    "KLIMAS": "i",
                                    "SZALLAS_FK": "6",
                                    "Legutolsó 5 foglalás": "3"
                                },
                                {
                                    "SZOBA_ID": "53",
                                    "SZOBA_SZAMA": "4",
                                    "FEROHELY": "2",
                                    "POTAGY": "1",
                                    "KLIMAS": "i",
                                    "SZALLAS_FK": "6",
                                    "Legutolsó 5 foglalás": "2"
                                },
                                {
                                    "SZOBA_ID": "54",
                                    "SZOBA_SZAMA": "5",
                                    "FEROHELY": "3",
                                    "POTAGY": "0",
                                    "KLIMAS": "n",
                                    "SZALLAS_FK": "6",
                                    "Legutolsó 5 foglalás": "2"
                                },
                                {
                                    "SZOBA_ID": "54",
                                    "SZOBA_SZAMA": "5",
                                    "FEROHELY": "3",
                                    "POTAGY": "0",
                                    "KLIMAS": "n",
                                    "SZALLAS_FK": "6",
                                    "Legutolsó 5 foglalás": "2"
                                },
                                {
                                    "SZOBA_ID": "54",
                                    "SZOBA_SZAMA": "5",
                                    "FEROHELY": "3",
                                    "POTAGY": "0",
                                    "KLIMAS": "n",
                                    "SZALLAS_FK": "6",
                                    "Legutolsó 5 foglalás": "2"
                                },
                                {
                                    "SZOBA_ID": "54",
                                    "SZOBA_SZAMA": "5",
                                    "FEROHELY": "3",
                                    "POTAGY": "0",
                                    "KLIMAS": "n",
                                    "SZALLAS_FK": "6",
                                    "Legutolsó 5 foglalás": "2"
                                },
                                {
                                    "SZOBA_ID": "54",
                                    "SZOBA_SZAMA": "5",
                                    "FEROHELY": "3",
                                    "POTAGY": "0",
                                    "KLIMAS": "n",
                                    "SZALLAS_FK": "6",
                                    "Legutolsó 5 foglalás": "2"
                                },
                                {
                                    "SZOBA_ID": "54",
                                    "SZOBA_SZAMA": "5",
                                    "FEROHELY": "3",
                                    "POTAGY": "0",
                                    "KLIMAS": "n",
                                    "SZALLAS_FK": "6",
                                    "Legutolsó 5 foglalás": "2"
                                },
                                {
                                    "SZOBA_ID": "55",
                                    "SZOBA_SZAMA": "6",
                                    "FEROHELY": "2",
                                    "POTAGY": "1",
                                    "KLIMAS": "i",
                                    "SZALLAS_FK": "6",
                                    "Legutolsó 5 foglalás": "3"
                                },
                                {
                                    "SZOBA_ID": "55",
                                    "SZOBA_SZAMA": "6",
                                    "FEROHELY": "2",
                                    "POTAGY": "1",
                                    "KLIMAS": "i",
                                    "SZALLAS_FK": "6",
                                    "Legutolsó 5 foglalás": "2"
                                },
                                {
                                    "SZOBA_ID": "55",
                                    "SZOBA_SZAMA": "6",
                                    "FEROHELY": "2",
                                    "POTAGY": "1",
                                    "KLIMAS": "i",
                                    "SZALLAS_FK": "6",
                                    "Legutolsó 5 foglalás": "2"
                                },
                                {
                                    "SZOBA_ID": "55",
                                    "SZOBA_SZAMA": "6",
                                    "FEROHELY": "2",
                                    "POTAGY": "1",
                                    "KLIMAS": "i",
                                    "SZALLAS_FK": "6",
                                    "Legutolsó 5 foglalás": "2"
                                },
                                {
                                    "SZOBA_ID": "55",
                                    "SZOBA_SZAMA": "6",
                                    "FEROHELY": "2",
                                    "POTAGY": "1",
                                    "KLIMAS": "i",
                                    "SZALLAS_FK": "6",
                                    "Legutolsó 5 foglalás": "2"
                                },
                                {
                                    "SZOBA_ID": "55",
                                    "SZOBA_SZAMA": "6",
                                    "FEROHELY": "2",
                                    "POTAGY": "1",
                                    "KLIMAS": "i",
                                    "SZALLAS_FK": "6",
                                    "Legutolsó 5 foglalás": "2"
                                },
                                {
                                    "SZOBA_ID": "55",
                                    "SZOBA_SZAMA": "6",
                                    "FEROHELY": "2",
                                    "POTAGY": "1",
                                    "KLIMAS": "i",
                                    "SZALLAS_FK": "6",
                                    "Legutolsó 5 foglalás": "2"
                                },
                                {
                                    "SZOBA_ID": "55",
                                    "SZOBA_SZAMA": "6",
                                    "FEROHELY": "2",
                                    "POTAGY": "1",
                                    "KLIMAS": "i",
                                    "SZALLAS_FK": "6",
                                    "Legutolsó 5 foglalás": "2"
                                },
                                {
                                    "SZOBA_ID": "56",
                                    "SZOBA_SZAMA": "7",
                                    "FEROHELY": "2",
                                    "POTAGY": "0",
                                    "KLIMAS": "i",
                                    "SZALLAS_FK": "6",
                                    "Legutolsó 5 foglalás": "1"
                                },
                                {
                                    "SZOBA_ID": "56",
                                    "SZOBA_SZAMA": "7",
                                    "FEROHELY": "2",
                                    "POTAGY": "0",
                                    "KLIMAS": "i",
                                    "SZALLAS_FK": "6",
                                    "Legutolsó 5 foglalás": "1"
                                },
                                {
                                    "SZOBA_ID": "57",
                                    "SZOBA_SZAMA": "8",
                                    "FEROHELY": "2",
                                    "POTAGY": "0",
                                    "KLIMAS": "n",
                                    "SZALLAS_FK": "6",
                                    "Legutolsó 5 foglalás": "2"
                                },
                                {
                                    "SZOBA_ID": "57",
                                    "SZOBA_SZAMA": "8",
                                    "FEROHELY": "2",
                                    "POTAGY": "0",
                                    "KLIMAS": "n",
                                    "SZALLAS_FK": "6",
                                    "Legutolsó 5 foglalás": "2"
                                },
                                {
                                    "SZOBA_ID": "57",
                                    "SZOBA_SZAMA": "8",
                                    "FEROHELY": "2",
                                    "POTAGY": "0",
                                    "KLIMAS": "n",
                                    "SZALLAS_FK": "6",
                                    "Legutolsó 5 foglalás": "1"
                                },
                                {
                                    "SZOBA_ID": "57",
                                    "SZOBA_SZAMA": "8",
                                    "FEROHELY": "2",
                                    "POTAGY": "0",
                                    "KLIMAS": "n",
                                    "SZALLAS_FK": "6",
                                    "Legutolsó 5 foglalás": "1"
                                },
                                {
                                    "SZOBA_ID": "58",
                                    "SZOBA_SZAMA": "9",
                                    "FEROHELY": "2",
                                    "POTAGY": "1",
                                    "KLIMAS": "i",
                                    "SZALLAS_FK": "6",
                                    "Legutolsó 5 foglalás": "2"
                                },
                                {
                                    "SZOBA_ID": "58",
                                    "SZOBA_SZAMA": "9",
                                    "FEROHELY": "2",
                                    "POTAGY": "1",
                                    "KLIMAS": "i",
                                    "SZALLAS_FK": "6",
                                    "Legutolsó 5 foglalás": "2"
                                },
                                {
                                    "SZOBA_ID": "58",
                                    "SZOBA_SZAMA": "9",
                                    "FEROHELY": "2",
                                    "POTAGY": "1",
                                    "KLIMAS": "i",
                                    "SZALLAS_FK": "6",
                                    "Legutolsó 5 foglalás": "2"
                                },
                                {
                                    "SZOBA_ID": "58",
                                    "SZOBA_SZAMA": "9",
                                    "FEROHELY": "2",
                                    "POTAGY": "1",
                                    "KLIMAS": "i",
                                    "SZALLAS_FK": "6",
                                    "Legutolsó 5 foglalás": "2"
                                },
                                {
                                    "SZOBA_ID": "58",
                                    "SZOBA_SZAMA": "9",
                                    "FEROHELY": "2",
                                    "POTAGY": "1",
                                    "KLIMAS": "i",
                                    "SZALLAS_FK": "6",
                                    "Legutolsó 5 foglalás": "2"
                                },
                                {
                                    "SZOBA_ID": "58",
                                    "SZOBA_SZAMA": "9",
                                    "FEROHELY": "2",
                                    "POTAGY": "1",
                                    "KLIMAS": "i",
                                    "SZALLAS_FK": "6",
                                    "Legutolsó 5 foglalás": "2"
                                },
                                {
                                    "SZOBA_ID": "58",
                                    "SZOBA_SZAMA": "9",
                                    "FEROHELY": "2",
                                    "POTAGY": "1",
                                    "KLIMAS": "i",
                                    "SZALLAS_FK": "6",
                                    "Legutolsó 5 foglalás": "2"
                                },
                                {
                                    "SZOBA_ID": "58",
                                    "SZOBA_SZAMA": "9",
                                    "FEROHELY": "2",
                                    "POTAGY": "1",
                                    "KLIMAS": "i",
                                    "SZALLAS_FK": "6",
                                    "Legutolsó 5 foglalás": "2"
                                },
                                {
                                    "SZOBA_ID": "58",
                                    "SZOBA_SZAMA": "9",
                                    "FEROHELY": "2",
                                    "POTAGY": "1",
                                    "KLIMAS": "i",
                                    "SZALLAS_FK": "6",
                                    "Legutolsó 5 foglalás": "2"
                                },
                                {
                                    "SZOBA_ID": "58",
                                    "SZOBA_SZAMA": "9",
                                    "FEROHELY": "2",
                                    "POTAGY": "1",
                                    "KLIMAS": "i",
                                    "SZALLAS_FK": "6",
                                    "Legutolsó 5 foglalás": "2"
                                },
                                {
                                    "SZOBA_ID": "58",
                                    "SZOBA_SZAMA": "9",
                                    "FEROHELY": "2",
                                    "POTAGY": "1",
                                    "KLIMAS": "i",
                                    "SZALLAS_FK": "6",
                                    "Legutolsó 5 foglalás": "2"
                                },
                                {
                                    "SZOBA_ID": "58",
                                    "SZOBA_SZAMA": "9",
                                    "FEROHELY": "2",
                                    "POTAGY": "1",
                                    "KLIMAS": "i",
                                    "SZALLAS_FK": "6",
                                    "Legutolsó 5 foglalás": "2"
                                },
                                {
                                    "SZOBA_ID": "58",
                                    "SZOBA_SZAMA": "9",
                                    "FEROHELY": "2",
                                    "POTAGY": "1",
                                    "KLIMAS": "i",
                                    "SZALLAS_FK": "6",
                                    "Legutolsó 5 foglalás": "2"
                                },
                                {
                                    "SZOBA_ID": "59",
                                    "SZOBA_SZAMA": "10",
                                    "FEROHELY": "2",
                                    "POTAGY": "1",
                                    "KLIMAS": "n",
                                    "SZALLAS_FK": "6",
                                    "Legutolsó 5 foglalás": "3"
                                },
                                {
                                    "SZOBA_ID": "59",
                                    "SZOBA_SZAMA": "10",
                                    "FEROHELY": "2",
                                    "POTAGY": "1",
                                    "KLIMAS": "n",
                                    "SZALLAS_FK": "6",
                                    "Legutolsó 5 foglalás": "2"
                                },
                                {
                                    "SZOBA_ID": "59",
                                    "SZOBA_SZAMA": "10",
                                    "FEROHELY": "2",
                                    "POTAGY": "1",
                                    "KLIMAS": "n",
                                    "SZALLAS_FK": "6",
                                    "Legutolsó 5 foglalás": "2"
                                },
                                {
                                    "SZOBA_ID": "59",
                                    "SZOBA_SZAMA": "10",
                                    "FEROHELY": "2",
                                    "POTAGY": "1",
                                    "KLIMAS": "n",
                                    "SZALLAS_FK": "6",
                                    "Legutolsó 5 foglalás": "2"
                                },
                                {
                                    "SZOBA_ID": "59",
                                    "SZOBA_SZAMA": "10",
                                    "FEROHELY": "2",
                                    "POTAGY": "1",
                                    "KLIMAS": "n",
                                    "SZALLAS_FK": "6",
                                    "Legutolsó 5 foglalás": "2"
                                },
                                {
                                    "SZOBA_ID": "59",
                                    "SZOBA_SZAMA": "10",
                                    "FEROHELY": "2",
                                    "POTAGY": "1",
                                    "KLIMAS": "n",
                                    "SZALLAS_FK": "6",
                                    "Legutolsó 5 foglalás": "2"
                                },
                                {
                                    "SZOBA_ID": "59",
                                    "SZOBA_SZAMA": "10",
                                    "FEROHELY": "2",
                                    "POTAGY": "1",
                                    "KLIMAS": "n",
                                    "SZALLAS_FK": "6",
                                    "Legutolsó 5 foglalás": "2"
                                },
                                {
                                    "SZOBA_ID": "60",
                                    "SZOBA_SZAMA": "11",
                                    "FEROHELY": "3",
                                    "POTAGY": "0",
                                    "KLIMAS": "i",
                                    "SZALLAS_FK": "6",
                                    "Legutolsó 5 foglalás": "2"
                                },
                                {
                                    "SZOBA_ID": "61",
                                    "SZOBA_SZAMA": "12",
                                    "FEROHELY": "3",
                                    "POTAGY": "0",
                                    "KLIMAS": "i",
                                    "SZALLAS_FK": "6",
                                    "Legutolsó 5 foglalás": "2"
                                },
                                {
                                    "SZOBA_ID": "61",
                                    "SZOBA_SZAMA": "12",
                                    "FEROHELY": "3",
                                    "POTAGY": "0",
                                    "KLIMAS": "i",
                                    "SZALLAS_FK": "6",
                                    "Legutolsó 5 foglalás": "2"
                                },
                                {
                                    "SZOBA_ID": "61",
                                    "SZOBA_SZAMA": "12",
                                    "FEROHELY": "3",
                                    "POTAGY": "0",
                                    "KLIMAS": "i",
                                    "SZALLAS_FK": "6",
                                    "Legutolsó 5 foglalás": "2"
                                },
                                {
                                    "SZOBA_ID": "61",
                                    "SZOBA_SZAMA": "12",
                                    "FEROHELY": "3",
                                    "POTAGY": "0",
                                    "KLIMAS": "i",
                                    "SZALLAS_FK": "6",
                                    "Legutolsó 5 foglalás": "2"
                                },
                                {
                                    "SZOBA_ID": "61",
                                    "SZOBA_SZAMA": "12",
                                    "FEROHELY": "3",
                                    "POTAGY": "0",
                                    "KLIMAS": "i",
                                    "SZALLAS_FK": "6",
                                    "Legutolsó 5 foglalás": "2"
                                },
                                {
                                    "SZOBA_ID": "62",
                                    "SZOBA_SZAMA": "13",
                                    "FEROHELY": "2",
                                    "POTAGY": "0",
                                    "KLIMAS": "n",
                                    "SZALLAS_FK": "6",
                                    "Legutolsó 5 foglalás": "2"
                                },
                                {
                                    "SZOBA_ID": "62",
                                    "SZOBA_SZAMA": "13",
                                    "FEROHELY": "2",
                                    "POTAGY": "0",
                                    "KLIMAS": "n",
                                    "SZALLAS_FK": "6",
                                    "Legutolsó 5 foglalás": "2"
                                },
                                {
                                    "SZOBA_ID": "62",
                                    "SZOBA_SZAMA": "13",
                                    "FEROHELY": "2",
                                    "POTAGY": "0",
                                    "KLIMAS": "n",
                                    "SZALLAS_FK": "6",
                                    "Legutolsó 5 foglalás": "1"
                                },
                                {
                                    "SZOBA_ID": "62",
                                    "SZOBA_SZAMA": "13",
                                    "FEROHELY": "2",
                                    "POTAGY": "0",
                                    "KLIMAS": "n",
                                    "SZALLAS_FK": "6",
                                    "Legutolsó 5 foglalás": "1"
                                },
                                {
                                    "SZOBA_ID": "62",
                                    "SZOBA_SZAMA": "13",
                                    "FEROHELY": "2",
                                    "POTAGY": "0",
                                    "KLIMAS": "n",
                                    "SZALLAS_FK": "6",
                                    "Legutolsó 5 foglalás": "1"
                                },
                                {
                                    "SZOBA_ID": "63",
                                    "SZOBA_SZAMA": "14",
                                    "FEROHELY": "2",
                                    "POTAGY": "0",
                                    "KLIMAS": "n",
                                    "SZALLAS_FK": "6",
                                    "Legutolsó 5 foglalás": "2"
                                },
                                {
                                    "SZOBA_ID": "63",
                                    "SZOBA_SZAMA": "14",
                                    "FEROHELY": "2",
                                    "POTAGY": "0",
                                    "KLIMAS": "n",
                                    "SZALLAS_FK": "6",
                                    "Legutolsó 5 foglalás": "1"
                                },
                                {
                                    "SZOBA_ID": "63",
                                    "SZOBA_SZAMA": "14",
                                    "FEROHELY": "2",
                                    "POTAGY": "0",
                                    "KLIMAS": "n",
                                    "SZALLAS_FK": "6",
                                    "Legutolsó 5 foglalás": "1"
                                },
                                {
                                    "SZOBA_ID": "63",
                                    "SZOBA_SZAMA": "14",
                                    "FEROHELY": "2",
                                    "POTAGY": "0",
                                    "KLIMAS": "n",
                                    "SZALLAS_FK": "6",
                                    "Legutolsó 5 foglalás": "1"
                                },
                                {
                                    "SZOBA_ID": "64",
                                    "SZOBA_SZAMA": "15",
                                    "FEROHELY": "2",
                                    "POTAGY": "0",
                                    "KLIMAS": "i",
                                    "SZALLAS_FK": "6",
                                    "Legutolsó 5 foglalás": "2"
                                },
                                {
                                    "SZOBA_ID": "64",
                                    "SZOBA_SZAMA": "15",
                                    "FEROHELY": "2",
                                    "POTAGY": "0",
                                    "KLIMAS": "i",
                                    "SZALLAS_FK": "6",
                                    "Legutolsó 5 foglalás": "2"
                                },
                                {
                                    "SZOBA_ID": "64",
                                    "SZOBA_SZAMA": "15",
                                    "FEROHELY": "2",
                                    "POTAGY": "0",
                                    "KLIMAS": "i",
                                    "SZALLAS_FK": "6",
                                    "Legutolsó 5 foglalás": "2"
                                },
                                {
                                    "SZOBA_ID": "64",
                                    "SZOBA_SZAMA": "15",
                                    "FEROHELY": "2",
                                    "POTAGY": "0",
                                    "KLIMAS": "i",
                                    "SZALLAS_FK": "6",
                                    "Legutolsó 5 foglalás": "2"
                                },
                                {
                                    "SZOBA_ID": "64",
                                    "SZOBA_SZAMA": "15",
                                    "FEROHELY": "2",
                                    "POTAGY": "0",
                                    "KLIMAS": "i",
                                    "SZALLAS_FK": "6",
                                    "Legutolsó 5 foglalás": "2"
                                },
                                {
                                    "SZOBA_ID": "64",
                                    "SZOBA_SZAMA": "15",
                                    "FEROHELY": "2",
                                    "POTAGY": "0",
                                    "KLIMAS": "i",
                                    "SZALLAS_FK": "6",
                                    "Legutolsó 5 foglalás": "2"
                                },
                                {
                                    "SZOBA_ID": "65",
                                    "SZOBA_SZAMA": "16",
                                    "FEROHELY": "2",
                                    "POTAGY": "0",
                                    "KLIMAS": "n",
                                    "SZALLAS_FK": "6",
                                    "Legutolsó 5 foglalás": "2"
                                },
                                {
                                    "SZOBA_ID": "66",
                                    "SZOBA_SZAMA": "17",
                                    "FEROHELY": "3",
                                    "POTAGY": "0",
                                    "KLIMAS": "n",
                                    "SZALLAS_FK": "6",
                                    "Legutolsó 5 foglalás": "3"
                                },
                                {
                                    "SZOBA_ID": "66",
                                    "SZOBA_SZAMA": "17",
                                    "FEROHELY": "3",
                                    "POTAGY": "0",
                                    "KLIMAS": "n",
                                    "SZALLAS_FK": "6",
                                    "Legutolsó 5 foglalás": "3"
                                },
                                {
                                    "SZOBA_ID": "66",
                                    "SZOBA_SZAMA": "17",
                                    "FEROHELY": "3",
                                    "POTAGY": "0",
                                    "KLIMAS": "n",
                                    "SZALLAS_FK": "6",
                                    "Legutolsó 5 foglalás": "3"
                                },
                                {
                                    "SZOBA_ID": "66",
                                    "SZOBA_SZAMA": "17",
                                    "FEROHELY": "3",
                                    "POTAGY": "0",
                                    "KLIMAS": "n",
                                    "SZALLAS_FK": "6",
                                    "Legutolsó 5 foglalás": "3"
                                },
                                {
                                    "SZOBA_ID": "67",
                                    "SZOBA_SZAMA": "18",
                                    "FEROHELY": "2",
                                    "POTAGY": "2",
                                    "KLIMAS": "i",
                                    "SZALLAS_FK": "6",
                                    "Legutolsó 5 foglalás": "1"
                                },
                                {
                                    "SZOBA_ID": "67",
                                    "SZOBA_SZAMA": "18",
                                    "FEROHELY": "2",
                                    "POTAGY": "2",
                                    "KLIMAS": "i",
                                    "SZALLAS_FK": "6",
                                    "Legutolsó 5 foglalás": "2"
                                },
                                {
                                    "SZOBA_ID": "67",
                                    "SZOBA_SZAMA": "18",
                                    "FEROHELY": "2",
                                    "POTAGY": "2",
                                    "KLIMAS": "i",
                                    "SZALLAS_FK": "6",
                                    "Legutolsó 5 foglalás": "2"
                                },
                                {
                                    "SZOBA_ID": "67",
                                    "SZOBA_SZAMA": "18",
                                    "FEROHELY": "2",
                                    "POTAGY": "2",
                                    "KLIMAS": "i",
                                    "SZALLAS_FK": "6",
                                    "Legutolsó 5 foglalás": "2"
                                },
                                {
                                    "SZOBA_ID": "67",
                                    "SZOBA_SZAMA": "18",
                                    "FEROHELY": "2",
                                    "POTAGY": "2",
                                    "KLIMAS": "i",
                                    "SZALLAS_FK": "6",
                                    "Legutolsó 5 foglalás": "2"
                                },
                                {
                                    "SZOBA_ID": "67",
                                    "SZOBA_SZAMA": "18",
                                    "FEROHELY": "2",
                                    "POTAGY": "2",
                                    "KLIMAS": "i",
                                    "SZALLAS_FK": "6",
                                    "Legutolsó 5 foglalás": "2"
                                },
                                {
                                    "SZOBA_ID": "68",
                                    "SZOBA_SZAMA": "19",
                                    "FEROHELY": "2",
                                    "POTAGY": "2",
                                    "KLIMAS": "i",
                                    "SZALLAS_FK": "6",
                                    "Legutolsó 5 foglalás": "4"
                                },
                                {
                                    "SZOBA_ID": "68",
                                    "SZOBA_SZAMA": "19",
                                    "FEROHELY": "2",
                                    "POTAGY": "2",
                                    "KLIMAS": "i",
                                    "SZALLAS_FK": "6",
                                    "Legutolsó 5 foglalás": "4"
                                },
                                {
                                    "SZOBA_ID": "68",
                                    "SZOBA_SZAMA": "19",
                                    "FEROHELY": "2",
                                    "POTAGY": "2",
                                    "KLIMAS": "i",
                                    "SZALLAS_FK": "6",
                                    "Legutolsó 5 foglalás": "4"
                                },
                                {
                                    "SZOBA_ID": "69",
                                    "SZOBA_SZAMA": "20",
                                    "FEROHELY": "3",
                                    "POTAGY": "1",
                                    "KLIMAS": "n",
                                    "SZALLAS_FK": "6",
                                    "Legutolsó 5 foglalás": "3"
                                },
                                {
                                    "SZOBA_ID": "69",
                                    "SZOBA_SZAMA": "20",
                                    "FEROHELY": "3",
                                    "POTAGY": "1",
                                    "KLIMAS": "n",
                                    "SZALLAS_FK": "6",
                                    "Legutolsó 5 foglalás": "3"
                                },
                                {
                                    "SZOBA_ID": "69",
                                    "SZOBA_SZAMA": "20",
                                    "FEROHELY": "3",
                                    "POTAGY": "1",
                                    "KLIMAS": "n",
                                    "SZALLAS_FK": "6",
                                    "Legutolsó 5 foglalás": "2"
                                },
                                {
                                    "SZOBA_ID": "69",
                                    "SZOBA_SZAMA": "20",
                                    "FEROHELY": "3",
                                    "POTAGY": "1",
                                    "KLIMAS": "n",
                                    "SZALLAS_FK": "6",
                                    "Legutolsó 5 foglalás": "2"
                                },
                                {
                                    "SZOBA_ID": "70",
                                    "SZOBA_SZAMA": "21",
                                    "FEROHELY": "2",
                                    "POTAGY": "1",
                                    "KLIMAS": "i",
                                    "SZALLAS_FK": "6",
                                    "Legutolsó 5 foglalás": "3"
                                },
                                {
                                    "SZOBA_ID": "70",
                                    "SZOBA_SZAMA": "21",
                                    "FEROHELY": "2",
                                    "POTAGY": "1",
                                    "KLIMAS": "i",
                                    "SZALLAS_FK": "6",
                                    "Legutolsó 5 foglalás": "2"
                                },
                                {
                                    "SZOBA_ID": "70",
                                    "SZOBA_SZAMA": "21",
                                    "FEROHELY": "2",
                                    "POTAGY": "1",
                                    "KLIMAS": "i",
                                    "SZALLAS_FK": "6",
                                    "Legutolsó 5 foglalás": "1"
                                },
                                {
                                    "SZOBA_ID": "70",
                                    "SZOBA_SZAMA": "21",
                                    "FEROHELY": "2",
                                    "POTAGY": "1",
                                    "KLIMAS": "i",
                                    "SZALLAS_FK": "6",
                                    "Legutolsó 5 foglalás": "2"
                                },
                                {
                                    "SZOBA_ID": "70",
                                    "SZOBA_SZAMA": "21",
                                    "FEROHELY": "2",
                                    "POTAGY": "1",
                                    "KLIMAS": "i",
                                    "SZALLAS_FK": "6",
                                    "Legutolsó 5 foglalás": "2"
                                },
                                {
                                    "SZOBA_ID": "70",
                                    "SZOBA_SZAMA": "21",
                                    "FEROHELY": "2",
                                    "POTAGY": "1",
                                    "KLIMAS": "i",
                                    "SZALLAS_FK": "6",
                                    "Legutolsó 5 foglalás": "2"
                                },
                                {
                                    "SZOBA_ID": "70",
                                    "SZOBA_SZAMA": "21",
                                    "FEROHELY": "2",
                                    "POTAGY": "1",
                                    "KLIMAS": "i",
                                    "SZALLAS_FK": "6",
                                    "Legutolsó 5 foglalás": "2"
                                },
                                {
                                    "SZOBA_ID": "70",
                                    "SZOBA_SZAMA": "21",
                                    "FEROHELY": "2",
                                    "POTAGY": "1",
                                    "KLIMAS": "i",
                                    "SZALLAS_FK": "6",
                                    "Legutolsó 5 foglalás": "2"
                                },
                                {
                                    "SZOBA_ID": "70",
                                    "SZOBA_SZAMA": "21",
                                    "FEROHELY": "2",
                                    "POTAGY": "1",
                                    "KLIMAS": "i",
                                    "SZALLAS_FK": "6",
                                    "Legutolsó 5 foglalás": "2"
                                },
                                {
                                    "SZOBA_ID": "70",
                                    "SZOBA_SZAMA": "21",
                                    "FEROHELY": "2",
                                    "POTAGY": "1",
                                    "KLIMAS": "i",
                                    "SZALLAS_FK": "6",
                                    "Legutolsó 5 foglalás": "2"
                                },
                                {
                                    "SZOBA_ID": "70",
                                    "SZOBA_SZAMA": "21",
                                    "FEROHELY": "2",
                                    "POTAGY": "1",
                                    "KLIMAS": "i",
                                    "SZALLAS_FK": "6",
                                    "Legutolsó 5 foglalás": "2"
                                },
                                {
                                    "SZOBA_ID": "71",
                                    "SZOBA_SZAMA": "22",
                                    "FEROHELY": "3",
                                    "POTAGY": "0",
                                    "KLIMAS": "i",
                                    "SZALLAS_FK": "6",
                                    "Legutolsó 5 foglalás": "3"
                                },
                                {
                                    "SZOBA_ID": "71",
                                    "SZOBA_SZAMA": "22",
                                    "FEROHELY": "3",
                                    "POTAGY": "0",
                                    "KLIMAS": "i",
                                    "SZALLAS_FK": "6",
                                    "Legutolsó 5 foglalás": "2"
                                },
                                {
                                    "SZOBA_ID": "71",
                                    "SZOBA_SZAMA": "22",
                                    "FEROHELY": "3",
                                    "POTAGY": "0",
                                    "KLIMAS": "i",
                                    "SZALLAS_FK": "6",
                                    "Legutolsó 5 foglalás": "2"
                                },
                                {
                                    "SZOBA_ID": "72",
                                    "SZOBA_SZAMA": "23",
                                    "FEROHELY": "2",
                                    "POTAGY": "0",
                                    "KLIMAS": "n",
                                    "SZALLAS_FK": "6",
                                    "Legutolsó 5 foglalás": "2"
                                },
                                {
                                    "SZOBA_ID": "72",
                                    "SZOBA_SZAMA": "23",
                                    "FEROHELY": "2",
                                    "POTAGY": "0",
                                    "KLIMAS": "n",
                                    "SZALLAS_FK": "6",
                                    "Legutolsó 5 foglalás": "2"
                                },
                                {
                                    "SZOBA_ID": "72",
                                    "SZOBA_SZAMA": "23",
                                    "FEROHELY": "2",
                                    "POTAGY": "0",
                                    "KLIMAS": "n",
                                    "SZALLAS_FK": "6",
                                    "Legutolsó 5 foglalás": "2"
                                },
                                {
                                    "SZOBA_ID": "72",
                                    "SZOBA_SZAMA": "23",
                                    "FEROHELY": "2",
                                    "POTAGY": "0",
                                    "KLIMAS": "n",
                                    "SZALLAS_FK": "6",
                                    "Legutolsó 5 foglalás": "1"
                                },
                                {
                                    "SZOBA_ID": "73",
                                    "SZOBA_SZAMA": "24",
                                    "FEROHELY": "2",
                                    "POTAGY": "1",
                                    "KLIMAS": "i",
                                    "SZALLAS_FK": "6",
                                    "Legutolsó 5 foglalás": "2"
                                },
                                {
                                    "SZOBA_ID": "73",
                                    "SZOBA_SZAMA": "24",
                                    "FEROHELY": "2",
                                    "POTAGY": "1",
                                    "KLIMAS": "i",
                                    "SZALLAS_FK": "6",
                                    "Legutolsó 5 foglalás": "2"
                                },
                                {
                                    "SZOBA_ID": "73",
                                    "SZOBA_SZAMA": "24",
                                    "FEROHELY": "2",
                                    "POTAGY": "1",
                                    "KLIMAS": "i",
                                    "SZALLAS_FK": "6",
                                    "Legutolsó 5 foglalás": "2"
                                },
                                {
                                    "SZOBA_ID": "73",
                                    "SZOBA_SZAMA": "24",
                                    "FEROHELY": "2",
                                    "POTAGY": "1",
                                    "KLIMAS": "i",
                                    "SZALLAS_FK": "6",
                                    "Legutolsó 5 foglalás": "2"
                                },
                                {
                                    "SZOBA_ID": "74",
                                    "SZOBA_SZAMA": "25",
                                    "FEROHELY": "3",
                                    "POTAGY": "1",
                                    "KLIMAS": "n",
                                    "SZALLAS_FK": "6",
                                    "Legutolsó 5 foglalás": "2"
                                },
                                {
                                    "SZOBA_ID": "74",
                                    "SZOBA_SZAMA": "25",
                                    "FEROHELY": "3",
                                    "POTAGY": "1",
                                    "KLIMAS": "n",
                                    "SZALLAS_FK": "6",
                                    "Legutolsó 5 foglalás": "2"
                                },
                                {
                                    "SZOBA_ID": "74",
                                    "SZOBA_SZAMA": "25",
                                    "FEROHELY": "3",
                                    "POTAGY": "1",
                                    "KLIMAS": "n",
                                    "SZALLAS_FK": "6",
                                    "Legutolsó 5 foglalás": "3"
                                },
                                {
                                    "SZOBA_ID": "74",
                                    "SZOBA_SZAMA": "25",
                                    "FEROHELY": "3",
                                    "POTAGY": "1",
                                    "KLIMAS": "n",
                                    "SZALLAS_FK": "6",
                                    "Legutolsó 5 foglalás": "3"
                                },
                                {
                                    "SZOBA_ID": "74",
                                    "SZOBA_SZAMA": "25",
                                    "FEROHELY": "3",
                                    "POTAGY": "1",
                                    "KLIMAS": "n",
                                    "SZALLAS_FK": "6",
                                    "Legutolsó 5 foglalás": "3"
                                },
                                {
                                    "SZOBA_ID": "74",
                                    "SZOBA_SZAMA": "25",
                                    "FEROHELY": "3",
                                    "POTAGY": "1",
                                    "KLIMAS": "n",
                                    "SZALLAS_FK": "6",
                                    "Legutolsó 5 foglalás": "3"
                                },
                                {
                                    "SZOBA_ID": "74",
                                    "SZOBA_SZAMA": "25",
                                    "FEROHELY": "3",
                                    "POTAGY": "1",
                                    "KLIMAS": "n",
                                    "SZALLAS_FK": "6",
                                    "Legutolsó 5 foglalás": "3"
                                },
                                {
                                    "SZOBA_ID": "74",
                                    "SZOBA_SZAMA": "25",
                                    "FEROHELY": "3",
                                    "POTAGY": "1",
                                    "KLIMAS": "n",
                                    "SZALLAS_FK": "6",
                                    "Legutolsó 5 foglalás": "3"
                                },
                                {
                                    "SZOBA_ID": "74",
                                    "SZOBA_SZAMA": "25",
                                    "FEROHELY": "3",
                                    "POTAGY": "1",
                                    "KLIMAS": "n",
                                    "SZALLAS_FK": "6",
                                    "Legutolsó 5 foglalás": "3"
                                },
                                {
                                    "SZOBA_ID": "75",
                                    "SZOBA_SZAMA": "26",
                                    "FEROHELY": "2",
                                    "POTAGY": "1",
                                    "KLIMAS": "n",
                                    "SZALLAS_FK": "6",
                                    "Legutolsó 5 foglalás": "2"
                                },
                                {
                                    "SZOBA_ID": "75",
                                    "SZOBA_SZAMA": "26",
                                    "FEROHELY": "2",
                                    "POTAGY": "1",
                                    "KLIMAS": "n",
                                    "SZALLAS_FK": "6",
                                    "Legutolsó 5 foglalás": "2"
                                },
                                {
                                    "SZOBA_ID": "75",
                                    "SZOBA_SZAMA": "26",
                                    "FEROHELY": "2",
                                    "POTAGY": "1",
                                    "KLIMAS": "n",
                                    "SZALLAS_FK": "6",
                                    "Legutolsó 5 foglalás": "2"
                                },
                                {
                                    "SZOBA_ID": "76",
                                    "SZOBA_SZAMA": "27",
                                    "FEROHELY": "2",
                                    "POTAGY": "0",
                                    "KLIMAS": "i",
                                    "SZALLAS_FK": "6",
                                    "Legutolsó 5 foglalás": "1"
                                },
                                {
                                    "SZOBA_ID": "76",
                                    "SZOBA_SZAMA": "27",
                                    "FEROHELY": "2",
                                    "POTAGY": "0",
                                    "KLIMAS": "i",
                                    "SZALLAS_FK": "6",
                                    "Legutolsó 5 foglalás": "1"
                                },
                                {
                                    "SZOBA_ID": "76",
                                    "SZOBA_SZAMA": "27",
                                    "FEROHELY": "2",
                                    "POTAGY": "0",
                                    "KLIMAS": "i",
                                    "SZALLAS_FK": "6",
                                    "Legutolsó 5 foglalás": "1"
                                },
                                {
                                    "SZOBA_ID": "77",
                                    "SZOBA_SZAMA": "28",
                                    "FEROHELY": "3",
                                    "POTAGY": "1",
                                    "KLIMAS": "i",
                                    "SZALLAS_FK": "6",
                                    "Legutolsó 5 foglalás": "3"
                                },
                                {
                                    "SZOBA_ID": "77",
                                    "SZOBA_SZAMA": "28",
                                    "FEROHELY": "3",
                                    "POTAGY": "1",
                                    "KLIMAS": "i",
                                    "SZALLAS_FK": "6",
                                    "Legutolsó 5 foglalás": "3"
                                },
                                {
                                    "SZOBA_ID": "77",
                                    "SZOBA_SZAMA": "28",
                                    "FEROHELY": "3",
                                    "POTAGY": "1",
                                    "KLIMAS": "i",
                                    "SZALLAS_FK": "6",
                                    "Legutolsó 5 foglalás": "3"
                                },
                                {
                                    "SZOBA_ID": "77",
                                    "SZOBA_SZAMA": "28",
                                    "FEROHELY": "3",
                                    "POTAGY": "1",
                                    "KLIMAS": "i",
                                    "SZALLAS_FK": "6",
                                    "Legutolsó 5 foglalás": "3"
                                },
                                {
                                    "SZOBA_ID": "77",
                                    "SZOBA_SZAMA": "28",
                                    "FEROHELY": "3",
                                    "POTAGY": "1",
                                    "KLIMAS": "i",
                                    "SZALLAS_FK": "6",
                                    "Legutolsó 5 foglalás": "3"
                                },
                                {
                                    "SZOBA_ID": "77",
                                    "SZOBA_SZAMA": "28",
                                    "FEROHELY": "3",
                                    "POTAGY": "1",
                                    "KLIMAS": "i",
                                    "SZALLAS_FK": "6",
                                    "Legutolsó 5 foglalás": "2"
                                },
                                {
                                    "SZOBA_ID": "78",
                                    "SZOBA_SZAMA": "29",
                                    "FEROHELY": "2",
                                    "POTAGY": "1",
                                    "KLIMAS": "n",
                                    "SZALLAS_FK": "6",
                                    "Legutolsó 5 foglalás": "2"
                                },
                                {
                                    "SZOBA_ID": "78",
                                    "SZOBA_SZAMA": "29",
                                    "FEROHELY": "2",
                                    "POTAGY": "1",
                                    "KLIMAS": "n",
                                    "SZALLAS_FK": "6",
                                    "Legutolsó 5 foglalás": "2"
                                },
                                {
                                    "SZOBA_ID": "78",
                                    "SZOBA_SZAMA": "29",
                                    "FEROHELY": "2",
                                    "POTAGY": "1",
                                    "KLIMAS": "n",
                                    "SZALLAS_FK": "6",
                                    "Legutolsó 5 foglalás": "2"
                                },
                                {
                                    "SZOBA_ID": "78",
                                    "SZOBA_SZAMA": "29",
                                    "FEROHELY": "2",
                                    "POTAGY": "1",
                                    "KLIMAS": "n",
                                    "SZALLAS_FK": "6",
                                    "Legutolsó 5 foglalás": "2"
                                },
                                {
                                    "SZOBA_ID": "78",
                                    "SZOBA_SZAMA": "29",
                                    "FEROHELY": "2",
                                    "POTAGY": "1",
                                    "KLIMAS": "n",
                                    "SZALLAS_FK": "6",
                                    "Legutolsó 5 foglalás": "2"
                                },
                                {
                                    "SZOBA_ID": "78",
                                    "SZOBA_SZAMA": "29",
                                    "FEROHELY": "2",
                                    "POTAGY": "1",
                                    "KLIMAS": "n",
                                    "SZALLAS_FK": "6",
                                    "Legutolsó 5 foglalás": "2"
                                },
                                {
                                    "SZOBA_ID": "79",
                                    "SZOBA_SZAMA": "30",
                                    "FEROHELY": "3",
                                    "POTAGY": "0",
                                    "KLIMAS": "i",
                                    "SZALLAS_FK": "6",
                                    "Legutolsó 5 foglalás": "3"
                                },
                                {
                                    "SZOBA_ID": "79",
                                    "SZOBA_SZAMA": "30",
                                    "FEROHELY": "3",
                                    "POTAGY": "0",
                                    "KLIMAS": "i",
                                    "SZALLAS_FK": "6",
                                    "Legutolsó 5 foglalás": "3"
                                },
                                {
                                    "SZOBA_ID": "79",
                                    "SZOBA_SZAMA": "30",
                                    "FEROHELY": "3",
                                    "POTAGY": "0",
                                    "KLIMAS": "i",
                                    "SZALLAS_FK": "6",
                                    "Legutolsó 5 foglalás": "3"
                                },
                                {
                                    "SZOBA_ID": "79",
                                    "SZOBA_SZAMA": "30",
                                    "FEROHELY": "3",
                                    "POTAGY": "0",
                                    "KLIMAS": "i",
                                    "SZALLAS_FK": "6",
                                    "Legutolsó 5 foglalás": "2"
                                },
                                {
                                    "SZOBA_ID": "79",
                                    "SZOBA_SZAMA": "30",
                                    "FEROHELY": "3",
                                    "POTAGY": "0",
                                    "KLIMAS": "i",
                                    "SZALLAS_FK": "6",
                                    "Legutolsó 5 foglalás": "2"
                                },
                                {
                                    "SZOBA_ID": "80",
                                    "SZOBA_SZAMA": "31",
                                    "FEROHELY": "2",
                                    "POTAGY": "1",
                                    "KLIMAS": "i",
                                    "SZALLAS_FK": "6",
                                    "Legutolsó 5 foglalás": "2"
                                },
                                {
                                    "SZOBA_ID": "80",
                                    "SZOBA_SZAMA": "31",
                                    "FEROHELY": "2",
                                    "POTAGY": "1",
                                    "KLIMAS": "i",
                                    "SZALLAS_FK": "6",
                                    "Legutolsó 5 foglalás": "2"
                                },
                                {
                                    "SZOBA_ID": "80",
                                    "SZOBA_SZAMA": "31",
                                    "FEROHELY": "2",
                                    "POTAGY": "1",
                                    "KLIMAS": "i",
                                    "SZALLAS_FK": "6",
                                    "Legutolsó 5 foglalás": "2"
                                },
                                {
                                    "SZOBA_ID": "80",
                                    "SZOBA_SZAMA": "31",
                                    "FEROHELY": "2",
                                    "POTAGY": "1",
                                    "KLIMAS": "i",
                                    "SZALLAS_FK": "6",
                                    "Legutolsó 5 foglalás": "2"
                                },
                                {
                                    "SZOBA_ID": "80",
                                    "SZOBA_SZAMA": "31",
                                    "FEROHELY": "2",
                                    "POTAGY": "1",
                                    "KLIMAS": "i",
                                    "SZALLAS_FK": "6",
                                    "Legutolsó 5 foglalás": "2"
                                },
                                {
                                    "SZOBA_ID": "80",
                                    "SZOBA_SZAMA": "31",
                                    "FEROHELY": "2",
                                    "POTAGY": "1",
                                    "KLIMAS": "i",
                                    "SZALLAS_FK": "6",
                                    "Legutolsó 5 foglalás": "2"
                                },
                                {
                                    "SZOBA_ID": "80",
                                    "SZOBA_SZAMA": "31",
                                    "FEROHELY": "2",
                                    "POTAGY": "1",
                                    "KLIMAS": "i",
                                    "SZALLAS_FK": "6",
                                    "Legutolsó 5 foglalás": "2"
                                },
                                {
                                    "SZOBA_ID": "81",
                                    "SZOBA_SZAMA": "32",
                                    "FEROHELY": "2",
                                    "POTAGY": "0",
                                    "KLIMAS": "i",
                                    "SZALLAS_FK": "6",
                                    "Legutolsó 5 foglalás": "1"
                                },
                                {
                                    "SZOBA_ID": "81",
                                    "SZOBA_SZAMA": "32",
                                    "FEROHELY": "2",
                                    "POTAGY": "0",
                                    "KLIMAS": "i",
                                    "SZALLAS_FK": "6",
                                    "Legutolsó 5 foglalás": "1"
                                },
                                {
                                    "SZOBA_ID": "81",
                                    "SZOBA_SZAMA": "32",
                                    "FEROHELY": "2",
                                    "POTAGY": "0",
                                    "KLIMAS": "i",
                                    "SZALLAS_FK": "6",
                                    "Legutolsó 5 foglalás": "1"
                                },
                                {
                                    "SZOBA_ID": "81",
                                    "SZOBA_SZAMA": "32",
                                    "FEROHELY": "2",
                                    "POTAGY": "0",
                                    "KLIMAS": "i",
                                    "SZALLAS_FK": "6",
                                    "Legutolsó 5 foglalás": "1"
                                },
                                {
                                    "SZOBA_ID": "81",
                                    "SZOBA_SZAMA": "32",
                                    "FEROHELY": "2",
                                    "POTAGY": "0",
                                    "KLIMAS": "i",
                                    "SZALLAS_FK": "6",
                                    "Legutolsó 5 foglalás": "1"
                                },
                                {
                                    "SZOBA_ID": "82",
                                    "SZOBA_SZAMA": "33",
                                    "FEROHELY": "3",
                                    "POTAGY": "0",
                                    "KLIMAS": "i",
                                    "SZALLAS_FK": "6",
                                    "Legutolsó 5 foglalás": "3"
                                },
                                {
                                    "SZOBA_ID": "82",
                                    "SZOBA_SZAMA": "33",
                                    "FEROHELY": "3",
                                    "POTAGY": "0",
                                    "KLIMAS": "i",
                                    "SZALLAS_FK": "6",
                                    "Legutolsó 5 foglalás": "3"
                                },
                                {
                                    "SZOBA_ID": "82",
                                    "SZOBA_SZAMA": "33",
                                    "FEROHELY": "3",
                                    "POTAGY": "0",
                                    "KLIMAS": "i",
                                    "SZALLAS_FK": "6",
                                    "Legutolsó 5 foglalás": "2"
                                },
                                {
                                    "SZOBA_ID": "82",
                                    "SZOBA_SZAMA": "33",
                                    "FEROHELY": "3",
                                    "POTAGY": "0",
                                    "KLIMAS": "i",
                                    "SZALLAS_FK": "6",
                                    "Legutolsó 5 foglalás": "2"
                                },
                                {
                                    "SZOBA_ID": "82",
                                    "SZOBA_SZAMA": "33",
                                    "FEROHELY": "3",
                                    "POTAGY": "0",
                                    "KLIMAS": "i",
                                    "SZALLAS_FK": "6",
                                    "Legutolsó 5 foglalás": "2"
                                },
                                {
                                    "SZOBA_ID": "82",
                                    "SZOBA_SZAMA": "33",
                                    "FEROHELY": "3",
                                    "POTAGY": "0",
                                    "KLIMAS": "i",
                                    "SZALLAS_FK": "6",
                                    "Legutolsó 5 foglalás": "2"
                                },
                                {
                                    "SZOBA_ID": "83",
                                    "SZOBA_SZAMA": "34",
                                    "FEROHELY": "3",
                                    "POTAGY": "0",
                                    "KLIMAS": "i",
                                    "SZALLAS_FK": "6",
                                    "Legutolsó 5 foglalás": "2"
                                },
                                {
                                    "SZOBA_ID": "83",
                                    "SZOBA_SZAMA": "34",
                                    "FEROHELY": "3",
                                    "POTAGY": "0",
                                    "KLIMAS": "i",
                                    "SZALLAS_FK": "6",
                                    "Legutolsó 5 foglalás": "2"
                                },
                                {
                                    "SZOBA_ID": "83",
                                    "SZOBA_SZAMA": "34",
                                    "FEROHELY": "3",
                                    "POTAGY": "0",
                                    "KLIMAS": "i",
                                    "SZALLAS_FK": "6",
                                    "Legutolsó 5 foglalás": "2"
                                },
                                {
                                    "SZOBA_ID": "83",
                                    "SZOBA_SZAMA": "34",
                                    "FEROHELY": "3",
                                    "POTAGY": "0",
                                    "KLIMAS": "i",
                                    "SZALLAS_FK": "6",
                                    "Legutolsó 5 foglalás": "2"
                                },
                                {
                                    "SZOBA_ID": "83",
                                    "SZOBA_SZAMA": "34",
                                    "FEROHELY": "3",
                                    "POTAGY": "0",
                                    "KLIMAS": "i",
                                    "SZALLAS_FK": "6",
                                    "Legutolsó 5 foglalás": "2"
                                },
                                {
                                    "SZOBA_ID": "83",
                                    "SZOBA_SZAMA": "34",
                                    "FEROHELY": "3",
                                    "POTAGY": "0",
                                    "KLIMAS": "i",
                                    "SZALLAS_FK": "6",
                                    "Legutolsó 5 foglalás": "2"
                                },
                                {
                                    "SZOBA_ID": "83",
                                    "SZOBA_SZAMA": "34",
                                    "FEROHELY": "3",
                                    "POTAGY": "0",
                                    "KLIMAS": "i",
                                    "SZALLAS_FK": "6",
                                    "Legutolsó 5 foglalás": "2"
                                },
                                {
                                    "SZOBA_ID": "83",
                                    "SZOBA_SZAMA": "34",
                                    "FEROHELY": "3",
                                    "POTAGY": "0",
                                    "KLIMAS": "i",
                                    "SZALLAS_FK": "6",
                                    "Legutolsó 5 foglalás": "2"
                                },
                                {
                                    "SZOBA_ID": "84",
                                    "SZOBA_SZAMA": "35",
                                    "FEROHELY": "3",
                                    "POTAGY": "0",
                                    "KLIMAS": "i",
                                    "SZALLAS_FK": "6",
                                    "Legutolsó 5 foglalás": "1"
                                },
                                {
                                    "SZOBA_ID": "84",
                                    "SZOBA_SZAMA": "35",
                                    "FEROHELY": "3",
                                    "POTAGY": "0",
                                    "KLIMAS": "i",
                                    "SZALLAS_FK": "6",
                                    "Legutolsó 5 foglalás": "1"
                                },
                                {
                                    "SZOBA_ID": "84",
                                    "SZOBA_SZAMA": "35",
                                    "FEROHELY": "3",
                                    "POTAGY": "0",
                                    "KLIMAS": "i",
                                    "SZALLAS_FK": "6",
                                    "Legutolsó 5 foglalás": "2"
                                },
                                {
                                    "SZOBA_ID": "84",
                                    "SZOBA_SZAMA": "35",
                                    "FEROHELY": "3",
                                    "POTAGY": "0",
                                    "KLIMAS": "i",
                                    "SZALLAS_FK": "6",
                                    "Legutolsó 5 foglalás": "1"
                                },
                                {
                                    "SZOBA_ID": "85",
                                    "SZOBA_SZAMA": "1",
                                    "FEROHELY": "2",
                                    "POTAGY": "1",
                                    "KLIMAS": "n",
                                    "SZALLAS_FK": "7",
                                    "Legutolsó 5 foglalás": "2"
                                },
                                {
                                    "SZOBA_ID": "85",
                                    "SZOBA_SZAMA": "1",
                                    "FEROHELY": "2",
                                    "POTAGY": "1",
                                    "KLIMAS": "n",
                                    "SZALLAS_FK": "7",
                                    "Legutolsó 5 foglalás": "2"
                                },
                                {
                                    "SZOBA_ID": "85",
                                    "SZOBA_SZAMA": "1",
                                    "FEROHELY": "2",
                                    "POTAGY": "1",
                                    "KLIMAS": "n",
                                    "SZALLAS_FK": "7",
                                    "Legutolsó 5 foglalás": "2"
                                },
                                {
                                    "SZOBA_ID": "85",
                                    "SZOBA_SZAMA": "1",
                                    "FEROHELY": "2",
                                    "POTAGY": "1",
                                    "KLIMAS": "n",
                                    "SZALLAS_FK": "7",
                                    "Legutolsó 5 foglalás": "2"
                                },
                                {
                                    "SZOBA_ID": "86",
                                    "SZOBA_SZAMA": "2",
                                    "FEROHELY": "2",
                                    "POTAGY": "1",
                                    "KLIMAS": "i",
                                    "SZALLAS_FK": "7",
                                    "Legutolsó 5 foglalás": "3"
                                },
                                {
                                    "SZOBA_ID": "86",
                                    "SZOBA_SZAMA": "2",
                                    "FEROHELY": "2",
                                    "POTAGY": "1",
                                    "KLIMAS": "i",
                                    "SZALLAS_FK": "7",
                                    "Legutolsó 5 foglalás": "2"
                                },
                                {
                                    "SZOBA_ID": "86",
                                    "SZOBA_SZAMA": "2",
                                    "FEROHELY": "2",
                                    "POTAGY": "1",
                                    "KLIMAS": "i",
                                    "SZALLAS_FK": "7",
                                    "Legutolsó 5 foglalás": "1"
                                },
                                {
                                    "SZOBA_ID": "86",
                                    "SZOBA_SZAMA": "2",
                                    "FEROHELY": "2",
                                    "POTAGY": "1",
                                    "KLIMAS": "i",
                                    "SZALLAS_FK": "7",
                                    "Legutolsó 5 foglalás": "1"
                                },
                                {
                                    "SZOBA_ID": "86",
                                    "SZOBA_SZAMA": "2",
                                    "FEROHELY": "2",
                                    "POTAGY": "1",
                                    "KLIMAS": "i",
                                    "SZALLAS_FK": "7",
                                    "Legutolsó 5 foglalás": "2"
                                },
                                {
                                    "SZOBA_ID": "87",
                                    "SZOBA_SZAMA": "3",
                                    "FEROHELY": "3",
                                    "POTAGY": "0",
                                    "KLIMAS": "i",
                                    "SZALLAS_FK": "7",
                                    "Legutolsó 5 foglalás": "3"
                                },
                                {
                                    "SZOBA_ID": "87",
                                    "SZOBA_SZAMA": "3",
                                    "FEROHELY": "3",
                                    "POTAGY": "0",
                                    "KLIMAS": "i",
                                    "SZALLAS_FK": "7",
                                    "Legutolsó 5 foglalás": "3"
                                },
                                {
                                    "SZOBA_ID": "87",
                                    "SZOBA_SZAMA": "3",
                                    "FEROHELY": "3",
                                    "POTAGY": "0",
                                    "KLIMAS": "i",
                                    "SZALLAS_FK": "7",
                                    "Legutolsó 5 foglalás": "2"
                                },
                                {
                                    "SZOBA_ID": "87",
                                    "SZOBA_SZAMA": "3",
                                    "FEROHELY": "3",
                                    "POTAGY": "0",
                                    "KLIMAS": "i",
                                    "SZALLAS_FK": "7",
                                    "Legutolsó 5 foglalás": "2"
                                },
                                {
                                    "SZOBA_ID": "87",
                                    "SZOBA_SZAMA": "3",
                                    "FEROHELY": "3",
                                    "POTAGY": "0",
                                    "KLIMAS": "i",
                                    "SZALLAS_FK": "7",
                                    "Legutolsó 5 foglalás": "2"
                                },
                                {
                                    "SZOBA_ID": "88",
                                    "SZOBA_SZAMA": "4",
                                    "FEROHELY": "3",
                                    "POTAGY": "0",
                                    "KLIMAS": "n",
                                    "SZALLAS_FK": "7",
                                    "Legutolsó 5 foglalás": "2"
                                },
                                {
                                    "SZOBA_ID": "88",
                                    "SZOBA_SZAMA": "4",
                                    "FEROHELY": "3",
                                    "POTAGY": "0",
                                    "KLIMAS": "n",
                                    "SZALLAS_FK": "7",
                                    "Legutolsó 5 foglalás": "1"
                                },
                                {
                                    "SZOBA_ID": "88",
                                    "SZOBA_SZAMA": "4",
                                    "FEROHELY": "3",
                                    "POTAGY": "0",
                                    "KLIMAS": "n",
                                    "SZALLAS_FK": "7",
                                    "Legutolsó 5 foglalás": "2"
                                },
                                {
                                    "SZOBA_ID": "88",
                                    "SZOBA_SZAMA": "4",
                                    "FEROHELY": "3",
                                    "POTAGY": "0",
                                    "KLIMAS": "n",
                                    "SZALLAS_FK": "7",
                                    "Legutolsó 5 foglalás": "2"
                                },
                                {
                                    "SZOBA_ID": "88",
                                    "SZOBA_SZAMA": "4",
                                    "FEROHELY": "3",
                                    "POTAGY": "0",
                                    "KLIMAS": "n",
                                    "SZALLAS_FK": "7",
                                    "Legutolsó 5 foglalás": "2"
                                },
                                {
                                    "SZOBA_ID": "88",
                                    "SZOBA_SZAMA": "4",
                                    "FEROHELY": "3",
                                    "POTAGY": "0",
                                    "KLIMAS": "n",
                                    "SZALLAS_FK": "7",
                                    "Legutolsó 5 foglalás": "2"
                                },
                                {
                                    "SZOBA_ID": "88",
                                    "SZOBA_SZAMA": "4",
                                    "FEROHELY": "3",
                                    "POTAGY": "0",
                                    "KLIMAS": "n",
                                    "SZALLAS_FK": "7",
                                    "Legutolsó 5 foglalás": "2"
                                },
                                {
                                    "SZOBA_ID": "88",
                                    "SZOBA_SZAMA": "4",
                                    "FEROHELY": "3",
                                    "POTAGY": "0",
                                    "KLIMAS": "n",
                                    "SZALLAS_FK": "7",
                                    "Legutolsó 5 foglalás": "2"
                                },
                                {
                                    "SZOBA_ID": "89",
                                    "SZOBA_SZAMA": "5",
                                    "FEROHELY": "3",
                                    "POTAGY": "0",
                                    "KLIMAS": "i",
                                    "SZALLAS_FK": "7",
                                    "Legutolsó 5 foglalás": "3"
                                },
                                {
                                    "SZOBA_ID": "89",
                                    "SZOBA_SZAMA": "5",
                                    "FEROHELY": "3",
                                    "POTAGY": "0",
                                    "KLIMAS": "i",
                                    "SZALLAS_FK": "7",
                                    "Legutolsó 5 foglalás": "2"
                                },
                                {
                                    "SZOBA_ID": "89",
                                    "SZOBA_SZAMA": "5",
                                    "FEROHELY": "3",
                                    "POTAGY": "0",
                                    "KLIMAS": "i",
                                    "SZALLAS_FK": "7",
                                    "Legutolsó 5 foglalás": "2"
                                },
                                {
                                    "SZOBA_ID": "89",
                                    "SZOBA_SZAMA": "5",
                                    "FEROHELY": "3",
                                    "POTAGY": "0",
                                    "KLIMAS": "i",
                                    "SZALLAS_FK": "7",
                                    "Legutolsó 5 foglalás": "2"
                                },
                                {
                                    "SZOBA_ID": "89",
                                    "SZOBA_SZAMA": "5",
                                    "FEROHELY": "3",
                                    "POTAGY": "0",
                                    "KLIMAS": "i",
                                    "SZALLAS_FK": "7",
                                    "Legutolsó 5 foglalás": "2"
                                },
                                {
                                    "SZOBA_ID": "89",
                                    "SZOBA_SZAMA": "5",
                                    "FEROHELY": "3",
                                    "POTAGY": "0",
                                    "KLIMAS": "i",
                                    "SZALLAS_FK": "7",
                                    "Legutolsó 5 foglalás": "2"
                                },
                                {
                                    "SZOBA_ID": "89",
                                    "SZOBA_SZAMA": "5",
                                    "FEROHELY": "3",
                                    "POTAGY": "0",
                                    "KLIMAS": "i",
                                    "SZALLAS_FK": "7",
                                    "Legutolsó 5 foglalás": "2"
                                },
                                {
                                    "SZOBA_ID": "89",
                                    "SZOBA_SZAMA": "5",
                                    "FEROHELY": "3",
                                    "POTAGY": "0",
                                    "KLIMAS": "i",
                                    "SZALLAS_FK": "7",
                                    "Legutolsó 5 foglalás": "2"
                                },
                                {
                                    "SZOBA_ID": "90",
                                    "SZOBA_SZAMA": "6",
                                    "FEROHELY": "3",
                                    "POTAGY": "0",
                                    "KLIMAS": "i",
                                    "SZALLAS_FK": "7",
                                    "Legutolsó 5 foglalás": "2"
                                },
                                {
                                    "SZOBA_ID": "90",
                                    "SZOBA_SZAMA": "6",
                                    "FEROHELY": "3",
                                    "POTAGY": "0",
                                    "KLIMAS": "i",
                                    "SZALLAS_FK": "7",
                                    "Legutolsó 5 foglalás": "2"
                                },
                                {
                                    "SZOBA_ID": "90",
                                    "SZOBA_SZAMA": "6",
                                    "FEROHELY": "3",
                                    "POTAGY": "0",
                                    "KLIMAS": "i",
                                    "SZALLAS_FK": "7",
                                    "Legutolsó 5 foglalás": "2"
                                },
                                {
                                    "SZOBA_ID": "90",
                                    "SZOBA_SZAMA": "6",
                                    "FEROHELY": "3",
                                    "POTAGY": "0",
                                    "KLIMAS": "i",
                                    "SZALLAS_FK": "7",
                                    "Legutolsó 5 foglalás": "2"
                                },
                                {
                                    "SZOBA_ID": "91",
                                    "SZOBA_SZAMA": "1",
                                    "FEROHELY": "2",
                                    "POTAGY": "0",
                                    "KLIMAS": "n",
                                    "SZALLAS_FK": "8",
                                    "Legutolsó 5 foglalás": "2"
                                },
                                {
                                    "SZOBA_ID": "91",
                                    "SZOBA_SZAMA": "1",
                                    "FEROHELY": "2",
                                    "POTAGY": "0",
                                    "KLIMAS": "n",
                                    "SZALLAS_FK": "8",
                                    "Legutolsó 5 foglalás": "2"
                                },
                                {
                                    "SZOBA_ID": "91",
                                    "SZOBA_SZAMA": "1",
                                    "FEROHELY": "2",
                                    "POTAGY": "0",
                                    "KLIMAS": "n",
                                    "SZALLAS_FK": "8",
                                    "Legutolsó 5 foglalás": "1"
                                },
                                {
                                    "SZOBA_ID": "91",
                                    "SZOBA_SZAMA": "1",
                                    "FEROHELY": "2",
                                    "POTAGY": "0",
                                    "KLIMAS": "n",
                                    "SZALLAS_FK": "8",
                                    "Legutolsó 5 foglalás": "1"
                                },
                                {
                                    "SZOBA_ID": "92",
                                    "SZOBA_SZAMA": "2",
                                    "FEROHELY": "3",
                                    "POTAGY": "1",
                                    "KLIMAS": "i",
                                    "SZALLAS_FK": "8",
                                    "Legutolsó 5 foglalás": "4"
                                },
                                {
                                    "SZOBA_ID": "92",
                                    "SZOBA_SZAMA": "2",
                                    "FEROHELY": "3",
                                    "POTAGY": "1",
                                    "KLIMAS": "i",
                                    "SZALLAS_FK": "8",
                                    "Legutolsó 5 foglalás": "3"
                                },
                                {
                                    "SZOBA_ID": "92",
                                    "SZOBA_SZAMA": "2",
                                    "FEROHELY": "3",
                                    "POTAGY": "1",
                                    "KLIMAS": "i",
                                    "SZALLAS_FK": "8",
                                    "Legutolsó 5 foglalás": "3"
                                },
                                {
                                    "SZOBA_ID": "92",
                                    "SZOBA_SZAMA": "2",
                                    "FEROHELY": "3",
                                    "POTAGY": "1",
                                    "KLIMAS": "i",
                                    "SZALLAS_FK": "8",
                                    "Legutolsó 5 foglalás": "3"
                                },
                                {
                                    "SZOBA_ID": "92",
                                    "SZOBA_SZAMA": "2",
                                    "FEROHELY": "3",
                                    "POTAGY": "1",
                                    "KLIMAS": "i",
                                    "SZALLAS_FK": "8",
                                    "Legutolsó 5 foglalás": "3"
                                },
                                {
                                    "SZOBA_ID": "92",
                                    "SZOBA_SZAMA": "2",
                                    "FEROHELY": "3",
                                    "POTAGY": "1",
                                    "KLIMAS": "i",
                                    "SZALLAS_FK": "8",
                                    "Legutolsó 5 foglalás": "3"
                                },
                                {
                                    "SZOBA_ID": "93",
                                    "SZOBA_SZAMA": "3",
                                    "FEROHELY": "3",
                                    "POTAGY": "2",
                                    "KLIMAS": "i",
                                    "SZALLAS_FK": "8",
                                    "Legutolsó 5 foglalás": "4"
                                },
                                {
                                    "SZOBA_ID": "93",
                                    "SZOBA_SZAMA": "3",
                                    "FEROHELY": "3",
                                    "POTAGY": "2",
                                    "KLIMAS": "i",
                                    "SZALLAS_FK": "8",
                                    "Legutolsó 5 foglalás": "2"
                                },
                                {
                                    "SZOBA_ID": "93",
                                    "SZOBA_SZAMA": "3",
                                    "FEROHELY": "3",
                                    "POTAGY": "2",
                                    "KLIMAS": "i",
                                    "SZALLAS_FK": "8",
                                    "Legutolsó 5 foglalás": "3"
                                },
                                {
                                    "SZOBA_ID": "93",
                                    "SZOBA_SZAMA": "3",
                                    "FEROHELY": "3",
                                    "POTAGY": "2",
                                    "KLIMAS": "i",
                                    "SZALLAS_FK": "8",
                                    "Legutolsó 5 foglalás": "3"
                                },
                                {
                                    "SZOBA_ID": "93",
                                    "SZOBA_SZAMA": "3",
                                    "FEROHELY": "3",
                                    "POTAGY": "2",
                                    "KLIMAS": "i",
                                    "SZALLAS_FK": "8",
                                    "Legutolsó 5 foglalás": "3"
                                },
                                {
                                    "SZOBA_ID": "94",
                                    "SZOBA_SZAMA": "4",
                                    "FEROHELY": "2",
                                    "POTAGY": "0",
                                    "KLIMAS": "n",
                                    "SZALLAS_FK": "8",
                                    "Legutolsó 5 foglalás": "2"
                                },
                                {
                                    "SZOBA_ID": "94",
                                    "SZOBA_SZAMA": "4",
                                    "FEROHELY": "2",
                                    "POTAGY": "0",
                                    "KLIMAS": "n",
                                    "SZALLAS_FK": "8",
                                    "Legutolsó 5 foglalás": "2"
                                },
                                {
                                    "SZOBA_ID": "94",
                                    "SZOBA_SZAMA": "4",
                                    "FEROHELY": "2",
                                    "POTAGY": "0",
                                    "KLIMAS": "n",
                                    "SZALLAS_FK": "8",
                                    "Legutolsó 5 foglalás": "2"
                                },
                                {
                                    "SZOBA_ID": "94",
                                    "SZOBA_SZAMA": "4",
                                    "FEROHELY": "2",
                                    "POTAGY": "0",
                                    "KLIMAS": "n",
                                    "SZALLAS_FK": "8",
                                    "Legutolsó 5 foglalás": "2"
                                },
                                {
                                    "SZOBA_ID": "94",
                                    "SZOBA_SZAMA": "4",
                                    "FEROHELY": "2",
                                    "POTAGY": "0",
                                    "KLIMAS": "n",
                                    "SZALLAS_FK": "8",
                                    "Legutolsó 5 foglalás": "2"
                                },
                                {
                                    "SZOBA_ID": "94",
                                    "SZOBA_SZAMA": "4",
                                    "FEROHELY": "2",
                                    "POTAGY": "0",
                                    "KLIMAS": "n",
                                    "SZALLAS_FK": "8",
                                    "Legutolsó 5 foglalás": "2"
                                },
                                {
                                    "SZOBA_ID": "94",
                                    "SZOBA_SZAMA": "4",
                                    "FEROHELY": "2",
                                    "POTAGY": "0",
                                    "KLIMAS": "n",
                                    "SZALLAS_FK": "8",
                                    "Legutolsó 5 foglalás": "1"
                                },
                                {
                                    "SZOBA_ID": "94",
                                    "SZOBA_SZAMA": "4",
                                    "FEROHELY": "2",
                                    "POTAGY": "0",
                                    "KLIMAS": "n",
                                    "SZALLAS_FK": "8",
                                    "Legutolsó 5 foglalás": "1"
                                },
                                {
                                    "SZOBA_ID": "94",
                                    "SZOBA_SZAMA": "4",
                                    "FEROHELY": "2",
                                    "POTAGY": "0",
                                    "KLIMAS": "n",
                                    "SZALLAS_FK": "8",
                                    "Legutolsó 5 foglalás": "1"
                                },
                                {
                                    "SZOBA_ID": "94",
                                    "SZOBA_SZAMA": "4",
                                    "FEROHELY": "2",
                                    "POTAGY": "0",
                                    "KLIMAS": "n",
                                    "SZALLAS_FK": "8",
                                    "Legutolsó 5 foglalás": "1"
                                },
                                {
                                    "SZOBA_ID": "95",
                                    "SZOBA_SZAMA": "5",
                                    "FEROHELY": "3",
                                    "POTAGY": "1",
                                    "KLIMAS": "i",
                                    "SZALLAS_FK": "8",
                                    "Legutolsó 5 foglalás": "2"
                                },
                                {
                                    "SZOBA_ID": "95",
                                    "SZOBA_SZAMA": "5",
                                    "FEROHELY": "3",
                                    "POTAGY": "1",
                                    "KLIMAS": "i",
                                    "SZALLAS_FK": "8",
                                    "Legutolsó 5 foglalás": "1"
                                },
                                {
                                    "SZOBA_ID": "95",
                                    "SZOBA_SZAMA": "5",
                                    "FEROHELY": "3",
                                    "POTAGY": "1",
                                    "KLIMAS": "i",
                                    "SZALLAS_FK": "8",
                                    "Legutolsó 5 foglalás": "2"
                                },
                                {
                                    "SZOBA_ID": "95",
                                    "SZOBA_SZAMA": "5",
                                    "FEROHELY": "3",
                                    "POTAGY": "1",
                                    "KLIMAS": "i",
                                    "SZALLAS_FK": "8",
                                    "Legutolsó 5 foglalás": "1"
                                },
                                {
                                    "SZOBA_ID": "96",
                                    "SZOBA_SZAMA": "6",
                                    "FEROHELY": "3",
                                    "POTAGY": "0",
                                    "KLIMAS": "n",
                                    "SZALLAS_FK": "8",
                                    "Legutolsó 5 foglalás": "3"
                                },
                                {
                                    "SZOBA_ID": "96",
                                    "SZOBA_SZAMA": "6",
                                    "FEROHELY": "3",
                                    "POTAGY": "0",
                                    "KLIMAS": "n",
                                    "SZALLAS_FK": "8",
                                    "Legutolsó 5 foglalás": "3"
                                },
                                {
                                    "SZOBA_ID": "96",
                                    "SZOBA_SZAMA": "6",
                                    "FEROHELY": "3",
                                    "POTAGY": "0",
                                    "KLIMAS": "n",
                                    "SZALLAS_FK": "8",
                                    "Legutolsó 5 foglalás": "3"
                                },
                                {
                                    "SZOBA_ID": "96",
                                    "SZOBA_SZAMA": "6",
                                    "FEROHELY": "3",
                                    "POTAGY": "0",
                                    "KLIMAS": "n",
                                    "SZALLAS_FK": "8",
                                    "Legutolsó 5 foglalás": "2"
                                },
                                {
                                    "SZOBA_ID": "96",
                                    "SZOBA_SZAMA": "6",
                                    "FEROHELY": "3",
                                    "POTAGY": "0",
                                    "KLIMAS": "n",
                                    "SZALLAS_FK": "8",
                                    "Legutolsó 5 foglalás": "2"
                                },
                                {
                                    "SZOBA_ID": "96",
                                    "SZOBA_SZAMA": "6",
                                    "FEROHELY": "3",
                                    "POTAGY": "0",
                                    "KLIMAS": "n",
                                    "SZALLAS_FK": "8",
                                    "Legutolsó 5 foglalás": "2"
                                },
                                {
                                    "SZOBA_ID": "96",
                                    "SZOBA_SZAMA": "6",
                                    "FEROHELY": "3",
                                    "POTAGY": "0",
                                    "KLIMAS": "n",
                                    "SZALLAS_FK": "8",
                                    "Legutolsó 5 foglalás": "2"
                                },
                                {
                                    "SZOBA_ID": "97",
                                    "SZOBA_SZAMA": "7",
                                    "FEROHELY": "3",
                                    "POTAGY": "2",
                                    "KLIMAS": "n",
                                    "SZALLAS_FK": "8",
                                    "Legutolsó 5 foglalás": "4"
                                },
                                {
                                    "SZOBA_ID": "97",
                                    "SZOBA_SZAMA": "7",
                                    "FEROHELY": "3",
                                    "POTAGY": "2",
                                    "KLIMAS": "n",
                                    "SZALLAS_FK": "8",
                                    "Legutolsó 5 foglalás": "4"
                                },
                                {
                                    "SZOBA_ID": "97",
                                    "SZOBA_SZAMA": "7",
                                    "FEROHELY": "3",
                                    "POTAGY": "2",
                                    "KLIMAS": "n",
                                    "SZALLAS_FK": "8",
                                    "Legutolsó 5 foglalás": "4"
                                },
                                {
                                    "SZOBA_ID": "97",
                                    "SZOBA_SZAMA": "7",
                                    "FEROHELY": "3",
                                    "POTAGY": "2",
                                    "KLIMAS": "n",
                                    "SZALLAS_FK": "8",
                                    "Legutolsó 5 foglalás": "3"
                                },
                                {
                                    "SZOBA_ID": "97",
                                    "SZOBA_SZAMA": "7",
                                    "FEROHELY": "3",
                                    "POTAGY": "2",
                                    "KLIMAS": "n",
                                    "SZALLAS_FK": "8",
                                    "Legutolsó 5 foglalás": "3"
                                },
                                {
                                    "SZOBA_ID": "97",
                                    "SZOBA_SZAMA": "7",
                                    "FEROHELY": "3",
                                    "POTAGY": "2",
                                    "KLIMAS": "n",
                                    "SZALLAS_FK": "8",
                                    "Legutolsó 5 foglalás": "3"
                                },
                                {
                                    "SZOBA_ID": "97",
                                    "SZOBA_SZAMA": "7",
                                    "FEROHELY": "3",
                                    "POTAGY": "2",
                                    "KLIMAS": "n",
                                    "SZALLAS_FK": "8",
                                    "Legutolsó 5 foglalás": "3"
                                },
                                {
                                    "SZOBA_ID": "98",
                                    "SZOBA_SZAMA": "8",
                                    "FEROHELY": "2",
                                    "POTAGY": "0",
                                    "KLIMAS": "n",
                                    "SZALLAS_FK": "8",
                                    "Legutolsó 5 foglalás": "1"
                                },
                                {
                                    "SZOBA_ID": "98",
                                    "SZOBA_SZAMA": "8",
                                    "FEROHELY": "2",
                                    "POTAGY": "0",
                                    "KLIMAS": "n",
                                    "SZALLAS_FK": "8",
                                    "Legutolsó 5 foglalás": "1"
                                },
                                {
                                    "SZOBA_ID": "98",
                                    "SZOBA_SZAMA": "8",
                                    "FEROHELY": "2",
                                    "POTAGY": "0",
                                    "KLIMAS": "n",
                                    "SZALLAS_FK": "8",
                                    "Legutolsó 5 foglalás": "1"
                                },
                                {
                                    "SZOBA_ID": "98",
                                    "SZOBA_SZAMA": "8",
                                    "FEROHELY": "2",
                                    "POTAGY": "0",
                                    "KLIMAS": "n",
                                    "SZALLAS_FK": "8",
                                    "Legutolsó 5 foglalás": "1"
                                },
                                {
                                    "SZOBA_ID": "99",
                                    "SZOBA_SZAMA": "9",
                                    "FEROHELY": "2",
                                    "POTAGY": "0",
                                    "KLIMAS": "n",
                                    "SZALLAS_FK": "8",
                                    "Legutolsó 5 foglalás": "2"
                                },
                                {
                                    "SZOBA_ID": "99",
                                    "SZOBA_SZAMA": "9",
                                    "FEROHELY": "2",
                                    "POTAGY": "0",
                                    "KLIMAS": "n",
                                    "SZALLAS_FK": "8",
                                    "Legutolsó 5 foglalás": "2"
                                },
                                {
                                    "SZOBA_ID": "99",
                                    "SZOBA_SZAMA": "9",
                                    "FEROHELY": "2",
                                    "POTAGY": "0",
                                    "KLIMAS": "n",
                                    "SZALLAS_FK": "8",
                                    "Legutolsó 5 foglalás": "2"
                                },
                                {
                                    "SZOBA_ID": "99",
                                    "SZOBA_SZAMA": "9",
                                    "FEROHELY": "2",
                                    "POTAGY": "0",
                                    "KLIMAS": "n",
                                    "SZALLAS_FK": "8",
                                    "Legutolsó 5 foglalás": "2"
                                },
                                {
                                    "SZOBA_ID": "99",
                                    "SZOBA_SZAMA": "9",
                                    "FEROHELY": "2",
                                    "POTAGY": "0",
                                    "KLIMAS": "n",
                                    "SZALLAS_FK": "8",
                                    "Legutolsó 5 foglalás": "2"
                                },
                                {
                                    "SZOBA_ID": "100",
                                    "SZOBA_SZAMA": "10",
                                    "FEROHELY": "2",
                                    "POTAGY": "1",
                                    "KLIMAS": "i",
                                    "SZALLAS_FK": "8",
                                    "Legutolsó 5 foglalás": "2"
                                },
                                {
                                    "SZOBA_ID": "100",
                                    "SZOBA_SZAMA": "10",
                                    "FEROHELY": "2",
                                    "POTAGY": "1",
                                    "KLIMAS": "i",
                                    "SZALLAS_FK": "8",
                                    "Legutolsó 5 foglalás": "2"
                                },
                                {
                                    "SZOBA_ID": "100",
                                    "SZOBA_SZAMA": "10",
                                    "FEROHELY": "2",
                                    "POTAGY": "1",
                                    "KLIMAS": "i",
                                    "SZALLAS_FK": "8",
                                    "Legutolsó 5 foglalás": "2"
                                },
                                {
                                    "SZOBA_ID": "100",
                                    "SZOBA_SZAMA": "10",
                                    "FEROHELY": "2",
                                    "POTAGY": "1",
                                    "KLIMAS": "i",
                                    "SZALLAS_FK": "8",
                                    "Legutolsó 5 foglalás": "2"
                                },
                                {
                                    "SZOBA_ID": "101",
                                    "SZOBA_SZAMA": "11",
                                    "FEROHELY": "2",
                                    "POTAGY": "0",
                                    "KLIMAS": "i",
                                    "SZALLAS_FK": "8",
                                    "Legutolsó 5 foglalás": "2"
                                },
                                {
                                    "SZOBA_ID": "101",
                                    "SZOBA_SZAMA": "11",
                                    "FEROHELY": "2",
                                    "POTAGY": "0",
                                    "KLIMAS": "i",
                                    "SZALLAS_FK": "8",
                                    "Legutolsó 5 foglalás": "2"
                                },
                                {
                                    "SZOBA_ID": "101",
                                    "SZOBA_SZAMA": "11",
                                    "FEROHELY": "2",
                                    "POTAGY": "0",
                                    "KLIMAS": "i",
                                    "SZALLAS_FK": "8",
                                    "Legutolsó 5 foglalás": "2"
                                },
                                {
                                    "SZOBA_ID": "102",
                                    "SZOBA_SZAMA": "12",
                                    "FEROHELY": "2",
                                    "POTAGY": "1",
                                    "KLIMAS": "i",
                                    "SZALLAS_FK": "8",
                                    "Legutolsó 5 foglalás": "1"
                                },
                                {
                                    "SZOBA_ID": "102",
                                    "SZOBA_SZAMA": "12",
                                    "FEROHELY": "2",
                                    "POTAGY": "1",
                                    "KLIMAS": "i",
                                    "SZALLAS_FK": "8",
                                    "Legutolsó 5 foglalás": "1"
                                },
                                {
                                    "SZOBA_ID": "103",
                                    "SZOBA_SZAMA": "13",
                                    "FEROHELY": "2",
                                    "POTAGY": "1",
                                    "KLIMAS": "i",
                                    "SZALLAS_FK": "8",
                                    "Legutolsó 5 foglalás": "3"
                                },
                                {
                                    "SZOBA_ID": "103",
                                    "SZOBA_SZAMA": "13",
                                    "FEROHELY": "2",
                                    "POTAGY": "1",
                                    "KLIMAS": "i",
                                    "SZALLAS_FK": "8",
                                    "Legutolsó 5 foglalás": "2"
                                },
                                {
                                    "SZOBA_ID": "103",
                                    "SZOBA_SZAMA": "13",
                                    "FEROHELY": "2",
                                    "POTAGY": "1",
                                    "KLIMAS": "i",
                                    "SZALLAS_FK": "8",
                                    "Legutolsó 5 foglalás": "2"
                                },
                                {
                                    "SZOBA_ID": "103",
                                    "SZOBA_SZAMA": "13",
                                    "FEROHELY": "2",
                                    "POTAGY": "1",
                                    "KLIMAS": "i",
                                    "SZALLAS_FK": "8",
                                    "Legutolsó 5 foglalás": "2"
                                },
                                {
                                    "SZOBA_ID": "104",
                                    "SZOBA_SZAMA": "14",
                                    "FEROHELY": "3",
                                    "POTAGY": "0",
                                    "KLIMAS": "i",
                                    "SZALLAS_FK": "8",
                                    "Legutolsó 5 foglalás": "3"
                                },
                                {
                                    "SZOBA_ID": "104",
                                    "SZOBA_SZAMA": "14",
                                    "FEROHELY": "3",
                                    "POTAGY": "0",
                                    "KLIMAS": "i",
                                    "SZALLAS_FK": "8",
                                    "Legutolsó 5 foglalás": "3"
                                },
                                {
                                    "SZOBA_ID": "104",
                                    "SZOBA_SZAMA": "14",
                                    "FEROHELY": "3",
                                    "POTAGY": "0",
                                    "KLIMAS": "i",
                                    "SZALLAS_FK": "8",
                                    "Legutolsó 5 foglalás": "3"
                                },
                                {
                                    "SZOBA_ID": "104",
                                    "SZOBA_SZAMA": "14",
                                    "FEROHELY": "3",
                                    "POTAGY": "0",
                                    "KLIMAS": "i",
                                    "SZALLAS_FK": "8",
                                    "Legutolsó 5 foglalás": "2"
                                },
                                {
                                    "SZOBA_ID": "105",
                                    "SZOBA_SZAMA": "15",
                                    "FEROHELY": "2",
                                    "POTAGY": "0",
                                    "KLIMAS": "i",
                                    "SZALLAS_FK": "8",
                                    "Legutolsó 5 foglalás": "2"
                                },
                                {
                                    "SZOBA_ID": "105",
                                    "SZOBA_SZAMA": "15",
                                    "FEROHELY": "2",
                                    "POTAGY": "0",
                                    "KLIMAS": "i",
                                    "SZALLAS_FK": "8",
                                    "Legutolsó 5 foglalás": "2"
                                },
                                {
                                    "SZOBA_ID": "106",
                                    "SZOBA_SZAMA": "16",
                                    "FEROHELY": "2",
                                    "POTAGY": "0",
                                    "KLIMAS": "i",
                                    "SZALLAS_FK": "8",
                                    "Legutolsó 5 foglalás": "1"
                                },
                                {
                                    "SZOBA_ID": "106",
                                    "SZOBA_SZAMA": "16",
                                    "FEROHELY": "2",
                                    "POTAGY": "0",
                                    "KLIMAS": "i",
                                    "SZALLAS_FK": "8",
                                    "Legutolsó 5 foglalás": "1"
                                },
                                {
                                    "SZOBA_ID": "106",
                                    "SZOBA_SZAMA": "16",
                                    "FEROHELY": "2",
                                    "POTAGY": "0",
                                    "KLIMAS": "i",
                                    "SZALLAS_FK": "8",
                                    "Legutolsó 5 foglalás": "1"
                                },
                                {
                                    "SZOBA_ID": "106",
                                    "SZOBA_SZAMA": "16",
                                    "FEROHELY": "2",
                                    "POTAGY": "0",
                                    "KLIMAS": "i",
                                    "SZALLAS_FK": "8",
                                    "Legutolsó 5 foglalás": "1"
                                },
                                {
                                    "SZOBA_ID": "106",
                                    "SZOBA_SZAMA": "16",
                                    "FEROHELY": "2",
                                    "POTAGY": "0",
                                    "KLIMAS": "i",
                                    "SZALLAS_FK": "8",
                                    "Legutolsó 5 foglalás": "1"
                                },
                                {
                                    "SZOBA_ID": "106",
                                    "SZOBA_SZAMA": "16",
                                    "FEROHELY": "2",
                                    "POTAGY": "0",
                                    "KLIMAS": "i",
                                    "SZALLAS_FK": "8",
                                    "Legutolsó 5 foglalás": "1"
                                },
                                {
                                    "SZOBA_ID": "107",
                                    "SZOBA_SZAMA": "17",
                                    "FEROHELY": "2",
                                    "POTAGY": "1",
                                    "KLIMAS": "n",
                                    "SZALLAS_FK": "8",
                                    "Legutolsó 5 foglalás": "1"
                                },
                                {
                                    "SZOBA_ID": "107",
                                    "SZOBA_SZAMA": "17",
                                    "FEROHELY": "2",
                                    "POTAGY": "1",
                                    "KLIMAS": "n",
                                    "SZALLAS_FK": "8",
                                    "Legutolsó 5 foglalás": "1"
                                },
                                {
                                    "SZOBA_ID": "107",
                                    "SZOBA_SZAMA": "17",
                                    "FEROHELY": "2",
                                    "POTAGY": "1",
                                    "KLIMAS": "n",
                                    "SZALLAS_FK": "8",
                                    "Legutolsó 5 foglalás": "1"
                                },
                                {
                                    "SZOBA_ID": "107",
                                    "SZOBA_SZAMA": "17",
                                    "FEROHELY": "2",
                                    "POTAGY": "1",
                                    "KLIMAS": "n",
                                    "SZALLAS_FK": "8",
                                    "Legutolsó 5 foglalás": "2"
                                },
                                {
                                    "SZOBA_ID": "107",
                                    "SZOBA_SZAMA": "17",
                                    "FEROHELY": "2",
                                    "POTAGY": "1",
                                    "KLIMAS": "n",
                                    "SZALLAS_FK": "8",
                                    "Legutolsó 5 foglalás": "2"
                                },
                                {
                                    "SZOBA_ID": "108",
                                    "SZOBA_SZAMA": "18",
                                    "FEROHELY": "2",
                                    "POTAGY": "0",
                                    "KLIMAS": "i",
                                    "SZALLAS_FK": "8",
                                    "Legutolsó 5 foglalás": "1"
                                },
                                {
                                    "SZOBA_ID": "108",
                                    "SZOBA_SZAMA": "18",
                                    "FEROHELY": "2",
                                    "POTAGY": "0",
                                    "KLIMAS": "i",
                                    "SZALLAS_FK": "8",
                                    "Legutolsó 5 foglalás": "1"
                                },
                                {
                                    "SZOBA_ID": "109",
                                    "SZOBA_SZAMA": "19",
                                    "FEROHELY": "2",
                                    "POTAGY": "1",
                                    "KLIMAS": "i",
                                    "SZALLAS_FK": "8",
                                    "Legutolsó 5 foglalás": "3"
                                },
                                {
                                    "SZOBA_ID": "109",
                                    "SZOBA_SZAMA": "19",
                                    "FEROHELY": "2",
                                    "POTAGY": "1",
                                    "KLIMAS": "i",
                                    "SZALLAS_FK": "8",
                                    "Legutolsó 5 foglalás": "2"
                                },
                                {
                                    "SZOBA_ID": "109",
                                    "SZOBA_SZAMA": "19",
                                    "FEROHELY": "2",
                                    "POTAGY": "1",
                                    "KLIMAS": "i",
                                    "SZALLAS_FK": "8",
                                    "Legutolsó 5 foglalás": "2"
                                },
                                {
                                    "SZOBA_ID": "109",
                                    "SZOBA_SZAMA": "19",
                                    "FEROHELY": "2",
                                    "POTAGY": "1",
                                    "KLIMAS": "i",
                                    "SZALLAS_FK": "8",
                                    "Legutolsó 5 foglalás": "2"
                                },
                                {
                                    "SZOBA_ID": "109",
                                    "SZOBA_SZAMA": "19",
                                    "FEROHELY": "2",
                                    "POTAGY": "1",
                                    "KLIMAS": "i",
                                    "SZALLAS_FK": "8",
                                    "Legutolsó 5 foglalás": "2"
                                },
                                {
                                    "SZOBA_ID": "109",
                                    "SZOBA_SZAMA": "19",
                                    "FEROHELY": "2",
                                    "POTAGY": "1",
                                    "KLIMAS": "i",
                                    "SZALLAS_FK": "8",
                                    "Legutolsó 5 foglalás": "2"
                                },
                                {
                                    "SZOBA_ID": "109",
                                    "SZOBA_SZAMA": "19",
                                    "FEROHELY": "2",
                                    "POTAGY": "1",
                                    "KLIMAS": "i",
                                    "SZALLAS_FK": "8",
                                    "Legutolsó 5 foglalás": "2"
                                },
                                {
                                    "SZOBA_ID": "110",
                                    "SZOBA_SZAMA": "20",
                                    "FEROHELY": "2",
                                    "POTAGY": "0",
                                    "KLIMAS": "i",
                                    "SZALLAS_FK": "8",
                                    "Legutolsó 5 foglalás": "2"
                                },
                                {
                                    "SZOBA_ID": "110",
                                    "SZOBA_SZAMA": "20",
                                    "FEROHELY": "2",
                                    "POTAGY": "0",
                                    "KLIMAS": "i",
                                    "SZALLAS_FK": "8",
                                    "Legutolsó 5 foglalás": "2"
                                },
                                {
                                    "SZOBA_ID": "110",
                                    "SZOBA_SZAMA": "20",
                                    "FEROHELY": "2",
                                    "POTAGY": "0",
                                    "KLIMAS": "i",
                                    "SZALLAS_FK": "8",
                                    "Legutolsó 5 foglalás": "2"
                                },
                                {
                                    "SZOBA_ID": "110",
                                    "SZOBA_SZAMA": "20",
                                    "FEROHELY": "2",
                                    "POTAGY": "0",
                                    "KLIMAS": "i",
                                    "SZALLAS_FK": "8",
                                    "Legutolsó 5 foglalás": "2"
                                },
                                {
                                    "SZOBA_ID": "110",
                                    "SZOBA_SZAMA": "20",
                                    "FEROHELY": "2",
                                    "POTAGY": "0",
                                    "KLIMAS": "i",
                                    "SZALLAS_FK": "8",
                                    "Legutolsó 5 foglalás": "1"
                                },
                                {
                                    "SZOBA_ID": "110",
                                    "SZOBA_SZAMA": "20",
                                    "FEROHELY": "2",
                                    "POTAGY": "0",
                                    "KLIMAS": "i",
                                    "SZALLAS_FK": "8",
                                    "Legutolsó 5 foglalás": "1"
                                },
                                {
                                    "SZOBA_ID": "110",
                                    "SZOBA_SZAMA": "20",
                                    "FEROHELY": "2",
                                    "POTAGY": "0",
                                    "KLIMAS": "i",
                                    "SZALLAS_FK": "8",
                                    "Legutolsó 5 foglalás": "1"
                                },
                                {
                                    "SZOBA_ID": "110",
                                    "SZOBA_SZAMA": "20",
                                    "FEROHELY": "2",
                                    "POTAGY": "0",
                                    "KLIMAS": "i",
                                    "SZALLAS_FK": "8",
                                    "Legutolsó 5 foglalás": "1"
                                },
                                {
                                    "SZOBA_ID": "111",
                                    "SZOBA_SZAMA": "21",
                                    "FEROHELY": "2",
                                    "POTAGY": "1",
                                    "KLIMAS": "i",
                                    "SZALLAS_FK": "8",
                                    "Legutolsó 5 foglalás": "3"
                                },
                                {
                                    "SZOBA_ID": "111",
                                    "SZOBA_SZAMA": "21",
                                    "FEROHELY": "2",
                                    "POTAGY": "1",
                                    "KLIMAS": "i",
                                    "SZALLAS_FK": "8",
                                    "Legutolsó 5 foglalás": "2"
                                },
                                {
                                    "SZOBA_ID": "111",
                                    "SZOBA_SZAMA": "21",
                                    "FEROHELY": "2",
                                    "POTAGY": "1",
                                    "KLIMAS": "i",
                                    "SZALLAS_FK": "8",
                                    "Legutolsó 5 foglalás": "2"
                                },
                                {
                                    "SZOBA_ID": "111",
                                    "SZOBA_SZAMA": "21",
                                    "FEROHELY": "2",
                                    "POTAGY": "1",
                                    "KLIMAS": "i",
                                    "SZALLAS_FK": "8",
                                    "Legutolsó 5 foglalás": "2"
                                },
                                {
                                    "SZOBA_ID": "111",
                                    "SZOBA_SZAMA": "21",
                                    "FEROHELY": "2",
                                    "POTAGY": "1",
                                    "KLIMAS": "i",
                                    "SZALLAS_FK": "8",
                                    "Legutolsó 5 foglalás": "2"
                                },
                                {
                                    "SZOBA_ID": "112",
                                    "SZOBA_SZAMA": "22",
                                    "FEROHELY": "3",
                                    "POTAGY": "0",
                                    "KLIMAS": "i",
                                    "SZALLAS_FK": "8",
                                    "Legutolsó 5 foglalás": "3"
                                },
                                {
                                    "SZOBA_ID": "112",
                                    "SZOBA_SZAMA": "22",
                                    "FEROHELY": "3",
                                    "POTAGY": "0",
                                    "KLIMAS": "i",
                                    "SZALLAS_FK": "8",
                                    "Legutolsó 5 foglalás": "3"
                                },
                                {
                                    "SZOBA_ID": "112",
                                    "SZOBA_SZAMA": "22",
                                    "FEROHELY": "3",
                                    "POTAGY": "0",
                                    "KLIMAS": "i",
                                    "SZALLAS_FK": "8",
                                    "Legutolsó 5 foglalás": "3"
                                },
                                {
                                    "SZOBA_ID": "112",
                                    "SZOBA_SZAMA": "22",
                                    "FEROHELY": "3",
                                    "POTAGY": "0",
                                    "KLIMAS": "i",
                                    "SZALLAS_FK": "8",
                                    "Legutolsó 5 foglalás": "3"
                                },
                                {
                                    "SZOBA_ID": "112",
                                    "SZOBA_SZAMA": "22",
                                    "FEROHELY": "3",
                                    "POTAGY": "0",
                                    "KLIMAS": "i",
                                    "SZALLAS_FK": "8",
                                    "Legutolsó 5 foglalás": "3"
                                },
                                {
                                    "SZOBA_ID": "113",
                                    "SZOBA_SZAMA": "23",
                                    "FEROHELY": "3",
                                    "POTAGY": "2",
                                    "KLIMAS": "i",
                                    "SZALLAS_FK": "8",
                                    "Legutolsó 5 foglalás": "4"
                                },
                                {
                                    "SZOBA_ID": "113",
                                    "SZOBA_SZAMA": "23",
                                    "FEROHELY": "3",
                                    "POTAGY": "2",
                                    "KLIMAS": "i",
                                    "SZALLAS_FK": "8",
                                    "Legutolsó 5 foglalás": "4"
                                },
                                {
                                    "SZOBA_ID": "113",
                                    "SZOBA_SZAMA": "23",
                                    "FEROHELY": "3",
                                    "POTAGY": "2",
                                    "KLIMAS": "i",
                                    "SZALLAS_FK": "8",
                                    "Legutolsó 5 foglalás": "4"
                                },
                                {
                                    "SZOBA_ID": "113",
                                    "SZOBA_SZAMA": "23",
                                    "FEROHELY": "3",
                                    "POTAGY": "2",
                                    "KLIMAS": "i",
                                    "SZALLAS_FK": "8",
                                    "Legutolsó 5 foglalás": "4"
                                },
                                {
                                    "SZOBA_ID": "113",
                                    "SZOBA_SZAMA": "23",
                                    "FEROHELY": "3",
                                    "POTAGY": "2",
                                    "KLIMAS": "i",
                                    "SZALLAS_FK": "8",
                                    "Legutolsó 5 foglalás": "4"
                                },
                                {
                                    "SZOBA_ID": "114",
                                    "SZOBA_SZAMA": "24",
                                    "FEROHELY": "2",
                                    "POTAGY": "1",
                                    "KLIMAS": "n",
                                    "SZALLAS_FK": "8",
                                    "Legutolsó 5 foglalás": "2"
                                },
                                {
                                    "SZOBA_ID": "114",
                                    "SZOBA_SZAMA": "24",
                                    "FEROHELY": "2",
                                    "POTAGY": "1",
                                    "KLIMAS": "n",
                                    "SZALLAS_FK": "8",
                                    "Legutolsó 5 foglalás": "2"
                                },
                                {
                                    "SZOBA_ID": "114",
                                    "SZOBA_SZAMA": "24",
                                    "FEROHELY": "2",
                                    "POTAGY": "1",
                                    "KLIMAS": "n",
                                    "SZALLAS_FK": "8",
                                    "Legutolsó 5 foglalás": "2"
                                },
                                {
                                    "SZOBA_ID": "114",
                                    "SZOBA_SZAMA": "24",
                                    "FEROHELY": "2",
                                    "POTAGY": "1",
                                    "KLIMAS": "n",
                                    "SZALLAS_FK": "8",
                                    "Legutolsó 5 foglalás": "2"
                                },
                                {
                                    "SZOBA_ID": "115",
                                    "SZOBA_SZAMA": "25",
                                    "FEROHELY": "3",
                                    "POTAGY": "0",
                                    "KLIMAS": "i",
                                    "SZALLAS_FK": "8",
                                    "Legutolsó 5 foglalás": "3"
                                },
                                {
                                    "SZOBA_ID": "115",
                                    "SZOBA_SZAMA": "25",
                                    "FEROHELY": "3",
                                    "POTAGY": "0",
                                    "KLIMAS": "i",
                                    "SZALLAS_FK": "8",
                                    "Legutolsó 5 foglalás": "3"
                                },
                                {
                                    "SZOBA_ID": "115",
                                    "SZOBA_SZAMA": "25",
                                    "FEROHELY": "3",
                                    "POTAGY": "0",
                                    "KLIMAS": "i",
                                    "SZALLAS_FK": "8",
                                    "Legutolsó 5 foglalás": "3"
                                },
                                {
                                    "SZOBA_ID": "115",
                                    "SZOBA_SZAMA": "25",
                                    "FEROHELY": "3",
                                    "POTAGY": "0",
                                    "KLIMAS": "i",
                                    "SZALLAS_FK": "8",
                                    "Legutolsó 5 foglalás": "2"
                                },
                                {
                                    "SZOBA_ID": "115",
                                    "SZOBA_SZAMA": "25",
                                    "FEROHELY": "3",
                                    "POTAGY": "0",
                                    "KLIMAS": "i",
                                    "SZALLAS_FK": "8",
                                    "Legutolsó 5 foglalás": "2"
                                },
                                {
                                    "SZOBA_ID": "115",
                                    "SZOBA_SZAMA": "25",
                                    "FEROHELY": "3",
                                    "POTAGY": "0",
                                    "KLIMAS": "i",
                                    "SZALLAS_FK": "8",
                                    "Legutolsó 5 foglalás": "2"
                                },
                                {
                                    "SZOBA_ID": "115",
                                    "SZOBA_SZAMA": "25",
                                    "FEROHELY": "3",
                                    "POTAGY": "0",
                                    "KLIMAS": "i",
                                    "SZALLAS_FK": "8",
                                    "Legutolsó 5 foglalás": "2"
                                },
                                {
                                    "SZOBA_ID": "116",
                                    "SZOBA_SZAMA": "26",
                                    "FEROHELY": "3",
                                    "POTAGY": "0",
                                    "KLIMAS": "i",
                                    "SZALLAS_FK": "8",
                                    "Legutolsó 5 foglalás": "2"
                                },
                                {
                                    "SZOBA_ID": "116",
                                    "SZOBA_SZAMA": "26",
                                    "FEROHELY": "3",
                                    "POTAGY": "0",
                                    "KLIMAS": "i",
                                    "SZALLAS_FK": "8",
                                    "Legutolsó 5 foglalás": "2"
                                },
                                {
                                    "SZOBA_ID": "117",
                                    "SZOBA_SZAMA": "27",
                                    "FEROHELY": "3",
                                    "POTAGY": "1",
                                    "KLIMAS": "i",
                                    "SZALLAS_FK": "8",
                                    "Legutolsó 5 foglalás": "2"
                                },
                                {
                                    "SZOBA_ID": "117",
                                    "SZOBA_SZAMA": "27",
                                    "FEROHELY": "3",
                                    "POTAGY": "1",
                                    "KLIMAS": "i",
                                    "SZALLAS_FK": "8",
                                    "Legutolsó 5 foglalás": "2"
                                },
                                {
                                    "SZOBA_ID": "117",
                                    "SZOBA_SZAMA": "27",
                                    "FEROHELY": "3",
                                    "POTAGY": "1",
                                    "KLIMAS": "i",
                                    "SZALLAS_FK": "8",
                                    "Legutolsó 5 foglalás": "2"
                                },
                                {
                                    "SZOBA_ID": "117",
                                    "SZOBA_SZAMA": "27",
                                    "FEROHELY": "3",
                                    "POTAGY": "1",
                                    "KLIMAS": "i",
                                    "SZALLAS_FK": "8",
                                    "Legutolsó 5 foglalás": "2"
                                },
                                {
                                    "SZOBA_ID": "117",
                                    "SZOBA_SZAMA": "27",
                                    "FEROHELY": "3",
                                    "POTAGY": "1",
                                    "KLIMAS": "i",
                                    "SZALLAS_FK": "8",
                                    "Legutolsó 5 foglalás": "3"
                                },
                                {
                                    "SZOBA_ID": "117",
                                    "SZOBA_SZAMA": "27",
                                    "FEROHELY": "3",
                                    "POTAGY": "1",
                                    "KLIMAS": "i",
                                    "SZALLAS_FK": "8",
                                    "Legutolsó 5 foglalás": "2"
                                },
                                {
                                    "SZOBA_ID": "117",
                                    "SZOBA_SZAMA": "27",
                                    "FEROHELY": "3",
                                    "POTAGY": "1",
                                    "KLIMAS": "i",
                                    "SZALLAS_FK": "8",
                                    "Legutolsó 5 foglalás": "3"
                                },
                                {
                                    "SZOBA_ID": "117",
                                    "SZOBA_SZAMA": "27",
                                    "FEROHELY": "3",
                                    "POTAGY": "1",
                                    "KLIMAS": "i",
                                    "SZALLAS_FK": "8",
                                    "Legutolsó 5 foglalás": "3"
                                },
                                {
                                    "SZOBA_ID": "118",
                                    "SZOBA_SZAMA": "28",
                                    "FEROHELY": "2",
                                    "POTAGY": "1",
                                    "KLIMAS": "i",
                                    "SZALLAS_FK": "8",
                                    "Legutolsó 5 foglalás": "2"
                                },
                                {
                                    "SZOBA_ID": "118",
                                    "SZOBA_SZAMA": "28",
                                    "FEROHELY": "2",
                                    "POTAGY": "1",
                                    "KLIMAS": "i",
                                    "SZALLAS_FK": "8",
                                    "Legutolsó 5 foglalás": "2"
                                },
                                {
                                    "SZOBA_ID": "118",
                                    "SZOBA_SZAMA": "28",
                                    "FEROHELY": "2",
                                    "POTAGY": "1",
                                    "KLIMAS": "i",
                                    "SZALLAS_FK": "8",
                                    "Legutolsó 5 foglalás": "2"
                                },
                                {
                                    "SZOBA_ID": "118",
                                    "SZOBA_SZAMA": "28",
                                    "FEROHELY": "2",
                                    "POTAGY": "1",
                                    "KLIMAS": "i",
                                    "SZALLAS_FK": "8",
                                    "Legutolsó 5 foglalás": "2"
                                },
                                {
                                    "SZOBA_ID": "118",
                                    "SZOBA_SZAMA": "28",
                                    "FEROHELY": "2",
                                    "POTAGY": "1",
                                    "KLIMAS": "i",
                                    "SZALLAS_FK": "8",
                                    "Legutolsó 5 foglalás": "2"
                                },
                                {
                                    "SZOBA_ID": "118",
                                    "SZOBA_SZAMA": "28",
                                    "FEROHELY": "2",
                                    "POTAGY": "1",
                                    "KLIMAS": "i",
                                    "SZALLAS_FK": "8",
                                    "Legutolsó 5 foglalás": "2"
                                },
                                {
                                    "SZOBA_ID": "118",
                                    "SZOBA_SZAMA": "28",
                                    "FEROHELY": "2",
                                    "POTAGY": "1",
                                    "KLIMAS": "i",
                                    "SZALLAS_FK": "8",
                                    "Legutolsó 5 foglalás": "2"
                                },
                                {
                                    "SZOBA_ID": "119",
                                    "SZOBA_SZAMA": "29",
                                    "FEROHELY": "2",
                                    "POTAGY": "0",
                                    "KLIMAS": "i",
                                    "SZALLAS_FK": "8",
                                    "Legutolsó 5 foglalás": "1"
                                },
                                {
                                    "SZOBA_ID": "119",
                                    "SZOBA_SZAMA": "29",
                                    "FEROHELY": "2",
                                    "POTAGY": "0",
                                    "KLIMAS": "i",
                                    "SZALLAS_FK": "8",
                                    "Legutolsó 5 foglalás": "1"
                                },
                                {
                                    "SZOBA_ID": "119",
                                    "SZOBA_SZAMA": "29",
                                    "FEROHELY": "2",
                                    "POTAGY": "0",
                                    "KLIMAS": "i",
                                    "SZALLAS_FK": "8",
                                    "Legutolsó 5 foglalás": "1"
                                },
                                {
                                    "SZOBA_ID": "119",
                                    "SZOBA_SZAMA": "29",
                                    "FEROHELY": "2",
                                    "POTAGY": "0",
                                    "KLIMAS": "i",
                                    "SZALLAS_FK": "8",
                                    "Legutolsó 5 foglalás": "1"
                                },
                                {
                                    "SZOBA_ID": "119",
                                    "SZOBA_SZAMA": "29",
                                    "FEROHELY": "2",
                                    "POTAGY": "0",
                                    "KLIMAS": "i",
                                    "SZALLAS_FK": "8",
                                    "Legutolsó 5 foglalás": "1"
                                },
                                {
                                    "SZOBA_ID": "120",
                                    "SZOBA_SZAMA": "30",
                                    "FEROHELY": "3",
                                    "POTAGY": "1",
                                    "KLIMAS": "i",
                                    "SZALLAS_FK": "8",
                                    "Legutolsó 5 foglalás": "4"
                                },
                                {
                                    "SZOBA_ID": "120",
                                    "SZOBA_SZAMA": "30",
                                    "FEROHELY": "3",
                                    "POTAGY": "1",
                                    "KLIMAS": "i",
                                    "SZALLAS_FK": "8",
                                    "Legutolsó 5 foglalás": "3"
                                },
                                {
                                    "SZOBA_ID": "120",
                                    "SZOBA_SZAMA": "30",
                                    "FEROHELY": "3",
                                    "POTAGY": "1",
                                    "KLIMAS": "i",
                                    "SZALLAS_FK": "8",
                                    "Legutolsó 5 foglalás": "3"
                                },
                                {
                                    "SZOBA_ID": "120",
                                    "SZOBA_SZAMA": "30",
                                    "FEROHELY": "3",
                                    "POTAGY": "1",
                                    "KLIMAS": "i",
                                    "SZALLAS_FK": "8",
                                    "Legutolsó 5 foglalás": "2"
                                },
                                {
                                    "SZOBA_ID": "120",
                                    "SZOBA_SZAMA": "30",
                                    "FEROHELY": "3",
                                    "POTAGY": "1",
                                    "KLIMAS": "i",
                                    "SZALLAS_FK": "8",
                                    "Legutolsó 5 foglalás": "2"
                                },
                                {
                                    "SZOBA_ID": "120",
                                    "SZOBA_SZAMA": "30",
                                    "FEROHELY": "3",
                                    "POTAGY": "1",
                                    "KLIMAS": "i",
                                    "SZALLAS_FK": "8",
                                    "Legutolsó 5 foglalás": "3"
                                },
                                {
                                    "SZOBA_ID": "121",
                                    "SZOBA_SZAMA": "31",
                                    "FEROHELY": "2",
                                    "POTAGY": "1",
                                    "KLIMAS": "i",
                                    "SZALLAS_FK": "8",
                                    "Legutolsó 5 foglalás": "1"
                                },
                                {
                                    "SZOBA_ID": "121",
                                    "SZOBA_SZAMA": "31",
                                    "FEROHELY": "2",
                                    "POTAGY": "1",
                                    "KLIMAS": "i",
                                    "SZALLAS_FK": "8",
                                    "Legutolsó 5 foglalás": "1"
                                },
                                {
                                    "SZOBA_ID": "121",
                                    "SZOBA_SZAMA": "31",
                                    "FEROHELY": "2",
                                    "POTAGY": "1",
                                    "KLIMAS": "i",
                                    "SZALLAS_FK": "8",
                                    "Legutolsó 5 foglalás": "1"
                                },
                                {
                                    "SZOBA_ID": "121",
                                    "SZOBA_SZAMA": "31",
                                    "FEROHELY": "2",
                                    "POTAGY": "1",
                                    "KLIMAS": "i",
                                    "SZALLAS_FK": "8",
                                    "Legutolsó 5 foglalás": "1"
                                },
                                {
                                    "SZOBA_ID": "121",
                                    "SZOBA_SZAMA": "31",
                                    "FEROHELY": "2",
                                    "POTAGY": "1",
                                    "KLIMAS": "i",
                                    "SZALLAS_FK": "8",
                                    "Legutolsó 5 foglalás": "2"
                                },
                                {
                                    "SZOBA_ID": "121",
                                    "SZOBA_SZAMA": "31",
                                    "FEROHELY": "2",
                                    "POTAGY": "1",
                                    "KLIMAS": "i",
                                    "SZALLAS_FK": "8",
                                    "Legutolsó 5 foglalás": "2"
                                },
                                {
                                    "SZOBA_ID": "121",
                                    "SZOBA_SZAMA": "31",
                                    "FEROHELY": "2",
                                    "POTAGY": "1",
                                    "KLIMAS": "i",
                                    "SZALLAS_FK": "8",
                                    "Legutolsó 5 foglalás": "2"
                                },
                                {
                                    "SZOBA_ID": "121",
                                    "SZOBA_SZAMA": "31",
                                    "FEROHELY": "2",
                                    "POTAGY": "1",
                                    "KLIMAS": "i",
                                    "SZALLAS_FK": "8",
                                    "Legutolsó 5 foglalás": "2"
                                },
                                {
                                    "SZOBA_ID": "122",
                                    "SZOBA_SZAMA": "32",
                                    "FEROHELY": "3",
                                    "POTAGY": "1",
                                    "KLIMAS": "i",
                                    "SZALLAS_FK": "8",
                                    "Legutolsó 5 foglalás": "3"
                                },
                                {
                                    "SZOBA_ID": "122",
                                    "SZOBA_SZAMA": "32",
                                    "FEROHELY": "3",
                                    "POTAGY": "1",
                                    "KLIMAS": "i",
                                    "SZALLAS_FK": "8",
                                    "Legutolsó 5 foglalás": "3"
                                },
                                {
                                    "SZOBA_ID": "122",
                                    "SZOBA_SZAMA": "32",
                                    "FEROHELY": "3",
                                    "POTAGY": "1",
                                    "KLIMAS": "i",
                                    "SZALLAS_FK": "8",
                                    "Legutolsó 5 foglalás": "3"
                                },
                                {
                                    "SZOBA_ID": "122",
                                    "SZOBA_SZAMA": "32",
                                    "FEROHELY": "3",
                                    "POTAGY": "1",
                                    "KLIMAS": "i",
                                    "SZALLAS_FK": "8",
                                    "Legutolsó 5 foglalás": "3"
                                },
                                {
                                    "SZOBA_ID": "122",
                                    "SZOBA_SZAMA": "32",
                                    "FEROHELY": "3",
                                    "POTAGY": "1",
                                    "KLIMAS": "i",
                                    "SZALLAS_FK": "8",
                                    "Legutolsó 5 foglalás": "3"
                                },
                                {
                                    "SZOBA_ID": "122",
                                    "SZOBA_SZAMA": "32",
                                    "FEROHELY": "3",
                                    "POTAGY": "1",
                                    "KLIMAS": "i",
                                    "SZALLAS_FK": "8",
                                    "Legutolsó 5 foglalás": "3"
                                },
                                {
                                    "SZOBA_ID": "122",
                                    "SZOBA_SZAMA": "32",
                                    "FEROHELY": "3",
                                    "POTAGY": "1",
                                    "KLIMAS": "i",
                                    "SZALLAS_FK": "8",
                                    "Legutolsó 5 foglalás": "3"
                                },
                                {
                                    "SZOBA_ID": "122",
                                    "SZOBA_SZAMA": "32",
                                    "FEROHELY": "3",
                                    "POTAGY": "1",
                                    "KLIMAS": "i",
                                    "SZALLAS_FK": "8",
                                    "Legutolsó 5 foglalás": "3"
                                },
                                {
                                    "SZOBA_ID": "122",
                                    "SZOBA_SZAMA": "32",
                                    "FEROHELY": "3",
                                    "POTAGY": "1",
                                    "KLIMAS": "i",
                                    "SZALLAS_FK": "8",
                                    "Legutolsó 5 foglalás": "3"
                                },
                                {
                                    "SZOBA_ID": "123",
                                    "SZOBA_SZAMA": "33",
                                    "FEROHELY": "3",
                                    "POTAGY": "0",
                                    "KLIMAS": "n",
                                    "SZALLAS_FK": "8",
                                    "Legutolsó 5 foglalás": "1"
                                },
                                {
                                    "SZOBA_ID": "123",
                                    "SZOBA_SZAMA": "33",
                                    "FEROHELY": "3",
                                    "POTAGY": "0",
                                    "KLIMAS": "n",
                                    "SZALLAS_FK": "8",
                                    "Legutolsó 5 foglalás": "1"
                                },
                                {
                                    "SZOBA_ID": "123",
                                    "SZOBA_SZAMA": "33",
                                    "FEROHELY": "3",
                                    "POTAGY": "0",
                                    "KLIMAS": "n",
                                    "SZALLAS_FK": "8",
                                    "Legutolsó 5 foglalás": "1"
                                },
                                {
                                    "SZOBA_ID": "123",
                                    "SZOBA_SZAMA": "33",
                                    "FEROHELY": "3",
                                    "POTAGY": "0",
                                    "KLIMAS": "n",
                                    "SZALLAS_FK": "8",
                                    "Legutolsó 5 foglalás": "2"
                                },
                                {
                                    "SZOBA_ID": "123",
                                    "SZOBA_SZAMA": "33",
                                    "FEROHELY": "3",
                                    "POTAGY": "0",
                                    "KLIMAS": "n",
                                    "SZALLAS_FK": "8",
                                    "Legutolsó 5 foglalás": "2"
                                },
                                {
                                    "SZOBA_ID": "124",
                                    "SZOBA_SZAMA": "34",
                                    "FEROHELY": "3",
                                    "POTAGY": "0",
                                    "KLIMAS": "n",
                                    "SZALLAS_FK": "8",
                                    "Legutolsó 5 foglalás": "3"
                                },
                                {
                                    "SZOBA_ID": "124",
                                    "SZOBA_SZAMA": "34",
                                    "FEROHELY": "3",
                                    "POTAGY": "0",
                                    "KLIMAS": "n",
                                    "SZALLAS_FK": "8",
                                    "Legutolsó 5 foglalás": "3"
                                },
                                {
                                    "SZOBA_ID": "124",
                                    "SZOBA_SZAMA": "34",
                                    "FEROHELY": "3",
                                    "POTAGY": "0",
                                    "KLIMAS": "n",
                                    "SZALLAS_FK": "8",
                                    "Legutolsó 5 foglalás": "3"
                                },
                                {
                                    "SZOBA_ID": "124",
                                    "SZOBA_SZAMA": "34",
                                    "FEROHELY": "3",
                                    "POTAGY": "0",
                                    "KLIMAS": "n",
                                    "SZALLAS_FK": "8",
                                    "Legutolsó 5 foglalás": "2"
                                },
                                {
                                    "SZOBA_ID": "124",
                                    "SZOBA_SZAMA": "34",
                                    "FEROHELY": "3",
                                    "POTAGY": "0",
                                    "KLIMAS": "n",
                                    "SZALLAS_FK": "8",
                                    "Legutolsó 5 foglalás": "2"
                                },
                                {
                                    "SZOBA_ID": "124",
                                    "SZOBA_SZAMA": "34",
                                    "FEROHELY": "3",
                                    "POTAGY": "0",
                                    "KLIMAS": "n",
                                    "SZALLAS_FK": "8",
                                    "Legutolsó 5 foglalás": "2"
                                },
                                {
                                    "SZOBA_ID": "125",
                                    "SZOBA_SZAMA": "35",
                                    "FEROHELY": "2",
                                    "POTAGY": "1",
                                    "KLIMAS": "i",
                                    "SZALLAS_FK": "8",
                                    "Legutolsó 5 foglalás": "3"
                                },
                                {
                                    "SZOBA_ID": "126",
                                    "SZOBA_SZAMA": "36",
                                    "FEROHELY": "2",
                                    "POTAGY": "1",
                                    "KLIMAS": "n",
                                    "SZALLAS_FK": "8",
                                    "Legutolsó 5 foglalás": "3"
                                },
                                {
                                    "SZOBA_ID": "126",
                                    "SZOBA_SZAMA": "36",
                                    "FEROHELY": "2",
                                    "POTAGY": "1",
                                    "KLIMAS": "n",
                                    "SZALLAS_FK": "8",
                                    "Legutolsó 5 foglalás": "2"
                                },
                                {
                                    "SZOBA_ID": "126",
                                    "SZOBA_SZAMA": "36",
                                    "FEROHELY": "2",
                                    "POTAGY": "1",
                                    "KLIMAS": "n",
                                    "SZALLAS_FK": "8",
                                    "Legutolsó 5 foglalás": "2"
                                },
                                {
                                    "SZOBA_ID": "126",
                                    "SZOBA_SZAMA": "36",
                                    "FEROHELY": "2",
                                    "POTAGY": "1",
                                    "KLIMAS": "n",
                                    "SZALLAS_FK": "8",
                                    "Legutolsó 5 foglalás": "2"
                                },
                                {
                                    "SZOBA_ID": "126",
                                    "SZOBA_SZAMA": "36",
                                    "FEROHELY": "2",
                                    "POTAGY": "1",
                                    "KLIMAS": "n",
                                    "SZALLAS_FK": "8",
                                    "Legutolsó 5 foglalás": "1"
                                },
                                {
                                    "SZOBA_ID": "126",
                                    "SZOBA_SZAMA": "36",
                                    "FEROHELY": "2",
                                    "POTAGY": "1",
                                    "KLIMAS": "n",
                                    "SZALLAS_FK": "8",
                                    "Legutolsó 5 foglalás": "2"
                                },
                                {
                                    "SZOBA_ID": "127",
                                    "SZOBA_SZAMA": "37",
                                    "FEROHELY": "2",
                                    "POTAGY": "1",
                                    "KLIMAS": "i",
                                    "SZALLAS_FK": "8",
                                    "Legutolsó 5 foglalás": "2"
                                },
                                {
                                    "SZOBA_ID": "127",
                                    "SZOBA_SZAMA": "37",
                                    "FEROHELY": "2",
                                    "POTAGY": "1",
                                    "KLIMAS": "i",
                                    "SZALLAS_FK": "8",
                                    "Legutolsó 5 foglalás": "2"
                                },
                                {
                                    "SZOBA_ID": "127",
                                    "SZOBA_SZAMA": "37",
                                    "FEROHELY": "2",
                                    "POTAGY": "1",
                                    "KLIMAS": "i",
                                    "SZALLAS_FK": "8",
                                    "Legutolsó 5 foglalás": "2"
                                },
                                {
                                    "SZOBA_ID": "127",
                                    "SZOBA_SZAMA": "37",
                                    "FEROHELY": "2",
                                    "POTAGY": "1",
                                    "KLIMAS": "i",
                                    "SZALLAS_FK": "8",
                                    "Legutolsó 5 foglalás": "1"
                                },
                                {
                                    "SZOBA_ID": "127",
                                    "SZOBA_SZAMA": "37",
                                    "FEROHELY": "2",
                                    "POTAGY": "1",
                                    "KLIMAS": "i",
                                    "SZALLAS_FK": "8",
                                    "Legutolsó 5 foglalás": "2"
                                },
                                {
                                    "SZOBA_ID": "127",
                                    "SZOBA_SZAMA": "37",
                                    "FEROHELY": "2",
                                    "POTAGY": "1",
                                    "KLIMAS": "i",
                                    "SZALLAS_FK": "8",
                                    "Legutolsó 5 foglalás": "2"
                                },
                                {
                                    "SZOBA_ID": "127",
                                    "SZOBA_SZAMA": "37",
                                    "FEROHELY": "2",
                                    "POTAGY": "1",
                                    "KLIMAS": "i",
                                    "SZALLAS_FK": "8",
                                    "Legutolsó 5 foglalás": "2"
                                },
                                {
                                    "SZOBA_ID": "128",
                                    "SZOBA_SZAMA": "38",
                                    "FEROHELY": "2",
                                    "POTAGY": "1",
                                    "KLIMAS": "i",
                                    "SZALLAS_FK": "8",
                                    "Legutolsó 5 foglalás": "2"
                                },
                                {
                                    "SZOBA_ID": "128",
                                    "SZOBA_SZAMA": "38",
                                    "FEROHELY": "2",
                                    "POTAGY": "1",
                                    "KLIMAS": "i",
                                    "SZALLAS_FK": "8",
                                    "Legutolsó 5 foglalás": "2"
                                },
                                {
                                    "SZOBA_ID": "128",
                                    "SZOBA_SZAMA": "38",
                                    "FEROHELY": "2",
                                    "POTAGY": "1",
                                    "KLIMAS": "i",
                                    "SZALLAS_FK": "8",
                                    "Legutolsó 5 foglalás": "2"
                                },
                                {
                                    "SZOBA_ID": "128",
                                    "SZOBA_SZAMA": "38",
                                    "FEROHELY": "2",
                                    "POTAGY": "1",
                                    "KLIMAS": "i",
                                    "SZALLAS_FK": "8",
                                    "Legutolsó 5 foglalás": "2"
                                },
                                {
                                    "SZOBA_ID": "128",
                                    "SZOBA_SZAMA": "38",
                                    "FEROHELY": "2",
                                    "POTAGY": "1",
                                    "KLIMAS": "i",
                                    "SZALLAS_FK": "8",
                                    "Legutolsó 5 foglalás": "2"
                                },
                                {
                                    "SZOBA_ID": "129",
                                    "SZOBA_SZAMA": "39",
                                    "FEROHELY": "2",
                                    "POTAGY": "1",
                                    "KLIMAS": "i",
                                    "SZALLAS_FK": "8",
                                    "Legutolsó 5 foglalás": "2"
                                },
                                {
                                    "SZOBA_ID": "129",
                                    "SZOBA_SZAMA": "39",
                                    "FEROHELY": "2",
                                    "POTAGY": "1",
                                    "KLIMAS": "i",
                                    "SZALLAS_FK": "8",
                                    "Legutolsó 5 foglalás": "2"
                                },
                                {
                                    "SZOBA_ID": "129",
                                    "SZOBA_SZAMA": "39",
                                    "FEROHELY": "2",
                                    "POTAGY": "1",
                                    "KLIMAS": "i",
                                    "SZALLAS_FK": "8",
                                    "Legutolsó 5 foglalás": "2"
                                },
                                {
                                    "SZOBA_ID": "129",
                                    "SZOBA_SZAMA": "39",
                                    "FEROHELY": "2",
                                    "POTAGY": "1",
                                    "KLIMAS": "i",
                                    "SZALLAS_FK": "8",
                                    "Legutolsó 5 foglalás": "2"
                                },
                                {
                                    "SZOBA_ID": "130",
                                    "SZOBA_SZAMA": "1",
                                    "FEROHELY": "2",
                                    "POTAGY": "0",
                                    "KLIMAS": "n",
                                    "SZALLAS_FK": "9",
                                    "Legutolsó 5 foglalás": "2"
                                },
                                {
                                    "SZOBA_ID": "130",
                                    "SZOBA_SZAMA": "1",
                                    "FEROHELY": "2",
                                    "POTAGY": "0",
                                    "KLIMAS": "n",
                                    "SZALLAS_FK": "9",
                                    "Legutolsó 5 foglalás": "2"
                                },
                                {
                                    "SZOBA_ID": "130",
                                    "SZOBA_SZAMA": "1",
                                    "FEROHELY": "2",
                                    "POTAGY": "0",
                                    "KLIMAS": "n",
                                    "SZALLAS_FK": "9",
                                    "Legutolsó 5 foglalás": "2"
                                },
                                {
                                    "SZOBA_ID": "130",
                                    "SZOBA_SZAMA": "1",
                                    "FEROHELY": "2",
                                    "POTAGY": "0",
                                    "KLIMAS": "n",
                                    "SZALLAS_FK": "9",
                                    "Legutolsó 5 foglalás": "1"
                                },
                                {
                                    "SZOBA_ID": "130",
                                    "SZOBA_SZAMA": "1",
                                    "FEROHELY": "2",
                                    "POTAGY": "0",
                                    "KLIMAS": "n",
                                    "SZALLAS_FK": "9",
                                    "Legutolsó 5 foglalás": "1"
                                },
                                {
                                    "SZOBA_ID": "130",
                                    "SZOBA_SZAMA": "1",
                                    "FEROHELY": "2",
                                    "POTAGY": "0",
                                    "KLIMAS": "n",
                                    "SZALLAS_FK": "9",
                                    "Legutolsó 5 foglalás": "1"
                                },
                                {
                                    "SZOBA_ID": "131",
                                    "SZOBA_SZAMA": "2",
                                    "FEROHELY": "2",
                                    "POTAGY": "0",
                                    "KLIMAS": "n",
                                    "SZALLAS_FK": "9",
                                    "Legutolsó 5 foglalás": "2"
                                },
                                {
                                    "SZOBA_ID": "131",
                                    "SZOBA_SZAMA": "2",
                                    "FEROHELY": "2",
                                    "POTAGY": "0",
                                    "KLIMAS": "n",
                                    "SZALLAS_FK": "9",
                                    "Legutolsó 5 foglalás": "2"
                                },
                                {
                                    "SZOBA_ID": "131",
                                    "SZOBA_SZAMA": "2",
                                    "FEROHELY": "2",
                                    "POTAGY": "0",
                                    "KLIMAS": "n",
                                    "SZALLAS_FK": "9",
                                    "Legutolsó 5 foglalás": "1"
                                },
                                {
                                    "SZOBA_ID": "131",
                                    "SZOBA_SZAMA": "2",
                                    "FEROHELY": "2",
                                    "POTAGY": "0",
                                    "KLIMAS": "n",
                                    "SZALLAS_FK": "9",
                                    "Legutolsó 5 foglalás": "1"
                                },
                                {
                                    "SZOBA_ID": "131",
                                    "SZOBA_SZAMA": "2",
                                    "FEROHELY": "2",
                                    "POTAGY": "0",
                                    "KLIMAS": "n",
                                    "SZALLAS_FK": "9",
                                    "Legutolsó 5 foglalás": "1"
                                },
                                {
                                    "SZOBA_ID": "132",
                                    "SZOBA_SZAMA": "3",
                                    "FEROHELY": "3",
                                    "POTAGY": "0",
                                    "KLIMAS": "i",
                                    "SZALLAS_FK": "9",
                                    "Legutolsó 5 foglalás": "2"
                                },
                                {
                                    "SZOBA_ID": "132",
                                    "SZOBA_SZAMA": "3",
                                    "FEROHELY": "3",
                                    "POTAGY": "0",
                                    "KLIMAS": "i",
                                    "SZALLAS_FK": "9",
                                    "Legutolsó 5 foglalás": "2"
                                },
                                {
                                    "SZOBA_ID": "132",
                                    "SZOBA_SZAMA": "3",
                                    "FEROHELY": "3",
                                    "POTAGY": "0",
                                    "KLIMAS": "i",
                                    "SZALLAS_FK": "9",
                                    "Legutolsó 5 foglalás": "2"
                                },
                                {
                                    "SZOBA_ID": "132",
                                    "SZOBA_SZAMA": "3",
                                    "FEROHELY": "3",
                                    "POTAGY": "0",
                                    "KLIMAS": "i",
                                    "SZALLAS_FK": "9",
                                    "Legutolsó 5 foglalás": "2"
                                },
                                {
                                    "SZOBA_ID": "132",
                                    "SZOBA_SZAMA": "3",
                                    "FEROHELY": "3",
                                    "POTAGY": "0",
                                    "KLIMAS": "i",
                                    "SZALLAS_FK": "9",
                                    "Legutolsó 5 foglalás": "2"
                                },
                                {
                                    "SZOBA_ID": "132",
                                    "SZOBA_SZAMA": "3",
                                    "FEROHELY": "3",
                                    "POTAGY": "0",
                                    "KLIMAS": "i",
                                    "SZALLAS_FK": "9",
                                    "Legutolsó 5 foglalás": "2"
                                },
                                {
                                    "SZOBA_ID": "133",
                                    "SZOBA_SZAMA": "4",
                                    "FEROHELY": "3",
                                    "POTAGY": "0",
                                    "KLIMAS": "n",
                                    "SZALLAS_FK": "9",
                                    "Legutolsó 5 foglalás": "3"
                                },
                                {
                                    "SZOBA_ID": "133",
                                    "SZOBA_SZAMA": "4",
                                    "FEROHELY": "3",
                                    "POTAGY": "0",
                                    "KLIMAS": "n",
                                    "SZALLAS_FK": "9",
                                    "Legutolsó 5 foglalás": "2"
                                },
                                {
                                    "SZOBA_ID": "133",
                                    "SZOBA_SZAMA": "4",
                                    "FEROHELY": "3",
                                    "POTAGY": "0",
                                    "KLIMAS": "n",
                                    "SZALLAS_FK": "9",
                                    "Legutolsó 5 foglalás": "2"
                                },
                                {
                                    "SZOBA_ID": "133",
                                    "SZOBA_SZAMA": "4",
                                    "FEROHELY": "3",
                                    "POTAGY": "0",
                                    "KLIMAS": "n",
                                    "SZALLAS_FK": "9",
                                    "Legutolsó 5 foglalás": "2"
                                },
                                {
                                    "SZOBA_ID": "133",
                                    "SZOBA_SZAMA": "4",
                                    "FEROHELY": "3",
                                    "POTAGY": "0",
                                    "KLIMAS": "n",
                                    "SZALLAS_FK": "9",
                                    "Legutolsó 5 foglalás": "2"
                                },
                                {
                                    "SZOBA_ID": "133",
                                    "SZOBA_SZAMA": "4",
                                    "FEROHELY": "3",
                                    "POTAGY": "0",
                                    "KLIMAS": "n",
                                    "SZALLAS_FK": "9",
                                    "Legutolsó 5 foglalás": "2"
                                },
                                {
                                    "SZOBA_ID": "134",
                                    "SZOBA_SZAMA": "5",
                                    "FEROHELY": "3",
                                    "POTAGY": "0",
                                    "KLIMAS": "i",
                                    "SZALLAS_FK": "9",
                                    "Legutolsó 5 foglalás": "2"
                                },
                                {
                                    "SZOBA_ID": "134",
                                    "SZOBA_SZAMA": "5",
                                    "FEROHELY": "3",
                                    "POTAGY": "0",
                                    "KLIMAS": "i",
                                    "SZALLAS_FK": "9",
                                    "Legutolsó 5 foglalás": "2"
                                },
                                {
                                    "SZOBA_ID": "134",
                                    "SZOBA_SZAMA": "5",
                                    "FEROHELY": "3",
                                    "POTAGY": "0",
                                    "KLIMAS": "i",
                                    "SZALLAS_FK": "9",
                                    "Legutolsó 5 foglalás": "2"
                                },
                                {
                                    "SZOBA_ID": "134",
                                    "SZOBA_SZAMA": "5",
                                    "FEROHELY": "3",
                                    "POTAGY": "0",
                                    "KLIMAS": "i",
                                    "SZALLAS_FK": "9",
                                    "Legutolsó 5 foglalás": "2"
                                },
                                {
                                    "SZOBA_ID": "134",
                                    "SZOBA_SZAMA": "5",
                                    "FEROHELY": "3",
                                    "POTAGY": "0",
                                    "KLIMAS": "i",
                                    "SZALLAS_FK": "9",
                                    "Legutolsó 5 foglalás": "2"
                                },
                                {
                                    "SZOBA_ID": "134",
                                    "SZOBA_SZAMA": "5",
                                    "FEROHELY": "3",
                                    "POTAGY": "0",
                                    "KLIMAS": "i",
                                    "SZALLAS_FK": "9",
                                    "Legutolsó 5 foglalás": "2"
                                },
                                {
                                    "SZOBA_ID": "135",
                                    "SZOBA_SZAMA": "1",
                                    "FEROHELY": "3",
                                    "POTAGY": "0",
                                    "KLIMAS": "i",
                                    "SZALLAS_FK": "10",
                                    "Legutolsó 5 foglalás": "2"
                                },
                                {
                                    "SZOBA_ID": "135",
                                    "SZOBA_SZAMA": "1",
                                    "FEROHELY": "3",
                                    "POTAGY": "0",
                                    "KLIMAS": "i",
                                    "SZALLAS_FK": "10",
                                    "Legutolsó 5 foglalás": "2"
                                },
                                {
                                    "SZOBA_ID": "135",
                                    "SZOBA_SZAMA": "1",
                                    "FEROHELY": "3",
                                    "POTAGY": "0",
                                    "KLIMAS": "i",
                                    "SZALLAS_FK": "10",
                                    "Legutolsó 5 foglalás": "2"
                                },
                                {
                                    "SZOBA_ID": "136",
                                    "SZOBA_SZAMA": "2",
                                    "FEROHELY": "2",
                                    "POTAGY": "0",
                                    "KLIMAS": "n",
                                    "SZALLAS_FK": "10",
                                    "Legutolsó 5 foglalás": "2"
                                },
                                {
                                    "SZOBA_ID": "136",
                                    "SZOBA_SZAMA": "2",
                                    "FEROHELY": "2",
                                    "POTAGY": "0",
                                    "KLIMAS": "n",
                                    "SZALLAS_FK": "10",
                                    "Legutolsó 5 foglalás": "1"
                                },
                                {
                                    "SZOBA_ID": "136",
                                    "SZOBA_SZAMA": "2",
                                    "FEROHELY": "2",
                                    "POTAGY": "0",
                                    "KLIMAS": "n",
                                    "SZALLAS_FK": "10",
                                    "Legutolsó 5 foglalás": "1"
                                },
                                {
                                    "SZOBA_ID": "137",
                                    "SZOBA_SZAMA": "3",
                                    "FEROHELY": "2",
                                    "POTAGY": "1",
                                    "KLIMAS": "i",
                                    "SZALLAS_FK": "10",
                                    "Legutolsó 5 foglalás": "2"
                                },
                                {
                                    "SZOBA_ID": "137",
                                    "SZOBA_SZAMA": "3",
                                    "FEROHELY": "2",
                                    "POTAGY": "1",
                                    "KLIMAS": "i",
                                    "SZALLAS_FK": "10",
                                    "Legutolsó 5 foglalás": "2"
                                },
                                {
                                    "SZOBA_ID": "137",
                                    "SZOBA_SZAMA": "3",
                                    "FEROHELY": "2",
                                    "POTAGY": "1",
                                    "KLIMAS": "i",
                                    "SZALLAS_FK": "10",
                                    "Legutolsó 5 foglalás": "1"
                                },
                                {
                                    "SZOBA_ID": "137",
                                    "SZOBA_SZAMA": "3",
                                    "FEROHELY": "2",
                                    "POTAGY": "1",
                                    "KLIMAS": "i",
                                    "SZALLAS_FK": "10",
                                    "Legutolsó 5 foglalás": "1"
                                },
                                {
                                    "SZOBA_ID": "137",
                                    "SZOBA_SZAMA": "3",
                                    "FEROHELY": "2",
                                    "POTAGY": "1",
                                    "KLIMAS": "i",
                                    "SZALLAS_FK": "10",
                                    "Legutolsó 5 foglalás": "2"
                                },
                                {
                                    "SZOBA_ID": "137",
                                    "SZOBA_SZAMA": "3",
                                    "FEROHELY": "2",
                                    "POTAGY": "1",
                                    "KLIMAS": "i",
                                    "SZALLAS_FK": "10",
                                    "Legutolsó 5 foglalás": "2"
                                },
                                {
                                    "SZOBA_ID": "138",
                                    "SZOBA_SZAMA": "4",
                                    "FEROHELY": "3",
                                    "POTAGY": "1",
                                    "KLIMAS": "i",
                                    "SZALLAS_FK": "10",
                                    "Legutolsó 5 foglalás": "4"
                                },
                                {
                                    "SZOBA_ID": "138",
                                    "SZOBA_SZAMA": "4",
                                    "FEROHELY": "3",
                                    "POTAGY": "1",
                                    "KLIMAS": "i",
                                    "SZALLAS_FK": "10",
                                    "Legutolsó 5 foglalás": "3"
                                },
                                {
                                    "SZOBA_ID": "138",
                                    "SZOBA_SZAMA": "4",
                                    "FEROHELY": "3",
                                    "POTAGY": "1",
                                    "KLIMAS": "i",
                                    "SZALLAS_FK": "10",
                                    "Legutolsó 5 foglalás": "3"
                                },
                                {
                                    "SZOBA_ID": "138",
                                    "SZOBA_SZAMA": "4",
                                    "FEROHELY": "3",
                                    "POTAGY": "1",
                                    "KLIMAS": "i",
                                    "SZALLAS_FK": "10",
                                    "Legutolsó 5 foglalás": "3"
                                },
                                {
                                    "SZOBA_ID": "138",
                                    "SZOBA_SZAMA": "4",
                                    "FEROHELY": "3",
                                    "POTAGY": "1",
                                    "KLIMAS": "i",
                                    "SZALLAS_FK": "10",
                                    "Legutolsó 5 foglalás": "2"
                                },
                                {
                                    "SZOBA_ID": "138",
                                    "SZOBA_SZAMA": "4",
                                    "FEROHELY": "3",
                                    "POTAGY": "1",
                                    "KLIMAS": "i",
                                    "SZALLAS_FK": "10",
                                    "Legutolsó 5 foglalás": "2"
                                },
                                {
                                    "SZOBA_ID": "138",
                                    "SZOBA_SZAMA": "4",
                                    "FEROHELY": "3",
                                    "POTAGY": "1",
                                    "KLIMAS": "i",
                                    "SZALLAS_FK": "10",
                                    "Legutolsó 5 foglalás": "2"
                                },
                                {
                                    "SZOBA_ID": "139",
                                    "SZOBA_SZAMA": "5",
                                    "FEROHELY": "2",
                                    "POTAGY": "1",
                                    "KLIMAS": "i",
                                    "SZALLAS_FK": "10",
                                    "Legutolsó 5 foglalás": "2"
                                },
                                {
                                    "SZOBA_ID": "139",
                                    "SZOBA_SZAMA": "5",
                                    "FEROHELY": "2",
                                    "POTAGY": "1",
                                    "KLIMAS": "i",
                                    "SZALLAS_FK": "10",
                                    "Legutolsó 5 foglalás": "2"
                                },
                                {
                                    "SZOBA_ID": "139",
                                    "SZOBA_SZAMA": "5",
                                    "FEROHELY": "2",
                                    "POTAGY": "1",
                                    "KLIMAS": "i",
                                    "SZALLAS_FK": "10",
                                    "Legutolsó 5 foglalás": "2"
                                },
                                {
                                    "SZOBA_ID": "139",
                                    "SZOBA_SZAMA": "5",
                                    "FEROHELY": "2",
                                    "POTAGY": "1",
                                    "KLIMAS": "i",
                                    "SZALLAS_FK": "10",
                                    "Legutolsó 5 foglalás": "2"
                                },
                                {
                                    "SZOBA_ID": "139",
                                    "SZOBA_SZAMA": "5",
                                    "FEROHELY": "2",
                                    "POTAGY": "1",
                                    "KLIMAS": "i",
                                    "SZALLAS_FK": "10",
                                    "Legutolsó 5 foglalás": "2"
                                },
                                {
                                    "SZOBA_ID": "139",
                                    "SZOBA_SZAMA": "5",
                                    "FEROHELY": "2",
                                    "POTAGY": "1",
                                    "KLIMAS": "i",
                                    "SZALLAS_FK": "10",
                                    "Legutolsó 5 foglalás": "2"
                                },
                                {
                                    "SZOBA_ID": "139",
                                    "SZOBA_SZAMA": "5",
                                    "FEROHELY": "2",
                                    "POTAGY": "1",
                                    "KLIMAS": "i",
                                    "SZALLAS_FK": "10",
                                    "Legutolsó 5 foglalás": "2"
                                },
                                {
                                    "SZOBA_ID": "140",
                                    "SZOBA_SZAMA": "6",
                                    "FEROHELY": "2",
                                    "POTAGY": "1",
                                    "KLIMAS": "i",
                                    "SZALLAS_FK": "10",
                                    "Legutolsó 5 foglalás": "2"
                                },
                                {
                                    "SZOBA_ID": "140",
                                    "SZOBA_SZAMA": "6",
                                    "FEROHELY": "2",
                                    "POTAGY": "1",
                                    "KLIMAS": "i",
                                    "SZALLAS_FK": "10",
                                    "Legutolsó 5 foglalás": "1"
                                },
                                {
                                    "SZOBA_ID": "140",
                                    "SZOBA_SZAMA": "6",
                                    "FEROHELY": "2",
                                    "POTAGY": "1",
                                    "KLIMAS": "i",
                                    "SZALLAS_FK": "10",
                                    "Legutolsó 5 foglalás": "2"
                                },
                                {
                                    "SZOBA_ID": "140",
                                    "SZOBA_SZAMA": "6",
                                    "FEROHELY": "2",
                                    "POTAGY": "1",
                                    "KLIMAS": "i",
                                    "SZALLAS_FK": "10",
                                    "Legutolsó 5 foglalás": "1"
                                },
                                {
                                    "SZOBA_ID": "140",
                                    "SZOBA_SZAMA": "6",
                                    "FEROHELY": "2",
                                    "POTAGY": "1",
                                    "KLIMAS": "i",
                                    "SZALLAS_FK": "10",
                                    "Legutolsó 5 foglalás": "2"
                                },
                                {
                                    "SZOBA_ID": "140",
                                    "SZOBA_SZAMA": "6",
                                    "FEROHELY": "2",
                                    "POTAGY": "1",
                                    "KLIMAS": "i",
                                    "SZALLAS_FK": "10",
                                    "Legutolsó 5 foglalás": "2"
                                },
                                {
                                    "SZOBA_ID": "140",
                                    "SZOBA_SZAMA": "6",
                                    "FEROHELY": "2",
                                    "POTAGY": "1",
                                    "KLIMAS": "i",
                                    "SZALLAS_FK": "10",
                                    "Legutolsó 5 foglalás": "2"
                                },
                                {
                                    "SZOBA_ID": "140",
                                    "SZOBA_SZAMA": "6",
                                    "FEROHELY": "2",
                                    "POTAGY": "1",
                                    "KLIMAS": "i",
                                    "SZALLAS_FK": "10",
                                    "Legutolsó 5 foglalás": "2"
                                },
                                {
                                    "SZOBA_ID": "141",
                                    "SZOBA_SZAMA": "7",
                                    "FEROHELY": "2",
                                    "POTAGY": "0",
                                    "KLIMAS": "n",
                                    "SZALLAS_FK": "10",
                                    "Legutolsó 5 foglalás": "2"
                                },
                                {
                                    "SZOBA_ID": "141",
                                    "SZOBA_SZAMA": "7",
                                    "FEROHELY": "2",
                                    "POTAGY": "0",
                                    "KLIMAS": "n",
                                    "SZALLAS_FK": "10",
                                    "Legutolsó 5 foglalás": "2"
                                },
                                {
                                    "SZOBA_ID": "141",
                                    "SZOBA_SZAMA": "7",
                                    "FEROHELY": "2",
                                    "POTAGY": "0",
                                    "KLIMAS": "n",
                                    "SZALLAS_FK": "10",
                                    "Legutolsó 5 foglalás": "2"
                                },
                                {
                                    "SZOBA_ID": "141",
                                    "SZOBA_SZAMA": "7",
                                    "FEROHELY": "2",
                                    "POTAGY": "0",
                                    "KLIMAS": "n",
                                    "SZALLAS_FK": "10",
                                    "Legutolsó 5 foglalás": "2"
                                },
                                {
                                    "SZOBA_ID": "141",
                                    "SZOBA_SZAMA": "7",
                                    "FEROHELY": "2",
                                    "POTAGY": "0",
                                    "KLIMAS": "n",
                                    "SZALLAS_FK": "10",
                                    "Legutolsó 5 foglalás": "2"
                                },
                                {
                                    "SZOBA_ID": "141",
                                    "SZOBA_SZAMA": "7",
                                    "FEROHELY": "2",
                                    "POTAGY": "0",
                                    "KLIMAS": "n",
                                    "SZALLAS_FK": "10",
                                    "Legutolsó 5 foglalás": "2"
                                },
                                {
                                    "SZOBA_ID": "142",
                                    "SZOBA_SZAMA": "8",
                                    "FEROHELY": "3",
                                    "POTAGY": "0",
                                    "KLIMAS": "n",
                                    "SZALLAS_FK": "10",
                                    "Legutolsó 5 foglalás": "3"
                                },
                                {
                                    "SZOBA_ID": "142",
                                    "SZOBA_SZAMA": "8",
                                    "FEROHELY": "3",
                                    "POTAGY": "0",
                                    "KLIMAS": "n",
                                    "SZALLAS_FK": "10",
                                    "Legutolsó 5 foglalás": "2"
                                },
                                {
                                    "SZOBA_ID": "143",
                                    "SZOBA_SZAMA": "9",
                                    "FEROHELY": "3",
                                    "POTAGY": "1",
                                    "KLIMAS": "i",
                                    "SZALLAS_FK": "10",
                                    "Legutolsó 5 foglalás": "1"
                                },
                                {
                                    "SZOBA_ID": "143",
                                    "SZOBA_SZAMA": "9",
                                    "FEROHELY": "3",
                                    "POTAGY": "1",
                                    "KLIMAS": "i",
                                    "SZALLAS_FK": "10",
                                    "Legutolsó 5 foglalás": "2"
                                },
                                {
                                    "SZOBA_ID": "143",
                                    "SZOBA_SZAMA": "9",
                                    "FEROHELY": "3",
                                    "POTAGY": "1",
                                    "KLIMAS": "i",
                                    "SZALLAS_FK": "10",
                                    "Legutolsó 5 foglalás": "2"
                                },
                                {
                                    "SZOBA_ID": "143",
                                    "SZOBA_SZAMA": "9",
                                    "FEROHELY": "3",
                                    "POTAGY": "1",
                                    "KLIMAS": "i",
                                    "SZALLAS_FK": "10",
                                    "Legutolsó 5 foglalás": "2"
                                },
                                {
                                    "SZOBA_ID": "143",
                                    "SZOBA_SZAMA": "9",
                                    "FEROHELY": "3",
                                    "POTAGY": "1",
                                    "KLIMAS": "i",
                                    "SZALLAS_FK": "10",
                                    "Legutolsó 5 foglalás": "2"
                                },
                                {
                                    "SZOBA_ID": "143",
                                    "SZOBA_SZAMA": "9",
                                    "FEROHELY": "3",
                                    "POTAGY": "1",
                                    "KLIMAS": "i",
                                    "SZALLAS_FK": "10",
                                    "Legutolsó 5 foglalás": "3"
                                },
                                {
                                    "SZOBA_ID": "143",
                                    "SZOBA_SZAMA": "9",
                                    "FEROHELY": "3",
                                    "POTAGY": "1",
                                    "KLIMAS": "i",
                                    "SZALLAS_FK": "10",
                                    "Legutolsó 5 foglalás": "3"
                                },
                                {
                                    "SZOBA_ID": "144",
                                    "SZOBA_SZAMA": "10",
                                    "FEROHELY": "3",
                                    "POTAGY": "1",
                                    "KLIMAS": "n",
                                    "SZALLAS_FK": "10",
                                    "Legutolsó 5 foglalás": "3"
                                },
                                {
                                    "SZOBA_ID": "144",
                                    "SZOBA_SZAMA": "10",
                                    "FEROHELY": "3",
                                    "POTAGY": "1",
                                    "KLIMAS": "n",
                                    "SZALLAS_FK": "10",
                                    "Legutolsó 5 foglalás": "3"
                                },
                                {
                                    "SZOBA_ID": "144",
                                    "SZOBA_SZAMA": "10",
                                    "FEROHELY": "3",
                                    "POTAGY": "1",
                                    "KLIMAS": "n",
                                    "SZALLAS_FK": "10",
                                    "Legutolsó 5 foglalás": "3"
                                },
                                {
                                    "SZOBA_ID": "144",
                                    "SZOBA_SZAMA": "10",
                                    "FEROHELY": "3",
                                    "POTAGY": "1",
                                    "KLIMAS": "n",
                                    "SZALLAS_FK": "10",
                                    "Legutolsó 5 foglalás": "3"
                                },
                                {
                                    "SZOBA_ID": "144",
                                    "SZOBA_SZAMA": "10",
                                    "FEROHELY": "3",
                                    "POTAGY": "1",
                                    "KLIMAS": "n",
                                    "SZALLAS_FK": "10",
                                    "Legutolsó 5 foglalás": "3"
                                },
                                {
                                    "SZOBA_ID": "145",
                                    "SZOBA_SZAMA": "11",
                                    "FEROHELY": "2",
                                    "POTAGY": "2",
                                    "KLIMAS": "i",
                                    "SZALLAS_FK": "10",
                                    "Legutolsó 5 foglalás": "4"
                                },
                                {
                                    "SZOBA_ID": "145",
                                    "SZOBA_SZAMA": "11",
                                    "FEROHELY": "2",
                                    "POTAGY": "2",
                                    "KLIMAS": "i",
                                    "SZALLAS_FK": "10",
                                    "Legutolsó 5 foglalás": "3"
                                },
                                {
                                    "SZOBA_ID": "145",
                                    "SZOBA_SZAMA": "11",
                                    "FEROHELY": "2",
                                    "POTAGY": "2",
                                    "KLIMAS": "i",
                                    "SZALLAS_FK": "10",
                                    "Legutolsó 5 foglalás": "3"
                                },
                                {
                                    "SZOBA_ID": "145",
                                    "SZOBA_SZAMA": "11",
                                    "FEROHELY": "2",
                                    "POTAGY": "2",
                                    "KLIMAS": "i",
                                    "SZALLAS_FK": "10",
                                    "Legutolsó 5 foglalás": "2"
                                },
                                {
                                    "SZOBA_ID": "145",
                                    "SZOBA_SZAMA": "11",
                                    "FEROHELY": "2",
                                    "POTAGY": "2",
                                    "KLIMAS": "i",
                                    "SZALLAS_FK": "10",
                                    "Legutolsó 5 foglalás": "2"
                                },
                                {
                                    "SZOBA_ID": "145",
                                    "SZOBA_SZAMA": "11",
                                    "FEROHELY": "2",
                                    "POTAGY": "2",
                                    "KLIMAS": "i",
                                    "SZALLAS_FK": "10",
                                    "Legutolsó 5 foglalás": "2"
                                },
                                {
                                    "SZOBA_ID": "146",
                                    "SZOBA_SZAMA": "12",
                                    "FEROHELY": "3",
                                    "POTAGY": "0",
                                    "KLIMAS": "i",
                                    "SZALLAS_FK": "10",
                                    "Legutolsó 5 foglalás": "3"
                                },
                                {
                                    "SZOBA_ID": "146",
                                    "SZOBA_SZAMA": "12",
                                    "FEROHELY": "3",
                                    "POTAGY": "0",
                                    "KLIMAS": "i",
                                    "SZALLAS_FK": "10",
                                    "Legutolsó 5 foglalás": "2"
                                },
                                {
                                    "SZOBA_ID": "146",
                                    "SZOBA_SZAMA": "12",
                                    "FEROHELY": "3",
                                    "POTAGY": "0",
                                    "KLIMAS": "i",
                                    "SZALLAS_FK": "10",
                                    "Legutolsó 5 foglalás": "2"
                                },
                                {
                                    "SZOBA_ID": "146",
                                    "SZOBA_SZAMA": "12",
                                    "FEROHELY": "3",
                                    "POTAGY": "0",
                                    "KLIMAS": "i",
                                    "SZALLAS_FK": "10",
                                    "Legutolsó 5 foglalás": "2"
                                },
                                {
                                    "SZOBA_ID": "146",
                                    "SZOBA_SZAMA": "12",
                                    "FEROHELY": "3",
                                    "POTAGY": "0",
                                    "KLIMAS": "i",
                                    "SZALLAS_FK": "10",
                                    "Legutolsó 5 foglalás": "2"
                                },
                                {
                                    "SZOBA_ID": "146",
                                    "SZOBA_SZAMA": "12",
                                    "FEROHELY": "3",
                                    "POTAGY": "0",
                                    "KLIMAS": "i",
                                    "SZALLAS_FK": "10",
                                    "Legutolsó 5 foglalás": "2"
                                },
                                {
                                    "SZOBA_ID": "147",
                                    "SZOBA_SZAMA": "13",
                                    "FEROHELY": "2",
                                    "POTAGY": "0",
                                    "KLIMAS": "i",
                                    "SZALLAS_FK": "10",
                                    "Legutolsó 5 foglalás": "2"
                                },
                                {
                                    "SZOBA_ID": "148",
                                    "SZOBA_SZAMA": "14",
                                    "FEROHELY": "2",
                                    "POTAGY": "0",
                                    "KLIMAS": "i",
                                    "SZALLAS_FK": "10",
                                    "Legutolsó 5 foglalás": "2"
                                },
                                {
                                    "SZOBA_ID": "148",
                                    "SZOBA_SZAMA": "14",
                                    "FEROHELY": "2",
                                    "POTAGY": "0",
                                    "KLIMAS": "i",
                                    "SZALLAS_FK": "10",
                                    "Legutolsó 5 foglalás": "2"
                                },
                                {
                                    "SZOBA_ID": "148",
                                    "SZOBA_SZAMA": "14",
                                    "FEROHELY": "2",
                                    "POTAGY": "0",
                                    "KLIMAS": "i",
                                    "SZALLAS_FK": "10",
                                    "Legutolsó 5 foglalás": "2"
                                },
                                {
                                    "SZOBA_ID": "148",
                                    "SZOBA_SZAMA": "14",
                                    "FEROHELY": "2",
                                    "POTAGY": "0",
                                    "KLIMAS": "i",
                                    "SZALLAS_FK": "10",
                                    "Legutolsó 5 foglalás": "2"
                                },
                                {
                                    "SZOBA_ID": "148",
                                    "SZOBA_SZAMA": "14",
                                    "FEROHELY": "2",
                                    "POTAGY": "0",
                                    "KLIMAS": "i",
                                    "SZALLAS_FK": "10",
                                    "Legutolsó 5 foglalás": "2"
                                },
                                {
                                    "SZOBA_ID": "148",
                                    "SZOBA_SZAMA": "14",
                                    "FEROHELY": "2",
                                    "POTAGY": "0",
                                    "KLIMAS": "i",
                                    "SZALLAS_FK": "10",
                                    "Legutolsó 5 foglalás": "1"
                                },
                                {
                                    "SZOBA_ID": "149",
                                    "SZOBA_SZAMA": "15",
                                    "FEROHELY": "2",
                                    "POTAGY": "0",
                                    "KLIMAS": "i",
                                    "SZALLAS_FK": "10",
                                    "Legutolsó 5 foglalás": "2"
                                },
                                {
                                    "SZOBA_ID": "149",
                                    "SZOBA_SZAMA": "15",
                                    "FEROHELY": "2",
                                    "POTAGY": "0",
                                    "KLIMAS": "i",
                                    "SZALLAS_FK": "10",
                                    "Legutolsó 5 foglalás": "1"
                                },
                                {
                                    "SZOBA_ID": "149",
                                    "SZOBA_SZAMA": "15",
                                    "FEROHELY": "2",
                                    "POTAGY": "0",
                                    "KLIMAS": "i",
                                    "SZALLAS_FK": "10",
                                    "Legutolsó 5 foglalás": "1"
                                },
                                {
                                    "SZOBA_ID": "149",
                                    "SZOBA_SZAMA": "15",
                                    "FEROHELY": "2",
                                    "POTAGY": "0",
                                    "KLIMAS": "i",
                                    "SZALLAS_FK": "10",
                                    "Legutolsó 5 foglalás": "1"
                                },
                                {
                                    "SZOBA_ID": "149",
                                    "SZOBA_SZAMA": "15",
                                    "FEROHELY": "2",
                                    "POTAGY": "0",
                                    "KLIMAS": "i",
                                    "SZALLAS_FK": "10",
                                    "Legutolsó 5 foglalás": "1"
                                },
                                {
                                    "SZOBA_ID": "149",
                                    "SZOBA_SZAMA": "15",
                                    "FEROHELY": "2",
                                    "POTAGY": "0",
                                    "KLIMAS": "i",
                                    "SZALLAS_FK": "10",
                                    "Legutolsó 5 foglalás": "1"
                                },
                                {
                                    "SZOBA_ID": "149",
                                    "SZOBA_SZAMA": "15",
                                    "FEROHELY": "2",
                                    "POTAGY": "0",
                                    "KLIMAS": "i",
                                    "SZALLAS_FK": "10",
                                    "Legutolsó 5 foglalás": "1"
                                },
                                {
                                    "SZOBA_ID": "150",
                                    "SZOBA_SZAMA": "16",
                                    "FEROHELY": "2",
                                    "POTAGY": "1",
                                    "KLIMAS": "i",
                                    "SZALLAS_FK": "10",
                                    "Legutolsó 5 foglalás": "3"
                                },
                                {
                                    "SZOBA_ID": "150",
                                    "SZOBA_SZAMA": "16",
                                    "FEROHELY": "2",
                                    "POTAGY": "1",
                                    "KLIMAS": "i",
                                    "SZALLAS_FK": "10",
                                    "Legutolsó 5 foglalás": "2"
                                },
                                {
                                    "SZOBA_ID": "150",
                                    "SZOBA_SZAMA": "16",
                                    "FEROHELY": "2",
                                    "POTAGY": "1",
                                    "KLIMAS": "i",
                                    "SZALLAS_FK": "10",
                                    "Legutolsó 5 foglalás": "2"
                                },
                                {
                                    "SZOBA_ID": "150",
                                    "SZOBA_SZAMA": "16",
                                    "FEROHELY": "2",
                                    "POTAGY": "1",
                                    "KLIMAS": "i",
                                    "SZALLAS_FK": "10",
                                    "Legutolsó 5 foglalás": "2"
                                },
                                {
                                    "SZOBA_ID": "150",
                                    "SZOBA_SZAMA": "16",
                                    "FEROHELY": "2",
                                    "POTAGY": "1",
                                    "KLIMAS": "i",
                                    "SZALLAS_FK": "10",
                                    "Legutolsó 5 foglalás": "2"
                                },
                                {
                                    "SZOBA_ID": "150",
                                    "SZOBA_SZAMA": "16",
                                    "FEROHELY": "2",
                                    "POTAGY": "1",
                                    "KLIMAS": "i",
                                    "SZALLAS_FK": "10",
                                    "Legutolsó 5 foglalás": "2"
                                },
                                {
                                    "SZOBA_ID": "151",
                                    "SZOBA_SZAMA": "17",
                                    "FEROHELY": "2",
                                    "POTAGY": "0",
                                    "KLIMAS": "n",
                                    "SZALLAS_FK": "10",
                                    "Legutolsó 5 foglalás": "1"
                                },
                                {
                                    "SZOBA_ID": "151",
                                    "SZOBA_SZAMA": "17",
                                    "FEROHELY": "2",
                                    "POTAGY": "0",
                                    "KLIMAS": "n",
                                    "SZALLAS_FK": "10",
                                    "Legutolsó 5 foglalás": "1"
                                },
                                {
                                    "SZOBA_ID": "151",
                                    "SZOBA_SZAMA": "17",
                                    "FEROHELY": "2",
                                    "POTAGY": "0",
                                    "KLIMAS": "n",
                                    "SZALLAS_FK": "10",
                                    "Legutolsó 5 foglalás": "1"
                                },
                                {
                                    "SZOBA_ID": "152",
                                    "SZOBA_SZAMA": "18",
                                    "FEROHELY": "2",
                                    "POTAGY": "0",
                                    "KLIMAS": "i",
                                    "SZALLAS_FK": "10",
                                    "Legutolsó 5 foglalás": "2"
                                },
                                {
                                    "SZOBA_ID": "152",
                                    "SZOBA_SZAMA": "18",
                                    "FEROHELY": "2",
                                    "POTAGY": "0",
                                    "KLIMAS": "i",
                                    "SZALLAS_FK": "10",
                                    "Legutolsó 5 foglalás": "2"
                                },
                                {
                                    "SZOBA_ID": "152",
                                    "SZOBA_SZAMA": "18",
                                    "FEROHELY": "2",
                                    "POTAGY": "0",
                                    "KLIMAS": "i",
                                    "SZALLAS_FK": "10",
                                    "Legutolsó 5 foglalás": "2"
                                },
                                {
                                    "SZOBA_ID": "152",
                                    "SZOBA_SZAMA": "18",
                                    "FEROHELY": "2",
                                    "POTAGY": "0",
                                    "KLIMAS": "i",
                                    "SZALLAS_FK": "10",
                                    "Legutolsó 5 foglalás": "2"
                                },
                                {
                                    "SZOBA_ID": "153",
                                    "SZOBA_SZAMA": "19",
                                    "FEROHELY": "3",
                                    "POTAGY": "0",
                                    "KLIMAS": "n",
                                    "SZALLAS_FK": "10",
                                    "Legutolsó 5 foglalás": "2"
                                },
                                {
                                    "SZOBA_ID": "153",
                                    "SZOBA_SZAMA": "19",
                                    "FEROHELY": "3",
                                    "POTAGY": "0",
                                    "KLIMAS": "n",
                                    "SZALLAS_FK": "10",
                                    "Legutolsó 5 foglalás": "2"
                                },
                                {
                                    "SZOBA_ID": "153",
                                    "SZOBA_SZAMA": "19",
                                    "FEROHELY": "3",
                                    "POTAGY": "0",
                                    "KLIMAS": "n",
                                    "SZALLAS_FK": "10",
                                    "Legutolsó 5 foglalás": "2"
                                },
                                {
                                    "SZOBA_ID": "153",
                                    "SZOBA_SZAMA": "19",
                                    "FEROHELY": "3",
                                    "POTAGY": "0",
                                    "KLIMAS": "n",
                                    "SZALLAS_FK": "10",
                                    "Legutolsó 5 foglalás": "2"
                                },
                                {
                                    "SZOBA_ID": "153",
                                    "SZOBA_SZAMA": "19",
                                    "FEROHELY": "3",
                                    "POTAGY": "0",
                                    "KLIMAS": "n",
                                    "SZALLAS_FK": "10",
                                    "Legutolsó 5 foglalás": "2"
                                },
                                {
                                    "SZOBA_ID": "154",
                                    "SZOBA_SZAMA": "20",
                                    "FEROHELY": "2",
                                    "POTAGY": "1",
                                    "KLIMAS": "i",
                                    "SZALLAS_FK": "10",
                                    "Legutolsó 5 foglalás": "2"
                                },
                                {
                                    "SZOBA_ID": "154",
                                    "SZOBA_SZAMA": "20",
                                    "FEROHELY": "2",
                                    "POTAGY": "1",
                                    "KLIMAS": "i",
                                    "SZALLAS_FK": "10",
                                    "Legutolsó 5 foglalás": "2"
                                },
                                {
                                    "SZOBA_ID": "154",
                                    "SZOBA_SZAMA": "20",
                                    "FEROHELY": "2",
                                    "POTAGY": "1",
                                    "KLIMAS": "i",
                                    "SZALLAS_FK": "10",
                                    "Legutolsó 5 foglalás": "2"
                                },
                                {
                                    "SZOBA_ID": "154",
                                    "SZOBA_SZAMA": "20",
                                    "FEROHELY": "2",
                                    "POTAGY": "1",
                                    "KLIMAS": "i",
                                    "SZALLAS_FK": "10",
                                    "Legutolsó 5 foglalás": "2"
                                },
                                {
                                    "SZOBA_ID": "154",
                                    "SZOBA_SZAMA": "20",
                                    "FEROHELY": "2",
                                    "POTAGY": "1",
                                    "KLIMAS": "i",
                                    "SZALLAS_FK": "10",
                                    "Legutolsó 5 foglalás": "2"
                                },
                                {
                                    "SZOBA_ID": "155",
                                    "SZOBA_SZAMA": "21",
                                    "FEROHELY": "3",
                                    "POTAGY": "1",
                                    "KLIMAS": "n",
                                    "SZALLAS_FK": "10",
                                    "Legutolsó 5 foglalás": "4"
                                },
                                {
                                    "SZOBA_ID": "155",
                                    "SZOBA_SZAMA": "21",
                                    "FEROHELY": "3",
                                    "POTAGY": "1",
                                    "KLIMAS": "n",
                                    "SZALLAS_FK": "10",
                                    "Legutolsó 5 foglalás": "3"
                                },
                                {
                                    "SZOBA_ID": "155",
                                    "SZOBA_SZAMA": "21",
                                    "FEROHELY": "3",
                                    "POTAGY": "1",
                                    "KLIMAS": "n",
                                    "SZALLAS_FK": "10",
                                    "Legutolsó 5 foglalás": "2"
                                },
                                {
                                    "SZOBA_ID": "155",
                                    "SZOBA_SZAMA": "21",
                                    "FEROHELY": "3",
                                    "POTAGY": "1",
                                    "KLIMAS": "n",
                                    "SZALLAS_FK": "10",
                                    "Legutolsó 5 foglalás": "3"
                                },
                                {
                                    "SZOBA_ID": "155",
                                    "SZOBA_SZAMA": "21",
                                    "FEROHELY": "3",
                                    "POTAGY": "1",
                                    "KLIMAS": "n",
                                    "SZALLAS_FK": "10",
                                    "Legutolsó 5 foglalás": "2"
                                },
                                {
                                    "SZOBA_ID": "156",
                                    "SZOBA_SZAMA": "22",
                                    "FEROHELY": "2",
                                    "POTAGY": "2",
                                    "KLIMAS": "i",
                                    "SZALLAS_FK": "10",
                                    "Legutolsó 5 foglalás": "4"
                                },
                                {
                                    "SZOBA_ID": "156",
                                    "SZOBA_SZAMA": "22",
                                    "FEROHELY": "2",
                                    "POTAGY": "2",
                                    "KLIMAS": "i",
                                    "SZALLAS_FK": "10",
                                    "Legutolsó 5 foglalás": "3"
                                },
                                {
                                    "SZOBA_ID": "156",
                                    "SZOBA_SZAMA": "22",
                                    "FEROHELY": "2",
                                    "POTAGY": "2",
                                    "KLIMAS": "i",
                                    "SZALLAS_FK": "10",
                                    "Legutolsó 5 foglalás": "3"
                                },
                                {
                                    "SZOBA_ID": "156",
                                    "SZOBA_SZAMA": "22",
                                    "FEROHELY": "2",
                                    "POTAGY": "2",
                                    "KLIMAS": "i",
                                    "SZALLAS_FK": "10",
                                    "Legutolsó 5 foglalás": "3"
                                },
                                {
                                    "SZOBA_ID": "156",
                                    "SZOBA_SZAMA": "22",
                                    "FEROHELY": "2",
                                    "POTAGY": "2",
                                    "KLIMAS": "i",
                                    "SZALLAS_FK": "10",
                                    "Legutolsó 5 foglalás": "3"
                                },
                                {
                                    "SZOBA_ID": "156",
                                    "SZOBA_SZAMA": "22",
                                    "FEROHELY": "2",
                                    "POTAGY": "2",
                                    "KLIMAS": "i",
                                    "SZALLAS_FK": "10",
                                    "Legutolsó 5 foglalás": "3"
                                },
                                {
                                    "SZOBA_ID": "156",
                                    "SZOBA_SZAMA": "22",
                                    "FEROHELY": "2",
                                    "POTAGY": "2",
                                    "KLIMAS": "i",
                                    "SZALLAS_FK": "10",
                                    "Legutolsó 5 foglalás": "2"
                                },
                                {
                                    "SZOBA_ID": "157",
                                    "SZOBA_SZAMA": "23",
                                    "FEROHELY": "2",
                                    "POTAGY": "0",
                                    "KLIMAS": "n",
                                    "SZALLAS_FK": "10",
                                    "Legutolsó 5 foglalás": "1"
                                },
                                {
                                    "SZOBA_ID": "157",
                                    "SZOBA_SZAMA": "23",
                                    "FEROHELY": "2",
                                    "POTAGY": "0",
                                    "KLIMAS": "n",
                                    "SZALLAS_FK": "10",
                                    "Legutolsó 5 foglalás": "1"
                                },
                                {
                                    "SZOBA_ID": "157",
                                    "SZOBA_SZAMA": "23",
                                    "FEROHELY": "2",
                                    "POTAGY": "0",
                                    "KLIMAS": "n",
                                    "SZALLAS_FK": "10",
                                    "Legutolsó 5 foglalás": "1"
                                },
                                {
                                    "SZOBA_ID": "157",
                                    "SZOBA_SZAMA": "23",
                                    "FEROHELY": "2",
                                    "POTAGY": "0",
                                    "KLIMAS": "n",
                                    "SZALLAS_FK": "10",
                                    "Legutolsó 5 foglalás": "1"
                                },
                                {
                                    "SZOBA_ID": "157",
                                    "SZOBA_SZAMA": "23",
                                    "FEROHELY": "2",
                                    "POTAGY": "0",
                                    "KLIMAS": "n",
                                    "SZALLAS_FK": "10",
                                    "Legutolsó 5 foglalás": "1"
                                },
                                {
                                    "SZOBA_ID": "158",
                                    "SZOBA_SZAMA": "24",
                                    "FEROHELY": "2",
                                    "POTAGY": "1",
                                    "KLIMAS": "n",
                                    "SZALLAS_FK": "10",
                                    "Legutolsó 5 foglalás": "3"
                                },
                                {
                                    "SZOBA_ID": "158",
                                    "SZOBA_SZAMA": "24",
                                    "FEROHELY": "2",
                                    "POTAGY": "1",
                                    "KLIMAS": "n",
                                    "SZALLAS_FK": "10",
                                    "Legutolsó 5 foglalás": "3"
                                },
                                {
                                    "SZOBA_ID": "158",
                                    "SZOBA_SZAMA": "24",
                                    "FEROHELY": "2",
                                    "POTAGY": "1",
                                    "KLIMAS": "n",
                                    "SZALLAS_FK": "10",
                                    "Legutolsó 5 foglalás": "3"
                                },
                                {
                                    "SZOBA_ID": "160",
                                    "SZOBA_SZAMA": "1",
                                    "FEROHELY": "3",
                                    "POTAGY": "1",
                                    "KLIMAS": "i",
                                    "SZALLAS_FK": "11",
                                    "Legutolsó 5 foglalás": "4"
                                },
                                {
                                    "SZOBA_ID": "160",
                                    "SZOBA_SZAMA": "1",
                                    "FEROHELY": "3",
                                    "POTAGY": "1",
                                    "KLIMAS": "i",
                                    "SZALLAS_FK": "11",
                                    "Legutolsó 5 foglalás": "3"
                                },
                                {
                                    "SZOBA_ID": "160",
                                    "SZOBA_SZAMA": "1",
                                    "FEROHELY": "3",
                                    "POTAGY": "1",
                                    "KLIMAS": "i",
                                    "SZALLAS_FK": "11",
                                    "Legutolsó 5 foglalás": "3"
                                },
                                {
                                    "SZOBA_ID": "160",
                                    "SZOBA_SZAMA": "1",
                                    "FEROHELY": "3",
                                    "POTAGY": "1",
                                    "KLIMAS": "i",
                                    "SZALLAS_FK": "11",
                                    "Legutolsó 5 foglalás": "3"
                                },
                                {
                                    "SZOBA_ID": "160",
                                    "SZOBA_SZAMA": "1",
                                    "FEROHELY": "3",
                                    "POTAGY": "1",
                                    "KLIMAS": "i",
                                    "SZALLAS_FK": "11",
                                    "Legutolsó 5 foglalás": "3"
                                },
                                {
                                    "SZOBA_ID": "161",
                                    "SZOBA_SZAMA": "2",
                                    "FEROHELY": "2",
                                    "POTAGY": "2",
                                    "KLIMAS": "i",
                                    "SZALLAS_FK": "11",
                                    "Legutolsó 5 foglalás": "3"
                                },
                                {
                                    "SZOBA_ID": "161",
                                    "SZOBA_SZAMA": "2",
                                    "FEROHELY": "2",
                                    "POTAGY": "2",
                                    "KLIMAS": "i",
                                    "SZALLAS_FK": "11",
                                    "Legutolsó 5 foglalás": "2"
                                },
                                {
                                    "SZOBA_ID": "161",
                                    "SZOBA_SZAMA": "2",
                                    "FEROHELY": "2",
                                    "POTAGY": "2",
                                    "KLIMAS": "i",
                                    "SZALLAS_FK": "11",
                                    "Legutolsó 5 foglalás": "2"
                                },
                                {
                                    "SZOBA_ID": "161",
                                    "SZOBA_SZAMA": "2",
                                    "FEROHELY": "2",
                                    "POTAGY": "2",
                                    "KLIMAS": "i",
                                    "SZALLAS_FK": "11",
                                    "Legutolsó 5 foglalás": "2"
                                },
                                {
                                    "SZOBA_ID": "161",
                                    "SZOBA_SZAMA": "2",
                                    "FEROHELY": "2",
                                    "POTAGY": "2",
                                    "KLIMAS": "i",
                                    "SZALLAS_FK": "11",
                                    "Legutolsó 5 foglalás": "2"
                                },
                                {
                                    "SZOBA_ID": "161",
                                    "SZOBA_SZAMA": "2",
                                    "FEROHELY": "2",
                                    "POTAGY": "2",
                                    "KLIMAS": "i",
                                    "SZALLAS_FK": "11",
                                    "Legutolsó 5 foglalás": "2"
                                },
                                {
                                    "SZOBA_ID": "162",
                                    "SZOBA_SZAMA": "3",
                                    "FEROHELY": "3",
                                    "POTAGY": "0",
                                    "KLIMAS": "n",
                                    "SZALLAS_FK": "11",
                                    "Legutolsó 5 foglalás": "3"
                                },
                                {
                                    "SZOBA_ID": "162",
                                    "SZOBA_SZAMA": "3",
                                    "FEROHELY": "3",
                                    "POTAGY": "0",
                                    "KLIMAS": "n",
                                    "SZALLAS_FK": "11",
                                    "Legutolsó 5 foglalás": "3"
                                },
                                {
                                    "SZOBA_ID": "162",
                                    "SZOBA_SZAMA": "3",
                                    "FEROHELY": "3",
                                    "POTAGY": "0",
                                    "KLIMAS": "n",
                                    "SZALLAS_FK": "11",
                                    "Legutolsó 5 foglalás": "2"
                                },
                                {
                                    "SZOBA_ID": "163",
                                    "SZOBA_SZAMA": "4",
                                    "FEROHELY": "2",
                                    "POTAGY": "0",
                                    "KLIMAS": "i",
                                    "SZALLAS_FK": "11",
                                    "Legutolsó 5 foglalás": "2"
                                },
                                {
                                    "SZOBA_ID": "163",
                                    "SZOBA_SZAMA": "4",
                                    "FEROHELY": "2",
                                    "POTAGY": "0",
                                    "KLIMAS": "i",
                                    "SZALLAS_FK": "11",
                                    "Legutolsó 5 foglalás": "2"
                                },
                                {
                                    "SZOBA_ID": "163",
                                    "SZOBA_SZAMA": "4",
                                    "FEROHELY": "2",
                                    "POTAGY": "0",
                                    "KLIMAS": "i",
                                    "SZALLAS_FK": "11",
                                    "Legutolsó 5 foglalás": "1"
                                },
                                {
                                    "SZOBA_ID": "163",
                                    "SZOBA_SZAMA": "4",
                                    "FEROHELY": "2",
                                    "POTAGY": "0",
                                    "KLIMAS": "i",
                                    "SZALLAS_FK": "11",
                                    "Legutolsó 5 foglalás": "1"
                                },
                                {
                                    "SZOBA_ID": "163",
                                    "SZOBA_SZAMA": "4",
                                    "FEROHELY": "2",
                                    "POTAGY": "0",
                                    "KLIMAS": "i",
                                    "SZALLAS_FK": "11",
                                    "Legutolsó 5 foglalás": "1"
                                },
                                {
                                    "SZOBA_ID": "163",
                                    "SZOBA_SZAMA": "4",
                                    "FEROHELY": "2",
                                    "POTAGY": "0",
                                    "KLIMAS": "i",
                                    "SZALLAS_FK": "11",
                                    "Legutolsó 5 foglalás": "1"
                                },
                                {
                                    "SZOBA_ID": "163",
                                    "SZOBA_SZAMA": "4",
                                    "FEROHELY": "2",
                                    "POTAGY": "0",
                                    "KLIMAS": "i",
                                    "SZALLAS_FK": "11",
                                    "Legutolsó 5 foglalás": "1"
                                },
                                {
                                    "SZOBA_ID": "164",
                                    "SZOBA_SZAMA": "5",
                                    "FEROHELY": "2",
                                    "POTAGY": "0",
                                    "KLIMAS": "i",
                                    "SZALLAS_FK": "11",
                                    "Legutolsó 5 foglalás": "2"
                                },
                                {
                                    "SZOBA_ID": "164",
                                    "SZOBA_SZAMA": "5",
                                    "FEROHELY": "2",
                                    "POTAGY": "0",
                                    "KLIMAS": "i",
                                    "SZALLAS_FK": "11",
                                    "Legutolsó 5 foglalás": "2"
                                },
                                {
                                    "SZOBA_ID": "164",
                                    "SZOBA_SZAMA": "5",
                                    "FEROHELY": "2",
                                    "POTAGY": "0",
                                    "KLIMAS": "i",
                                    "SZALLAS_FK": "11",
                                    "Legutolsó 5 foglalás": "2"
                                },
                                {
                                    "SZOBA_ID": "164",
                                    "SZOBA_SZAMA": "5",
                                    "FEROHELY": "2",
                                    "POTAGY": "0",
                                    "KLIMAS": "i",
                                    "SZALLAS_FK": "11",
                                    "Legutolsó 5 foglalás": "2"
                                },
                                {
                                    "SZOBA_ID": "164",
                                    "SZOBA_SZAMA": "5",
                                    "FEROHELY": "2",
                                    "POTAGY": "0",
                                    "KLIMAS": "i",
                                    "SZALLAS_FK": "11",
                                    "Legutolsó 5 foglalás": "2"
                                },
                                {
                                    "SZOBA_ID": "165",
                                    "SZOBA_SZAMA": "1",
                                    "FEROHELY": "2",
                                    "POTAGY": "0",
                                    "KLIMAS": "n",
                                    "SZALLAS_FK": "12",
                                    "Legutolsó 5 foglalás": "2"
                                },
                                {
                                    "SZOBA_ID": "165",
                                    "SZOBA_SZAMA": "1",
                                    "FEROHELY": "2",
                                    "POTAGY": "0",
                                    "KLIMAS": "n",
                                    "SZALLAS_FK": "12",
                                    "Legutolsó 5 foglalás": "1"
                                },
                                {
                                    "SZOBA_ID": "165",
                                    "SZOBA_SZAMA": "1",
                                    "FEROHELY": "2",
                                    "POTAGY": "0",
                                    "KLIMAS": "n",
                                    "SZALLAS_FK": "12",
                                    "Legutolsó 5 foglalás": "1"
                                },
                                {
                                    "SZOBA_ID": "165",
                                    "SZOBA_SZAMA": "1",
                                    "FEROHELY": "2",
                                    "POTAGY": "0",
                                    "KLIMAS": "n",
                                    "SZALLAS_FK": "12",
                                    "Legutolsó 5 foglalás": "1"
                                },
                                {
                                    "SZOBA_ID": "165",
                                    "SZOBA_SZAMA": "1",
                                    "FEROHELY": "2",
                                    "POTAGY": "0",
                                    "KLIMAS": "n",
                                    "SZALLAS_FK": "12",
                                    "Legutolsó 5 foglalás": "1"
                                },
                                {
                                    "SZOBA_ID": "165",
                                    "SZOBA_SZAMA": "1",
                                    "FEROHELY": "2",
                                    "POTAGY": "0",
                                    "KLIMAS": "n",
                                    "SZALLAS_FK": "12",
                                    "Legutolsó 5 foglalás": "1"
                                },
                                {
                                    "SZOBA_ID": "165",
                                    "SZOBA_SZAMA": "1",
                                    "FEROHELY": "2",
                                    "POTAGY": "0",
                                    "KLIMAS": "n",
                                    "SZALLAS_FK": "12",
                                    "Legutolsó 5 foglalás": "1"
                                },
                                {
                                    "SZOBA_ID": "166",
                                    "SZOBA_SZAMA": "2",
                                    "FEROHELY": "2",
                                    "POTAGY": "1",
                                    "KLIMAS": "i",
                                    "SZALLAS_FK": "12",
                                    "Legutolsó 5 foglalás": "2"
                                },
                                {
                                    "SZOBA_ID": "166",
                                    "SZOBA_SZAMA": "2",
                                    "FEROHELY": "2",
                                    "POTAGY": "1",
                                    "KLIMAS": "i",
                                    "SZALLAS_FK": "12",
                                    "Legutolsó 5 foglalás": "1"
                                },
                                {
                                    "SZOBA_ID": "166",
                                    "SZOBA_SZAMA": "2",
                                    "FEROHELY": "2",
                                    "POTAGY": "1",
                                    "KLIMAS": "i",
                                    "SZALLAS_FK": "12",
                                    "Legutolsó 5 foglalás": "2"
                                },
                                {
                                    "SZOBA_ID": "167",
                                    "SZOBA_SZAMA": "3",
                                    "FEROHELY": "3",
                                    "POTAGY": "0",
                                    "KLIMAS": "i",
                                    "SZALLAS_FK": "12",
                                    "Legutolsó 5 foglalás": "1"
                                },
                                {
                                    "SZOBA_ID": "167",
                                    "SZOBA_SZAMA": "3",
                                    "FEROHELY": "3",
                                    "POTAGY": "0",
                                    "KLIMAS": "i",
                                    "SZALLAS_FK": "12",
                                    "Legutolsó 5 foglalás": "2"
                                },
                                {
                                    "SZOBA_ID": "168",
                                    "SZOBA_SZAMA": "4",
                                    "FEROHELY": "2",
                                    "POTAGY": "2",
                                    "KLIMAS": "i",
                                    "SZALLAS_FK": "12",
                                    "Legutolsó 5 foglalás": "4"
                                },
                                {
                                    "SZOBA_ID": "168",
                                    "SZOBA_SZAMA": "4",
                                    "FEROHELY": "2",
                                    "POTAGY": "2",
                                    "KLIMAS": "i",
                                    "SZALLAS_FK": "12",
                                    "Legutolsó 5 foglalás": "4"
                                },
                                {
                                    "SZOBA_ID": "168",
                                    "SZOBA_SZAMA": "4",
                                    "FEROHELY": "2",
                                    "POTAGY": "2",
                                    "KLIMAS": "i",
                                    "SZALLAS_FK": "12",
                                    "Legutolsó 5 foglalás": "4"
                                },
                                {
                                    "SZOBA_ID": "168",
                                    "SZOBA_SZAMA": "4",
                                    "FEROHELY": "2",
                                    "POTAGY": "2",
                                    "KLIMAS": "i",
                                    "SZALLAS_FK": "12",
                                    "Legutolsó 5 foglalás": "3"
                                },
                                {
                                    "SZOBA_ID": "168",
                                    "SZOBA_SZAMA": "4",
                                    "FEROHELY": "2",
                                    "POTAGY": "2",
                                    "KLIMAS": "i",
                                    "SZALLAS_FK": "12",
                                    "Legutolsó 5 foglalás": "3"
                                },
                                {
                                    "SZOBA_ID": "169",
                                    "SZOBA_SZAMA": "5",
                                    "FEROHELY": "2",
                                    "POTAGY": "1",
                                    "KLIMAS": "i",
                                    "SZALLAS_FK": "12",
                                    "Legutolsó 5 foglalás": "2"
                                },
                                {
                                    "SZOBA_ID": "169",
                                    "SZOBA_SZAMA": "5",
                                    "FEROHELY": "2",
                                    "POTAGY": "1",
                                    "KLIMAS": "i",
                                    "SZALLAS_FK": "12",
                                    "Legutolsó 5 foglalás": "2"
                                },
                                {
                                    "SZOBA_ID": "169",
                                    "SZOBA_SZAMA": "5",
                                    "FEROHELY": "2",
                                    "POTAGY": "1",
                                    "KLIMAS": "i",
                                    "SZALLAS_FK": "12",
                                    "Legutolsó 5 foglalás": "1"
                                },
                                {
                                    "SZOBA_ID": "169",
                                    "SZOBA_SZAMA": "5",
                                    "FEROHELY": "2",
                                    "POTAGY": "1",
                                    "KLIMAS": "i",
                                    "SZALLAS_FK": "12",
                                    "Legutolsó 5 foglalás": "2"
                                },
                                {
                                    "SZOBA_ID": "169",
                                    "SZOBA_SZAMA": "5",
                                    "FEROHELY": "2",
                                    "POTAGY": "1",
                                    "KLIMAS": "i",
                                    "SZALLAS_FK": "12",
                                    "Legutolsó 5 foglalás": "2"
                                },
                                {
                                    "SZOBA_ID": "169",
                                    "SZOBA_SZAMA": "5",
                                    "FEROHELY": "2",
                                    "POTAGY": "1",
                                    "KLIMAS": "i",
                                    "SZALLAS_FK": "12",
                                    "Legutolsó 5 foglalás": "2"
                                },
                                {
                                    "SZOBA_ID": "170",
                                    "SZOBA_SZAMA": "6",
                                    "FEROHELY": "2",
                                    "POTAGY": "0",
                                    "KLIMAS": "i",
                                    "SZALLAS_FK": "12",
                                    "Legutolsó 5 foglalás": "1"
                                },
                                {
                                    "SZOBA_ID": "170",
                                    "SZOBA_SZAMA": "6",
                                    "FEROHELY": "2",
                                    "POTAGY": "0",
                                    "KLIMAS": "i",
                                    "SZALLAS_FK": "12",
                                    "Legutolsó 5 foglalás": "1"
                                },
                                {
                                    "SZOBA_ID": "170",
                                    "SZOBA_SZAMA": "6",
                                    "FEROHELY": "2",
                                    "POTAGY": "0",
                                    "KLIMAS": "i",
                                    "SZALLAS_FK": "12",
                                    "Legutolsó 5 foglalás": "1"
                                },
                                {
                                    "SZOBA_ID": "170",
                                    "SZOBA_SZAMA": "6",
                                    "FEROHELY": "2",
                                    "POTAGY": "0",
                                    "KLIMAS": "i",
                                    "SZALLAS_FK": "12",
                                    "Legutolsó 5 foglalás": "1"
                                },
                                {
                                    "SZOBA_ID": "170",
                                    "SZOBA_SZAMA": "6",
                                    "FEROHELY": "2",
                                    "POTAGY": "0",
                                    "KLIMAS": "i",
                                    "SZALLAS_FK": "12",
                                    "Legutolsó 5 foglalás": "1"
                                },
                                {
                                    "SZOBA_ID": "171",
                                    "SZOBA_SZAMA": "7",
                                    "FEROHELY": "2",
                                    "POTAGY": "1",
                                    "KLIMAS": "i",
                                    "SZALLAS_FK": "12",
                                    "Legutolsó 5 foglalás": "2"
                                },
                                {
                                    "SZOBA_ID": "171",
                                    "SZOBA_SZAMA": "7",
                                    "FEROHELY": "2",
                                    "POTAGY": "1",
                                    "KLIMAS": "i",
                                    "SZALLAS_FK": "12",
                                    "Legutolsó 5 foglalás": "1"
                                },
                                {
                                    "SZOBA_ID": "171",
                                    "SZOBA_SZAMA": "7",
                                    "FEROHELY": "2",
                                    "POTAGY": "1",
                                    "KLIMAS": "i",
                                    "SZALLAS_FK": "12",
                                    "Legutolsó 5 foglalás": "2"
                                },
                                {
                                    "SZOBA_ID": "171",
                                    "SZOBA_SZAMA": "7",
                                    "FEROHELY": "2",
                                    "POTAGY": "1",
                                    "KLIMAS": "i",
                                    "SZALLAS_FK": "12",
                                    "Legutolsó 5 foglalás": "1"
                                },
                                {
                                    "SZOBA_ID": "171",
                                    "SZOBA_SZAMA": "7",
                                    "FEROHELY": "2",
                                    "POTAGY": "1",
                                    "KLIMAS": "i",
                                    "SZALLAS_FK": "12",
                                    "Legutolsó 5 foglalás": "1"
                                },
                                {
                                    "SZOBA_ID": "172",
                                    "SZOBA_SZAMA": "8",
                                    "FEROHELY": "2",
                                    "POTAGY": "2",
                                    "KLIMAS": "n",
                                    "SZALLAS_FK": "12",
                                    "Legutolsó 5 foglalás": "2"
                                },
                                {
                                    "SZOBA_ID": "172",
                                    "SZOBA_SZAMA": "8",
                                    "FEROHELY": "2",
                                    "POTAGY": "2",
                                    "KLIMAS": "n",
                                    "SZALLAS_FK": "12",
                                    "Legutolsó 5 foglalás": "1"
                                },
                                {
                                    "SZOBA_ID": "172",
                                    "SZOBA_SZAMA": "8",
                                    "FEROHELY": "2",
                                    "POTAGY": "2",
                                    "KLIMAS": "n",
                                    "SZALLAS_FK": "12",
                                    "Legutolsó 5 foglalás": "2"
                                },
                                {
                                    "SZOBA_ID": "172",
                                    "SZOBA_SZAMA": "8",
                                    "FEROHELY": "2",
                                    "POTAGY": "2",
                                    "KLIMAS": "n",
                                    "SZALLAS_FK": "12",
                                    "Legutolsó 5 foglalás": "2"
                                },
                                {
                                    "SZOBA_ID": "172",
                                    "SZOBA_SZAMA": "8",
                                    "FEROHELY": "2",
                                    "POTAGY": "2",
                                    "KLIMAS": "n",
                                    "SZALLAS_FK": "12",
                                    "Legutolsó 5 foglalás": "2"
                                },
                                {
                                    "SZOBA_ID": "172",
                                    "SZOBA_SZAMA": "8",
                                    "FEROHELY": "2",
                                    "POTAGY": "2",
                                    "KLIMAS": "n",
                                    "SZALLAS_FK": "12",
                                    "Legutolsó 5 foglalás": "1"
                                },
                                {
                                    "SZOBA_ID": "172",
                                    "SZOBA_SZAMA": "8",
                                    "FEROHELY": "2",
                                    "POTAGY": "2",
                                    "KLIMAS": "n",
                                    "SZALLAS_FK": "12",
                                    "Legutolsó 5 foglalás": "1"
                                },
                                {
                                    "SZOBA_ID": "172",
                                    "SZOBA_SZAMA": "8",
                                    "FEROHELY": "2",
                                    "POTAGY": "2",
                                    "KLIMAS": "n",
                                    "SZALLAS_FK": "12",
                                    "Legutolsó 5 foglalás": "1"
                                },
                                {
                                    "SZOBA_ID": "172",
                                    "SZOBA_SZAMA": "8",
                                    "FEROHELY": "2",
                                    "POTAGY": "2",
                                    "KLIMAS": "n",
                                    "SZALLAS_FK": "12",
                                    "Legutolsó 5 foglalás": "1"
                                },
                                {
                                    "SZOBA_ID": "173",
                                    "SZOBA_SZAMA": "9",
                                    "FEROHELY": "2",
                                    "POTAGY": "0",
                                    "KLIMAS": "i",
                                    "SZALLAS_FK": "12",
                                    "Legutolsó 5 foglalás": "2"
                                },
                                {
                                    "SZOBA_ID": "173",
                                    "SZOBA_SZAMA": "9",
                                    "FEROHELY": "2",
                                    "POTAGY": "0",
                                    "KLIMAS": "i",
                                    "SZALLAS_FK": "12",
                                    "Legutolsó 5 foglalás": "1"
                                },
                                {
                                    "SZOBA_ID": "173",
                                    "SZOBA_SZAMA": "9",
                                    "FEROHELY": "2",
                                    "POTAGY": "0",
                                    "KLIMAS": "i",
                                    "SZALLAS_FK": "12",
                                    "Legutolsó 5 foglalás": "1"
                                },
                                {
                                    "SZOBA_ID": "173",
                                    "SZOBA_SZAMA": "9",
                                    "FEROHELY": "2",
                                    "POTAGY": "0",
                                    "KLIMAS": "i",
                                    "SZALLAS_FK": "12",
                                    "Legutolsó 5 foglalás": "1"
                                },
                                {
                                    "SZOBA_ID": "174",
                                    "SZOBA_SZAMA": "10",
                                    "FEROHELY": "2",
                                    "POTAGY": "0",
                                    "KLIMAS": "i",
                                    "SZALLAS_FK": "12",
                                    "Legutolsó 5 foglalás": "2"
                                },
                                {
                                    "SZOBA_ID": "174",
                                    "SZOBA_SZAMA": "10",
                                    "FEROHELY": "2",
                                    "POTAGY": "0",
                                    "KLIMAS": "i",
                                    "SZALLAS_FK": "12",
                                    "Legutolsó 5 foglalás": "1"
                                },
                                {
                                    "SZOBA_ID": "174",
                                    "SZOBA_SZAMA": "10",
                                    "FEROHELY": "2",
                                    "POTAGY": "0",
                                    "KLIMAS": "i",
                                    "SZALLAS_FK": "12",
                                    "Legutolsó 5 foglalás": "1"
                                },
                                {
                                    "SZOBA_ID": "174",
                                    "SZOBA_SZAMA": "10",
                                    "FEROHELY": "2",
                                    "POTAGY": "0",
                                    "KLIMAS": "i",
                                    "SZALLAS_FK": "12",
                                    "Legutolsó 5 foglalás": "1"
                                },
                                {
                                    "SZOBA_ID": "175",
                                    "SZOBA_SZAMA": "11",
                                    "FEROHELY": "2",
                                    "POTAGY": "0",
                                    "KLIMAS": "i",
                                    "SZALLAS_FK": "12",
                                    "Legutolsó 5 foglalás": "1"
                                },
                                {
                                    "SZOBA_ID": "175",
                                    "SZOBA_SZAMA": "11",
                                    "FEROHELY": "2",
                                    "POTAGY": "0",
                                    "KLIMAS": "i",
                                    "SZALLAS_FK": "12",
                                    "Legutolsó 5 foglalás": "1"
                                },
                                {
                                    "SZOBA_ID": "175",
                                    "SZOBA_SZAMA": "11",
                                    "FEROHELY": "2",
                                    "POTAGY": "0",
                                    "KLIMAS": "i",
                                    "SZALLAS_FK": "12",
                                    "Legutolsó 5 foglalás": "1"
                                },
                                {
                                    "SZOBA_ID": "175",
                                    "SZOBA_SZAMA": "11",
                                    "FEROHELY": "2",
                                    "POTAGY": "0",
                                    "KLIMAS": "i",
                                    "SZALLAS_FK": "12",
                                    "Legutolsó 5 foglalás": "1"
                                },
                                {
                                    "SZOBA_ID": "175",
                                    "SZOBA_SZAMA": "11",
                                    "FEROHELY": "2",
                                    "POTAGY": "0",
                                    "KLIMAS": "i",
                                    "SZALLAS_FK": "12",
                                    "Legutolsó 5 foglalás": "1"
                                },
                                {
                                    "SZOBA_ID": "176",
                                    "SZOBA_SZAMA": "12",
                                    "FEROHELY": "3",
                                    "POTAGY": "1",
                                    "KLIMAS": "i",
                                    "SZALLAS_FK": "12",
                                    "Legutolsó 5 foglalás": "2"
                                },
                                {
                                    "SZOBA_ID": "176",
                                    "SZOBA_SZAMA": "12",
                                    "FEROHELY": "3",
                                    "POTAGY": "1",
                                    "KLIMAS": "i",
                                    "SZALLAS_FK": "12",
                                    "Legutolsó 5 foglalás": "2"
                                },
                                {
                                    "SZOBA_ID": "176",
                                    "SZOBA_SZAMA": "12",
                                    "FEROHELY": "3",
                                    "POTAGY": "1",
                                    "KLIMAS": "i",
                                    "SZALLAS_FK": "12",
                                    "Legutolsó 5 foglalás": "2"
                                },
                                {
                                    "SZOBA_ID": "176",
                                    "SZOBA_SZAMA": "12",
                                    "FEROHELY": "3",
                                    "POTAGY": "1",
                                    "KLIMAS": "i",
                                    "SZALLAS_FK": "12",
                                    "Legutolsó 5 foglalás": "2"
                                },
                                {
                                    "SZOBA_ID": "176",
                                    "SZOBA_SZAMA": "12",
                                    "FEROHELY": "3",
                                    "POTAGY": "1",
                                    "KLIMAS": "i",
                                    "SZALLAS_FK": "12",
                                    "Legutolsó 5 foglalás": "2"
                                },
                                {
                                    "SZOBA_ID": "176",
                                    "SZOBA_SZAMA": "12",
                                    "FEROHELY": "3",
                                    "POTAGY": "1",
                                    "KLIMAS": "i",
                                    "SZALLAS_FK": "12",
                                    "Legutolsó 5 foglalás": "2"
                                },
                                {
                                    "SZOBA_ID": "177",
                                    "SZOBA_SZAMA": "13",
                                    "FEROHELY": "3",
                                    "POTAGY": "2",
                                    "KLIMAS": "i",
                                    "SZALLAS_FK": "12",
                                    "Legutolsó 5 foglalás": "4"
                                },
                                {
                                    "SZOBA_ID": "177",
                                    "SZOBA_SZAMA": "13",
                                    "FEROHELY": "3",
                                    "POTAGY": "2",
                                    "KLIMAS": "i",
                                    "SZALLAS_FK": "12",
                                    "Legutolsó 5 foglalás": "3"
                                },
                                {
                                    "SZOBA_ID": "177",
                                    "SZOBA_SZAMA": "13",
                                    "FEROHELY": "3",
                                    "POTAGY": "2",
                                    "KLIMAS": "i",
                                    "SZALLAS_FK": "12",
                                    "Legutolsó 5 foglalás": "3"
                                },
                                {
                                    "SZOBA_ID": "177",
                                    "SZOBA_SZAMA": "13",
                                    "FEROHELY": "3",
                                    "POTAGY": "2",
                                    "KLIMAS": "i",
                                    "SZALLAS_FK": "12",
                                    "Legutolsó 5 foglalás": "3"
                                },
                                {
                                    "SZOBA_ID": "178",
                                    "SZOBA_SZAMA": "14",
                                    "FEROHELY": "3",
                                    "POTAGY": "0",
                                    "KLIMAS": "i",
                                    "SZALLAS_FK": "12",
                                    "Legutolsó 5 foglalás": "3"
                                },
                                {
                                    "SZOBA_ID": "178",
                                    "SZOBA_SZAMA": "14",
                                    "FEROHELY": "3",
                                    "POTAGY": "0",
                                    "KLIMAS": "i",
                                    "SZALLAS_FK": "12",
                                    "Legutolsó 5 foglalás": "3"
                                },
                                {
                                    "SZOBA_ID": "178",
                                    "SZOBA_SZAMA": "14",
                                    "FEROHELY": "3",
                                    "POTAGY": "0",
                                    "KLIMAS": "i",
                                    "SZALLAS_FK": "12",
                                    "Legutolsó 5 foglalás": "3"
                                },
                                {
                                    "SZOBA_ID": "178",
                                    "SZOBA_SZAMA": "14",
                                    "FEROHELY": "3",
                                    "POTAGY": "0",
                                    "KLIMAS": "i",
                                    "SZALLAS_FK": "12",
                                    "Legutolsó 5 foglalás": "3"
                                },
                                {
                                    "SZOBA_ID": "179",
                                    "SZOBA_SZAMA": "15",
                                    "FEROHELY": "3",
                                    "POTAGY": "2",
                                    "KLIMAS": "i",
                                    "SZALLAS_FK": "12",
                                    "Legutolsó 5 foglalás": "4"
                                },
                                {
                                    "SZOBA_ID": "179",
                                    "SZOBA_SZAMA": "15",
                                    "FEROHELY": "3",
                                    "POTAGY": "2",
                                    "KLIMAS": "i",
                                    "SZALLAS_FK": "12",
                                    "Legutolsó 5 foglalás": "4"
                                },
                                {
                                    "SZOBA_ID": "179",
                                    "SZOBA_SZAMA": "15",
                                    "FEROHELY": "3",
                                    "POTAGY": "2",
                                    "KLIMAS": "i",
                                    "SZALLAS_FK": "12",
                                    "Legutolsó 5 foglalás": "3"
                                },
                                {
                                    "SZOBA_ID": "180",
                                    "SZOBA_SZAMA": "16",
                                    "FEROHELY": "2",
                                    "POTAGY": "2",
                                    "KLIMAS": "i",
                                    "SZALLAS_FK": "12",
                                    "Legutolsó 5 foglalás": "4"
                                },
                                {
                                    "SZOBA_ID": "180",
                                    "SZOBA_SZAMA": "16",
                                    "FEROHELY": "2",
                                    "POTAGY": "2",
                                    "KLIMAS": "i",
                                    "SZALLAS_FK": "12",
                                    "Legutolsó 5 foglalás": "3"
                                },
                                {
                                    "SZOBA_ID": "180",
                                    "SZOBA_SZAMA": "16",
                                    "FEROHELY": "2",
                                    "POTAGY": "2",
                                    "KLIMAS": "i",
                                    "SZALLAS_FK": "12",
                                    "Legutolsó 5 foglalás": "3"
                                },
                                {
                                    "SZOBA_ID": "181",
                                    "SZOBA_SZAMA": "17",
                                    "FEROHELY": "3",
                                    "POTAGY": "0",
                                    "KLIMAS": "i",
                                    "SZALLAS_FK": "12",
                                    "Legutolsó 5 foglalás": "3"
                                },
                                {
                                    "SZOBA_ID": "181",
                                    "SZOBA_SZAMA": "17",
                                    "FEROHELY": "3",
                                    "POTAGY": "0",
                                    "KLIMAS": "i",
                                    "SZALLAS_FK": "12",
                                    "Legutolsó 5 foglalás": "3"
                                },
                                {
                                    "SZOBA_ID": "181",
                                    "SZOBA_SZAMA": "17",
                                    "FEROHELY": "3",
                                    "POTAGY": "0",
                                    "KLIMAS": "i",
                                    "SZALLAS_FK": "12",
                                    "Legutolsó 5 foglalás": "3"
                                },
                                {
                                    "SZOBA_ID": "181",
                                    "SZOBA_SZAMA": "17",
                                    "FEROHELY": "3",
                                    "POTAGY": "0",
                                    "KLIMAS": "i",
                                    "SZALLAS_FK": "12",
                                    "Legutolsó 5 foglalás": "3"
                                },
                                {
                                    "SZOBA_ID": "181",
                                    "SZOBA_SZAMA": "17",
                                    "FEROHELY": "3",
                                    "POTAGY": "0",
                                    "KLIMAS": "i",
                                    "SZALLAS_FK": "12",
                                    "Legutolsó 5 foglalás": "3"
                                },
                                {
                                    "SZOBA_ID": "181",
                                    "SZOBA_SZAMA": "17",
                                    "FEROHELY": "3",
                                    "POTAGY": "0",
                                    "KLIMAS": "i",
                                    "SZALLAS_FK": "12",
                                    "Legutolsó 5 foglalás": "3"
                                },
                                {
                                    "SZOBA_ID": "182",
                                    "SZOBA_SZAMA": "18",
                                    "FEROHELY": "2",
                                    "POTAGY": "0",
                                    "KLIMAS": "n",
                                    "SZALLAS_FK": "12",
                                    "Legutolsó 5 foglalás": "2"
                                },
                                {
                                    "SZOBA_ID": "182",
                                    "SZOBA_SZAMA": "18",
                                    "FEROHELY": "2",
                                    "POTAGY": "0",
                                    "KLIMAS": "n",
                                    "SZALLAS_FK": "12",
                                    "Legutolsó 5 foglalás": "2"
                                },
                                {
                                    "SZOBA_ID": "182",
                                    "SZOBA_SZAMA": "18",
                                    "FEROHELY": "2",
                                    "POTAGY": "0",
                                    "KLIMAS": "n",
                                    "SZALLAS_FK": "12",
                                    "Legutolsó 5 foglalás": "2"
                                },
                                {
                                    "SZOBA_ID": "182",
                                    "SZOBA_SZAMA": "18",
                                    "FEROHELY": "2",
                                    "POTAGY": "0",
                                    "KLIMAS": "n",
                                    "SZALLAS_FK": "12",
                                    "Legutolsó 5 foglalás": "2"
                                },
                                {
                                    "SZOBA_ID": "182",
                                    "SZOBA_SZAMA": "18",
                                    "FEROHELY": "2",
                                    "POTAGY": "0",
                                    "KLIMAS": "n",
                                    "SZALLAS_FK": "12",
                                    "Legutolsó 5 foglalás": "2"
                                },
                                {
                                    "SZOBA_ID": "182",
                                    "SZOBA_SZAMA": "18",
                                    "FEROHELY": "2",
                                    "POTAGY": "0",
                                    "KLIMAS": "n",
                                    "SZALLAS_FK": "12",
                                    "Legutolsó 5 foglalás": "1"
                                },
                                {
                                    "SZOBA_ID": "182",
                                    "SZOBA_SZAMA": "18",
                                    "FEROHELY": "2",
                                    "POTAGY": "0",
                                    "KLIMAS": "n",
                                    "SZALLAS_FK": "12",
                                    "Legutolsó 5 foglalás": "1"
                                },
                                {
                                    "SZOBA_ID": "182",
                                    "SZOBA_SZAMA": "18",
                                    "FEROHELY": "2",
                                    "POTAGY": "0",
                                    "KLIMAS": "n",
                                    "SZALLAS_FK": "12",
                                    "Legutolsó 5 foglalás": "1"
                                },
                                {
                                    "SZOBA_ID": "182",
                                    "SZOBA_SZAMA": "18",
                                    "FEROHELY": "2",
                                    "POTAGY": "0",
                                    "KLIMAS": "n",
                                    "SZALLAS_FK": "12",
                                    "Legutolsó 5 foglalás": "1"
                                },
                                {
                                    "SZOBA_ID": "182",
                                    "SZOBA_SZAMA": "18",
                                    "FEROHELY": "2",
                                    "POTAGY": "0",
                                    "KLIMAS": "n",
                                    "SZALLAS_FK": "12",
                                    "Legutolsó 5 foglalás": "1"
                                },
                                {
                                    "SZOBA_ID": "182",
                                    "SZOBA_SZAMA": "18",
                                    "FEROHELY": "2",
                                    "POTAGY": "0",
                                    "KLIMAS": "n",
                                    "SZALLAS_FK": "12",
                                    "Legutolsó 5 foglalás": "1"
                                },
                                {
                                    "SZOBA_ID": "182",
                                    "SZOBA_SZAMA": "18",
                                    "FEROHELY": "2",
                                    "POTAGY": "0",
                                    "KLIMAS": "n",
                                    "SZALLAS_FK": "12",
                                    "Legutolsó 5 foglalás": "1"
                                },
                                {
                                    "SZOBA_ID": "183",
                                    "SZOBA_SZAMA": "19",
                                    "FEROHELY": "3",
                                    "POTAGY": "0",
                                    "KLIMAS": "i",
                                    "SZALLAS_FK": "12",
                                    "Legutolsó 5 foglalás": "3"
                                },
                                {
                                    "SZOBA_ID": "183",
                                    "SZOBA_SZAMA": "19",
                                    "FEROHELY": "3",
                                    "POTAGY": "0",
                                    "KLIMAS": "i",
                                    "SZALLAS_FK": "12",
                                    "Legutolsó 5 foglalás": "2"
                                },
                                {
                                    "SZOBA_ID": "183",
                                    "SZOBA_SZAMA": "19",
                                    "FEROHELY": "3",
                                    "POTAGY": "0",
                                    "KLIMAS": "i",
                                    "SZALLAS_FK": "12",
                                    "Legutolsó 5 foglalás": "2"
                                },
                                {
                                    "SZOBA_ID": "183",
                                    "SZOBA_SZAMA": "19",
                                    "FEROHELY": "3",
                                    "POTAGY": "0",
                                    "KLIMAS": "i",
                                    "SZALLAS_FK": "12",
                                    "Legutolsó 5 foglalás": "2"
                                },
                                {
                                    "SZOBA_ID": "184",
                                    "SZOBA_SZAMA": "20",
                                    "FEROHELY": "2",
                                    "POTAGY": "0",
                                    "KLIMAS": "n",
                                    "SZALLAS_FK": "12",
                                    "Legutolsó 5 foglalás": "2"
                                },
                                {
                                    "SZOBA_ID": "184",
                                    "SZOBA_SZAMA": "20",
                                    "FEROHELY": "2",
                                    "POTAGY": "0",
                                    "KLIMAS": "n",
                                    "SZALLAS_FK": "12",
                                    "Legutolsó 5 foglalás": "1"
                                },
                                {
                                    "SZOBA_ID": "184",
                                    "SZOBA_SZAMA": "20",
                                    "FEROHELY": "2",
                                    "POTAGY": "0",
                                    "KLIMAS": "n",
                                    "SZALLAS_FK": "12",
                                    "Legutolsó 5 foglalás": "1"
                                },
                                {
                                    "SZOBA_ID": "184",
                                    "SZOBA_SZAMA": "20",
                                    "FEROHELY": "2",
                                    "POTAGY": "0",
                                    "KLIMAS": "n",
                                    "SZALLAS_FK": "12",
                                    "Legutolsó 5 foglalás": "1"
                                },
                                {
                                    "SZOBA_ID": "185",
                                    "SZOBA_SZAMA": "21",
                                    "FEROHELY": "3",
                                    "POTAGY": "0",
                                    "KLIMAS": "i",
                                    "SZALLAS_FK": "12",
                                    "Legutolsó 5 foglalás": "3"
                                },
                                {
                                    "SZOBA_ID": "185",
                                    "SZOBA_SZAMA": "21",
                                    "FEROHELY": "3",
                                    "POTAGY": "0",
                                    "KLIMAS": "i",
                                    "SZALLAS_FK": "12",
                                    "Legutolsó 5 foglalás": "3"
                                },
                                {
                                    "SZOBA_ID": "185",
                                    "SZOBA_SZAMA": "21",
                                    "FEROHELY": "3",
                                    "POTAGY": "0",
                                    "KLIMAS": "i",
                                    "SZALLAS_FK": "12",
                                    "Legutolsó 5 foglalás": "3"
                                },
                                {
                                    "SZOBA_ID": "185",
                                    "SZOBA_SZAMA": "21",
                                    "FEROHELY": "3",
                                    "POTAGY": "0",
                                    "KLIMAS": "i",
                                    "SZALLAS_FK": "12",
                                    "Legutolsó 5 foglalás": "3"
                                },
                                {
                                    "SZOBA_ID": "185",
                                    "SZOBA_SZAMA": "21",
                                    "FEROHELY": "3",
                                    "POTAGY": "0",
                                    "KLIMAS": "i",
                                    "SZALLAS_FK": "12",
                                    "Legutolsó 5 foglalás": "3"
                                },
                                {
                                    "SZOBA_ID": "185",
                                    "SZOBA_SZAMA": "21",
                                    "FEROHELY": "3",
                                    "POTAGY": "0",
                                    "KLIMAS": "i",
                                    "SZALLAS_FK": "12",
                                    "Legutolsó 5 foglalás": "3"
                                },
                                {
                                    "SZOBA_ID": "185",
                                    "SZOBA_SZAMA": "21",
                                    "FEROHELY": "3",
                                    "POTAGY": "0",
                                    "KLIMAS": "i",
                                    "SZALLAS_FK": "12",
                                    "Legutolsó 5 foglalás": "2"
                                },
                                {
                                    "SZOBA_ID": "185",
                                    "SZOBA_SZAMA": "21",
                                    "FEROHELY": "3",
                                    "POTAGY": "0",
                                    "KLIMAS": "i",
                                    "SZALLAS_FK": "12",
                                    "Legutolsó 5 foglalás": "2"
                                },
                                {
                                    "SZOBA_ID": "185",
                                    "SZOBA_SZAMA": "21",
                                    "FEROHELY": "3",
                                    "POTAGY": "0",
                                    "KLIMAS": "i",
                                    "SZALLAS_FK": "12",
                                    "Legutolsó 5 foglalás": "2"
                                },
                                {
                                    "SZOBA_ID": "185",
                                    "SZOBA_SZAMA": "21",
                                    "FEROHELY": "3",
                                    "POTAGY": "0",
                                    "KLIMAS": "i",
                                    "SZALLAS_FK": "12",
                                    "Legutolsó 5 foglalás": "2"
                                },
                                {
                                    "SZOBA_ID": "185",
                                    "SZOBA_SZAMA": "21",
                                    "FEROHELY": "3",
                                    "POTAGY": "0",
                                    "KLIMAS": "i",
                                    "SZALLAS_FK": "12",
                                    "Legutolsó 5 foglalás": "2"
                                },
                                {
                                    "SZOBA_ID": "185",
                                    "SZOBA_SZAMA": "21",
                                    "FEROHELY": "3",
                                    "POTAGY": "0",
                                    "KLIMAS": "i",
                                    "SZALLAS_FK": "12",
                                    "Legutolsó 5 foglalás": "2"
                                },
                                {
                                    "SZOBA_ID": "186",
                                    "SZOBA_SZAMA": "22",
                                    "FEROHELY": "2",
                                    "POTAGY": "2",
                                    "KLIMAS": "i",
                                    "SZALLAS_FK": "12",
                                    "Legutolsó 5 foglalás": "3"
                                },
                                {
                                    "SZOBA_ID": "186",
                                    "SZOBA_SZAMA": "22",
                                    "FEROHELY": "2",
                                    "POTAGY": "2",
                                    "KLIMAS": "i",
                                    "SZALLAS_FK": "12",
                                    "Legutolsó 5 foglalás": "3"
                                },
                                {
                                    "SZOBA_ID": "186",
                                    "SZOBA_SZAMA": "22",
                                    "FEROHELY": "2",
                                    "POTAGY": "2",
                                    "KLIMAS": "i",
                                    "SZALLAS_FK": "12",
                                    "Legutolsó 5 foglalás": "2"
                                },
                                {
                                    "SZOBA_ID": "186",
                                    "SZOBA_SZAMA": "22",
                                    "FEROHELY": "2",
                                    "POTAGY": "2",
                                    "KLIMAS": "i",
                                    "SZALLAS_FK": "12",
                                    "Legutolsó 5 foglalás": "3"
                                },
                                {
                                    "SZOBA_ID": "187",
                                    "SZOBA_SZAMA": "23",
                                    "FEROHELY": "3",
                                    "POTAGY": "1",
                                    "KLIMAS": "i",
                                    "SZALLAS_FK": "12",
                                    "Legutolsó 5 foglalás": "3"
                                },
                                {
                                    "SZOBA_ID": "187",
                                    "SZOBA_SZAMA": "23",
                                    "FEROHELY": "3",
                                    "POTAGY": "1",
                                    "KLIMAS": "i",
                                    "SZALLAS_FK": "12",
                                    "Legutolsó 5 foglalás": "3"
                                },
                                {
                                    "SZOBA_ID": "187",
                                    "SZOBA_SZAMA": "23",
                                    "FEROHELY": "3",
                                    "POTAGY": "1",
                                    "KLIMAS": "i",
                                    "SZALLAS_FK": "12",
                                    "Legutolsó 5 foglalás": "3"
                                },
                                {
                                    "SZOBA_ID": "187",
                                    "SZOBA_SZAMA": "23",
                                    "FEROHELY": "3",
                                    "POTAGY": "1",
                                    "KLIMAS": "i",
                                    "SZALLAS_FK": "12",
                                    "Legutolsó 5 foglalás": "3"
                                },
                                {
                                    "SZOBA_ID": "187",
                                    "SZOBA_SZAMA": "23",
                                    "FEROHELY": "3",
                                    "POTAGY": "1",
                                    "KLIMAS": "i",
                                    "SZALLAS_FK": "12",
                                    "Legutolsó 5 foglalás": "3"
                                },
                                {
                                    "SZOBA_ID": "187",
                                    "SZOBA_SZAMA": "23",
                                    "FEROHELY": "3",
                                    "POTAGY": "1",
                                    "KLIMAS": "i",
                                    "SZALLAS_FK": "12",
                                    "Legutolsó 5 foglalás": "2"
                                },
                                {
                                    "SZOBA_ID": "187",
                                    "SZOBA_SZAMA": "23",
                                    "FEROHELY": "3",
                                    "POTAGY": "1",
                                    "KLIMAS": "i",
                                    "SZALLAS_FK": "12",
                                    "Legutolsó 5 foglalás": "2"
                                },
                                {
                                    "SZOBA_ID": "188",
                                    "SZOBA_SZAMA": "24",
                                    "FEROHELY": "3",
                                    "POTAGY": "0",
                                    "KLIMAS": "i",
                                    "SZALLAS_FK": "12",
                                    "Legutolsó 5 foglalás": "3"
                                },
                                {
                                    "SZOBA_ID": "188",
                                    "SZOBA_SZAMA": "24",
                                    "FEROHELY": "3",
                                    "POTAGY": "0",
                                    "KLIMAS": "i",
                                    "SZALLAS_FK": "12",
                                    "Legutolsó 5 foglalás": "2"
                                },
                                {
                                    "SZOBA_ID": "188",
                                    "SZOBA_SZAMA": "24",
                                    "FEROHELY": "3",
                                    "POTAGY": "0",
                                    "KLIMAS": "i",
                                    "SZALLAS_FK": "12",
                                    "Legutolsó 5 foglalás": "2"
                                },
                                {
                                    "SZOBA_ID": "188",
                                    "SZOBA_SZAMA": "24",
                                    "FEROHELY": "3",
                                    "POTAGY": "0",
                                    "KLIMAS": "i",
                                    "SZALLAS_FK": "12",
                                    "Legutolsó 5 foglalás": "2"
                                },
                                {
                                    "SZOBA_ID": "188",
                                    "SZOBA_SZAMA": "24",
                                    "FEROHELY": "3",
                                    "POTAGY": "0",
                                    "KLIMAS": "i",
                                    "SZALLAS_FK": "12",
                                    "Legutolsó 5 foglalás": "2"
                                },
                                {
                                    "SZOBA_ID": "188",
                                    "SZOBA_SZAMA": "24",
                                    "FEROHELY": "3",
                                    "POTAGY": "0",
                                    "KLIMAS": "i",
                                    "SZALLAS_FK": "12",
                                    "Legutolsó 5 foglalás": "2"
                                },
                                {
                                    "SZOBA_ID": "189",
                                    "SZOBA_SZAMA": "25",
                                    "FEROHELY": "2",
                                    "POTAGY": "2",
                                    "KLIMAS": "i",
                                    "SZALLAS_FK": "12",
                                    "Legutolsó 5 foglalás": "2"
                                },
                                {
                                    "SZOBA_ID": "189",
                                    "SZOBA_SZAMA": "25",
                                    "FEROHELY": "2",
                                    "POTAGY": "2",
                                    "KLIMAS": "i",
                                    "SZALLAS_FK": "12",
                                    "Legutolsó 5 foglalás": "2"
                                },
                                {
                                    "SZOBA_ID": "189",
                                    "SZOBA_SZAMA": "25",
                                    "FEROHELY": "2",
                                    "POTAGY": "2",
                                    "KLIMAS": "i",
                                    "SZALLAS_FK": "12",
                                    "Legutolsó 5 foglalás": "2"
                                },
                                {
                                    "SZOBA_ID": "189",
                                    "SZOBA_SZAMA": "25",
                                    "FEROHELY": "2",
                                    "POTAGY": "2",
                                    "KLIMAS": "i",
                                    "SZALLAS_FK": "12",
                                    "Legutolsó 5 foglalás": "2"
                                },
                                {
                                    "SZOBA_ID": "189",
                                    "SZOBA_SZAMA": "25",
                                    "FEROHELY": "2",
                                    "POTAGY": "2",
                                    "KLIMAS": "i",
                                    "SZALLAS_FK": "12",
                                    "Legutolsó 5 foglalás": "2"
                                },
                                {
                                    "SZOBA_ID": "190",
                                    "SZOBA_SZAMA": "26",
                                    "FEROHELY": "2",
                                    "POTAGY": "0",
                                    "KLIMAS": "i",
                                    "SZALLAS_FK": "12",
                                    "Legutolsó 5 foglalás": "1"
                                },
                                {
                                    "SZOBA_ID": "190",
                                    "SZOBA_SZAMA": "26",
                                    "FEROHELY": "2",
                                    "POTAGY": "0",
                                    "KLIMAS": "i",
                                    "SZALLAS_FK": "12",
                                    "Legutolsó 5 foglalás": "1"
                                },
                                {
                                    "SZOBA_ID": "190",
                                    "SZOBA_SZAMA": "26",
                                    "FEROHELY": "2",
                                    "POTAGY": "0",
                                    "KLIMAS": "i",
                                    "SZALLAS_FK": "12",
                                    "Legutolsó 5 foglalás": "1"
                                },
                                {
                                    "SZOBA_ID": "190",
                                    "SZOBA_SZAMA": "26",
                                    "FEROHELY": "2",
                                    "POTAGY": "0",
                                    "KLIMAS": "i",
                                    "SZALLAS_FK": "12",
                                    "Legutolsó 5 foglalás": "1"
                                },
                                {
                                    "SZOBA_ID": "190",
                                    "SZOBA_SZAMA": "26",
                                    "FEROHELY": "2",
                                    "POTAGY": "0",
                                    "KLIMAS": "i",
                                    "SZALLAS_FK": "12",
                                    "Legutolsó 5 foglalás": "1"
                                },
                                {
                                    "SZOBA_ID": "191",
                                    "SZOBA_SZAMA": "27",
                                    "FEROHELY": "2",
                                    "POTAGY": "1",
                                    "KLIMAS": "i",
                                    "SZALLAS_FK": "12",
                                    "Legutolsó 5 foglalás": "2"
                                },
                                {
                                    "SZOBA_ID": "191",
                                    "SZOBA_SZAMA": "27",
                                    "FEROHELY": "2",
                                    "POTAGY": "1",
                                    "KLIMAS": "i",
                                    "SZALLAS_FK": "12",
                                    "Legutolsó 5 foglalás": "2"
                                },
                                {
                                    "SZOBA_ID": "191",
                                    "SZOBA_SZAMA": "27",
                                    "FEROHELY": "2",
                                    "POTAGY": "1",
                                    "KLIMAS": "i",
                                    "SZALLAS_FK": "12",
                                    "Legutolsó 5 foglalás": "2"
                                },
                                {
                                    "SZOBA_ID": "191",
                                    "SZOBA_SZAMA": "27",
                                    "FEROHELY": "2",
                                    "POTAGY": "1",
                                    "KLIMAS": "i",
                                    "SZALLAS_FK": "12",
                                    "Legutolsó 5 foglalás": "2"
                                },
                                {
                                    "SZOBA_ID": "191",
                                    "SZOBA_SZAMA": "27",
                                    "FEROHELY": "2",
                                    "POTAGY": "1",
                                    "KLIMAS": "i",
                                    "SZALLAS_FK": "12",
                                    "Legutolsó 5 foglalás": "2"
                                },
                                {
                                    "SZOBA_ID": "192",
                                    "SZOBA_SZAMA": "28",
                                    "FEROHELY": "2",
                                    "POTAGY": "1",
                                    "KLIMAS": "i",
                                    "SZALLAS_FK": "12",
                                    "Legutolsó 5 foglalás": "3"
                                },
                                {
                                    "SZOBA_ID": "192",
                                    "SZOBA_SZAMA": "28",
                                    "FEROHELY": "2",
                                    "POTAGY": "1",
                                    "KLIMAS": "i",
                                    "SZALLAS_FK": "12",
                                    "Legutolsó 5 foglalás": "2"
                                },
                                {
                                    "SZOBA_ID": "193",
                                    "SZOBA_SZAMA": "29",
                                    "FEROHELY": "3",
                                    "POTAGY": "2",
                                    "KLIMAS": "n",
                                    "SZALLAS_FK": "12",
                                    "Legutolsó 5 foglalás": "2"
                                },
                                {
                                    "SZOBA_ID": "193",
                                    "SZOBA_SZAMA": "29",
                                    "FEROHELY": "3",
                                    "POTAGY": "2",
                                    "KLIMAS": "n",
                                    "SZALLAS_FK": "12",
                                    "Legutolsó 5 foglalás": "3"
                                },
                                {
                                    "SZOBA_ID": "193",
                                    "SZOBA_SZAMA": "29",
                                    "FEROHELY": "3",
                                    "POTAGY": "2",
                                    "KLIMAS": "n",
                                    "SZALLAS_FK": "12",
                                    "Legutolsó 5 foglalás": "4"
                                },
                                {
                                    "SZOBA_ID": "193",
                                    "SZOBA_SZAMA": "29",
                                    "FEROHELY": "3",
                                    "POTAGY": "2",
                                    "KLIMAS": "n",
                                    "SZALLAS_FK": "12",
                                    "Legutolsó 5 foglalás": "3"
                                },
                                {
                                    "SZOBA_ID": "193",
                                    "SZOBA_SZAMA": "29",
                                    "FEROHELY": "3",
                                    "POTAGY": "2",
                                    "KLIMAS": "n",
                                    "SZALLAS_FK": "12",
                                    "Legutolsó 5 foglalás": "4"
                                },
                                {
                                    "SZOBA_ID": "193",
                                    "SZOBA_SZAMA": "29",
                                    "FEROHELY": "3",
                                    "POTAGY": "2",
                                    "KLIMAS": "n",
                                    "SZALLAS_FK": "12",
                                    "Legutolsó 5 foglalás": "4"
                                },
                                {
                                    "SZOBA_ID": "193",
                                    "SZOBA_SZAMA": "29",
                                    "FEROHELY": "3",
                                    "POTAGY": "2",
                                    "KLIMAS": "n",
                                    "SZALLAS_FK": "12",
                                    "Legutolsó 5 foglalás": "4"
                                },
                                {
                                    "SZOBA_ID": "194",
                                    "SZOBA_SZAMA": "30",
                                    "FEROHELY": "2",
                                    "POTAGY": "1",
                                    "KLIMAS": "i",
                                    "SZALLAS_FK": "12",
                                    "Legutolsó 5 foglalás": "3"
                                },
                                {
                                    "SZOBA_ID": "195",
                                    "SZOBA_SZAMA": "31",
                                    "FEROHELY": "2",
                                    "POTAGY": "0",
                                    "KLIMAS": "i",
                                    "SZALLAS_FK": "12",
                                    "Legutolsó 5 foglalás": "2"
                                },
                                {
                                    "SZOBA_ID": "195",
                                    "SZOBA_SZAMA": "31",
                                    "FEROHELY": "2",
                                    "POTAGY": "0",
                                    "KLIMAS": "i",
                                    "SZALLAS_FK": "12",
                                    "Legutolsó 5 foglalás": "2"
                                },
                                {
                                    "SZOBA_ID": "195",
                                    "SZOBA_SZAMA": "31",
                                    "FEROHELY": "2",
                                    "POTAGY": "0",
                                    "KLIMAS": "i",
                                    "SZALLAS_FK": "12",
                                    "Legutolsó 5 foglalás": "1"
                                },
                                {
                                    "SZOBA_ID": "195",
                                    "SZOBA_SZAMA": "31",
                                    "FEROHELY": "2",
                                    "POTAGY": "0",
                                    "KLIMAS": "i",
                                    "SZALLAS_FK": "12",
                                    "Legutolsó 5 foglalás": "1"
                                },
                                {
                                    "SZOBA_ID": "195",
                                    "SZOBA_SZAMA": "31",
                                    "FEROHELY": "2",
                                    "POTAGY": "0",
                                    "KLIMAS": "i",
                                    "SZALLAS_FK": "12",
                                    "Legutolsó 5 foglalás": "1"
                                },
                                {
                                    "SZOBA_ID": "195",
                                    "SZOBA_SZAMA": "31",
                                    "FEROHELY": "2",
                                    "POTAGY": "0",
                                    "KLIMAS": "i",
                                    "SZALLAS_FK": "12",
                                    "Legutolsó 5 foglalás": "1"
                                },
                                {
                                    "SZOBA_ID": "196",
                                    "SZOBA_SZAMA": "32",
                                    "FEROHELY": "2",
                                    "POTAGY": "1",
                                    "KLIMAS": "i",
                                    "SZALLAS_FK": "12",
                                    "Legutolsó 5 foglalás": "3"
                                },
                                {
                                    "SZOBA_ID": "196",
                                    "SZOBA_SZAMA": "32",
                                    "FEROHELY": "2",
                                    "POTAGY": "1",
                                    "KLIMAS": "i",
                                    "SZALLAS_FK": "12",
                                    "Legutolsó 5 foglalás": "2"
                                },
                                {
                                    "SZOBA_ID": "196",
                                    "SZOBA_SZAMA": "32",
                                    "FEROHELY": "2",
                                    "POTAGY": "1",
                                    "KLIMAS": "i",
                                    "SZALLAS_FK": "12",
                                    "Legutolsó 5 foglalás": "2"
                                },
                                {
                                    "SZOBA_ID": "196",
                                    "SZOBA_SZAMA": "32",
                                    "FEROHELY": "2",
                                    "POTAGY": "1",
                                    "KLIMAS": "i",
                                    "SZALLAS_FK": "12",
                                    "Legutolsó 5 foglalás": "2"
                                },
                                {
                                    "SZOBA_ID": "197",
                                    "SZOBA_SZAMA": "33",
                                    "FEROHELY": "3",
                                    "POTAGY": "0",
                                    "KLIMAS": "i",
                                    "SZALLAS_FK": "12",
                                    "Legutolsó 5 foglalás": "3"
                                },
                                {
                                    "SZOBA_ID": "197",
                                    "SZOBA_SZAMA": "33",
                                    "FEROHELY": "3",
                                    "POTAGY": "0",
                                    "KLIMAS": "i",
                                    "SZALLAS_FK": "12",
                                    "Legutolsó 5 foglalás": "3"
                                },
                                {
                                    "SZOBA_ID": "197",
                                    "SZOBA_SZAMA": "33",
                                    "FEROHELY": "3",
                                    "POTAGY": "0",
                                    "KLIMAS": "i",
                                    "SZALLAS_FK": "12",
                                    "Legutolsó 5 foglalás": "3"
                                },
                                {
                                    "SZOBA_ID": "197",
                                    "SZOBA_SZAMA": "33",
                                    "FEROHELY": "3",
                                    "POTAGY": "0",
                                    "KLIMAS": "i",
                                    "SZALLAS_FK": "12",
                                    "Legutolsó 5 foglalás": "2"
                                },
                                {
                                    "SZOBA_ID": "197",
                                    "SZOBA_SZAMA": "33",
                                    "FEROHELY": "3",
                                    "POTAGY": "0",
                                    "KLIMAS": "i",
                                    "SZALLAS_FK": "12",
                                    "Legutolsó 5 foglalás": "2"
                                },
                                {
                                    "SZOBA_ID": "197",
                                    "SZOBA_SZAMA": "33",
                                    "FEROHELY": "3",
                                    "POTAGY": "0",
                                    "KLIMAS": "i",
                                    "SZALLAS_FK": "12",
                                    "Legutolsó 5 foglalás": "2"
                                },
                                {
                                    "SZOBA_ID": "198",
                                    "SZOBA_SZAMA": "34",
                                    "FEROHELY": "3",
                                    "POTAGY": "0",
                                    "KLIMAS": "i",
                                    "SZALLAS_FK": "12",
                                    "Legutolsó 5 foglalás": "3"
                                },
                                {
                                    "SZOBA_ID": "198",
                                    "SZOBA_SZAMA": "34",
                                    "FEROHELY": "3",
                                    "POTAGY": "0",
                                    "KLIMAS": "i",
                                    "SZALLAS_FK": "12",
                                    "Legutolsó 5 foglalás": "3"
                                },
                                {
                                    "SZOBA_ID": "198",
                                    "SZOBA_SZAMA": "34",
                                    "FEROHELY": "3",
                                    "POTAGY": "0",
                                    "KLIMAS": "i",
                                    "SZALLAS_FK": "12",
                                    "Legutolsó 5 foglalás": "3"
                                },
                                {
                                    "SZOBA_ID": "198",
                                    "SZOBA_SZAMA": "34",
                                    "FEROHELY": "3",
                                    "POTAGY": "0",
                                    "KLIMAS": "i",
                                    "SZALLAS_FK": "12",
                                    "Legutolsó 5 foglalás": "3"
                                },
                                {
                                    "SZOBA_ID": "198",
                                    "SZOBA_SZAMA": "34",
                                    "FEROHELY": "3",
                                    "POTAGY": "0",
                                    "KLIMAS": "i",
                                    "SZALLAS_FK": "12",
                                    "Legutolsó 5 foglalás": "2"
                                },
                                {
                                    "SZOBA_ID": "198",
                                    "SZOBA_SZAMA": "34",
                                    "FEROHELY": "3",
                                    "POTAGY": "0",
                                    "KLIMAS": "i",
                                    "SZALLAS_FK": "12",
                                    "Legutolsó 5 foglalás": "2"
                                },
                                {
                                    "SZOBA_ID": "198",
                                    "SZOBA_SZAMA": "34",
                                    "FEROHELY": "3",
                                    "POTAGY": "0",
                                    "KLIMAS": "i",
                                    "SZALLAS_FK": "12",
                                    "Legutolsó 5 foglalás": "2"
                                },
                                {
                                    "SZOBA_ID": "198",
                                    "SZOBA_SZAMA": "34",
                                    "FEROHELY": "3",
                                    "POTAGY": "0",
                                    "KLIMAS": "i",
                                    "SZALLAS_FK": "12",
                                    "Legutolsó 5 foglalás": "2"
                                }
                            ]
                        },
                        "text/html": [
                            "<table>",
                            "<tr><th>SZOBA_ID</th><th>SZOBA_SZAMA</th><th>FEROHELY</th><th>POTAGY</th><th>KLIMAS</th><th>SZALLAS_FK</th><th>Legutolsó 5 foglalás</th></tr>",
                            "<tr><td>1</td><td>1</td><td>3</td><td>0</td><td>n</td><td>1</td><td>1</td></tr>",
                            "<tr><td>1</td><td>1</td><td>3</td><td>0</td><td>n</td><td>1</td><td>1</td></tr>",
                            "<tr><td>1</td><td>1</td><td>3</td><td>0</td><td>n</td><td>1</td><td>1</td></tr>",
                            "<tr><td>1</td><td>1</td><td>3</td><td>0</td><td>n</td><td>1</td><td>1</td></tr>",
                            "<tr><td>1</td><td>1</td><td>3</td><td>0</td><td>n</td><td>1</td><td>1</td></tr>",
                            "<tr><td>1</td><td>1</td><td>3</td><td>0</td><td>n</td><td>1</td><td>1</td></tr>",
                            "<tr><td>1</td><td>1</td><td>3</td><td>0</td><td>n</td><td>1</td><td>2</td></tr>",
                            "<tr><td>1</td><td>1</td><td>3</td><td>0</td><td>n</td><td>1</td><td>2</td></tr>",
                            "<tr><td>2</td><td>2</td><td>3</td><td>1</td><td>i</td><td>1</td><td>4</td></tr>",
                            "<tr><td>2</td><td>2</td><td>3</td><td>1</td><td>i</td><td>1</td><td>3</td></tr>",
                            "<tr><td>2</td><td>2</td><td>3</td><td>1</td><td>i</td><td>1</td><td>3</td></tr>",
                            "<tr><td>2</td><td>2</td><td>3</td><td>1</td><td>i</td><td>1</td><td>3</td></tr>",
                            "<tr><td>3</td><td>3</td><td>3</td><td>1</td><td>i</td><td>1</td><td>3</td></tr>",
                            "<tr><td>3</td><td>3</td><td>3</td><td>1</td><td>i</td><td>1</td><td>3</td></tr>",
                            "<tr><td>3</td><td>3</td><td>3</td><td>1</td><td>i</td><td>1</td><td>3</td></tr>",
                            "<tr><td>3</td><td>3</td><td>3</td><td>1</td><td>i</td><td>1</td><td>3</td></tr>",
                            "<tr><td>3</td><td>3</td><td>3</td><td>1</td><td>i</td><td>1</td><td>3</td></tr>",
                            "<tr><td>3</td><td>3</td><td>3</td><td>1</td><td>i</td><td>1</td><td>3</td></tr>",
                            "<tr><td>3</td><td>3</td><td>3</td><td>1</td><td>i</td><td>1</td><td>3</td></tr>",
                            "<tr><td>3</td><td>3</td><td>3</td><td>1</td><td>i</td><td>1</td><td>3</td></tr>",
                            "<tr><td>4</td><td>4</td><td>2</td><td>1</td><td>i</td><td>1</td><td>1</td></tr>",
                            "<tr><td>4</td><td>4</td><td>2</td><td>1</td><td>i</td><td>1</td><td>1</td></tr>",
                            "<tr><td>4</td><td>4</td><td>2</td><td>1</td><td>i</td><td>1</td><td>1</td></tr>",
                            "<tr><td>4</td><td>4</td><td>2</td><td>1</td><td>i</td><td>1</td><td>1</td></tr>",
                            "<tr><td>4</td><td>4</td><td>2</td><td>1</td><td>i</td><td>1</td><td>1</td></tr>",
                            "<tr><td>4</td><td>4</td><td>2</td><td>1</td><td>i</td><td>1</td><td>1</td></tr>",
                            "<tr><td>5</td><td>5</td><td>2</td><td>0</td><td>i</td><td>1</td><td>2</td></tr>",
                            "<tr><td>5</td><td>5</td><td>2</td><td>0</td><td>i</td><td>1</td><td>1</td></tr>",
                            "<tr><td>5</td><td>5</td><td>2</td><td>0</td><td>i</td><td>1</td><td>1</td></tr>",
                            "<tr><td>5</td><td>5</td><td>2</td><td>0</td><td>i</td><td>1</td><td>1</td></tr>",
                            "<tr><td>6</td><td>6</td><td>3</td><td>0</td><td>i</td><td>1</td><td>2</td></tr>",
                            "<tr><td>6</td><td>6</td><td>3</td><td>0</td><td>i</td><td>1</td><td>2</td></tr>",
                            "<tr><td>6</td><td>6</td><td>3</td><td>0</td><td>i</td><td>1</td><td>1</td></tr>",
                            "<tr><td>6</td><td>6</td><td>3</td><td>0</td><td>i</td><td>1</td><td>2</td></tr>",
                            "<tr><td>6</td><td>6</td><td>3</td><td>0</td><td>i</td><td>1</td><td>2</td></tr>",
                            "<tr><td>6</td><td>6</td><td>3</td><td>0</td><td>i</td><td>1</td><td>2</td></tr>",
                            "<tr><td>7</td><td>7</td><td>2</td><td>0</td><td>i</td><td>1</td><td>1</td></tr>",
                            "<tr><td>7</td><td>7</td><td>2</td><td>0</td><td>i</td><td>1</td><td>1</td></tr>",
                            "<tr><td>7</td><td>7</td><td>2</td><td>0</td><td>i</td><td>1</td><td>1</td></tr>",
                            "<tr><td>7</td><td>7</td><td>2</td><td>0</td><td>i</td><td>1</td><td>1</td></tr>",
                            "<tr><td>7</td><td>7</td><td>2</td><td>0</td><td>i</td><td>1</td><td>1</td></tr>",
                            "<tr><td>7</td><td>7</td><td>2</td><td>0</td><td>i</td><td>1</td><td>1</td></tr>",
                            "<tr><td>8</td><td>8</td><td>3</td><td>0</td><td>n</td><td>1</td><td>2</td></tr>",
                            "<tr><td>8</td><td>8</td><td>3</td><td>0</td><td>n</td><td>1</td><td>2</td></tr>",
                            "<tr><td>8</td><td>8</td><td>3</td><td>0</td><td>n</td><td>1</td><td>2</td></tr>",
                            "<tr><td>8</td><td>8</td><td>3</td><td>0</td><td>n</td><td>1</td><td>2</td></tr>",
                            "<tr><td>8</td><td>8</td><td>3</td><td>0</td><td>n</td><td>1</td><td>2</td></tr>",
                            "<tr><td>9</td><td>9</td><td>3</td><td>1</td><td>i</td><td>1</td><td>2</td></tr>",
                            "<tr><td>9</td><td>9</td><td>3</td><td>1</td><td>i</td><td>1</td><td>2</td></tr>",
                            "<tr><td>9</td><td>9</td><td>3</td><td>1</td><td>i</td><td>1</td><td>3</td></tr>",
                            "<tr><td>9</td><td>9</td><td>3</td><td>1</td><td>i</td><td>1</td><td>3</td></tr>",
                            "<tr><td>9</td><td>9</td><td>3</td><td>1</td><td>i</td><td>1</td><td>3</td></tr>",
                            "<tr><td>9</td><td>9</td><td>3</td><td>1</td><td>i</td><td>1</td><td>3</td></tr>",
                            "<tr><td>10</td><td>10</td><td>3</td><td>0</td><td>i</td><td>1</td><td>2</td></tr>",
                            "<tr><td>10</td><td>10</td><td>3</td><td>0</td><td>i</td><td>1</td><td>1</td></tr>",
                            "<tr><td>10</td><td>10</td><td>3</td><td>0</td><td>i</td><td>1</td><td>2</td></tr>",
                            "<tr><td>10</td><td>10</td><td>3</td><td>0</td><td>i</td><td>1</td><td>2</td></tr>",
                            "<tr><td>11</td><td>11</td><td>2</td><td>1</td><td>i</td><td>1</td><td>3</td></tr>",
                            "<tr><td>11</td><td>11</td><td>2</td><td>1</td><td>i</td><td>1</td><td>3</td></tr>",
                            "<tr><td>11</td><td>11</td><td>2</td><td>1</td><td>i</td><td>1</td><td>2</td></tr>",
                            "<tr><td>11</td><td>11</td><td>2</td><td>1</td><td>i</td><td>1</td><td>2</td></tr>",
                            "<tr><td>12</td><td>12</td><td>2</td><td>1</td><td>i</td><td>1</td><td>3</td></tr>",
                            "<tr><td>12</td><td>12</td><td>2</td><td>1</td><td>i</td><td>1</td><td>2</td></tr>",
                            "<tr><td>12</td><td>12</td><td>2</td><td>1</td><td>i</td><td>1</td><td>2</td></tr>",
                            "<tr><td>12</td><td>12</td><td>2</td><td>1</td><td>i</td><td>1</td><td>2</td></tr>",
                            "<tr><td>12</td><td>12</td><td>2</td><td>1</td><td>i</td><td>1</td><td>2</td></tr>",
                            "<tr><td>12</td><td>12</td><td>2</td><td>1</td><td>i</td><td>1</td><td>2</td></tr>",
                            "<tr><td>12</td><td>12</td><td>2</td><td>1</td><td>i</td><td>1</td><td>2</td></tr>",
                            "<tr><td>12</td><td>12</td><td>2</td><td>1</td><td>i</td><td>1</td><td>2</td></tr>",
                            "<tr><td>12</td><td>12</td><td>2</td><td>1</td><td>i</td><td>1</td><td>2</td></tr>",
                            "<tr><td>13</td><td>1</td><td>3</td><td>0</td><td>i</td><td>2</td><td>3</td></tr>",
                            "<tr><td>13</td><td>1</td><td>3</td><td>0</td><td>i</td><td>2</td><td>3</td></tr>",
                            "<tr><td>13</td><td>1</td><td>3</td><td>0</td><td>i</td><td>2</td><td>3</td></tr>",
                            "<tr><td>13</td><td>1</td><td>3</td><td>0</td><td>i</td><td>2</td><td>2</td></tr>",
                            "<tr><td>14</td><td>2</td><td>3</td><td>2</td><td>i</td><td>2</td><td>4</td></tr>",
                            "<tr><td>14</td><td>2</td><td>3</td><td>2</td><td>i</td><td>2</td><td>3</td></tr>",
                            "<tr><td>14</td><td>2</td><td>3</td><td>2</td><td>i</td><td>2</td><td>3</td></tr>",
                            "<tr><td>15</td><td>3</td><td>2</td><td>1</td><td>i</td><td>2</td><td>3</td></tr>",
                            "<tr><td>15</td><td>3</td><td>2</td><td>1</td><td>i</td><td>2</td><td>2</td></tr>",
                            "<tr><td>15</td><td>3</td><td>2</td><td>1</td><td>i</td><td>2</td><td>2</td></tr>",
                            "<tr><td>15</td><td>3</td><td>2</td><td>1</td><td>i</td><td>2</td><td>2</td></tr>",
                            "<tr><td>15</td><td>3</td><td>2</td><td>1</td><td>i</td><td>2</td><td>2</td></tr>",
                            "<tr><td>15</td><td>3</td><td>2</td><td>1</td><td>i</td><td>2</td><td>2</td></tr>",
                            "<tr><td>16</td><td>4</td><td>3</td><td>1</td><td>i</td><td>2</td><td>4</td></tr>",
                            "<tr><td>16</td><td>4</td><td>3</td><td>1</td><td>i</td><td>2</td><td>3</td></tr>",
                            "<tr><td>16</td><td>4</td><td>3</td><td>1</td><td>i</td><td>2</td><td>3</td></tr>",
                            "<tr><td>16</td><td>4</td><td>3</td><td>1</td><td>i</td><td>2</td><td>3</td></tr>",
                            "<tr><td>16</td><td>4</td><td>3</td><td>1</td><td>i</td><td>2</td><td>3</td></tr>",
                            "<tr><td>17</td><td>1</td><td>3</td><td>1</td><td>i</td><td>3</td><td>4</td></tr>",
                            "<tr><td>17</td><td>1</td><td>3</td><td>1</td><td>i</td><td>3</td><td>3</td></tr>",
                            "<tr><td>17</td><td>1</td><td>3</td><td>1</td><td>i</td><td>3</td><td>3</td></tr>",
                            "<tr><td>17</td><td>1</td><td>3</td><td>1</td><td>i</td><td>3</td><td>2</td></tr>",
                            "<tr><td>17</td><td>1</td><td>3</td><td>1</td><td>i</td><td>3</td><td>2</td></tr>",
                            "<tr><td>17</td><td>1</td><td>3</td><td>1</td><td>i</td><td>3</td><td>2</td></tr>",
                            "<tr><td>18</td><td>2</td><td>3</td><td>2</td><td>n</td><td>3</td><td>2</td></tr>",
                            "<tr><td>18</td><td>2</td><td>3</td><td>2</td><td>n</td><td>3</td><td>2</td></tr>",
                            "<tr><td>18</td><td>2</td><td>3</td><td>2</td><td>n</td><td>3</td><td>2</td></tr>",
                            "<tr><td>18</td><td>2</td><td>3</td><td>2</td><td>n</td><td>3</td><td>3</td></tr>",
                            "<tr><td>18</td><td>2</td><td>3</td><td>2</td><td>n</td><td>3</td><td>2</td></tr>",
                            "<tr><td>18</td><td>2</td><td>3</td><td>2</td><td>n</td><td>3</td><td>3</td></tr>",
                            "<tr><td>19</td><td>3</td><td>2</td><td>1</td><td>i</td><td>3</td><td>1</td></tr>",
                            "<tr><td>19</td><td>3</td><td>2</td><td>1</td><td>i</td><td>3</td><td>2</td></tr>",
                            "<tr><td>19</td><td>3</td><td>2</td><td>1</td><td>i</td><td>3</td><td>2</td></tr>",
                            "<tr><td>19</td><td>3</td><td>2</td><td>1</td><td>i</td><td>3</td><td>2</td></tr>",
                            "<tr><td>19</td><td>3</td><td>2</td><td>1</td><td>i</td><td>3</td><td>2</td></tr>",
                            "<tr><td>19</td><td>3</td><td>2</td><td>1</td><td>i</td><td>3</td><td>2</td></tr>",
                            "<tr><td>20</td><td>4</td><td>3</td><td>0</td><td>i</td><td>3</td><td>1</td></tr>",
                            "<tr><td>20</td><td>4</td><td>3</td><td>0</td><td>i</td><td>3</td><td>2</td></tr>",
                            "<tr><td>20</td><td>4</td><td>3</td><td>0</td><td>i</td><td>3</td><td>2</td></tr>",
                            "<tr><td>20</td><td>4</td><td>3</td><td>0</td><td>i</td><td>3</td><td>2</td></tr>",
                            "<tr><td>20</td><td>4</td><td>3</td><td>0</td><td>i</td><td>3</td><td>2</td></tr>",
                            "<tr><td>21</td><td>5</td><td>2</td><td>1</td><td>i</td><td>3</td><td>2</td></tr>",
                            "<tr><td>21</td><td>5</td><td>2</td><td>1</td><td>i</td><td>3</td><td>2</td></tr>",
                            "<tr><td>21</td><td>5</td><td>2</td><td>1</td><td>i</td><td>3</td><td>2</td></tr>",
                            "<tr><td>21</td><td>5</td><td>2</td><td>1</td><td>i</td><td>3</td><td>2</td></tr>",
                            "<tr><td>22</td><td>6</td><td>3</td><td>2</td><td>n</td><td>3</td><td>2</td></tr>",
                            "<tr><td>22</td><td>6</td><td>3</td><td>2</td><td>n</td><td>3</td><td>1</td></tr>",
                            "<tr><td>22</td><td>6</td><td>3</td><td>2</td><td>n</td><td>3</td><td>2</td></tr>",
                            "<tr><td>22</td><td>6</td><td>3</td><td>2</td><td>n</td><td>3</td><td>3</td></tr>",
                            "<tr><td>22</td><td>6</td><td>3</td><td>2</td><td>n</td><td>3</td><td>3</td></tr>",
                            "<tr><td>22</td><td>6</td><td>3</td><td>2</td><td>n</td><td>3</td><td>3</td></tr>",
                            "<tr><td>23</td><td>7</td><td>2</td><td>0</td><td>n</td><td>3</td><td>2</td></tr>",
                            "<tr><td>23</td><td>7</td><td>2</td><td>0</td><td>n</td><td>3</td><td>1</td></tr>",
                            "<tr><td>23</td><td>7</td><td>2</td><td>0</td><td>n</td><td>3</td><td>1</td></tr>",
                            "<tr><td>24</td><td>8</td><td>4</td><td>1</td><td>i</td><td>3</td><td>1</td></tr>",
                            "<tr><td>24</td><td>8</td><td>4</td><td>1</td><td>i</td><td>3</td><td>2</td></tr>",
                            "<tr><td>24</td><td>8</td><td>4</td><td>1</td><td>i</td><td>3</td><td>3</td></tr>",
                            "<tr><td>25</td><td>1</td><td>3</td><td>1</td><td>n</td><td>4</td><td>3</td></tr>",
                            "<tr><td>25</td><td>1</td><td>3</td><td>1</td><td>n</td><td>4</td><td>3</td></tr>",
                            "<tr><td>26</td><td>2</td><td>2</td><td>1</td><td>i</td><td>4</td><td>3</td></tr>",
                            "<tr><td>26</td><td>2</td><td>2</td><td>1</td><td>i</td><td>4</td><td>2</td></tr>",
                            "<tr><td>27</td><td>3</td><td>3</td><td>1</td><td>n</td><td>4</td><td>4</td></tr>",
                            "<tr><td>27</td><td>3</td><td>3</td><td>1</td><td>n</td><td>4</td><td>3</td></tr>",
                            "<tr><td>27</td><td>3</td><td>3</td><td>1</td><td>n</td><td>4</td><td>3</td></tr>",
                            "<tr><td>27</td><td>3</td><td>3</td><td>1</td><td>n</td><td>4</td><td>3</td></tr>",
                            "<tr><td>27</td><td>3</td><td>3</td><td>1</td><td>n</td><td>4</td><td>3</td></tr>",
                            "<tr><td>27</td><td>3</td><td>3</td><td>1</td><td>n</td><td>4</td><td>3</td></tr>",
                            "<tr><td>27</td><td>3</td><td>3</td><td>1</td><td>n</td><td>4</td><td>3</td></tr>",
                            "<tr><td>28</td><td>4</td><td>2</td><td>1</td><td>i</td><td>4</td><td>1</td></tr>",
                            "<tr><td>28</td><td>4</td><td>2</td><td>1</td><td>i</td><td>4</td><td>1</td></tr>",
                            "<tr><td>28</td><td>4</td><td>2</td><td>1</td><td>i</td><td>4</td><td>1</td></tr>",
                            "<tr><td>28</td><td>4</td><td>2</td><td>1</td><td>i</td><td>4</td><td>1</td></tr>",
                            "<tr><td>28</td><td>4</td><td>2</td><td>1</td><td>i</td><td>4</td><td>2</td></tr>",
                            "<tr><td>28</td><td>4</td><td>2</td><td>1</td><td>i</td><td>4</td><td>2</td></tr>",
                            "<tr><td>29</td><td>5</td><td>2</td><td>0</td><td>n</td><td>4</td><td>2</td></tr>",
                            "<tr><td>29</td><td>5</td><td>2</td><td>0</td><td>n</td><td>4</td><td>2</td></tr>",
                            "<tr><td>29</td><td>5</td><td>2</td><td>0</td><td>n</td><td>4</td><td>2</td></tr>",
                            "<tr><td>29</td><td>5</td><td>2</td><td>0</td><td>n</td><td>4</td><td>2</td></tr>",
                            "<tr><td>29</td><td>5</td><td>2</td><td>0</td><td>n</td><td>4</td><td>2</td></tr>",
                            "<tr><td>29</td><td>5</td><td>2</td><td>0</td><td>n</td><td>4</td><td>1</td></tr>",
                            "<tr><td>30</td><td>6</td><td>3</td><td>1</td><td>i</td><td>4</td><td>2</td></tr>",
                            "<tr><td>30</td><td>6</td><td>3</td><td>1</td><td>i</td><td>4</td><td>2</td></tr>",
                            "<tr><td>30</td><td>6</td><td>3</td><td>1</td><td>i</td><td>4</td><td>2</td></tr>",
                            "<tr><td>31</td><td>7</td><td>3</td><td>1</td><td>i</td><td>4</td><td>4</td></tr>",
                            "<tr><td>31</td><td>7</td><td>3</td><td>1</td><td>i</td><td>4</td><td>4</td></tr>",
                            "<tr><td>31</td><td>7</td><td>3</td><td>1</td><td>i</td><td>4</td><td>4</td></tr>",
                            "<tr><td>32</td><td>8</td><td>2</td><td>0</td><td>i</td><td>4</td><td>2</td></tr>",
                            "<tr><td>33</td><td>9</td><td>2</td><td>2</td><td>i</td><td>4</td><td>4</td></tr>",
                            "<tr><td>33</td><td>9</td><td>2</td><td>2</td><td>i</td><td>4</td><td>3</td></tr>",
                            "<tr><td>33</td><td>9</td><td>2</td><td>2</td><td>i</td><td>4</td><td>3</td></tr>",
                            "<tr><td>33</td><td>9</td><td>2</td><td>2</td><td>i</td><td>4</td><td>3</td></tr>",
                            "<tr><td>33</td><td>9</td><td>2</td><td>2</td><td>i</td><td>4</td><td>2</td></tr>",
                            "<tr><td>33</td><td>9</td><td>2</td><td>2</td><td>i</td><td>4</td><td>2</td></tr>",
                            "<tr><td>34</td><td>10</td><td>3</td><td>1</td><td>i</td><td>4</td><td>2</td></tr>",
                            "<tr><td>34</td><td>10</td><td>3</td><td>1</td><td>i</td><td>4</td><td>1</td></tr>",
                            "<tr><td>34</td><td>10</td><td>3</td><td>1</td><td>i</td><td>4</td><td>1</td></tr>",
                            "<tr><td>34</td><td>10</td><td>3</td><td>1</td><td>i</td><td>4</td><td>2</td></tr>",
                            "<tr><td>35</td><td>11</td><td>3</td><td>0</td><td>i</td><td>4</td><td>3</td></tr>",
                            "<tr><td>35</td><td>11</td><td>3</td><td>0</td><td>i</td><td>4</td><td>2</td></tr>",
                            "<tr><td>35</td><td>11</td><td>3</td><td>0</td><td>i</td><td>4</td><td>2</td></tr>",
                            "<tr><td>35</td><td>11</td><td>3</td><td>0</td><td>i</td><td>4</td><td>2</td></tr>",
                            "<tr><td>35</td><td>11</td><td>3</td><td>0</td><td>i</td><td>4</td><td>2</td></tr>",
                            "<tr><td>35</td><td>11</td><td>3</td><td>0</td><td>i</td><td>4</td><td>2</td></tr>",
                            "<tr><td>35</td><td>11</td><td>3</td><td>0</td><td>i</td><td>4</td><td>2</td></tr>",
                            "<tr><td>35</td><td>11</td><td>3</td><td>0</td><td>i</td><td>4</td><td>2</td></tr>",
                            "<tr><td>35</td><td>11</td><td>3</td><td>0</td><td>i</td><td>4</td><td>2</td></tr>",
                            "<tr><td>36</td><td>12</td><td>3</td><td>2</td><td>i</td><td>4</td><td>5</td></tr>",
                            "<tr><td>36</td><td>12</td><td>3</td><td>2</td><td>i</td><td>4</td><td>4</td></tr>",
                            "<tr><td>36</td><td>12</td><td>3</td><td>2</td><td>i</td><td>4</td><td>4</td></tr>",
                            "<tr><td>36</td><td>12</td><td>3</td><td>2</td><td>i</td><td>4</td><td>4</td></tr>",
                            "<tr><td>36</td><td>12</td><td>3</td><td>2</td><td>i</td><td>4</td><td>4</td></tr>",
                            "<tr><td>36</td><td>12</td><td>3</td><td>2</td><td>i</td><td>4</td><td>4</td></tr>",
                            "<tr><td>37</td><td>13</td><td>2</td><td>1</td><td>i</td><td>4</td><td>2</td></tr>",
                            "<tr><td>37</td><td>13</td><td>2</td><td>1</td><td>i</td><td>4</td><td>1</td></tr>",
                            "<tr><td>37</td><td>13</td><td>2</td><td>1</td><td>i</td><td>4</td><td>1</td></tr>",
                            "<tr><td>38</td><td>14</td><td>2</td><td>1</td><td>i</td><td>4</td><td>3</td></tr>",
                            "<tr><td>38</td><td>14</td><td>2</td><td>1</td><td>i</td><td>4</td><td>3</td></tr>",
                            "<tr><td>38</td><td>14</td><td>2</td><td>1</td><td>i</td><td>4</td><td>3</td></tr>",
                            "<tr><td>38</td><td>14</td><td>2</td><td>1</td><td>i</td><td>4</td><td>3</td></tr>",
                            "<tr><td>38</td><td>14</td><td>2</td><td>1</td><td>i</td><td>4</td><td>2</td></tr>",
                            "<tr><td>38</td><td>14</td><td>2</td><td>1</td><td>i</td><td>4</td><td>2</td></tr>",
                            "<tr><td>38</td><td>14</td><td>2</td><td>1</td><td>i</td><td>4</td><td>2</td></tr>",
                            "<tr><td>38</td><td>14</td><td>2</td><td>1</td><td>i</td><td>4</td><td>2</td></tr>",
                            "<tr><td>39</td><td>15</td><td>2</td><td>0</td><td>i</td><td>4</td><td>1</td></tr>",
                            "<tr><td>39</td><td>15</td><td>2</td><td>0</td><td>i</td><td>4</td><td>1</td></tr>",
                            "<tr><td>39</td><td>15</td><td>2</td><td>0</td><td>i</td><td>4</td><td>1</td></tr>",
                            "<tr><td>39</td><td>15</td><td>2</td><td>0</td><td>i</td><td>4</td><td>1</td></tr>",
                            "<tr><td>39</td><td>15</td><td>2</td><td>0</td><td>i</td><td>4</td><td>1</td></tr>",
                            "<tr><td>39</td><td>15</td><td>2</td><td>0</td><td>i</td><td>4</td><td>1</td></tr>",
                            "<tr><td>39</td><td>15</td><td>2</td><td>0</td><td>i</td><td>4</td><td>2</td></tr>",
                            "<tr><td>40</td><td>1</td><td>3</td><td>0</td><td>i</td><td>5</td><td>3</td></tr>",
                            "<tr><td>40</td><td>1</td><td>3</td><td>0</td><td>i</td><td>5</td><td>3</td></tr>",
                            "<tr><td>40</td><td>1</td><td>3</td><td>0</td><td>i</td><td>5</td><td>2</td></tr>",
                            "<tr><td>40</td><td>1</td><td>3</td><td>0</td><td>i</td><td>5</td><td>2</td></tr>",
                            "<tr><td>41</td><td>2</td><td>3</td><td>0</td><td>n</td><td>5</td><td>3</td></tr>",
                            "<tr><td>41</td><td>2</td><td>3</td><td>0</td><td>n</td><td>5</td><td>3</td></tr>",
                            "<tr><td>42</td><td>3</td><td>2</td><td>1</td><td>i</td><td>5</td><td>2</td></tr>",
                            "<tr><td>42</td><td>3</td><td>2</td><td>1</td><td>i</td><td>5</td><td>2</td></tr>",
                            "<tr><td>42</td><td>3</td><td>2</td><td>1</td><td>i</td><td>5</td><td>2</td></tr>",
                            "<tr><td>42</td><td>3</td><td>2</td><td>1</td><td>i</td><td>5</td><td>2</td></tr>",
                            "<tr><td>42</td><td>3</td><td>2</td><td>1</td><td>i</td><td>5</td><td>2</td></tr>",
                            "<tr><td>42</td><td>3</td><td>2</td><td>1</td><td>i</td><td>5</td><td>2</td></tr>",
                            "<tr><td>43</td><td>4</td><td>3</td><td>0</td><td>i</td><td>5</td><td>3</td></tr>",
                            "<tr><td>43</td><td>4</td><td>3</td><td>0</td><td>i</td><td>5</td><td>2</td></tr>",
                            "<tr><td>43</td><td>4</td><td>3</td><td>0</td><td>i</td><td>5</td><td>2</td></tr>",
                            "<tr><td>43</td><td>4</td><td>3</td><td>0</td><td>i</td><td>5</td><td>2</td></tr>",
                            "<tr><td>43</td><td>4</td><td>3</td><td>0</td><td>i</td><td>5</td><td>2</td></tr>",
                            "<tr><td>43</td><td>4</td><td>3</td><td>0</td><td>i</td><td>5</td><td>2</td></tr>",
                            "<tr><td>43</td><td>4</td><td>3</td><td>0</td><td>i</td><td>5</td><td>2</td></tr>",
                            "<tr><td>43</td><td>4</td><td>3</td><td>0</td><td>i</td><td>5</td><td>2</td></tr>",
                            "<tr><td>44</td><td>5</td><td>3</td><td>0</td><td>i</td><td>5</td><td>3</td></tr>",
                            "<tr><td>44</td><td>5</td><td>3</td><td>0</td><td>i</td><td>5</td><td>3</td></tr>",
                            "<tr><td>44</td><td>5</td><td>3</td><td>0</td><td>i</td><td>5</td><td>3</td></tr>",
                            "<tr><td>44</td><td>5</td><td>3</td><td>0</td><td>i</td><td>5</td><td>3</td></tr>",
                            "<tr><td>44</td><td>5</td><td>3</td><td>0</td><td>i</td><td>5</td><td>3</td></tr>",
                            "<tr><td>44</td><td>5</td><td>3</td><td>0</td><td>i</td><td>5</td><td>3</td></tr>",
                            "<tr><td>45</td><td>6</td><td>2</td><td>0</td><td>n</td><td>5</td><td>2</td></tr>",
                            "<tr><td>45</td><td>6</td><td>2</td><td>0</td><td>n</td><td>5</td><td>2</td></tr>",
                            "<tr><td>45</td><td>6</td><td>2</td><td>0</td><td>n</td><td>5</td><td>1</td></tr>",
                            "<tr><td>45</td><td>6</td><td>2</td><td>0</td><td>n</td><td>5</td><td>1</td></tr>",
                            "<tr><td>45</td><td>6</td><td>2</td><td>0</td><td>n</td><td>5</td><td>1</td></tr>",
                            "<tr><td>46</td><td>7</td><td>3</td><td>0</td><td>i</td><td>5</td><td>2</td></tr>",
                            "<tr><td>46</td><td>7</td><td>3</td><td>0</td><td>i</td><td>5</td><td>1</td></tr>",
                            "<tr><td>46</td><td>7</td><td>3</td><td>0</td><td>i</td><td>5</td><td>1</td></tr>",
                            "<tr><td>46</td><td>7</td><td>3</td><td>0</td><td>i</td><td>5</td><td>2</td></tr>",
                            "<tr><td>47</td><td>8</td><td>2</td><td>0</td><td>i</td><td>5</td><td>1</td></tr>",
                            "<tr><td>47</td><td>8</td><td>2</td><td>0</td><td>i</td><td>5</td><td>1</td></tr>",
                            "<tr><td>48</td><td>9</td><td>3</td><td>0</td><td>i</td><td>5</td><td>3</td></tr>",
                            "<tr><td>48</td><td>9</td><td>3</td><td>0</td><td>i</td><td>5</td><td>3</td></tr>",
                            "<tr><td>48</td><td>9</td><td>3</td><td>0</td><td>i</td><td>5</td><td>3</td></tr>",
                            "<tr><td>48</td><td>9</td><td>3</td><td>0</td><td>i</td><td>5</td><td>3</td></tr>",
                            "<tr><td>48</td><td>9</td><td>3</td><td>0</td><td>i</td><td>5</td><td>3</td></tr>",
                            "<tr><td>48</td><td>9</td><td>3</td><td>0</td><td>i</td><td>5</td><td>3</td></tr>",
                            "<tr><td>48</td><td>9</td><td>3</td><td>0</td><td>i</td><td>5</td><td>3</td></tr>",
                            "<tr><td>48</td><td>9</td><td>3</td><td>0</td><td>i</td><td>5</td><td>3</td></tr>",
                            "<tr><td>48</td><td>9</td><td>3</td><td>0</td><td>i</td><td>5</td><td>2</td></tr>",
                            "<tr><td>49</td><td>10</td><td>3</td><td>0</td><td>i</td><td>5</td><td>3</td></tr>",
                            "<tr><td>49</td><td>10</td><td>3</td><td>0</td><td>i</td><td>5</td><td>3</td></tr>",
                            "<tr><td>49</td><td>10</td><td>3</td><td>0</td><td>i</td><td>5</td><td>2</td></tr>",
                            "<tr><td>49</td><td>10</td><td>3</td><td>0</td><td>i</td><td>5</td><td>2</td></tr>",
                            "<tr><td>49</td><td>10</td><td>3</td><td>0</td><td>i</td><td>5</td><td>2</td></tr>",
                            "<tr><td>49</td><td>10</td><td>3</td><td>0</td><td>i</td><td>5</td><td>2</td></tr>",
                            "<tr><td>49</td><td>10</td><td>3</td><td>0</td><td>i</td><td>5</td><td>2</td></tr>",
                            "<tr><td>50</td><td>1</td><td>2</td><td>0</td><td>n</td><td>6</td><td>1</td></tr>",
                            "<tr><td>50</td><td>1</td><td>2</td><td>0</td><td>n</td><td>6</td><td>1</td></tr>",
                            "<tr><td>50</td><td>1</td><td>2</td><td>0</td><td>n</td><td>6</td><td>1</td></tr>",
                            "<tr><td>50</td><td>1</td><td>2</td><td>0</td><td>n</td><td>6</td><td>1</td></tr>",
                            "<tr><td>51</td><td>2</td><td>3</td><td>1</td><td>i</td><td>6</td><td>2</td></tr>",
                            "<tr><td>51</td><td>2</td><td>3</td><td>1</td><td>i</td><td>6</td><td>2</td></tr>",
                            "<tr><td>51</td><td>2</td><td>3</td><td>1</td><td>i</td><td>6</td><td>2</td></tr>",
                            "<tr><td>51</td><td>2</td><td>3</td><td>1</td><td>i</td><td>6</td><td>2</td></tr>",
                            "<tr><td>51</td><td>2</td><td>3</td><td>1</td><td>i</td><td>6</td><td>2</td></tr>",
                            "<tr><td>52</td><td>3</td><td>2</td><td>1</td><td>i</td><td>6</td><td>2</td></tr>",
                            "<tr><td>52</td><td>3</td><td>2</td><td>1</td><td>i</td><td>6</td><td>1</td></tr>",
                            "<tr><td>52</td><td>3</td><td>2</td><td>1</td><td>i</td><td>6</td><td>1</td></tr>",
                            "<tr><td>52</td><td>3</td><td>2</td><td>1</td><td>i</td><td>6</td><td>1</td></tr>",
                            "<tr><td>52</td><td>3</td><td>2</td><td>1</td><td>i</td><td>6</td><td>1</td></tr>",
                            "<tr><td>53</td><td>4</td><td>2</td><td>1</td><td>i</td><td>6</td><td>3</td></tr>",
                            "<tr><td>53</td><td>4</td><td>2</td><td>1</td><td>i</td><td>6</td><td>2</td></tr>",
                            "<tr><td>54</td><td>5</td><td>3</td><td>0</td><td>n</td><td>6</td><td>2</td></tr>",
                            "<tr><td>54</td><td>5</td><td>3</td><td>0</td><td>n</td><td>6</td><td>2</td></tr>",
                            "<tr><td>54</td><td>5</td><td>3</td><td>0</td><td>n</td><td>6</td><td>2</td></tr>",
                            "<tr><td>54</td><td>5</td><td>3</td><td>0</td><td>n</td><td>6</td><td>2</td></tr>",
                            "<tr><td>54</td><td>5</td><td>3</td><td>0</td><td>n</td><td>6</td><td>2</td></tr>",
                            "<tr><td>54</td><td>5</td><td>3</td><td>0</td><td>n</td><td>6</td><td>2</td></tr>",
                            "<tr><td>55</td><td>6</td><td>2</td><td>1</td><td>i</td><td>6</td><td>3</td></tr>",
                            "<tr><td>55</td><td>6</td><td>2</td><td>1</td><td>i</td><td>6</td><td>2</td></tr>",
                            "<tr><td>55</td><td>6</td><td>2</td><td>1</td><td>i</td><td>6</td><td>2</td></tr>",
                            "<tr><td>55</td><td>6</td><td>2</td><td>1</td><td>i</td><td>6</td><td>2</td></tr>",
                            "<tr><td>55</td><td>6</td><td>2</td><td>1</td><td>i</td><td>6</td><td>2</td></tr>",
                            "<tr><td>55</td><td>6</td><td>2</td><td>1</td><td>i</td><td>6</td><td>2</td></tr>",
                            "<tr><td>55</td><td>6</td><td>2</td><td>1</td><td>i</td><td>6</td><td>2</td></tr>",
                            "<tr><td>55</td><td>6</td><td>2</td><td>1</td><td>i</td><td>6</td><td>2</td></tr>",
                            "<tr><td>56</td><td>7</td><td>2</td><td>0</td><td>i</td><td>6</td><td>1</td></tr>",
                            "<tr><td>56</td><td>7</td><td>2</td><td>0</td><td>i</td><td>6</td><td>1</td></tr>",
                            "<tr><td>57</td><td>8</td><td>2</td><td>0</td><td>n</td><td>6</td><td>2</td></tr>",
                            "<tr><td>57</td><td>8</td><td>2</td><td>0</td><td>n</td><td>6</td><td>2</td></tr>",
                            "<tr><td>57</td><td>8</td><td>2</td><td>0</td><td>n</td><td>6</td><td>1</td></tr>",
                            "<tr><td>57</td><td>8</td><td>2</td><td>0</td><td>n</td><td>6</td><td>1</td></tr>",
                            "<tr><td>58</td><td>9</td><td>2</td><td>1</td><td>i</td><td>6</td><td>2</td></tr>",
                            "<tr><td>58</td><td>9</td><td>2</td><td>1</td><td>i</td><td>6</td><td>2</td></tr>",
                            "<tr><td>58</td><td>9</td><td>2</td><td>1</td><td>i</td><td>6</td><td>2</td></tr>",
                            "<tr><td>58</td><td>9</td><td>2</td><td>1</td><td>i</td><td>6</td><td>2</td></tr>",
                            "<tr><td>58</td><td>9</td><td>2</td><td>1</td><td>i</td><td>6</td><td>2</td></tr>",
                            "<tr><td>58</td><td>9</td><td>2</td><td>1</td><td>i</td><td>6</td><td>2</td></tr>",
                            "<tr><td>58</td><td>9</td><td>2</td><td>1</td><td>i</td><td>6</td><td>2</td></tr>",
                            "<tr><td>58</td><td>9</td><td>2</td><td>1</td><td>i</td><td>6</td><td>2</td></tr>",
                            "<tr><td>58</td><td>9</td><td>2</td><td>1</td><td>i</td><td>6</td><td>2</td></tr>",
                            "<tr><td>58</td><td>9</td><td>2</td><td>1</td><td>i</td><td>6</td><td>2</td></tr>",
                            "<tr><td>58</td><td>9</td><td>2</td><td>1</td><td>i</td><td>6</td><td>2</td></tr>",
                            "<tr><td>58</td><td>9</td><td>2</td><td>1</td><td>i</td><td>6</td><td>2</td></tr>",
                            "<tr><td>58</td><td>9</td><td>2</td><td>1</td><td>i</td><td>6</td><td>2</td></tr>",
                            "<tr><td>59</td><td>10</td><td>2</td><td>1</td><td>n</td><td>6</td><td>3</td></tr>",
                            "<tr><td>59</td><td>10</td><td>2</td><td>1</td><td>n</td><td>6</td><td>2</td></tr>",
                            "<tr><td>59</td><td>10</td><td>2</td><td>1</td><td>n</td><td>6</td><td>2</td></tr>",
                            "<tr><td>59</td><td>10</td><td>2</td><td>1</td><td>n</td><td>6</td><td>2</td></tr>",
                            "<tr><td>59</td><td>10</td><td>2</td><td>1</td><td>n</td><td>6</td><td>2</td></tr>",
                            "<tr><td>59</td><td>10</td><td>2</td><td>1</td><td>n</td><td>6</td><td>2</td></tr>",
                            "<tr><td>59</td><td>10</td><td>2</td><td>1</td><td>n</td><td>6</td><td>2</td></tr>",
                            "<tr><td>60</td><td>11</td><td>3</td><td>0</td><td>i</td><td>6</td><td>2</td></tr>",
                            "<tr><td>61</td><td>12</td><td>3</td><td>0</td><td>i</td><td>6</td><td>2</td></tr>",
                            "<tr><td>61</td><td>12</td><td>3</td><td>0</td><td>i</td><td>6</td><td>2</td></tr>",
                            "<tr><td>61</td><td>12</td><td>3</td><td>0</td><td>i</td><td>6</td><td>2</td></tr>",
                            "<tr><td>61</td><td>12</td><td>3</td><td>0</td><td>i</td><td>6</td><td>2</td></tr>",
                            "<tr><td>61</td><td>12</td><td>3</td><td>0</td><td>i</td><td>6</td><td>2</td></tr>",
                            "<tr><td>62</td><td>13</td><td>2</td><td>0</td><td>n</td><td>6</td><td>2</td></tr>",
                            "<tr><td>62</td><td>13</td><td>2</td><td>0</td><td>n</td><td>6</td><td>2</td></tr>",
                            "<tr><td>62</td><td>13</td><td>2</td><td>0</td><td>n</td><td>6</td><td>1</td></tr>",
                            "<tr><td>62</td><td>13</td><td>2</td><td>0</td><td>n</td><td>6</td><td>1</td></tr>",
                            "<tr><td>62</td><td>13</td><td>2</td><td>0</td><td>n</td><td>6</td><td>1</td></tr>",
                            "<tr><td>63</td><td>14</td><td>2</td><td>0</td><td>n</td><td>6</td><td>2</td></tr>",
                            "<tr><td>63</td><td>14</td><td>2</td><td>0</td><td>n</td><td>6</td><td>1</td></tr>",
                            "<tr><td>63</td><td>14</td><td>2</td><td>0</td><td>n</td><td>6</td><td>1</td></tr>",
                            "<tr><td>63</td><td>14</td><td>2</td><td>0</td><td>n</td><td>6</td><td>1</td></tr>",
                            "<tr><td>64</td><td>15</td><td>2</td><td>0</td><td>i</td><td>6</td><td>2</td></tr>",
                            "<tr><td>64</td><td>15</td><td>2</td><td>0</td><td>i</td><td>6</td><td>2</td></tr>",
                            "<tr><td>64</td><td>15</td><td>2</td><td>0</td><td>i</td><td>6</td><td>2</td></tr>",
                            "<tr><td>64</td><td>15</td><td>2</td><td>0</td><td>i</td><td>6</td><td>2</td></tr>",
                            "<tr><td>64</td><td>15</td><td>2</td><td>0</td><td>i</td><td>6</td><td>2</td></tr>",
                            "<tr><td>64</td><td>15</td><td>2</td><td>0</td><td>i</td><td>6</td><td>2</td></tr>",
                            "<tr><td>65</td><td>16</td><td>2</td><td>0</td><td>n</td><td>6</td><td>2</td></tr>",
                            "<tr><td>66</td><td>17</td><td>3</td><td>0</td><td>n</td><td>6</td><td>3</td></tr>",
                            "<tr><td>66</td><td>17</td><td>3</td><td>0</td><td>n</td><td>6</td><td>3</td></tr>",
                            "<tr><td>66</td><td>17</td><td>3</td><td>0</td><td>n</td><td>6</td><td>3</td></tr>",
                            "<tr><td>66</td><td>17</td><td>3</td><td>0</td><td>n</td><td>6</td><td>3</td></tr>",
                            "<tr><td>67</td><td>18</td><td>2</td><td>2</td><td>i</td><td>6</td><td>1</td></tr>",
                            "<tr><td>67</td><td>18</td><td>2</td><td>2</td><td>i</td><td>6</td><td>2</td></tr>",
                            "<tr><td>67</td><td>18</td><td>2</td><td>2</td><td>i</td><td>6</td><td>2</td></tr>",
                            "<tr><td>67</td><td>18</td><td>2</td><td>2</td><td>i</td><td>6</td><td>2</td></tr>",
                            "<tr><td>67</td><td>18</td><td>2</td><td>2</td><td>i</td><td>6</td><td>2</td></tr>",
                            "<tr><td>67</td><td>18</td><td>2</td><td>2</td><td>i</td><td>6</td><td>2</td></tr>",
                            "<tr><td>68</td><td>19</td><td>2</td><td>2</td><td>i</td><td>6</td><td>4</td></tr>",
                            "<tr><td>68</td><td>19</td><td>2</td><td>2</td><td>i</td><td>6</td><td>4</td></tr>",
                            "<tr><td>68</td><td>19</td><td>2</td><td>2</td><td>i</td><td>6</td><td>4</td></tr>",
                            "<tr><td>69</td><td>20</td><td>3</td><td>1</td><td>n</td><td>6</td><td>3</td></tr>",
                            "<tr><td>69</td><td>20</td><td>3</td><td>1</td><td>n</td><td>6</td><td>3</td></tr>",
                            "<tr><td>69</td><td>20</td><td>3</td><td>1</td><td>n</td><td>6</td><td>2</td></tr>",
                            "<tr><td>69</td><td>20</td><td>3</td><td>1</td><td>n</td><td>6</td><td>2</td></tr>",
                            "<tr><td>70</td><td>21</td><td>2</td><td>1</td><td>i</td><td>6</td><td>3</td></tr>",
                            "<tr><td>70</td><td>21</td><td>2</td><td>1</td><td>i</td><td>6</td><td>2</td></tr>",
                            "<tr><td>70</td><td>21</td><td>2</td><td>1</td><td>i</td><td>6</td><td>1</td></tr>",
                            "<tr><td>70</td><td>21</td><td>2</td><td>1</td><td>i</td><td>6</td><td>2</td></tr>",
                            "<tr><td>70</td><td>21</td><td>2</td><td>1</td><td>i</td><td>6</td><td>2</td></tr>",
                            "<tr><td>70</td><td>21</td><td>2</td><td>1</td><td>i</td><td>6</td><td>2</td></tr>",
                            "<tr><td>70</td><td>21</td><td>2</td><td>1</td><td>i</td><td>6</td><td>2</td></tr>",
                            "<tr><td>70</td><td>21</td><td>2</td><td>1</td><td>i</td><td>6</td><td>2</td></tr>",
                            "<tr><td>70</td><td>21</td><td>2</td><td>1</td><td>i</td><td>6</td><td>2</td></tr>",
                            "<tr><td>70</td><td>21</td><td>2</td><td>1</td><td>i</td><td>6</td><td>2</td></tr>",
                            "<tr><td>70</td><td>21</td><td>2</td><td>1</td><td>i</td><td>6</td><td>2</td></tr>",
                            "<tr><td>71</td><td>22</td><td>3</td><td>0</td><td>i</td><td>6</td><td>3</td></tr>",
                            "<tr><td>71</td><td>22</td><td>3</td><td>0</td><td>i</td><td>6</td><td>2</td></tr>",
                            "<tr><td>71</td><td>22</td><td>3</td><td>0</td><td>i</td><td>6</td><td>2</td></tr>",
                            "<tr><td>72</td><td>23</td><td>2</td><td>0</td><td>n</td><td>6</td><td>2</td></tr>",
                            "<tr><td>72</td><td>23</td><td>2</td><td>0</td><td>n</td><td>6</td><td>2</td></tr>",
                            "<tr><td>72</td><td>23</td><td>2</td><td>0</td><td>n</td><td>6</td><td>2</td></tr>",
                            "<tr><td>72</td><td>23</td><td>2</td><td>0</td><td>n</td><td>6</td><td>1</td></tr>",
                            "<tr><td>73</td><td>24</td><td>2</td><td>1</td><td>i</td><td>6</td><td>2</td></tr>",
                            "<tr><td>73</td><td>24</td><td>2</td><td>1</td><td>i</td><td>6</td><td>2</td></tr>",
                            "<tr><td>73</td><td>24</td><td>2</td><td>1</td><td>i</td><td>6</td><td>2</td></tr>",
                            "<tr><td>73</td><td>24</td><td>2</td><td>1</td><td>i</td><td>6</td><td>2</td></tr>",
                            "<tr><td>74</td><td>25</td><td>3</td><td>1</td><td>n</td><td>6</td><td>2</td></tr>",
                            "<tr><td>74</td><td>25</td><td>3</td><td>1</td><td>n</td><td>6</td><td>2</td></tr>",
                            "<tr><td>74</td><td>25</td><td>3</td><td>1</td><td>n</td><td>6</td><td>3</td></tr>",
                            "<tr><td>74</td><td>25</td><td>3</td><td>1</td><td>n</td><td>6</td><td>3</td></tr>",
                            "<tr><td>74</td><td>25</td><td>3</td><td>1</td><td>n</td><td>6</td><td>3</td></tr>",
                            "<tr><td>74</td><td>25</td><td>3</td><td>1</td><td>n</td><td>6</td><td>3</td></tr>",
                            "<tr><td>74</td><td>25</td><td>3</td><td>1</td><td>n</td><td>6</td><td>3</td></tr>",
                            "<tr><td>74</td><td>25</td><td>3</td><td>1</td><td>n</td><td>6</td><td>3</td></tr>",
                            "<tr><td>74</td><td>25</td><td>3</td><td>1</td><td>n</td><td>6</td><td>3</td></tr>",
                            "<tr><td>75</td><td>26</td><td>2</td><td>1</td><td>n</td><td>6</td><td>2</td></tr>",
                            "<tr><td>75</td><td>26</td><td>2</td><td>1</td><td>n</td><td>6</td><td>2</td></tr>",
                            "<tr><td>75</td><td>26</td><td>2</td><td>1</td><td>n</td><td>6</td><td>2</td></tr>",
                            "<tr><td>76</td><td>27</td><td>2</td><td>0</td><td>i</td><td>6</td><td>1</td></tr>",
                            "<tr><td>76</td><td>27</td><td>2</td><td>0</td><td>i</td><td>6</td><td>1</td></tr>",
                            "<tr><td>76</td><td>27</td><td>2</td><td>0</td><td>i</td><td>6</td><td>1</td></tr>",
                            "<tr><td>77</td><td>28</td><td>3</td><td>1</td><td>i</td><td>6</td><td>3</td></tr>",
                            "<tr><td>77</td><td>28</td><td>3</td><td>1</td><td>i</td><td>6</td><td>3</td></tr>",
                            "<tr><td>77</td><td>28</td><td>3</td><td>1</td><td>i</td><td>6</td><td>3</td></tr>",
                            "<tr><td>77</td><td>28</td><td>3</td><td>1</td><td>i</td><td>6</td><td>3</td></tr>",
                            "<tr><td>77</td><td>28</td><td>3</td><td>1</td><td>i</td><td>6</td><td>3</td></tr>",
                            "<tr><td>77</td><td>28</td><td>3</td><td>1</td><td>i</td><td>6</td><td>2</td></tr>",
                            "<tr><td>78</td><td>29</td><td>2</td><td>1</td><td>n</td><td>6</td><td>2</td></tr>",
                            "<tr><td>78</td><td>29</td><td>2</td><td>1</td><td>n</td><td>6</td><td>2</td></tr>",
                            "<tr><td>78</td><td>29</td><td>2</td><td>1</td><td>n</td><td>6</td><td>2</td></tr>",
                            "<tr><td>78</td><td>29</td><td>2</td><td>1</td><td>n</td><td>6</td><td>2</td></tr>",
                            "<tr><td>78</td><td>29</td><td>2</td><td>1</td><td>n</td><td>6</td><td>2</td></tr>",
                            "<tr><td>78</td><td>29</td><td>2</td><td>1</td><td>n</td><td>6</td><td>2</td></tr>",
                            "<tr><td>79</td><td>30</td><td>3</td><td>0</td><td>i</td><td>6</td><td>3</td></tr>",
                            "<tr><td>79</td><td>30</td><td>3</td><td>0</td><td>i</td><td>6</td><td>3</td></tr>",
                            "<tr><td>79</td><td>30</td><td>3</td><td>0</td><td>i</td><td>6</td><td>3</td></tr>",
                            "<tr><td>79</td><td>30</td><td>3</td><td>0</td><td>i</td><td>6</td><td>2</td></tr>",
                            "<tr><td>79</td><td>30</td><td>3</td><td>0</td><td>i</td><td>6</td><td>2</td></tr>",
                            "<tr><td>80</td><td>31</td><td>2</td><td>1</td><td>i</td><td>6</td><td>2</td></tr>",
                            "<tr><td>80</td><td>31</td><td>2</td><td>1</td><td>i</td><td>6</td><td>2</td></tr>",
                            "<tr><td>80</td><td>31</td><td>2</td><td>1</td><td>i</td><td>6</td><td>2</td></tr>",
                            "<tr><td>80</td><td>31</td><td>2</td><td>1</td><td>i</td><td>6</td><td>2</td></tr>",
                            "<tr><td>80</td><td>31</td><td>2</td><td>1</td><td>i</td><td>6</td><td>2</td></tr>",
                            "<tr><td>80</td><td>31</td><td>2</td><td>1</td><td>i</td><td>6</td><td>2</td></tr>",
                            "<tr><td>80</td><td>31</td><td>2</td><td>1</td><td>i</td><td>6</td><td>2</td></tr>",
                            "<tr><td>81</td><td>32</td><td>2</td><td>0</td><td>i</td><td>6</td><td>1</td></tr>",
                            "<tr><td>81</td><td>32</td><td>2</td><td>0</td><td>i</td><td>6</td><td>1</td></tr>",
                            "<tr><td>81</td><td>32</td><td>2</td><td>0</td><td>i</td><td>6</td><td>1</td></tr>",
                            "<tr><td>81</td><td>32</td><td>2</td><td>0</td><td>i</td><td>6</td><td>1</td></tr>",
                            "<tr><td>81</td><td>32</td><td>2</td><td>0</td><td>i</td><td>6</td><td>1</td></tr>",
                            "<tr><td>82</td><td>33</td><td>3</td><td>0</td><td>i</td><td>6</td><td>3</td></tr>",
                            "<tr><td>82</td><td>33</td><td>3</td><td>0</td><td>i</td><td>6</td><td>3</td></tr>",
                            "<tr><td>82</td><td>33</td><td>3</td><td>0</td><td>i</td><td>6</td><td>2</td></tr>",
                            "<tr><td>82</td><td>33</td><td>3</td><td>0</td><td>i</td><td>6</td><td>2</td></tr>",
                            "<tr><td>82</td><td>33</td><td>3</td><td>0</td><td>i</td><td>6</td><td>2</td></tr>",
                            "<tr><td>82</td><td>33</td><td>3</td><td>0</td><td>i</td><td>6</td><td>2</td></tr>",
                            "<tr><td>83</td><td>34</td><td>3</td><td>0</td><td>i</td><td>6</td><td>2</td></tr>",
                            "<tr><td>83</td><td>34</td><td>3</td><td>0</td><td>i</td><td>6</td><td>2</td></tr>",
                            "<tr><td>83</td><td>34</td><td>3</td><td>0</td><td>i</td><td>6</td><td>2</td></tr>",
                            "<tr><td>83</td><td>34</td><td>3</td><td>0</td><td>i</td><td>6</td><td>2</td></tr>",
                            "<tr><td>83</td><td>34</td><td>3</td><td>0</td><td>i</td><td>6</td><td>2</td></tr>",
                            "<tr><td>83</td><td>34</td><td>3</td><td>0</td><td>i</td><td>6</td><td>2</td></tr>",
                            "<tr><td>83</td><td>34</td><td>3</td><td>0</td><td>i</td><td>6</td><td>2</td></tr>",
                            "<tr><td>83</td><td>34</td><td>3</td><td>0</td><td>i</td><td>6</td><td>2</td></tr>",
                            "<tr><td>84</td><td>35</td><td>3</td><td>0</td><td>i</td><td>6</td><td>1</td></tr>",
                            "<tr><td>84</td><td>35</td><td>3</td><td>0</td><td>i</td><td>6</td><td>1</td></tr>",
                            "<tr><td>84</td><td>35</td><td>3</td><td>0</td><td>i</td><td>6</td><td>2</td></tr>",
                            "<tr><td>84</td><td>35</td><td>3</td><td>0</td><td>i</td><td>6</td><td>1</td></tr>",
                            "<tr><td>85</td><td>1</td><td>2</td><td>1</td><td>n</td><td>7</td><td>2</td></tr>",
                            "<tr><td>85</td><td>1</td><td>2</td><td>1</td><td>n</td><td>7</td><td>2</td></tr>",
                            "<tr><td>85</td><td>1</td><td>2</td><td>1</td><td>n</td><td>7</td><td>2</td></tr>",
                            "<tr><td>85</td><td>1</td><td>2</td><td>1</td><td>n</td><td>7</td><td>2</td></tr>",
                            "<tr><td>86</td><td>2</td><td>2</td><td>1</td><td>i</td><td>7</td><td>3</td></tr>",
                            "<tr><td>86</td><td>2</td><td>2</td><td>1</td><td>i</td><td>7</td><td>2</td></tr>",
                            "<tr><td>86</td><td>2</td><td>2</td><td>1</td><td>i</td><td>7</td><td>1</td></tr>",
                            "<tr><td>86</td><td>2</td><td>2</td><td>1</td><td>i</td><td>7</td><td>1</td></tr>",
                            "<tr><td>86</td><td>2</td><td>2</td><td>1</td><td>i</td><td>7</td><td>2</td></tr>",
                            "<tr><td>87</td><td>3</td><td>3</td><td>0</td><td>i</td><td>7</td><td>3</td></tr>",
                            "<tr><td>87</td><td>3</td><td>3</td><td>0</td><td>i</td><td>7</td><td>3</td></tr>",
                            "<tr><td>87</td><td>3</td><td>3</td><td>0</td><td>i</td><td>7</td><td>2</td></tr>",
                            "<tr><td>87</td><td>3</td><td>3</td><td>0</td><td>i</td><td>7</td><td>2</td></tr>",
                            "<tr><td>87</td><td>3</td><td>3</td><td>0</td><td>i</td><td>7</td><td>2</td></tr>",
                            "<tr><td>88</td><td>4</td><td>3</td><td>0</td><td>n</td><td>7</td><td>2</td></tr>",
                            "<tr><td>88</td><td>4</td><td>3</td><td>0</td><td>n</td><td>7</td><td>1</td></tr>",
                            "<tr><td>88</td><td>4</td><td>3</td><td>0</td><td>n</td><td>7</td><td>2</td></tr>",
                            "<tr><td>88</td><td>4</td><td>3</td><td>0</td><td>n</td><td>7</td><td>2</td></tr>",
                            "<tr><td>88</td><td>4</td><td>3</td><td>0</td><td>n</td><td>7</td><td>2</td></tr>",
                            "<tr><td>88</td><td>4</td><td>3</td><td>0</td><td>n</td><td>7</td><td>2</td></tr>",
                            "<tr><td>88</td><td>4</td><td>3</td><td>0</td><td>n</td><td>7</td><td>2</td></tr>",
                            "<tr><td>88</td><td>4</td><td>3</td><td>0</td><td>n</td><td>7</td><td>2</td></tr>",
                            "<tr><td>89</td><td>5</td><td>3</td><td>0</td><td>i</td><td>7</td><td>3</td></tr>",
                            "<tr><td>89</td><td>5</td><td>3</td><td>0</td><td>i</td><td>7</td><td>2</td></tr>",
                            "<tr><td>89</td><td>5</td><td>3</td><td>0</td><td>i</td><td>7</td><td>2</td></tr>",
                            "<tr><td>89</td><td>5</td><td>3</td><td>0</td><td>i</td><td>7</td><td>2</td></tr>",
                            "<tr><td>89</td><td>5</td><td>3</td><td>0</td><td>i</td><td>7</td><td>2</td></tr>",
                            "<tr><td>89</td><td>5</td><td>3</td><td>0</td><td>i</td><td>7</td><td>2</td></tr>",
                            "<tr><td>89</td><td>5</td><td>3</td><td>0</td><td>i</td><td>7</td><td>2</td></tr>",
                            "<tr><td>89</td><td>5</td><td>3</td><td>0</td><td>i</td><td>7</td><td>2</td></tr>",
                            "<tr><td>90</td><td>6</td><td>3</td><td>0</td><td>i</td><td>7</td><td>2</td></tr>",
                            "<tr><td>90</td><td>6</td><td>3</td><td>0</td><td>i</td><td>7</td><td>2</td></tr>",
                            "<tr><td>90</td><td>6</td><td>3</td><td>0</td><td>i</td><td>7</td><td>2</td></tr>",
                            "<tr><td>90</td><td>6</td><td>3</td><td>0</td><td>i</td><td>7</td><td>2</td></tr>",
                            "<tr><td>91</td><td>1</td><td>2</td><td>0</td><td>n</td><td>8</td><td>2</td></tr>",
                            "<tr><td>91</td><td>1</td><td>2</td><td>0</td><td>n</td><td>8</td><td>2</td></tr>",
                            "<tr><td>91</td><td>1</td><td>2</td><td>0</td><td>n</td><td>8</td><td>1</td></tr>",
                            "<tr><td>91</td><td>1</td><td>2</td><td>0</td><td>n</td><td>8</td><td>1</td></tr>",
                            "<tr><td>92</td><td>2</td><td>3</td><td>1</td><td>i</td><td>8</td><td>4</td></tr>",
                            "<tr><td>92</td><td>2</td><td>3</td><td>1</td><td>i</td><td>8</td><td>3</td></tr>",
                            "<tr><td>92</td><td>2</td><td>3</td><td>1</td><td>i</td><td>8</td><td>3</td></tr>",
                            "<tr><td>92</td><td>2</td><td>3</td><td>1</td><td>i</td><td>8</td><td>3</td></tr>",
                            "<tr><td>92</td><td>2</td><td>3</td><td>1</td><td>i</td><td>8</td><td>3</td></tr>",
                            "<tr><td>92</td><td>2</td><td>3</td><td>1</td><td>i</td><td>8</td><td>3</td></tr>",
                            "<tr><td>93</td><td>3</td><td>3</td><td>2</td><td>i</td><td>8</td><td>4</td></tr>",
                            "<tr><td>93</td><td>3</td><td>3</td><td>2</td><td>i</td><td>8</td><td>2</td></tr>",
                            "<tr><td>93</td><td>3</td><td>3</td><td>2</td><td>i</td><td>8</td><td>3</td></tr>",
                            "<tr><td>93</td><td>3</td><td>3</td><td>2</td><td>i</td><td>8</td><td>3</td></tr>",
                            "<tr><td>93</td><td>3</td><td>3</td><td>2</td><td>i</td><td>8</td><td>3</td></tr>",
                            "<tr><td>94</td><td>4</td><td>2</td><td>0</td><td>n</td><td>8</td><td>2</td></tr>",
                            "<tr><td>94</td><td>4</td><td>2</td><td>0</td><td>n</td><td>8</td><td>2</td></tr>",
                            "<tr><td>94</td><td>4</td><td>2</td><td>0</td><td>n</td><td>8</td><td>2</td></tr>",
                            "<tr><td>94</td><td>4</td><td>2</td><td>0</td><td>n</td><td>8</td><td>2</td></tr>",
                            "<tr><td>94</td><td>4</td><td>2</td><td>0</td><td>n</td><td>8</td><td>2</td></tr>",
                            "<tr><td>94</td><td>4</td><td>2</td><td>0</td><td>n</td><td>8</td><td>2</td></tr>",
                            "<tr><td>94</td><td>4</td><td>2</td><td>0</td><td>n</td><td>8</td><td>1</td></tr>",
                            "<tr><td>94</td><td>4</td><td>2</td><td>0</td><td>n</td><td>8</td><td>1</td></tr>",
                            "<tr><td>94</td><td>4</td><td>2</td><td>0</td><td>n</td><td>8</td><td>1</td></tr>",
                            "<tr><td>94</td><td>4</td><td>2</td><td>0</td><td>n</td><td>8</td><td>1</td></tr>",
                            "<tr><td>95</td><td>5</td><td>3</td><td>1</td><td>i</td><td>8</td><td>2</td></tr>",
                            "<tr><td>95</td><td>5</td><td>3</td><td>1</td><td>i</td><td>8</td><td>1</td></tr>",
                            "<tr><td>95</td><td>5</td><td>3</td><td>1</td><td>i</td><td>8</td><td>2</td></tr>",
                            "<tr><td>95</td><td>5</td><td>3</td><td>1</td><td>i</td><td>8</td><td>1</td></tr>",
                            "<tr><td>96</td><td>6</td><td>3</td><td>0</td><td>n</td><td>8</td><td>3</td></tr>",
                            "<tr><td>96</td><td>6</td><td>3</td><td>0</td><td>n</td><td>8</td><td>3</td></tr>",
                            "<tr><td>96</td><td>6</td><td>3</td><td>0</td><td>n</td><td>8</td><td>3</td></tr>",
                            "<tr><td>96</td><td>6</td><td>3</td><td>0</td><td>n</td><td>8</td><td>2</td></tr>",
                            "<tr><td>96</td><td>6</td><td>3</td><td>0</td><td>n</td><td>8</td><td>2</td></tr>",
                            "<tr><td>96</td><td>6</td><td>3</td><td>0</td><td>n</td><td>8</td><td>2</td></tr>",
                            "<tr><td>96</td><td>6</td><td>3</td><td>0</td><td>n</td><td>8</td><td>2</td></tr>",
                            "<tr><td>97</td><td>7</td><td>3</td><td>2</td><td>n</td><td>8</td><td>4</td></tr>",
                            "<tr><td>97</td><td>7</td><td>3</td><td>2</td><td>n</td><td>8</td><td>4</td></tr>",
                            "<tr><td>97</td><td>7</td><td>3</td><td>2</td><td>n</td><td>8</td><td>4</td></tr>",
                            "<tr><td>97</td><td>7</td><td>3</td><td>2</td><td>n</td><td>8</td><td>3</td></tr>",
                            "<tr><td>97</td><td>7</td><td>3</td><td>2</td><td>n</td><td>8</td><td>3</td></tr>",
                            "<tr><td>97</td><td>7</td><td>3</td><td>2</td><td>n</td><td>8</td><td>3</td></tr>",
                            "<tr><td>97</td><td>7</td><td>3</td><td>2</td><td>n</td><td>8</td><td>3</td></tr>",
                            "<tr><td>98</td><td>8</td><td>2</td><td>0</td><td>n</td><td>8</td><td>1</td></tr>",
                            "<tr><td>98</td><td>8</td><td>2</td><td>0</td><td>n</td><td>8</td><td>1</td></tr>",
                            "<tr><td>98</td><td>8</td><td>2</td><td>0</td><td>n</td><td>8</td><td>1</td></tr>",
                            "<tr><td>98</td><td>8</td><td>2</td><td>0</td><td>n</td><td>8</td><td>1</td></tr>",
                            "<tr><td>99</td><td>9</td><td>2</td><td>0</td><td>n</td><td>8</td><td>2</td></tr>",
                            "<tr><td>99</td><td>9</td><td>2</td><td>0</td><td>n</td><td>8</td><td>2</td></tr>",
                            "<tr><td>99</td><td>9</td><td>2</td><td>0</td><td>n</td><td>8</td><td>2</td></tr>",
                            "<tr><td>99</td><td>9</td><td>2</td><td>0</td><td>n</td><td>8</td><td>2</td></tr>",
                            "<tr><td>99</td><td>9</td><td>2</td><td>0</td><td>n</td><td>8</td><td>2</td></tr>",
                            "<tr><td>100</td><td>10</td><td>2</td><td>1</td><td>i</td><td>8</td><td>2</td></tr>",
                            "<tr><td>100</td><td>10</td><td>2</td><td>1</td><td>i</td><td>8</td><td>2</td></tr>",
                            "<tr><td>100</td><td>10</td><td>2</td><td>1</td><td>i</td><td>8</td><td>2</td></tr>",
                            "<tr><td>100</td><td>10</td><td>2</td><td>1</td><td>i</td><td>8</td><td>2</td></tr>",
                            "<tr><td>101</td><td>11</td><td>2</td><td>0</td><td>i</td><td>8</td><td>2</td></tr>",
                            "<tr><td>101</td><td>11</td><td>2</td><td>0</td><td>i</td><td>8</td><td>2</td></tr>",
                            "<tr><td>101</td><td>11</td><td>2</td><td>0</td><td>i</td><td>8</td><td>2</td></tr>",
                            "<tr><td>102</td><td>12</td><td>2</td><td>1</td><td>i</td><td>8</td><td>1</td></tr>",
                            "<tr><td>102</td><td>12</td><td>2</td><td>1</td><td>i</td><td>8</td><td>1</td></tr>",
                            "<tr><td>103</td><td>13</td><td>2</td><td>1</td><td>i</td><td>8</td><td>3</td></tr>",
                            "<tr><td>103</td><td>13</td><td>2</td><td>1</td><td>i</td><td>8</td><td>2</td></tr>",
                            "<tr><td>103</td><td>13</td><td>2</td><td>1</td><td>i</td><td>8</td><td>2</td></tr>",
                            "<tr><td>103</td><td>13</td><td>2</td><td>1</td><td>i</td><td>8</td><td>2</td></tr>",
                            "<tr><td>104</td><td>14</td><td>3</td><td>0</td><td>i</td><td>8</td><td>3</td></tr>",
                            "<tr><td>104</td><td>14</td><td>3</td><td>0</td><td>i</td><td>8</td><td>3</td></tr>",
                            "<tr><td>104</td><td>14</td><td>3</td><td>0</td><td>i</td><td>8</td><td>3</td></tr>",
                            "<tr><td>104</td><td>14</td><td>3</td><td>0</td><td>i</td><td>8</td><td>2</td></tr>",
                            "<tr><td>105</td><td>15</td><td>2</td><td>0</td><td>i</td><td>8</td><td>2</td></tr>",
                            "<tr><td>105</td><td>15</td><td>2</td><td>0</td><td>i</td><td>8</td><td>2</td></tr>",
                            "<tr><td>106</td><td>16</td><td>2</td><td>0</td><td>i</td><td>8</td><td>1</td></tr>",
                            "<tr><td>106</td><td>16</td><td>2</td><td>0</td><td>i</td><td>8</td><td>1</td></tr>",
                            "<tr><td>106</td><td>16</td><td>2</td><td>0</td><td>i</td><td>8</td><td>1</td></tr>",
                            "<tr><td>106</td><td>16</td><td>2</td><td>0</td><td>i</td><td>8</td><td>1</td></tr>",
                            "<tr><td>106</td><td>16</td><td>2</td><td>0</td><td>i</td><td>8</td><td>1</td></tr>",
                            "<tr><td>106</td><td>16</td><td>2</td><td>0</td><td>i</td><td>8</td><td>1</td></tr>",
                            "<tr><td>107</td><td>17</td><td>2</td><td>1</td><td>n</td><td>8</td><td>1</td></tr>",
                            "<tr><td>107</td><td>17</td><td>2</td><td>1</td><td>n</td><td>8</td><td>1</td></tr>",
                            "<tr><td>107</td><td>17</td><td>2</td><td>1</td><td>n</td><td>8</td><td>1</td></tr>",
                            "<tr><td>107</td><td>17</td><td>2</td><td>1</td><td>n</td><td>8</td><td>2</td></tr>",
                            "<tr><td>107</td><td>17</td><td>2</td><td>1</td><td>n</td><td>8</td><td>2</td></tr>",
                            "<tr><td>108</td><td>18</td><td>2</td><td>0</td><td>i</td><td>8</td><td>1</td></tr>",
                            "<tr><td>108</td><td>18</td><td>2</td><td>0</td><td>i</td><td>8</td><td>1</td></tr>",
                            "<tr><td>109</td><td>19</td><td>2</td><td>1</td><td>i</td><td>8</td><td>3</td></tr>",
                            "<tr><td>109</td><td>19</td><td>2</td><td>1</td><td>i</td><td>8</td><td>2</td></tr>",
                            "<tr><td>109</td><td>19</td><td>2</td><td>1</td><td>i</td><td>8</td><td>2</td></tr>",
                            "<tr><td>109</td><td>19</td><td>2</td><td>1</td><td>i</td><td>8</td><td>2</td></tr>",
                            "<tr><td>109</td><td>19</td><td>2</td><td>1</td><td>i</td><td>8</td><td>2</td></tr>",
                            "<tr><td>109</td><td>19</td><td>2</td><td>1</td><td>i</td><td>8</td><td>2</td></tr>",
                            "<tr><td>109</td><td>19</td><td>2</td><td>1</td><td>i</td><td>8</td><td>2</td></tr>",
                            "<tr><td>110</td><td>20</td><td>2</td><td>0</td><td>i</td><td>8</td><td>2</td></tr>",
                            "<tr><td>110</td><td>20</td><td>2</td><td>0</td><td>i</td><td>8</td><td>2</td></tr>",
                            "<tr><td>110</td><td>20</td><td>2</td><td>0</td><td>i</td><td>8</td><td>2</td></tr>",
                            "<tr><td>110</td><td>20</td><td>2</td><td>0</td><td>i</td><td>8</td><td>2</td></tr>",
                            "<tr><td>110</td><td>20</td><td>2</td><td>0</td><td>i</td><td>8</td><td>1</td></tr>",
                            "<tr><td>110</td><td>20</td><td>2</td><td>0</td><td>i</td><td>8</td><td>1</td></tr>",
                            "<tr><td>110</td><td>20</td><td>2</td><td>0</td><td>i</td><td>8</td><td>1</td></tr>",
                            "<tr><td>110</td><td>20</td><td>2</td><td>0</td><td>i</td><td>8</td><td>1</td></tr>",
                            "<tr><td>111</td><td>21</td><td>2</td><td>1</td><td>i</td><td>8</td><td>3</td></tr>",
                            "<tr><td>111</td><td>21</td><td>2</td><td>1</td><td>i</td><td>8</td><td>2</td></tr>",
                            "<tr><td>111</td><td>21</td><td>2</td><td>1</td><td>i</td><td>8</td><td>2</td></tr>",
                            "<tr><td>111</td><td>21</td><td>2</td><td>1</td><td>i</td><td>8</td><td>2</td></tr>",
                            "<tr><td>111</td><td>21</td><td>2</td><td>1</td><td>i</td><td>8</td><td>2</td></tr>",
                            "<tr><td>112</td><td>22</td><td>3</td><td>0</td><td>i</td><td>8</td><td>3</td></tr>",
                            "<tr><td>112</td><td>22</td><td>3</td><td>0</td><td>i</td><td>8</td><td>3</td></tr>",
                            "<tr><td>112</td><td>22</td><td>3</td><td>0</td><td>i</td><td>8</td><td>3</td></tr>",
                            "<tr><td>112</td><td>22</td><td>3</td><td>0</td><td>i</td><td>8</td><td>3</td></tr>",
                            "<tr><td>112</td><td>22</td><td>3</td><td>0</td><td>i</td><td>8</td><td>3</td></tr>",
                            "<tr><td>113</td><td>23</td><td>3</td><td>2</td><td>i</td><td>8</td><td>4</td></tr>",
                            "<tr><td>113</td><td>23</td><td>3</td><td>2</td><td>i</td><td>8</td><td>4</td></tr>",
                            "<tr><td>113</td><td>23</td><td>3</td><td>2</td><td>i</td><td>8</td><td>4</td></tr>",
                            "<tr><td>113</td><td>23</td><td>3</td><td>2</td><td>i</td><td>8</td><td>4</td></tr>",
                            "<tr><td>113</td><td>23</td><td>3</td><td>2</td><td>i</td><td>8</td><td>4</td></tr>",
                            "<tr><td>114</td><td>24</td><td>2</td><td>1</td><td>n</td><td>8</td><td>2</td></tr>",
                            "<tr><td>114</td><td>24</td><td>2</td><td>1</td><td>n</td><td>8</td><td>2</td></tr>",
                            "<tr><td>114</td><td>24</td><td>2</td><td>1</td><td>n</td><td>8</td><td>2</td></tr>",
                            "<tr><td>114</td><td>24</td><td>2</td><td>1</td><td>n</td><td>8</td><td>2</td></tr>",
                            "<tr><td>115</td><td>25</td><td>3</td><td>0</td><td>i</td><td>8</td><td>3</td></tr>",
                            "<tr><td>115</td><td>25</td><td>3</td><td>0</td><td>i</td><td>8</td><td>3</td></tr>",
                            "<tr><td>115</td><td>25</td><td>3</td><td>0</td><td>i</td><td>8</td><td>3</td></tr>",
                            "<tr><td>115</td><td>25</td><td>3</td><td>0</td><td>i</td><td>8</td><td>2</td></tr>",
                            "<tr><td>115</td><td>25</td><td>3</td><td>0</td><td>i</td><td>8</td><td>2</td></tr>",
                            "<tr><td>115</td><td>25</td><td>3</td><td>0</td><td>i</td><td>8</td><td>2</td></tr>",
                            "<tr><td>115</td><td>25</td><td>3</td><td>0</td><td>i</td><td>8</td><td>2</td></tr>",
                            "<tr><td>116</td><td>26</td><td>3</td><td>0</td><td>i</td><td>8</td><td>2</td></tr>",
                            "<tr><td>116</td><td>26</td><td>3</td><td>0</td><td>i</td><td>8</td><td>2</td></tr>",
                            "<tr><td>117</td><td>27</td><td>3</td><td>1</td><td>i</td><td>8</td><td>2</td></tr>",
                            "<tr><td>117</td><td>27</td><td>3</td><td>1</td><td>i</td><td>8</td><td>2</td></tr>",
                            "<tr><td>117</td><td>27</td><td>3</td><td>1</td><td>i</td><td>8</td><td>2</td></tr>",
                            "<tr><td>117</td><td>27</td><td>3</td><td>1</td><td>i</td><td>8</td><td>2</td></tr>",
                            "<tr><td>117</td><td>27</td><td>3</td><td>1</td><td>i</td><td>8</td><td>3</td></tr>",
                            "<tr><td>117</td><td>27</td><td>3</td><td>1</td><td>i</td><td>8</td><td>2</td></tr>",
                            "<tr><td>117</td><td>27</td><td>3</td><td>1</td><td>i</td><td>8</td><td>3</td></tr>",
                            "<tr><td>117</td><td>27</td><td>3</td><td>1</td><td>i</td><td>8</td><td>3</td></tr>",
                            "<tr><td>118</td><td>28</td><td>2</td><td>1</td><td>i</td><td>8</td><td>2</td></tr>",
                            "<tr><td>118</td><td>28</td><td>2</td><td>1</td><td>i</td><td>8</td><td>2</td></tr>",
                            "<tr><td>118</td><td>28</td><td>2</td><td>1</td><td>i</td><td>8</td><td>2</td></tr>",
                            "<tr><td>118</td><td>28</td><td>2</td><td>1</td><td>i</td><td>8</td><td>2</td></tr>",
                            "<tr><td>118</td><td>28</td><td>2</td><td>1</td><td>i</td><td>8</td><td>2</td></tr>",
                            "<tr><td>118</td><td>28</td><td>2</td><td>1</td><td>i</td><td>8</td><td>2</td></tr>",
                            "<tr><td>118</td><td>28</td><td>2</td><td>1</td><td>i</td><td>8</td><td>2</td></tr>",
                            "<tr><td>119</td><td>29</td><td>2</td><td>0</td><td>i</td><td>8</td><td>1</td></tr>",
                            "<tr><td>119</td><td>29</td><td>2</td><td>0</td><td>i</td><td>8</td><td>1</td></tr>",
                            "<tr><td>119</td><td>29</td><td>2</td><td>0</td><td>i</td><td>8</td><td>1</td></tr>",
                            "<tr><td>119</td><td>29</td><td>2</td><td>0</td><td>i</td><td>8</td><td>1</td></tr>",
                            "<tr><td>119</td><td>29</td><td>2</td><td>0</td><td>i</td><td>8</td><td>1</td></tr>",
                            "<tr><td>120</td><td>30</td><td>3</td><td>1</td><td>i</td><td>8</td><td>4</td></tr>",
                            "<tr><td>120</td><td>30</td><td>3</td><td>1</td><td>i</td><td>8</td><td>3</td></tr>",
                            "<tr><td>120</td><td>30</td><td>3</td><td>1</td><td>i</td><td>8</td><td>3</td></tr>",
                            "<tr><td>120</td><td>30</td><td>3</td><td>1</td><td>i</td><td>8</td><td>2</td></tr>",
                            "<tr><td>120</td><td>30</td><td>3</td><td>1</td><td>i</td><td>8</td><td>2</td></tr>",
                            "<tr><td>120</td><td>30</td><td>3</td><td>1</td><td>i</td><td>8</td><td>3</td></tr>",
                            "<tr><td>121</td><td>31</td><td>2</td><td>1</td><td>i</td><td>8</td><td>1</td></tr>",
                            "<tr><td>121</td><td>31</td><td>2</td><td>1</td><td>i</td><td>8</td><td>1</td></tr>",
                            "<tr><td>121</td><td>31</td><td>2</td><td>1</td><td>i</td><td>8</td><td>1</td></tr>",
                            "<tr><td>121</td><td>31</td><td>2</td><td>1</td><td>i</td><td>8</td><td>1</td></tr>",
                            "<tr><td>121</td><td>31</td><td>2</td><td>1</td><td>i</td><td>8</td><td>2</td></tr>",
                            "<tr><td>121</td><td>31</td><td>2</td><td>1</td><td>i</td><td>8</td><td>2</td></tr>",
                            "<tr><td>121</td><td>31</td><td>2</td><td>1</td><td>i</td><td>8</td><td>2</td></tr>",
                            "<tr><td>121</td><td>31</td><td>2</td><td>1</td><td>i</td><td>8</td><td>2</td></tr>",
                            "<tr><td>122</td><td>32</td><td>3</td><td>1</td><td>i</td><td>8</td><td>3</td></tr>",
                            "<tr><td>122</td><td>32</td><td>3</td><td>1</td><td>i</td><td>8</td><td>3</td></tr>",
                            "<tr><td>122</td><td>32</td><td>3</td><td>1</td><td>i</td><td>8</td><td>3</td></tr>",
                            "<tr><td>122</td><td>32</td><td>3</td><td>1</td><td>i</td><td>8</td><td>3</td></tr>",
                            "<tr><td>122</td><td>32</td><td>3</td><td>1</td><td>i</td><td>8</td><td>3</td></tr>",
                            "<tr><td>122</td><td>32</td><td>3</td><td>1</td><td>i</td><td>8</td><td>3</td></tr>",
                            "<tr><td>122</td><td>32</td><td>3</td><td>1</td><td>i</td><td>8</td><td>3</td></tr>",
                            "<tr><td>122</td><td>32</td><td>3</td><td>1</td><td>i</td><td>8</td><td>3</td></tr>",
                            "<tr><td>122</td><td>32</td><td>3</td><td>1</td><td>i</td><td>8</td><td>3</td></tr>",
                            "<tr><td>123</td><td>33</td><td>3</td><td>0</td><td>n</td><td>8</td><td>1</td></tr>",
                            "<tr><td>123</td><td>33</td><td>3</td><td>0</td><td>n</td><td>8</td><td>1</td></tr>",
                            "<tr><td>123</td><td>33</td><td>3</td><td>0</td><td>n</td><td>8</td><td>1</td></tr>",
                            "<tr><td>123</td><td>33</td><td>3</td><td>0</td><td>n</td><td>8</td><td>2</td></tr>",
                            "<tr><td>123</td><td>33</td><td>3</td><td>0</td><td>n</td><td>8</td><td>2</td></tr>",
                            "<tr><td>124</td><td>34</td><td>3</td><td>0</td><td>n</td><td>8</td><td>3</td></tr>",
                            "<tr><td>124</td><td>34</td><td>3</td><td>0</td><td>n</td><td>8</td><td>3</td></tr>",
                            "<tr><td>124</td><td>34</td><td>3</td><td>0</td><td>n</td><td>8</td><td>3</td></tr>",
                            "<tr><td>124</td><td>34</td><td>3</td><td>0</td><td>n</td><td>8</td><td>2</td></tr>",
                            "<tr><td>124</td><td>34</td><td>3</td><td>0</td><td>n</td><td>8</td><td>2</td></tr>",
                            "<tr><td>124</td><td>34</td><td>3</td><td>0</td><td>n</td><td>8</td><td>2</td></tr>",
                            "<tr><td>125</td><td>35</td><td>2</td><td>1</td><td>i</td><td>8</td><td>3</td></tr>",
                            "<tr><td>126</td><td>36</td><td>2</td><td>1</td><td>n</td><td>8</td><td>3</td></tr>",
                            "<tr><td>126</td><td>36</td><td>2</td><td>1</td><td>n</td><td>8</td><td>2</td></tr>",
                            "<tr><td>126</td><td>36</td><td>2</td><td>1</td><td>n</td><td>8</td><td>2</td></tr>",
                            "<tr><td>126</td><td>36</td><td>2</td><td>1</td><td>n</td><td>8</td><td>2</td></tr>",
                            "<tr><td>126</td><td>36</td><td>2</td><td>1</td><td>n</td><td>8</td><td>1</td></tr>",
                            "<tr><td>126</td><td>36</td><td>2</td><td>1</td><td>n</td><td>8</td><td>2</td></tr>",
                            "<tr><td>127</td><td>37</td><td>2</td><td>1</td><td>i</td><td>8</td><td>2</td></tr>",
                            "<tr><td>127</td><td>37</td><td>2</td><td>1</td><td>i</td><td>8</td><td>2</td></tr>",
                            "<tr><td>127</td><td>37</td><td>2</td><td>1</td><td>i</td><td>8</td><td>2</td></tr>",
                            "<tr><td>127</td><td>37</td><td>2</td><td>1</td><td>i</td><td>8</td><td>1</td></tr>",
                            "<tr><td>127</td><td>37</td><td>2</td><td>1</td><td>i</td><td>8</td><td>2</td></tr>",
                            "<tr><td>127</td><td>37</td><td>2</td><td>1</td><td>i</td><td>8</td><td>2</td></tr>",
                            "<tr><td>127</td><td>37</td><td>2</td><td>1</td><td>i</td><td>8</td><td>2</td></tr>",
                            "<tr><td>128</td><td>38</td><td>2</td><td>1</td><td>i</td><td>8</td><td>2</td></tr>",
                            "<tr><td>128</td><td>38</td><td>2</td><td>1</td><td>i</td><td>8</td><td>2</td></tr>",
                            "<tr><td>128</td><td>38</td><td>2</td><td>1</td><td>i</td><td>8</td><td>2</td></tr>",
                            "<tr><td>128</td><td>38</td><td>2</td><td>1</td><td>i</td><td>8</td><td>2</td></tr>",
                            "<tr><td>128</td><td>38</td><td>2</td><td>1</td><td>i</td><td>8</td><td>2</td></tr>",
                            "<tr><td>129</td><td>39</td><td>2</td><td>1</td><td>i</td><td>8</td><td>2</td></tr>",
                            "<tr><td>129</td><td>39</td><td>2</td><td>1</td><td>i</td><td>8</td><td>2</td></tr>",
                            "<tr><td>129</td><td>39</td><td>2</td><td>1</td><td>i</td><td>8</td><td>2</td></tr>",
                            "<tr><td>129</td><td>39</td><td>2</td><td>1</td><td>i</td><td>8</td><td>2</td></tr>",
                            "<tr><td>130</td><td>1</td><td>2</td><td>0</td><td>n</td><td>9</td><td>2</td></tr>",
                            "<tr><td>130</td><td>1</td><td>2</td><td>0</td><td>n</td><td>9</td><td>2</td></tr>",
                            "<tr><td>130</td><td>1</td><td>2</td><td>0</td><td>n</td><td>9</td><td>2</td></tr>",
                            "<tr><td>130</td><td>1</td><td>2</td><td>0</td><td>n</td><td>9</td><td>1</td></tr>",
                            "<tr><td>130</td><td>1</td><td>2</td><td>0</td><td>n</td><td>9</td><td>1</td></tr>",
                            "<tr><td>130</td><td>1</td><td>2</td><td>0</td><td>n</td><td>9</td><td>1</td></tr>",
                            "<tr><td>131</td><td>2</td><td>2</td><td>0</td><td>n</td><td>9</td><td>2</td></tr>",
                            "<tr><td>131</td><td>2</td><td>2</td><td>0</td><td>n</td><td>9</td><td>2</td></tr>",
                            "<tr><td>131</td><td>2</td><td>2</td><td>0</td><td>n</td><td>9</td><td>1</td></tr>",
                            "<tr><td>131</td><td>2</td><td>2</td><td>0</td><td>n</td><td>9</td><td>1</td></tr>",
                            "<tr><td>131</td><td>2</td><td>2</td><td>0</td><td>n</td><td>9</td><td>1</td></tr>",
                            "<tr><td>132</td><td>3</td><td>3</td><td>0</td><td>i</td><td>9</td><td>2</td></tr>",
                            "<tr><td>132</td><td>3</td><td>3</td><td>0</td><td>i</td><td>9</td><td>2</td></tr>",
                            "<tr><td>132</td><td>3</td><td>3</td><td>0</td><td>i</td><td>9</td><td>2</td></tr>",
                            "<tr><td>132</td><td>3</td><td>3</td><td>0</td><td>i</td><td>9</td><td>2</td></tr>",
                            "<tr><td>132</td><td>3</td><td>3</td><td>0</td><td>i</td><td>9</td><td>2</td></tr>",
                            "<tr><td>132</td><td>3</td><td>3</td><td>0</td><td>i</td><td>9</td><td>2</td></tr>",
                            "<tr><td>133</td><td>4</td><td>3</td><td>0</td><td>n</td><td>9</td><td>3</td></tr>",
                            "<tr><td>133</td><td>4</td><td>3</td><td>0</td><td>n</td><td>9</td><td>2</td></tr>",
                            "<tr><td>133</td><td>4</td><td>3</td><td>0</td><td>n</td><td>9</td><td>2</td></tr>",
                            "<tr><td>133</td><td>4</td><td>3</td><td>0</td><td>n</td><td>9</td><td>2</td></tr>",
                            "<tr><td>133</td><td>4</td><td>3</td><td>0</td><td>n</td><td>9</td><td>2</td></tr>",
                            "<tr><td>133</td><td>4</td><td>3</td><td>0</td><td>n</td><td>9</td><td>2</td></tr>",
                            "<tr><td>134</td><td>5</td><td>3</td><td>0</td><td>i</td><td>9</td><td>2</td></tr>",
                            "<tr><td>134</td><td>5</td><td>3</td><td>0</td><td>i</td><td>9</td><td>2</td></tr>",
                            "<tr><td>134</td><td>5</td><td>3</td><td>0</td><td>i</td><td>9</td><td>2</td></tr>",
                            "<tr><td>134</td><td>5</td><td>3</td><td>0</td><td>i</td><td>9</td><td>2</td></tr>",
                            "<tr><td>134</td><td>5</td><td>3</td><td>0</td><td>i</td><td>9</td><td>2</td></tr>",
                            "<tr><td>134</td><td>5</td><td>3</td><td>0</td><td>i</td><td>9</td><td>2</td></tr>",
                            "<tr><td>135</td><td>1</td><td>3</td><td>0</td><td>i</td><td>10</td><td>2</td></tr>",
                            "<tr><td>135</td><td>1</td><td>3</td><td>0</td><td>i</td><td>10</td><td>2</td></tr>",
                            "<tr><td>135</td><td>1</td><td>3</td><td>0</td><td>i</td><td>10</td><td>2</td></tr>",
                            "<tr><td>136</td><td>2</td><td>2</td><td>0</td><td>n</td><td>10</td><td>2</td></tr>",
                            "<tr><td>136</td><td>2</td><td>2</td><td>0</td><td>n</td><td>10</td><td>1</td></tr>",
                            "<tr><td>136</td><td>2</td><td>2</td><td>0</td><td>n</td><td>10</td><td>1</td></tr>",
                            "<tr><td>137</td><td>3</td><td>2</td><td>1</td><td>i</td><td>10</td><td>2</td></tr>",
                            "<tr><td>137</td><td>3</td><td>2</td><td>1</td><td>i</td><td>10</td><td>2</td></tr>",
                            "<tr><td>137</td><td>3</td><td>2</td><td>1</td><td>i</td><td>10</td><td>1</td></tr>",
                            "<tr><td>137</td><td>3</td><td>2</td><td>1</td><td>i</td><td>10</td><td>1</td></tr>",
                            "<tr><td>137</td><td>3</td><td>2</td><td>1</td><td>i</td><td>10</td><td>2</td></tr>",
                            "<tr><td>137</td><td>3</td><td>2</td><td>1</td><td>i</td><td>10</td><td>2</td></tr>",
                            "<tr><td>138</td><td>4</td><td>3</td><td>1</td><td>i</td><td>10</td><td>4</td></tr>",
                            "<tr><td>138</td><td>4</td><td>3</td><td>1</td><td>i</td><td>10</td><td>3</td></tr>",
                            "<tr><td>138</td><td>4</td><td>3</td><td>1</td><td>i</td><td>10</td><td>3</td></tr>",
                            "<tr><td>138</td><td>4</td><td>3</td><td>1</td><td>i</td><td>10</td><td>3</td></tr>",
                            "<tr><td>138</td><td>4</td><td>3</td><td>1</td><td>i</td><td>10</td><td>2</td></tr>",
                            "<tr><td>138</td><td>4</td><td>3</td><td>1</td><td>i</td><td>10</td><td>2</td></tr>",
                            "<tr><td>138</td><td>4</td><td>3</td><td>1</td><td>i</td><td>10</td><td>2</td></tr>",
                            "<tr><td>139</td><td>5</td><td>2</td><td>1</td><td>i</td><td>10</td><td>2</td></tr>",
                            "<tr><td>139</td><td>5</td><td>2</td><td>1</td><td>i</td><td>10</td><td>2</td></tr>",
                            "<tr><td>139</td><td>5</td><td>2</td><td>1</td><td>i</td><td>10</td><td>2</td></tr>",
                            "<tr><td>139</td><td>5</td><td>2</td><td>1</td><td>i</td><td>10</td><td>2</td></tr>",
                            "<tr><td>139</td><td>5</td><td>2</td><td>1</td><td>i</td><td>10</td><td>2</td></tr>",
                            "<tr><td>139</td><td>5</td><td>2</td><td>1</td><td>i</td><td>10</td><td>2</td></tr>",
                            "<tr><td>139</td><td>5</td><td>2</td><td>1</td><td>i</td><td>10</td><td>2</td></tr>",
                            "<tr><td>140</td><td>6</td><td>2</td><td>1</td><td>i</td><td>10</td><td>2</td></tr>",
                            "<tr><td>140</td><td>6</td><td>2</td><td>1</td><td>i</td><td>10</td><td>1</td></tr>",
                            "<tr><td>140</td><td>6</td><td>2</td><td>1</td><td>i</td><td>10</td><td>2</td></tr>",
                            "<tr><td>140</td><td>6</td><td>2</td><td>1</td><td>i</td><td>10</td><td>1</td></tr>",
                            "<tr><td>140</td><td>6</td><td>2</td><td>1</td><td>i</td><td>10</td><td>2</td></tr>",
                            "<tr><td>140</td><td>6</td><td>2</td><td>1</td><td>i</td><td>10</td><td>2</td></tr>",
                            "<tr><td>140</td><td>6</td><td>2</td><td>1</td><td>i</td><td>10</td><td>2</td></tr>",
                            "<tr><td>140</td><td>6</td><td>2</td><td>1</td><td>i</td><td>10</td><td>2</td></tr>",
                            "<tr><td>141</td><td>7</td><td>2</td><td>0</td><td>n</td><td>10</td><td>2</td></tr>",
                            "<tr><td>141</td><td>7</td><td>2</td><td>0</td><td>n</td><td>10</td><td>2</td></tr>",
                            "<tr><td>141</td><td>7</td><td>2</td><td>0</td><td>n</td><td>10</td><td>2</td></tr>",
                            "<tr><td>141</td><td>7</td><td>2</td><td>0</td><td>n</td><td>10</td><td>2</td></tr>",
                            "<tr><td>141</td><td>7</td><td>2</td><td>0</td><td>n</td><td>10</td><td>2</td></tr>",
                            "<tr><td>141</td><td>7</td><td>2</td><td>0</td><td>n</td><td>10</td><td>2</td></tr>",
                            "<tr><td>142</td><td>8</td><td>3</td><td>0</td><td>n</td><td>10</td><td>3</td></tr>",
                            "<tr><td>142</td><td>8</td><td>3</td><td>0</td><td>n</td><td>10</td><td>2</td></tr>",
                            "<tr><td>143</td><td>9</td><td>3</td><td>1</td><td>i</td><td>10</td><td>1</td></tr>",
                            "<tr><td>143</td><td>9</td><td>3</td><td>1</td><td>i</td><td>10</td><td>2</td></tr>",
                            "<tr><td>143</td><td>9</td><td>3</td><td>1</td><td>i</td><td>10</td><td>2</td></tr>",
                            "<tr><td>143</td><td>9</td><td>3</td><td>1</td><td>i</td><td>10</td><td>2</td></tr>",
                            "<tr><td>143</td><td>9</td><td>3</td><td>1</td><td>i</td><td>10</td><td>2</td></tr>",
                            "<tr><td>143</td><td>9</td><td>3</td><td>1</td><td>i</td><td>10</td><td>3</td></tr>",
                            "<tr><td>143</td><td>9</td><td>3</td><td>1</td><td>i</td><td>10</td><td>3</td></tr>",
                            "<tr><td>144</td><td>10</td><td>3</td><td>1</td><td>n</td><td>10</td><td>3</td></tr>",
                            "<tr><td>144</td><td>10</td><td>3</td><td>1</td><td>n</td><td>10</td><td>3</td></tr>",
                            "<tr><td>144</td><td>10</td><td>3</td><td>1</td><td>n</td><td>10</td><td>3</td></tr>",
                            "<tr><td>144</td><td>10</td><td>3</td><td>1</td><td>n</td><td>10</td><td>3</td></tr>",
                            "<tr><td>144</td><td>10</td><td>3</td><td>1</td><td>n</td><td>10</td><td>3</td></tr>",
                            "<tr><td>145</td><td>11</td><td>2</td><td>2</td><td>i</td><td>10</td><td>4</td></tr>",
                            "<tr><td>145</td><td>11</td><td>2</td><td>2</td><td>i</td><td>10</td><td>3</td></tr>",
                            "<tr><td>145</td><td>11</td><td>2</td><td>2</td><td>i</td><td>10</td><td>3</td></tr>",
                            "<tr><td>145</td><td>11</td><td>2</td><td>2</td><td>i</td><td>10</td><td>2</td></tr>",
                            "<tr><td>145</td><td>11</td><td>2</td><td>2</td><td>i</td><td>10</td><td>2</td></tr>",
                            "<tr><td>145</td><td>11</td><td>2</td><td>2</td><td>i</td><td>10</td><td>2</td></tr>",
                            "<tr><td>146</td><td>12</td><td>3</td><td>0</td><td>i</td><td>10</td><td>3</td></tr>",
                            "<tr><td>146</td><td>12</td><td>3</td><td>0</td><td>i</td><td>10</td><td>2</td></tr>",
                            "<tr><td>146</td><td>12</td><td>3</td><td>0</td><td>i</td><td>10</td><td>2</td></tr>",
                            "<tr><td>146</td><td>12</td><td>3</td><td>0</td><td>i</td><td>10</td><td>2</td></tr>",
                            "<tr><td>146</td><td>12</td><td>3</td><td>0</td><td>i</td><td>10</td><td>2</td></tr>",
                            "<tr><td>146</td><td>12</td><td>3</td><td>0</td><td>i</td><td>10</td><td>2</td></tr>",
                            "<tr><td>147</td><td>13</td><td>2</td><td>0</td><td>i</td><td>10</td><td>2</td></tr>",
                            "<tr><td>148</td><td>14</td><td>2</td><td>0</td><td>i</td><td>10</td><td>2</td></tr>",
                            "<tr><td>148</td><td>14</td><td>2</td><td>0</td><td>i</td><td>10</td><td>2</td></tr>",
                            "<tr><td>148</td><td>14</td><td>2</td><td>0</td><td>i</td><td>10</td><td>2</td></tr>",
                            "<tr><td>148</td><td>14</td><td>2</td><td>0</td><td>i</td><td>10</td><td>2</td></tr>",
                            "<tr><td>148</td><td>14</td><td>2</td><td>0</td><td>i</td><td>10</td><td>2</td></tr>",
                            "<tr><td>148</td><td>14</td><td>2</td><td>0</td><td>i</td><td>10</td><td>1</td></tr>",
                            "<tr><td>149</td><td>15</td><td>2</td><td>0</td><td>i</td><td>10</td><td>2</td></tr>",
                            "<tr><td>149</td><td>15</td><td>2</td><td>0</td><td>i</td><td>10</td><td>1</td></tr>",
                            "<tr><td>149</td><td>15</td><td>2</td><td>0</td><td>i</td><td>10</td><td>1</td></tr>",
                            "<tr><td>149</td><td>15</td><td>2</td><td>0</td><td>i</td><td>10</td><td>1</td></tr>",
                            "<tr><td>149</td><td>15</td><td>2</td><td>0</td><td>i</td><td>10</td><td>1</td></tr>",
                            "<tr><td>149</td><td>15</td><td>2</td><td>0</td><td>i</td><td>10</td><td>1</td></tr>",
                            "<tr><td>149</td><td>15</td><td>2</td><td>0</td><td>i</td><td>10</td><td>1</td></tr>",
                            "<tr><td>150</td><td>16</td><td>2</td><td>1</td><td>i</td><td>10</td><td>3</td></tr>",
                            "<tr><td>150</td><td>16</td><td>2</td><td>1</td><td>i</td><td>10</td><td>2</td></tr>",
                            "<tr><td>150</td><td>16</td><td>2</td><td>1</td><td>i</td><td>10</td><td>2</td></tr>",
                            "<tr><td>150</td><td>16</td><td>2</td><td>1</td><td>i</td><td>10</td><td>2</td></tr>",
                            "<tr><td>150</td><td>16</td><td>2</td><td>1</td><td>i</td><td>10</td><td>2</td></tr>",
                            "<tr><td>150</td><td>16</td><td>2</td><td>1</td><td>i</td><td>10</td><td>2</td></tr>",
                            "<tr><td>151</td><td>17</td><td>2</td><td>0</td><td>n</td><td>10</td><td>1</td></tr>",
                            "<tr><td>151</td><td>17</td><td>2</td><td>0</td><td>n</td><td>10</td><td>1</td></tr>",
                            "<tr><td>151</td><td>17</td><td>2</td><td>0</td><td>n</td><td>10</td><td>1</td></tr>",
                            "<tr><td>152</td><td>18</td><td>2</td><td>0</td><td>i</td><td>10</td><td>2</td></tr>",
                            "<tr><td>152</td><td>18</td><td>2</td><td>0</td><td>i</td><td>10</td><td>2</td></tr>",
                            "<tr><td>152</td><td>18</td><td>2</td><td>0</td><td>i</td><td>10</td><td>2</td></tr>",
                            "<tr><td>152</td><td>18</td><td>2</td><td>0</td><td>i</td><td>10</td><td>2</td></tr>",
                            "<tr><td>153</td><td>19</td><td>3</td><td>0</td><td>n</td><td>10</td><td>2</td></tr>",
                            "<tr><td>153</td><td>19</td><td>3</td><td>0</td><td>n</td><td>10</td><td>2</td></tr>",
                            "<tr><td>153</td><td>19</td><td>3</td><td>0</td><td>n</td><td>10</td><td>2</td></tr>",
                            "<tr><td>153</td><td>19</td><td>3</td><td>0</td><td>n</td><td>10</td><td>2</td></tr>",
                            "<tr><td>153</td><td>19</td><td>3</td><td>0</td><td>n</td><td>10</td><td>2</td></tr>",
                            "<tr><td>154</td><td>20</td><td>2</td><td>1</td><td>i</td><td>10</td><td>2</td></tr>",
                            "<tr><td>154</td><td>20</td><td>2</td><td>1</td><td>i</td><td>10</td><td>2</td></tr>",
                            "<tr><td>154</td><td>20</td><td>2</td><td>1</td><td>i</td><td>10</td><td>2</td></tr>",
                            "<tr><td>154</td><td>20</td><td>2</td><td>1</td><td>i</td><td>10</td><td>2</td></tr>",
                            "<tr><td>154</td><td>20</td><td>2</td><td>1</td><td>i</td><td>10</td><td>2</td></tr>",
                            "<tr><td>155</td><td>21</td><td>3</td><td>1</td><td>n</td><td>10</td><td>4</td></tr>",
                            "<tr><td>155</td><td>21</td><td>3</td><td>1</td><td>n</td><td>10</td><td>3</td></tr>",
                            "<tr><td>155</td><td>21</td><td>3</td><td>1</td><td>n</td><td>10</td><td>2</td></tr>",
                            "<tr><td>155</td><td>21</td><td>3</td><td>1</td><td>n</td><td>10</td><td>3</td></tr>",
                            "<tr><td>155</td><td>21</td><td>3</td><td>1</td><td>n</td><td>10</td><td>2</td></tr>",
                            "<tr><td>156</td><td>22</td><td>2</td><td>2</td><td>i</td><td>10</td><td>4</td></tr>",
                            "<tr><td>156</td><td>22</td><td>2</td><td>2</td><td>i</td><td>10</td><td>3</td></tr>",
                            "<tr><td>156</td><td>22</td><td>2</td><td>2</td><td>i</td><td>10</td><td>3</td></tr>",
                            "<tr><td>156</td><td>22</td><td>2</td><td>2</td><td>i</td><td>10</td><td>3</td></tr>",
                            "<tr><td>156</td><td>22</td><td>2</td><td>2</td><td>i</td><td>10</td><td>3</td></tr>",
                            "<tr><td>156</td><td>22</td><td>2</td><td>2</td><td>i</td><td>10</td><td>3</td></tr>",
                            "<tr><td>156</td><td>22</td><td>2</td><td>2</td><td>i</td><td>10</td><td>2</td></tr>",
                            "<tr><td>157</td><td>23</td><td>2</td><td>0</td><td>n</td><td>10</td><td>1</td></tr>",
                            "<tr><td>157</td><td>23</td><td>2</td><td>0</td><td>n</td><td>10</td><td>1</td></tr>",
                            "<tr><td>157</td><td>23</td><td>2</td><td>0</td><td>n</td><td>10</td><td>1</td></tr>",
                            "<tr><td>157</td><td>23</td><td>2</td><td>0</td><td>n</td><td>10</td><td>1</td></tr>",
                            "<tr><td>157</td><td>23</td><td>2</td><td>0</td><td>n</td><td>10</td><td>1</td></tr>",
                            "<tr><td>158</td><td>24</td><td>2</td><td>1</td><td>n</td><td>10</td><td>3</td></tr>",
                            "<tr><td>158</td><td>24</td><td>2</td><td>1</td><td>n</td><td>10</td><td>3</td></tr>",
                            "<tr><td>158</td><td>24</td><td>2</td><td>1</td><td>n</td><td>10</td><td>3</td></tr>",
                            "<tr><td>160</td><td>1</td><td>3</td><td>1</td><td>i</td><td>11</td><td>4</td></tr>",
                            "<tr><td>160</td><td>1</td><td>3</td><td>1</td><td>i</td><td>11</td><td>3</td></tr>",
                            "<tr><td>160</td><td>1</td><td>3</td><td>1</td><td>i</td><td>11</td><td>3</td></tr>",
                            "<tr><td>160</td><td>1</td><td>3</td><td>1</td><td>i</td><td>11</td><td>3</td></tr>",
                            "<tr><td>160</td><td>1</td><td>3</td><td>1</td><td>i</td><td>11</td><td>3</td></tr>",
                            "<tr><td>161</td><td>2</td><td>2</td><td>2</td><td>i</td><td>11</td><td>3</td></tr>",
                            "<tr><td>161</td><td>2</td><td>2</td><td>2</td><td>i</td><td>11</td><td>2</td></tr>",
                            "<tr><td>161</td><td>2</td><td>2</td><td>2</td><td>i</td><td>11</td><td>2</td></tr>",
                            "<tr><td>161</td><td>2</td><td>2</td><td>2</td><td>i</td><td>11</td><td>2</td></tr>",
                            "<tr><td>161</td><td>2</td><td>2</td><td>2</td><td>i</td><td>11</td><td>2</td></tr>",
                            "<tr><td>161</td><td>2</td><td>2</td><td>2</td><td>i</td><td>11</td><td>2</td></tr>",
                            "<tr><td>162</td><td>3</td><td>3</td><td>0</td><td>n</td><td>11</td><td>3</td></tr>",
                            "<tr><td>162</td><td>3</td><td>3</td><td>0</td><td>n</td><td>11</td><td>3</td></tr>",
                            "<tr><td>162</td><td>3</td><td>3</td><td>0</td><td>n</td><td>11</td><td>2</td></tr>",
                            "<tr><td>163</td><td>4</td><td>2</td><td>0</td><td>i</td><td>11</td><td>2</td></tr>",
                            "<tr><td>163</td><td>4</td><td>2</td><td>0</td><td>i</td><td>11</td><td>2</td></tr>",
                            "<tr><td>163</td><td>4</td><td>2</td><td>0</td><td>i</td><td>11</td><td>1</td></tr>",
                            "<tr><td>163</td><td>4</td><td>2</td><td>0</td><td>i</td><td>11</td><td>1</td></tr>",
                            "<tr><td>163</td><td>4</td><td>2</td><td>0</td><td>i</td><td>11</td><td>1</td></tr>",
                            "<tr><td>163</td><td>4</td><td>2</td><td>0</td><td>i</td><td>11</td><td>1</td></tr>",
                            "<tr><td>163</td><td>4</td><td>2</td><td>0</td><td>i</td><td>11</td><td>1</td></tr>",
                            "<tr><td>164</td><td>5</td><td>2</td><td>0</td><td>i</td><td>11</td><td>2</td></tr>",
                            "<tr><td>164</td><td>5</td><td>2</td><td>0</td><td>i</td><td>11</td><td>2</td></tr>",
                            "<tr><td>164</td><td>5</td><td>2</td><td>0</td><td>i</td><td>11</td><td>2</td></tr>",
                            "<tr><td>164</td><td>5</td><td>2</td><td>0</td><td>i</td><td>11</td><td>2</td></tr>",
                            "<tr><td>164</td><td>5</td><td>2</td><td>0</td><td>i</td><td>11</td><td>2</td></tr>",
                            "<tr><td>165</td><td>1</td><td>2</td><td>0</td><td>n</td><td>12</td><td>2</td></tr>",
                            "<tr><td>165</td><td>1</td><td>2</td><td>0</td><td>n</td><td>12</td><td>1</td></tr>",
                            "<tr><td>165</td><td>1</td><td>2</td><td>0</td><td>n</td><td>12</td><td>1</td></tr>",
                            "<tr><td>165</td><td>1</td><td>2</td><td>0</td><td>n</td><td>12</td><td>1</td></tr>",
                            "<tr><td>165</td><td>1</td><td>2</td><td>0</td><td>n</td><td>12</td><td>1</td></tr>",
                            "<tr><td>165</td><td>1</td><td>2</td><td>0</td><td>n</td><td>12</td><td>1</td></tr>",
                            "<tr><td>165</td><td>1</td><td>2</td><td>0</td><td>n</td><td>12</td><td>1</td></tr>",
                            "<tr><td>166</td><td>2</td><td>2</td><td>1</td><td>i</td><td>12</td><td>2</td></tr>",
                            "<tr><td>166</td><td>2</td><td>2</td><td>1</td><td>i</td><td>12</td><td>1</td></tr>",
                            "<tr><td>166</td><td>2</td><td>2</td><td>1</td><td>i</td><td>12</td><td>2</td></tr>",
                            "<tr><td>167</td><td>3</td><td>3</td><td>0</td><td>i</td><td>12</td><td>1</td></tr>",
                            "<tr><td>167</td><td>3</td><td>3</td><td>0</td><td>i</td><td>12</td><td>2</td></tr>",
                            "<tr><td>168</td><td>4</td><td>2</td><td>2</td><td>i</td><td>12</td><td>4</td></tr>",
                            "<tr><td>168</td><td>4</td><td>2</td><td>2</td><td>i</td><td>12</td><td>4</td></tr>",
                            "<tr><td>168</td><td>4</td><td>2</td><td>2</td><td>i</td><td>12</td><td>4</td></tr>",
                            "<tr><td>168</td><td>4</td><td>2</td><td>2</td><td>i</td><td>12</td><td>3</td></tr>",
                            "<tr><td>168</td><td>4</td><td>2</td><td>2</td><td>i</td><td>12</td><td>3</td></tr>",
                            "<tr><td>169</td><td>5</td><td>2</td><td>1</td><td>i</td><td>12</td><td>2</td></tr>",
                            "<tr><td>169</td><td>5</td><td>2</td><td>1</td><td>i</td><td>12</td><td>2</td></tr>",
                            "<tr><td>169</td><td>5</td><td>2</td><td>1</td><td>i</td><td>12</td><td>1</td></tr>",
                            "<tr><td>169</td><td>5</td><td>2</td><td>1</td><td>i</td><td>12</td><td>2</td></tr>",
                            "<tr><td>169</td><td>5</td><td>2</td><td>1</td><td>i</td><td>12</td><td>2</td></tr>",
                            "<tr><td>169</td><td>5</td><td>2</td><td>1</td><td>i</td><td>12</td><td>2</td></tr>",
                            "<tr><td>170</td><td>6</td><td>2</td><td>0</td><td>i</td><td>12</td><td>1</td></tr>",
                            "<tr><td>170</td><td>6</td><td>2</td><td>0</td><td>i</td><td>12</td><td>1</td></tr>",
                            "<tr><td>170</td><td>6</td><td>2</td><td>0</td><td>i</td><td>12</td><td>1</td></tr>",
                            "<tr><td>170</td><td>6</td><td>2</td><td>0</td><td>i</td><td>12</td><td>1</td></tr>",
                            "<tr><td>170</td><td>6</td><td>2</td><td>0</td><td>i</td><td>12</td><td>1</td></tr>",
                            "<tr><td>171</td><td>7</td><td>2</td><td>1</td><td>i</td><td>12</td><td>2</td></tr>",
                            "<tr><td>171</td><td>7</td><td>2</td><td>1</td><td>i</td><td>12</td><td>1</td></tr>",
                            "<tr><td>171</td><td>7</td><td>2</td><td>1</td><td>i</td><td>12</td><td>2</td></tr>",
                            "<tr><td>171</td><td>7</td><td>2</td><td>1</td><td>i</td><td>12</td><td>1</td></tr>",
                            "<tr><td>171</td><td>7</td><td>2</td><td>1</td><td>i</td><td>12</td><td>1</td></tr>",
                            "<tr><td>172</td><td>8</td><td>2</td><td>2</td><td>n</td><td>12</td><td>2</td></tr>",
                            "<tr><td>172</td><td>8</td><td>2</td><td>2</td><td>n</td><td>12</td><td>1</td></tr>",
                            "<tr><td>172</td><td>8</td><td>2</td><td>2</td><td>n</td><td>12</td><td>2</td></tr>",
                            "<tr><td>172</td><td>8</td><td>2</td><td>2</td><td>n</td><td>12</td><td>2</td></tr>",
                            "<tr><td>172</td><td>8</td><td>2</td><td>2</td><td>n</td><td>12</td><td>2</td></tr>",
                            "<tr><td>172</td><td>8</td><td>2</td><td>2</td><td>n</td><td>12</td><td>1</td></tr>",
                            "<tr><td>172</td><td>8</td><td>2</td><td>2</td><td>n</td><td>12</td><td>1</td></tr>",
                            "<tr><td>172</td><td>8</td><td>2</td><td>2</td><td>n</td><td>12</td><td>1</td></tr>",
                            "<tr><td>172</td><td>8</td><td>2</td><td>2</td><td>n</td><td>12</td><td>1</td></tr>",
                            "<tr><td>173</td><td>9</td><td>2</td><td>0</td><td>i</td><td>12</td><td>2</td></tr>",
                            "<tr><td>173</td><td>9</td><td>2</td><td>0</td><td>i</td><td>12</td><td>1</td></tr>",
                            "<tr><td>173</td><td>9</td><td>2</td><td>0</td><td>i</td><td>12</td><td>1</td></tr>",
                            "<tr><td>173</td><td>9</td><td>2</td><td>0</td><td>i</td><td>12</td><td>1</td></tr>",
                            "<tr><td>174</td><td>10</td><td>2</td><td>0</td><td>i</td><td>12</td><td>2</td></tr>",
                            "<tr><td>174</td><td>10</td><td>2</td><td>0</td><td>i</td><td>12</td><td>1</td></tr>",
                            "<tr><td>174</td><td>10</td><td>2</td><td>0</td><td>i</td><td>12</td><td>1</td></tr>",
                            "<tr><td>174</td><td>10</td><td>2</td><td>0</td><td>i</td><td>12</td><td>1</td></tr>",
                            "<tr><td>175</td><td>11</td><td>2</td><td>0</td><td>i</td><td>12</td><td>1</td></tr>",
                            "<tr><td>175</td><td>11</td><td>2</td><td>0</td><td>i</td><td>12</td><td>1</td></tr>",
                            "<tr><td>175</td><td>11</td><td>2</td><td>0</td><td>i</td><td>12</td><td>1</td></tr>",
                            "<tr><td>175</td><td>11</td><td>2</td><td>0</td><td>i</td><td>12</td><td>1</td></tr>",
                            "<tr><td>175</td><td>11</td><td>2</td><td>0</td><td>i</td><td>12</td><td>1</td></tr>",
                            "<tr><td>176</td><td>12</td><td>3</td><td>1</td><td>i</td><td>12</td><td>2</td></tr>",
                            "<tr><td>176</td><td>12</td><td>3</td><td>1</td><td>i</td><td>12</td><td>2</td></tr>",
                            "<tr><td>176</td><td>12</td><td>3</td><td>1</td><td>i</td><td>12</td><td>2</td></tr>",
                            "<tr><td>176</td><td>12</td><td>3</td><td>1</td><td>i</td><td>12</td><td>2</td></tr>",
                            "<tr><td>176</td><td>12</td><td>3</td><td>1</td><td>i</td><td>12</td><td>2</td></tr>",
                            "<tr><td>176</td><td>12</td><td>3</td><td>1</td><td>i</td><td>12</td><td>2</td></tr>",
                            "<tr><td>177</td><td>13</td><td>3</td><td>2</td><td>i</td><td>12</td><td>4</td></tr>",
                            "<tr><td>177</td><td>13</td><td>3</td><td>2</td><td>i</td><td>12</td><td>3</td></tr>",
                            "<tr><td>177</td><td>13</td><td>3</td><td>2</td><td>i</td><td>12</td><td>3</td></tr>",
                            "<tr><td>177</td><td>13</td><td>3</td><td>2</td><td>i</td><td>12</td><td>3</td></tr>",
                            "<tr><td>178</td><td>14</td><td>3</td><td>0</td><td>i</td><td>12</td><td>3</td></tr>",
                            "<tr><td>178</td><td>14</td><td>3</td><td>0</td><td>i</td><td>12</td><td>3</td></tr>",
                            "<tr><td>178</td><td>14</td><td>3</td><td>0</td><td>i</td><td>12</td><td>3</td></tr>",
                            "<tr><td>178</td><td>14</td><td>3</td><td>0</td><td>i</td><td>12</td><td>3</td></tr>",
                            "<tr><td>179</td><td>15</td><td>3</td><td>2</td><td>i</td><td>12</td><td>4</td></tr>",
                            "<tr><td>179</td><td>15</td><td>3</td><td>2</td><td>i</td><td>12</td><td>4</td></tr>",
                            "<tr><td>179</td><td>15</td><td>3</td><td>2</td><td>i</td><td>12</td><td>3</td></tr>",
                            "<tr><td>180</td><td>16</td><td>2</td><td>2</td><td>i</td><td>12</td><td>4</td></tr>",
                            "<tr><td>180</td><td>16</td><td>2</td><td>2</td><td>i</td><td>12</td><td>3</td></tr>",
                            "<tr><td>180</td><td>16</td><td>2</td><td>2</td><td>i</td><td>12</td><td>3</td></tr>",
                            "<tr><td>181</td><td>17</td><td>3</td><td>0</td><td>i</td><td>12</td><td>3</td></tr>",
                            "<tr><td>181</td><td>17</td><td>3</td><td>0</td><td>i</td><td>12</td><td>3</td></tr>",
                            "<tr><td>181</td><td>17</td><td>3</td><td>0</td><td>i</td><td>12</td><td>3</td></tr>",
                            "<tr><td>181</td><td>17</td><td>3</td><td>0</td><td>i</td><td>12</td><td>3</td></tr>",
                            "<tr><td>181</td><td>17</td><td>3</td><td>0</td><td>i</td><td>12</td><td>3</td></tr>",
                            "<tr><td>181</td><td>17</td><td>3</td><td>0</td><td>i</td><td>12</td><td>3</td></tr>",
                            "<tr><td>182</td><td>18</td><td>2</td><td>0</td><td>n</td><td>12</td><td>2</td></tr>",
                            "<tr><td>182</td><td>18</td><td>2</td><td>0</td><td>n</td><td>12</td><td>2</td></tr>",
                            "<tr><td>182</td><td>18</td><td>2</td><td>0</td><td>n</td><td>12</td><td>2</td></tr>",
                            "<tr><td>182</td><td>18</td><td>2</td><td>0</td><td>n</td><td>12</td><td>2</td></tr>",
                            "<tr><td>182</td><td>18</td><td>2</td><td>0</td><td>n</td><td>12</td><td>2</td></tr>",
                            "<tr><td>182</td><td>18</td><td>2</td><td>0</td><td>n</td><td>12</td><td>1</td></tr>",
                            "<tr><td>182</td><td>18</td><td>2</td><td>0</td><td>n</td><td>12</td><td>1</td></tr>",
                            "<tr><td>182</td><td>18</td><td>2</td><td>0</td><td>n</td><td>12</td><td>1</td></tr>",
                            "<tr><td>182</td><td>18</td><td>2</td><td>0</td><td>n</td><td>12</td><td>1</td></tr>",
                            "<tr><td>182</td><td>18</td><td>2</td><td>0</td><td>n</td><td>12</td><td>1</td></tr>",
                            "<tr><td>182</td><td>18</td><td>2</td><td>0</td><td>n</td><td>12</td><td>1</td></tr>",
                            "<tr><td>182</td><td>18</td><td>2</td><td>0</td><td>n</td><td>12</td><td>1</td></tr>",
                            "<tr><td>183</td><td>19</td><td>3</td><td>0</td><td>i</td><td>12</td><td>3</td></tr>",
                            "<tr><td>183</td><td>19</td><td>3</td><td>0</td><td>i</td><td>12</td><td>2</td></tr>",
                            "<tr><td>183</td><td>19</td><td>3</td><td>0</td><td>i</td><td>12</td><td>2</td></tr>",
                            "<tr><td>183</td><td>19</td><td>3</td><td>0</td><td>i</td><td>12</td><td>2</td></tr>",
                            "<tr><td>184</td><td>20</td><td>2</td><td>0</td><td>n</td><td>12</td><td>2</td></tr>",
                            "<tr><td>184</td><td>20</td><td>2</td><td>0</td><td>n</td><td>12</td><td>1</td></tr>",
                            "<tr><td>184</td><td>20</td><td>2</td><td>0</td><td>n</td><td>12</td><td>1</td></tr>",
                            "<tr><td>184</td><td>20</td><td>2</td><td>0</td><td>n</td><td>12</td><td>1</td></tr>",
                            "<tr><td>185</td><td>21</td><td>3</td><td>0</td><td>i</td><td>12</td><td>3</td></tr>",
                            "<tr><td>185</td><td>21</td><td>3</td><td>0</td><td>i</td><td>12</td><td>3</td></tr>",
                            "<tr><td>185</td><td>21</td><td>3</td><td>0</td><td>i</td><td>12</td><td>3</td></tr>",
                            "<tr><td>185</td><td>21</td><td>3</td><td>0</td><td>i</td><td>12</td><td>3</td></tr>",
                            "<tr><td>185</td><td>21</td><td>3</td><td>0</td><td>i</td><td>12</td><td>3</td></tr>",
                            "<tr><td>185</td><td>21</td><td>3</td><td>0</td><td>i</td><td>12</td><td>3</td></tr>",
                            "<tr><td>185</td><td>21</td><td>3</td><td>0</td><td>i</td><td>12</td><td>2</td></tr>",
                            "<tr><td>185</td><td>21</td><td>3</td><td>0</td><td>i</td><td>12</td><td>2</td></tr>",
                            "<tr><td>185</td><td>21</td><td>3</td><td>0</td><td>i</td><td>12</td><td>2</td></tr>",
                            "<tr><td>185</td><td>21</td><td>3</td><td>0</td><td>i</td><td>12</td><td>2</td></tr>",
                            "<tr><td>185</td><td>21</td><td>3</td><td>0</td><td>i</td><td>12</td><td>2</td></tr>",
                            "<tr><td>185</td><td>21</td><td>3</td><td>0</td><td>i</td><td>12</td><td>2</td></tr>",
                            "<tr><td>186</td><td>22</td><td>2</td><td>2</td><td>i</td><td>12</td><td>3</td></tr>",
                            "<tr><td>186</td><td>22</td><td>2</td><td>2</td><td>i</td><td>12</td><td>3</td></tr>",
                            "<tr><td>186</td><td>22</td><td>2</td><td>2</td><td>i</td><td>12</td><td>2</td></tr>",
                            "<tr><td>186</td><td>22</td><td>2</td><td>2</td><td>i</td><td>12</td><td>3</td></tr>",
                            "<tr><td>187</td><td>23</td><td>3</td><td>1</td><td>i</td><td>12</td><td>3</td></tr>",
                            "<tr><td>187</td><td>23</td><td>3</td><td>1</td><td>i</td><td>12</td><td>3</td></tr>",
                            "<tr><td>187</td><td>23</td><td>3</td><td>1</td><td>i</td><td>12</td><td>3</td></tr>",
                            "<tr><td>187</td><td>23</td><td>3</td><td>1</td><td>i</td><td>12</td><td>3</td></tr>",
                            "<tr><td>187</td><td>23</td><td>3</td><td>1</td><td>i</td><td>12</td><td>3</td></tr>",
                            "<tr><td>187</td><td>23</td><td>3</td><td>1</td><td>i</td><td>12</td><td>2</td></tr>",
                            "<tr><td>187</td><td>23</td><td>3</td><td>1</td><td>i</td><td>12</td><td>2</td></tr>",
                            "<tr><td>188</td><td>24</td><td>3</td><td>0</td><td>i</td><td>12</td><td>3</td></tr>",
                            "<tr><td>188</td><td>24</td><td>3</td><td>0</td><td>i</td><td>12</td><td>2</td></tr>",
                            "<tr><td>188</td><td>24</td><td>3</td><td>0</td><td>i</td><td>12</td><td>2</td></tr>",
                            "<tr><td>188</td><td>24</td><td>3</td><td>0</td><td>i</td><td>12</td><td>2</td></tr>",
                            "<tr><td>188</td><td>24</td><td>3</td><td>0</td><td>i</td><td>12</td><td>2</td></tr>",
                            "<tr><td>188</td><td>24</td><td>3</td><td>0</td><td>i</td><td>12</td><td>2</td></tr>",
                            "<tr><td>189</td><td>25</td><td>2</td><td>2</td><td>i</td><td>12</td><td>2</td></tr>",
                            "<tr><td>189</td><td>25</td><td>2</td><td>2</td><td>i</td><td>12</td><td>2</td></tr>",
                            "<tr><td>189</td><td>25</td><td>2</td><td>2</td><td>i</td><td>12</td><td>2</td></tr>",
                            "<tr><td>189</td><td>25</td><td>2</td><td>2</td><td>i</td><td>12</td><td>2</td></tr>",
                            "<tr><td>189</td><td>25</td><td>2</td><td>2</td><td>i</td><td>12</td><td>2</td></tr>",
                            "<tr><td>190</td><td>26</td><td>2</td><td>0</td><td>i</td><td>12</td><td>1</td></tr>",
                            "<tr><td>190</td><td>26</td><td>2</td><td>0</td><td>i</td><td>12</td><td>1</td></tr>",
                            "<tr><td>190</td><td>26</td><td>2</td><td>0</td><td>i</td><td>12</td><td>1</td></tr>",
                            "<tr><td>190</td><td>26</td><td>2</td><td>0</td><td>i</td><td>12</td><td>1</td></tr>",
                            "<tr><td>190</td><td>26</td><td>2</td><td>0</td><td>i</td><td>12</td><td>1</td></tr>",
                            "<tr><td>191</td><td>27</td><td>2</td><td>1</td><td>i</td><td>12</td><td>2</td></tr>",
                            "<tr><td>191</td><td>27</td><td>2</td><td>1</td><td>i</td><td>12</td><td>2</td></tr>",
                            "<tr><td>191</td><td>27</td><td>2</td><td>1</td><td>i</td><td>12</td><td>2</td></tr>",
                            "<tr><td>191</td><td>27</td><td>2</td><td>1</td><td>i</td><td>12</td><td>2</td></tr>",
                            "<tr><td>191</td><td>27</td><td>2</td><td>1</td><td>i</td><td>12</td><td>2</td></tr>",
                            "<tr><td>192</td><td>28</td><td>2</td><td>1</td><td>i</td><td>12</td><td>3</td></tr>",
                            "<tr><td>192</td><td>28</td><td>2</td><td>1</td><td>i</td><td>12</td><td>2</td></tr>",
                            "<tr><td>193</td><td>29</td><td>3</td><td>2</td><td>n</td><td>12</td><td>2</td></tr>",
                            "<tr><td>193</td><td>29</td><td>3</td><td>2</td><td>n</td><td>12</td><td>3</td></tr>",
                            "<tr><td>193</td><td>29</td><td>3</td><td>2</td><td>n</td><td>12</td><td>4</td></tr>",
                            "<tr><td>193</td><td>29</td><td>3</td><td>2</td><td>n</td><td>12</td><td>3</td></tr>",
                            "<tr><td>193</td><td>29</td><td>3</td><td>2</td><td>n</td><td>12</td><td>4</td></tr>",
                            "<tr><td>193</td><td>29</td><td>3</td><td>2</td><td>n</td><td>12</td><td>4</td></tr>",
                            "<tr><td>193</td><td>29</td><td>3</td><td>2</td><td>n</td><td>12</td><td>4</td></tr>",
                            "<tr><td>194</td><td>30</td><td>2</td><td>1</td><td>i</td><td>12</td><td>3</td></tr>",
                            "<tr><td>195</td><td>31</td><td>2</td><td>0</td><td>i</td><td>12</td><td>2</td></tr>",
                            "<tr><td>195</td><td>31</td><td>2</td><td>0</td><td>i</td><td>12</td><td>2</td></tr>",
                            "<tr><td>195</td><td>31</td><td>2</td><td>0</td><td>i</td><td>12</td><td>1</td></tr>",
                            "<tr><td>195</td><td>31</td><td>2</td><td>0</td><td>i</td><td>12</td><td>1</td></tr>",
                            "<tr><td>195</td><td>31</td><td>2</td><td>0</td><td>i</td><td>12</td><td>1</td></tr>",
                            "<tr><td>195</td><td>31</td><td>2</td><td>0</td><td>i</td><td>12</td><td>1</td></tr>",
                            "<tr><td>196</td><td>32</td><td>2</td><td>1</td><td>i</td><td>12</td><td>3</td></tr>",
                            "<tr><td>196</td><td>32</td><td>2</td><td>1</td><td>i</td><td>12</td><td>2</td></tr>",
                            "<tr><td>196</td><td>32</td><td>2</td><td>1</td><td>i</td><td>12</td><td>2</td></tr>",
                            "<tr><td>196</td><td>32</td><td>2</td><td>1</td><td>i</td><td>12</td><td>2</td></tr>",
                            "<tr><td>197</td><td>33</td><td>3</td><td>0</td><td>i</td><td>12</td><td>3</td></tr>",
                            "<tr><td>197</td><td>33</td><td>3</td><td>0</td><td>i</td><td>12</td><td>3</td></tr>",
                            "<tr><td>197</td><td>33</td><td>3</td><td>0</td><td>i</td><td>12</td><td>3</td></tr>",
                            "<tr><td>197</td><td>33</td><td>3</td><td>0</td><td>i</td><td>12</td><td>2</td></tr>",
                            "<tr><td>197</td><td>33</td><td>3</td><td>0</td><td>i</td><td>12</td><td>2</td></tr>",
                            "<tr><td>197</td><td>33</td><td>3</td><td>0</td><td>i</td><td>12</td><td>2</td></tr>",
                            "<tr><td>198</td><td>34</td><td>3</td><td>0</td><td>i</td><td>12</td><td>3</td></tr>",
                            "<tr><td>198</td><td>34</td><td>3</td><td>0</td><td>i</td><td>12</td><td>3</td></tr>",
                            "<tr><td>198</td><td>34</td><td>3</td><td>0</td><td>i</td><td>12</td><td>3</td></tr>",
                            "<tr><td>198</td><td>34</td><td>3</td><td>0</td><td>i</td><td>12</td><td>3</td></tr>",
                            "<tr><td>198</td><td>34</td><td>3</td><td>0</td><td>i</td><td>12</td><td>2</td></tr>",
                            "<tr><td>198</td><td>34</td><td>3</td><td>0</td><td>i</td><td>12</td><td>2</td></tr>",
                            "<tr><td>198</td><td>34</td><td>3</td><td>0</td><td>i</td><td>12</td><td>2</td></tr>",
                            "<tr><td>198</td><td>34</td><td>3</td><td>0</td><td>i</td><td>12</td><td>2</td></tr>",
                            "</table>"
                        ]
                    }
                }
            ],
            "execution_count": 27
        },
        {
            "cell_type": "code",
            "source": [
                "SELECT sza.SZALLAS_NEV, \r\n",
                "        szo.POTAGY, \r\n",
                "        sum(f.FELNOTT_SZAM + f.GYERMEK_SZAM) AS 'Letszam'\r\n",
                "FROM szallashely sza JOIN szoba szo ON sza.SZALLAS_ID = szo.SZALLAS_FK\r\n",
                "    JOIN Foglalas f ON f.SZOBA_FK = szo.SZOBA_ID\r\n",
                "GROUP BY ROLLUP(sza.SZALLAS_NEV, szo.POTAGY)"
            ],
            "metadata": {
                "azdata_cell_guid": "e9bcf6f9-558d-49fc-bf92-2ff289703818",
                "language": "sql"
            },
            "outputs": [
                {
                    "output_type": "display_data",
                    "data": {
                        "text/html": "(41 rows affected)"
                    },
                    "metadata": {}
                },
                {
                    "output_type": "display_data",
                    "data": {
                        "text/html": "Total execution time: 00:00:00.053"
                    },
                    "metadata": {}
                },
                {
                    "output_type": "execute_result",
                    "metadata": {},
                    "execution_count": 30,
                    "data": {
                        "application/vnd.dataresource+json": {
                            "schema": {
                                "fields": [
                                    {
                                        "name": "SZALLAS_NEV"
                                    },
                                    {
                                        "name": "POTAGY"
                                    },
                                    {
                                        "name": "Letszam"
                                    }
                                ]
                            },
                            "data": [
                                {
                                    "SZALLAS_NEV": "Családi Ház",
                                    "POTAGY": "0",
                                    "Letszam": "10"
                                },
                                {
                                    "SZALLAS_NEV": "Családi Ház",
                                    "POTAGY": "1",
                                    "Letszam": "31"
                                },
                                {
                                    "SZALLAS_NEV": "Családi Ház",
                                    "POTAGY": "2",
                                    "Letszam": "11"
                                },
                                {
                                    "SZALLAS_NEV": "Családi Ház",
                                    "POTAGY": "NULL",
                                    "Letszam": "52"
                                },
                                {
                                    "SZALLAS_NEV": "Fortuna Apartman",
                                    "POTAGY": "0",
                                    "Letszam": "18"
                                },
                                {
                                    "SZALLAS_NEV": "Fortuna Apartman",
                                    "POTAGY": "1",
                                    "Letszam": "52"
                                },
                                {
                                    "SZALLAS_NEV": "Fortuna Apartman",
                                    "POTAGY": "2",
                                    "Letszam": "36"
                                },
                                {
                                    "SZALLAS_NEV": "Fortuna Apartman",
                                    "POTAGY": "NULL",
                                    "Letszam": "106"
                                },
                                {
                                    "SZALLAS_NEV": "Fortuna Panzió",
                                    "POTAGY": "0",
                                    "Letszam": "158"
                                },
                                {
                                    "SZALLAS_NEV": "Fortuna panzió",
                                    "POTAGY": "1",
                                    "Letszam": "113"
                                },
                                {
                                    "SZALLAS_NEV": "Fortuna panzió",
                                    "POTAGY": "2",
                                    "Letszam": "40"
                                },
                                {
                                    "SZALLAS_NEV": "Fortuna Panzió",
                                    "POTAGY": "NULL",
                                    "Letszam": "311"
                                },
                                {
                                    "SZALLAS_NEV": "Gold Hotel",
                                    "POTAGY": "0",
                                    "Letszam": "216"
                                },
                                {
                                    "SZALLAS_NEV": "Gold Hotel",
                                    "POTAGY": "1",
                                    "Letszam": "93"
                                },
                                {
                                    "SZALLAS_NEV": "Gold Hotel",
                                    "POTAGY": "2",
                                    "Letszam": "119"
                                },
                                {
                                    "SZALLAS_NEV": "Gold Hotel",
                                    "POTAGY": "NULL",
                                    "Letszam": "428"
                                },
                                {
                                    "SZALLAS_NEV": "Hotel Három Hattyú",
                                    "POTAGY": "0",
                                    "Letszam": "183"
                                },
                                {
                                    "SZALLAS_NEV": "Hotel Három Hattyú",
                                    "POTAGY": "1",
                                    "Letszam": "258"
                                },
                                {
                                    "SZALLAS_NEV": "Hotel Három Hattyú",
                                    "POTAGY": "2",
                                    "Letszam": "63"
                                },
                                {
                                    "SZALLAS_NEV": "Hotel Három Hattyú",
                                    "POTAGY": "NULL",
                                    "Letszam": "504"
                                },
                                {
                                    "SZALLAS_NEV": "Jáde panzió",
                                    "POTAGY": "0",
                                    "Letszam": "66"
                                },
                                {
                                    "SZALLAS_NEV": "Jáde panzió",
                                    "POTAGY": "NULL",
                                    "Letszam": "66"
                                },
                                {
                                    "SZALLAS_NEV": "Kentaur Hotel",
                                    "POTAGY": "0",
                                    "Letszam": "168"
                                },
                                {
                                    "SZALLAS_NEV": "Kentaur Hotel",
                                    "POTAGY": "1",
                                    "Letszam": "224"
                                },
                                {
                                    "SZALLAS_NEV": "Kentaur Hotel",
                                    "POTAGY": "2",
                                    "Letszam": "28"
                                },
                                {
                                    "SZALLAS_NEV": "Kentaur Hotel",
                                    "POTAGY": "NULL",
                                    "Letszam": "420"
                                },
                                {
                                    "SZALLAS_NEV": "Lagúna Hotel",
                                    "POTAGY": "0",
                                    "Letszam": "105"
                                },
                                {
                                    "SZALLAS_NEV": "Lagúna Hotel",
                                    "POTAGY": "1",
                                    "Letszam": "150"
                                },
                                {
                                    "SZALLAS_NEV": "Lagúna Hotel",
                                    "POTAGY": "2",
                                    "Letszam": "36"
                                },
                                {
                                    "SZALLAS_NEV": "Lagúna Hotel",
                                    "POTAGY": "NULL",
                                    "Letszam": "291"
                                },
                                {
                                    "SZALLAS_NEV": "Partiszél Vendégház",
                                    "POTAGY": "0",
                                    "Letszam": "31"
                                },
                                {
                                    "SZALLAS_NEV": "Partiszél Vendégház",
                                    "POTAGY": "1",
                                    "Letszam": "17"
                                },
                                {
                                    "SZALLAS_NEV": "Partiszél Vendégház",
                                    "POTAGY": "2",
                                    "Letszam": "15"
                                },
                                {
                                    "SZALLAS_NEV": "Partiszél Vendégház",
                                    "POTAGY": "NULL",
                                    "Letszam": "63"
                                },
                                {
                                    "SZALLAS_NEV": "Sába-Ház",
                                    "POTAGY": "0",
                                    "Letszam": "67"
                                },
                                {
                                    "SZALLAS_NEV": "Sába-Ház",
                                    "POTAGY": "1",
                                    "Letszam": "99"
                                },
                                {
                                    "SZALLAS_NEV": "Sába-Ház",
                                    "POTAGY": "NULL",
                                    "Letszam": "166"
                                },
                                {
                                    "SZALLAS_NEV": "Szieszta Apartmanház",
                                    "POTAGY": "0",
                                    "Letszam": "64"
                                },
                                {
                                    "SZALLAS_NEV": "Szieszta Apartmanház",
                                    "POTAGY": "1",
                                    "Letszam": "19"
                                },
                                {
                                    "SZALLAS_NEV": "Szieszta Apartmanház",
                                    "POTAGY": "NULL",
                                    "Letszam": "83"
                                },
                                {
                                    "SZALLAS_NEV": "NULL",
                                    "POTAGY": "NULL",
                                    "Letszam": "2490"
                                }
                            ]
                        },
                        "text/html": [
                            "<table>",
                            "<tr><th>SZALLAS_NEV</th><th>POTAGY</th><th>Letszam</th></tr>",
                            "<tr><td>Családi Ház</td><td>0</td><td>10</td></tr>",
                            "<tr><td>Családi Ház</td><td>1</td><td>31</td></tr>",
                            "<tr><td>Családi Ház</td><td>2</td><td>11</td></tr>",
                            "<tr><td>Családi Ház</td><td>NULL</td><td>52</td></tr>",
                            "<tr><td>Fortuna Apartman</td><td>0</td><td>18</td></tr>",
                            "<tr><td>Fortuna Apartman</td><td>1</td><td>52</td></tr>",
                            "<tr><td>Fortuna Apartman</td><td>2</td><td>36</td></tr>",
                            "<tr><td>Fortuna Apartman</td><td>NULL</td><td>106</td></tr>",
                            "<tr><td>Fortuna Panzió</td><td>0</td><td>158</td></tr>",
                            "<tr><td>Fortuna panzió</td><td>1</td><td>113</td></tr>",
                            "<tr><td>Fortuna panzió</td><td>2</td><td>40</td></tr>",
                            "<tr><td>Fortuna Panzió</td><td>NULL</td><td>311</td></tr>",
                            "<tr><td>Gold Hotel</td><td>0</td><td>216</td></tr>",
                            "<tr><td>Gold Hotel</td><td>1</td><td>93</td></tr>",
                            "<tr><td>Gold Hotel</td><td>2</td><td>119</td></tr>",
                            "<tr><td>Gold Hotel</td><td>NULL</td><td>428</td></tr>",
                            "<tr><td>Hotel Három Hattyú</td><td>0</td><td>183</td></tr>",
                            "<tr><td>Hotel Három Hattyú</td><td>1</td><td>258</td></tr>",
                            "<tr><td>Hotel Három Hattyú</td><td>2</td><td>63</td></tr>",
                            "<tr><td>Hotel Három Hattyú</td><td>NULL</td><td>504</td></tr>",
                            "<tr><td>Jáde panzió</td><td>0</td><td>66</td></tr>",
                            "<tr><td>Jáde panzió</td><td>NULL</td><td>66</td></tr>",
                            "<tr><td>Kentaur Hotel</td><td>0</td><td>168</td></tr>",
                            "<tr><td>Kentaur Hotel</td><td>1</td><td>224</td></tr>",
                            "<tr><td>Kentaur Hotel</td><td>2</td><td>28</td></tr>",
                            "<tr><td>Kentaur Hotel</td><td>NULL</td><td>420</td></tr>",
                            "<tr><td>Lagúna Hotel</td><td>0</td><td>105</td></tr>",
                            "<tr><td>Lagúna Hotel</td><td>1</td><td>150</td></tr>",
                            "<tr><td>Lagúna Hotel</td><td>2</td><td>36</td></tr>",
                            "<tr><td>Lagúna Hotel</td><td>NULL</td><td>291</td></tr>",
                            "<tr><td>Partiszél Vendégház</td><td>0</td><td>31</td></tr>",
                            "<tr><td>Partiszél Vendégház</td><td>1</td><td>17</td></tr>",
                            "<tr><td>Partiszél Vendégház</td><td>2</td><td>15</td></tr>",
                            "<tr><td>Partiszél Vendégház</td><td>NULL</td><td>63</td></tr>",
                            "<tr><td>Sába-Ház</td><td>0</td><td>67</td></tr>",
                            "<tr><td>Sába-Ház</td><td>1</td><td>99</td></tr>",
                            "<tr><td>Sába-Ház</td><td>NULL</td><td>166</td></tr>",
                            "<tr><td>Szieszta Apartmanház</td><td>0</td><td>64</td></tr>",
                            "<tr><td>Szieszta Apartmanház</td><td>1</td><td>19</td></tr>",
                            "<tr><td>Szieszta Apartmanház</td><td>NULL</td><td>83</td></tr>",
                            "<tr><td>NULL</td><td>NULL</td><td>2490</td></tr>",
                            "</table>"
                        ]
                    }
                }
            ],
            "execution_count": 30
        },
        {
            "cell_type": "code",
            "source": [
                "SELECT COUNT(DISTINCT FEROHELY) AS 'Kulonbozo ertekek',\r\n",
                "    MIN(FEROHELY) AS 'Minimum',\r\n",
                "    MAX(FEROHELY) AS 'Maximum',\r\n",
                "    AVG(FEROHELY) AS 'Atlag',\r\n",
                "    ROUND((COUNT(FEROHELY) / COUNT(*)) * 100, 2) AS \"Not null szazalek\",\r\n",
                "    ROUND((1 - (COUNT(FEROHELY) / COUNT(*))) * 100, 2) AS \"Null szazalek\"\r\n",
                "FROM Szoba"
            ],
            "metadata": {
                "azdata_cell_guid": "8dc3ab96-a2d8-45c4-8f90-b4c7a41c92a4",
                "language": "sql"
            },
            "outputs": [
                {
                    "output_type": "display_data",
                    "data": {
                        "text/html": "(1 row affected)"
                    },
                    "metadata": {}
                },
                {
                    "output_type": "display_data",
                    "data": {
                        "text/html": "Total execution time: 00:00:00.009"
                    },
                    "metadata": {}
                },
                {
                    "output_type": "execute_result",
                    "metadata": {},
                    "execution_count": 29,
                    "data": {
                        "application/vnd.dataresource+json": {
                            "schema": {
                                "fields": [
                                    {
                                        "name": "Kulonbozo ertekek"
                                    },
                                    {
                                        "name": "Minimum"
                                    },
                                    {
                                        "name": "Maximum"
                                    },
                                    {
                                        "name": "Atlag"
                                    },
                                    {
                                        "name": "Not null szazalek"
                                    },
                                    {
                                        "name": "Null szazalek"
                                    }
                                ]
                            },
                            "data": [
                                {
                                    "Kulonbozo ertekek": "4",
                                    "Minimum": "1",
                                    "Maximum": "4",
                                    "Atlag": "2",
                                    "Not null szazalek": "100",
                                    "Null szazalek": "0"
                                }
                            ]
                        },
                        "text/html": [
                            "<table>",
                            "<tr><th>Kulonbozo ertekek</th><th>Minimum</th><th>Maximum</th><th>Atlag</th><th>Not null szazalek</th><th>Null szazalek</th></tr>",
                            "<tr><td>4</td><td>1</td><td>4</td><td>2</td><td>100</td><td>0</td></tr>",
                            "</table>"
                        ]
                    }
                }
            ],
            "execution_count": 29
        },
        {
            "cell_type": "markdown",
            "source": [
                "2\\. feladatrész"
            ],
            "metadata": {
                "azdata_cell_guid": "017708cf-af0c-4f8e-8853-7cba31b5b282"
            },
            "attachments": {}
        },
        {
            "cell_type": "markdown",
            "source": [
                "<span style=\"color: #000000;\">&gt;</span> HSET IRO:<span style=\"color: #09885a;\">1</span> nev <span style=\"color: #a31515;\">\"Ady Endre\"</span> nemzetiseg <span style=\"color: #a31515;\">\"magyar\"</span>\n",
                "\n",
                "(<span style=\"color: #0000ff;\">integer</span>) <span style=\"color: #09885a;\">2</span>\n",
                "\n",
                "  \n",
                "\n",
                "<span style=\"color: #000000;\">&gt;</span> HSET IRO:<span style=\"color: #09885a;\">2</span> nev <span style=\"color: #a31515;\">\"József Attila\"</span> nemzetiseg <span style=\"color: #a31515;\">\"magyar\"</span>\n",
                "\n",
                "(<span style=\"color: #0000ff;\">integer</span>) <span style=\"color: #09885a;\">2</span>\n",
                "\n",
                "  \n",
                "\n",
                "<span style=\"color: #000000;\">&gt;</span> HSET KONYV:<span style=\"color: #09885a;\">1</span>:<span style=\"color: #09885a;\">1</span> cim <span style=\"color: #a31515;\">\"Új csapáson\"</span> mufaj <span style=\"color: #a31515;\">\"verses kötet\"</span> IRO\\_ID <span style=\"color: #09885a;\">1</span>\n",
                "\n",
                "(<span style=\"color: #0000ff;\">integer</span>) <span style=\"color: #09885a;\">3</span>\n",
                "\n",
                "  \n",
                "\n",
                "<span style=\"color: #000000;\">&gt;</span>  HSET KONYV:<span style=\"color: #09885a;\">2</span>:<span style=\"color: #09885a;\">2</span> cim <span style=\"color: #a31515;\">\"Új anthológia\"</span> mufaj <span style=\"color: #a31515;\">\"verses kötet\"</span> IRO\\_ID <span style=\"color: #09885a;\">2</span>\n",
                "\n",
                "(<span style=\"color: #0000ff;\">integer</span>) <span style=\"color: #09885a;\">3</span>"
            ],
            "metadata": {
                "azdata_cell_guid": "219525e5-450c-488c-b309-c757eb47b9b7"
            },
            "attachments": {}
        },
        {
            "cell_type": "markdown",
            "source": [
                "CREATE TABLE STUDENT (\n",
                "\n",
                "         ...     ID int PRIMARY KEY,\n",
                "\n",
                "         ...     Nev TEXT,\n",
                "\n",
                "         ...     Teljesitett\\_felevek LIST\\<INT\\>,\n",
                "\n",
                "         ...     Eredmenyek MAP\\<INT, DECIMAL\\>,\n",
                "\n",
                "         ...     Nyelvtudas SET\\<TEXT\\>\n",
                "\n",
                "         ... );\n",
                "\n",
                "  \n",
                "\n",
                "INSERT INTO STUDENT (ID, Nev, Teljesitett\\_felevek, Eredmenyek, Nyelvtudas)\n",
                "\n",
                "         ... VALUES (1, 'Ady Endre', \\[1, 2, 3\\], {1: 3.00, 2: 4.55, 3: 4.10}, {'angol', 'francia'});\n",
                "\n",
                "  \n",
                "\n",
                "INSERT INTO STUDENT (ID, Nev, Teljesitett\\_felevek, Eredmenyek, Nyelvtudas)\n",
                "\n",
                "         ... VALUES (2, 'József Attila', \\[1, 2\\], {1: 3.50, 2: 4.20}, {'német', 'spanyol'});"
            ],
            "metadata": {
                "azdata_cell_guid": "41a15dec-f74e-490c-bd7a-e4ee371acb65"
            },
            "attachments": {}
        },
        {
            "cell_type": "markdown",
            "source": [
                "<span style=\"color: #859900;\">MATCH</span> <span style=\"color: #586e75;\">(</span><span style=\"color: #333333;\">tom</span><span style=\"color: #586e75;\">:</span><span style=\"color: #333333;\">Person&nbsp;</span> <span style=\"color: #586e75;\">{</span><span style=\"color: #859900;\">name</span><span style=\"color: #586e75;\">:</span><span style=\"color: #b58900;\">\"Tom&nbsp;Hanks\"</span><span style=\"color: #586e75;\">})-[:</span><span style=\"color: #333333;\">ACTED_IN</span><span style=\"color: #586e75;\">]-&gt;(</span><span style=\"color: #333333;\">movie</span><span style=\"color: #586e75;\">)&lt;-[:</span><span style=\"color: #333333;\">ACTED_IN</span><span style=\"color: #586e75;\">]-(</span><span style=\"color: #333333;\">szinesz2</span><span style=\"color: #586e75;\">:</span><span style=\"color: #333333;\">Person</span><span style=\"color: #586e75;\">)</span>\n",
                "\n",
                "<span style=\"color: #859900;\">WHERE</span> <span style=\"color: #b58900;\">\"Tom&nbsp;Hanks\"</span> <span style=\"color: #586e75;\">&lt;&gt;</span> <span style=\"color: #333333;\">&nbsp;szinesz2</span>\n",
                "\n",
                "<span style=\"color: #859900;\">RETURN</span> <span style=\"color: #859900;\">DISTINCT</span> <span style=\"color: #333333;\">&nbsp;szinesz2</span><span style=\"color: #586e75;\">.</span><span style=\"color: #859900;\">name</span>"
            ],
            "metadata": {
                "azdata_cell_guid": "6254223d-c4f9-4920-af21-53454965e724"
            },
            "attachments": {}
        }
    ]
}